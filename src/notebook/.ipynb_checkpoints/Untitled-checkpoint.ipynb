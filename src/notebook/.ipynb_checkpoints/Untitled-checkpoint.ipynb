{
 "cells": [
  {
   "cell_type": "code",
   "execution_count": 1,
   "metadata": {},
   "outputs": [],
   "source": [
    "import sys; \n",
    "sys.path.insert(0, '..')"
   ]
  },
  {
   "cell_type": "code",
   "execution_count": 2,
   "metadata": {},
   "outputs": [],
   "source": [
    "import findspark\n",
    "findspark.init()"
   ]
  },
  {
   "cell_type": "code",
   "execution_count": 3,
   "metadata": {},
   "outputs": [],
   "source": [
    "from pyspark.sql import SparkSession\n",
    "\n",
    "spark = SparkSession.builder. \\\n",
    "    appName(\"pyspark-1\"). \\\n",
    "    getOrCreate()"
   ]
  },
  {
   "cell_type": "code",
   "execution_count": 4,
   "metadata": {},
   "outputs": [
    {
     "data": {
      "text/html": [
       "\n",
       "            <div>\n",
       "                <p><b>SparkSession - in-memory</b></p>\n",
       "                \n",
       "        <div>\n",
       "            <p><b>SparkContext</b></p>\n",
       "\n",
       "            <p><a href=\"http://bc2f146a2d0b:4040\">Spark UI</a></p>\n",
       "\n",
       "            <dl>\n",
       "              <dt>Version</dt>\n",
       "                <dd><code>v2.4.5</code></dd>\n",
       "              <dt>Master</dt>\n",
       "                <dd><code>spark://master:7077</code></dd>\n",
       "              <dt>AppName</dt>\n",
       "                <dd><code>pyspark-1</code></dd>\n",
       "            </dl>\n",
       "        </div>\n",
       "        \n",
       "            </div>\n",
       "        "
      ],
      "text/plain": [
       "<pyspark.sql.session.SparkSession at 0x7ff5040dfba8>"
      ]
     },
     "execution_count": 4,
     "metadata": {},
     "output_type": "execute_result"
    }
   ],
   "source": [
    "spark"
   ]
  },
  {
   "cell_type": "code",
   "execution_count": 124,
   "metadata": {},
   "outputs": [
    {
     "name": "stdout",
     "output_type": "stream",
     "text": [
      "root\n",
      " |-- datetime: timestamp (nullable = true)\n",
      " |-- open: double (nullable = true)\n",
      " |-- high: double (nullable = true)\n",
      " |-- low: double (nullable = true)\n",
      " |-- close: double (nullable = true)\n",
      "\n"
     ]
    }
   ],
   "source": [
    "# FINNIFTY_5min.csv\n",
    "# bn_5min.csv\n",
    "df = spark.read.csv(\"/dataset/bn_5min.csv\", header=True, inferSchema=True)\n",
    "df.printSchema()"
   ]
  },
  {
   "cell_type": "code",
   "execution_count": 125,
   "metadata": {},
   "outputs": [],
   "source": [
    "import pyspark.sql.functions as f"
   ]
  },
  {
   "cell_type": "code",
   "execution_count": 126,
   "metadata": {},
   "outputs": [
    {
     "name": "stdout",
     "output_type": "stream",
     "text": [
      "root\n",
      " |-- datetime: timestamp (nullable = true)\n",
      " |-- open: double (nullable = true)\n",
      " |-- high: double (nullable = true)\n",
      " |-- low: double (nullable = true)\n",
      " |-- close: double (nullable = true)\n",
      " |-- date: date (nullable = true)\n",
      " |-- time: string (nullable = true)\n",
      " |-- day: string (nullable = true)\n",
      "\n"
     ]
    }
   ],
   "source": [
    "df_extended=df.withColumn(\"date\",f.to_date('datetime')) \\\n",
    "              .withColumn('time', date_format('datetime', 'HH:mm:ss')) \\\n",
    "              .withColumn(\"day\",f.date_format('date','EEEE'))\n",
    "df_extended.printSchema()"
   ]
  },
  {
   "cell_type": "code",
   "execution_count": 127,
   "metadata": {},
   "outputs": [
    {
     "name": "stdout",
     "output_type": "stream",
     "text": [
      "+-------------------+--------+--------+--------+--------+----------+--------+------+\n",
      "|           datetime|    open|    high|     low|   close|      date|    time|   day|\n",
      "+-------------------+--------+--------+--------+--------+----------+--------+------+\n",
      "|2022-05-23 03:45:00| 34330.6| 34547.7| 34291.7|34347.35|2022-05-23|03:45:00|Monday|\n",
      "|2022-05-23 03:50:00| 34343.4|34457.35| 34271.5| 34425.0|2022-05-23|03:50:00|Monday|\n",
      "|2022-05-23 03:55:00| 34426.4| 34447.7|34312.95|34418.55|2022-05-23|03:55:00|Monday|\n",
      "|2022-05-23 04:00:00|34416.45| 34438.6|34374.75| 34390.6|2022-05-23|04:00:00|Monday|\n",
      "|2022-05-23 04:05:00| 34386.1| 34459.9| 34354.4|34431.45|2022-05-23|04:05:00|Monday|\n",
      "|2022-05-23 04:10:00|34432.55|34535.15|34430.75| 34514.2|2022-05-23|04:10:00|Monday|\n",
      "|2022-05-23 04:15:00|34514.15| 34595.4|34506.05| 34582.6|2022-05-23|04:15:00|Monday|\n",
      "|2022-05-23 04:20:00|34581.75|34616.35| 34552.0|34610.35|2022-05-23|04:20:00|Monday|\n",
      "|2022-05-23 04:25:00|34609.85|34609.85| 34526.1|34560.65|2022-05-23|04:25:00|Monday|\n",
      "|2022-05-23 04:30:00| 34557.9| 34594.1|34533.05| 34567.2|2022-05-23|04:30:00|Monday|\n",
      "|2022-05-23 04:35:00|34567.75| 34582.9| 34560.1| 34580.5|2022-05-23|04:35:00|Monday|\n",
      "|2022-05-23 04:40:00| 34580.1| 34646.0| 34554.4|34640.15|2022-05-23|04:40:00|Monday|\n",
      "|2022-05-23 04:45:00| 34638.2|34654.65| 34600.3| 34615.9|2022-05-23|04:45:00|Monday|\n",
      "|2022-05-23 04:50:00|34614.15| 34615.3|34549.55| 34549.8|2022-05-23|04:50:00|Monday|\n",
      "|2022-05-23 04:55:00|34551.25|34622.45| 34548.9| 34611.2|2022-05-23|04:55:00|Monday|\n",
      "|2022-05-23 05:00:00| 34613.0|34620.05|34574.75|34590.85|2022-05-23|05:00:00|Monday|\n",
      "|2022-05-23 05:05:00| 34591.0|34613.35|34553.75| 34587.8|2022-05-23|05:05:00|Monday|\n",
      "|2022-05-23 05:10:00|34587.85|34615.05| 34567.0| 34590.9|2022-05-23|05:10:00|Monday|\n",
      "|2022-05-23 05:15:00| 34590.6| 34610.6| 34575.9| 34610.2|2022-05-23|05:15:00|Monday|\n",
      "|2022-05-23 05:20:00|34610.05| 34632.6|34600.65|34615.45|2022-05-23|05:20:00|Monday|\n",
      "+-------------------+--------+--------+--------+--------+----------+--------+------+\n",
      "only showing top 20 rows\n",
      "\n"
     ]
    }
   ],
   "source": [
    "df_extended.show()"
   ]
  },
  {
   "cell_type": "code",
   "execution_count": 128,
   "metadata": {},
   "outputs": [],
   "source": [
    "# UTC Time\n",
    "start_time=\"06:30:00\"\n",
    "end_time=\"09:30:00\""
   ]
  },
  {
   "cell_type": "code",
   "execution_count": 129,
   "metadata": {},
   "outputs": [
    {
     "name": "stdout",
     "output_type": "stream",
     "text": [
      "+----------+--------+\n",
      "|      date|     avg|\n",
      "+----------+--------+\n",
      "|2022-05-23|34763.83|\n",
      "|2022-05-24|34450.35|\n",
      "|2022-05-25|34507.45|\n",
      "|2022-05-26|34493.18|\n",
      "|2022-05-27| 35443.9|\n",
      "|2022-05-30|36001.05|\n",
      "|2022-05-31|35840.83|\n",
      "|2022-06-01|35656.33|\n",
      "|2022-06-02|35498.63|\n",
      "|2022-06-03| 35704.0|\n",
      "|2022-06-06|35269.85|\n",
      "|2022-06-07| 34977.6|\n",
      "|2022-06-08| 35335.5|\n",
      "|2022-06-09| 34791.1|\n",
      "|2022-06-10|34589.45|\n",
      "|2022-06-13| 33329.9|\n",
      "|2022-06-14|33517.68|\n",
      "|2022-06-15|33438.77|\n",
      "|2022-06-16|33103.53|\n",
      "|2022-06-17|32599.18|\n",
      "+----------+--------+\n",
      "only showing top 20 rows\n",
      "\n"
     ]
    }
   ],
   "source": [
    "avg_df=df_extended.filter(df_extended.time==start_time).selectExpr(\"date\",\"round((high+low)/2,2) as avg\")\n",
    "avg_df.show()"
   ]
  },
  {
   "cell_type": "code",
   "execution_count": 130,
   "metadata": {},
   "outputs": [],
   "source": [
    "joined_df=df_extended.filter((df_extended.time>=start_time) & (df_extended.time<=end_time)) \\\n",
    "                     .join(avg_df,df_extended.date==avg_df.date).drop(avg_df.date)"
   ]
  },
  {
   "cell_type": "code",
   "execution_count": 131,
   "metadata": {},
   "outputs": [
    {
     "name": "stdout",
     "output_type": "stream",
     "text": [
      "+-------------------+--------+--------+--------+--------+--------+------+----------+--------+---------+--------+--------+\n",
      "|           datetime|    open|    high|     low|   close|    time|   day|      date|     avg|diff_high|diff_low|max_diff|\n",
      "+-------------------+--------+--------+--------+--------+--------+------+----------+--------+---------+--------+--------+\n",
      "|2022-05-23 06:30:00| 34744.4| 34783.9|34743.75| 34763.1|06:30:00|Monday|2022-05-23|34763.83|    20.07|   20.08|   20.08|\n",
      "|2022-05-23 06:35:00| 34763.4|34765.95| 34732.9| 34738.5|06:35:00|Monday|2022-05-23|34763.83|     2.12|   30.93|   30.93|\n",
      "|2022-05-23 06:40:00| 34738.6| 34763.1| 34695.8|34762.05|06:40:00|Monday|2022-05-23|34763.83|     0.73|   68.03|   68.03|\n",
      "|2022-05-23 06:45:00| 34762.8|34780.85|34715.35|34727.15|06:45:00|Monday|2022-05-23|34763.83|    17.02|   48.48|   48.48|\n",
      "|2022-05-23 06:50:00| 34726.5| 34763.3| 34718.2| 34758.5|06:50:00|Monday|2022-05-23|34763.83|     0.53|   45.63|   45.63|\n",
      "|2022-05-23 06:55:00|34758.95|34764.45| 34741.8|34745.35|06:55:00|Monday|2022-05-23|34763.83|     0.62|   22.03|   22.03|\n",
      "|2022-05-23 07:00:00|34743.15| 34743.5| 34692.1|34714.65|07:00:00|Monday|2022-05-23|34763.83|    20.33|   71.73|   71.73|\n",
      "|2022-05-23 07:05:00|34714.15|34727.85|34639.35| 34723.1|07:05:00|Monday|2022-05-23|34763.83|    35.98|  124.48|  124.48|\n",
      "|2022-05-23 07:10:00| 34723.9|34734.95|34650.35|34657.25|07:10:00|Monday|2022-05-23|34763.83|    28.88|  113.48|  113.48|\n",
      "|2022-05-23 07:15:00|34656.75| 34689.2| 34635.9|34683.45|07:15:00|Monday|2022-05-23|34763.83|    74.63|  127.93|  127.93|\n",
      "|2022-05-23 07:20:00|34681.35| 34722.1| 34677.8| 34705.7|07:20:00|Monday|2022-05-23|34763.83|    41.73|   86.03|   86.03|\n",
      "|2022-05-23 07:25:00|34705.95|34750.45|34700.35|34711.65|07:25:00|Monday|2022-05-23|34763.83|    13.38|   63.48|   63.48|\n",
      "|2022-05-23 07:30:00|34711.75| 34755.2| 34691.5| 34728.6|07:30:00|Monday|2022-05-23|34763.83|     8.63|   72.33|   72.33|\n",
      "|2022-05-23 07:35:00|34730.45| 34748.7|34712.55|34738.95|07:35:00|Monday|2022-05-23|34763.83|    15.13|   51.28|   51.28|\n",
      "|2022-05-23 07:40:00|34737.55| 34746.7| 34680.5| 34683.6|07:40:00|Monday|2022-05-23|34763.83|    17.13|   83.33|   83.33|\n",
      "|2022-05-23 07:45:00|34683.45|34724.15|34680.45| 34690.5|07:45:00|Monday|2022-05-23|34763.83|    39.68|   83.38|   83.38|\n",
      "|2022-05-23 07:50:00|34687.45|34724.45| 34676.5| 34712.8|07:50:00|Monday|2022-05-23|34763.83|    39.38|   87.33|   87.33|\n",
      "|2022-05-23 07:55:00| 34713.9|34790.25|34709.55|34770.05|07:55:00|Monday|2022-05-23|34763.83|    26.42|   54.28|   54.28|\n",
      "|2022-05-23 08:00:00|34770.75|34819.95|34765.55| 34770.7|08:00:00|Monday|2022-05-23|34763.83|    56.12|    1.72|   56.12|\n",
      "|2022-05-23 08:05:00|34772.95| 34785.1| 34743.5| 34770.4|08:05:00|Monday|2022-05-23|34763.83|    21.27|   20.33|   21.27|\n",
      "+-------------------+--------+--------+--------+--------+--------+------+----------+--------+---------+--------+--------+\n",
      "only showing top 20 rows\n",
      "\n"
     ]
    }
   ],
   "source": [
    "updated_df=joined_df.withColumn(\"diff_high\",round(abs(joined_df.avg-joined_df.high),2)) \\\n",
    "         .withColumn(\"diff_low\",round(abs(joined_df.avg-joined_df.low),2)) \\\n",
    "         .withColumn(\"max_diff\",when(col(\"diff_high\")>col(\"diff_low\"),col(\"diff_high\")).otherwise(col(\"diff_low\")))\n",
    "updated_df.show()"
   ]
  },
  {
   "cell_type": "code",
   "execution_count": 134,
   "metadata": {},
   "outputs": [
    {
     "name": "stdout",
     "output_type": "stream",
     "text": [
      "+-----+----------+--------+-------------+\n",
      "|Sl_No|      date|     day|max(max_diff)|\n",
      "+-----+----------+--------+-------------+\n",
      "|    1|2022-05-26|Thursday|       641.82|\n",
      "|    2|2022-06-02|Thursday|       158.42|\n",
      "|    3|2022-06-09|Thursday|        262.5|\n",
      "|    4|2022-06-16|Thursday|       518.93|\n",
      "|    5|2022-06-23|Thursday|       468.58|\n",
      "|    6|2022-06-30|Thursday|       137.25|\n",
      "|    7|2022-07-07|Thursday|        198.4|\n",
      "|    8|2022-07-14|Thursday|       179.95|\n",
      "|    9|2022-07-21|Thursday|       195.03|\n",
      "|   10|2022-07-28|Thursday|        151.6|\n",
      "|   11|2022-08-04|Thursday|       279.82|\n",
      "|   12|2022-08-11|Thursday|         96.9|\n",
      "|   13|2022-08-18|Thursday|       302.45|\n",
      "|   14|2022-08-25|Thursday|       487.05|\n",
      "|   15|2022-09-01|Thursday|       431.68|\n",
      "|   16|2022-09-08|Thursday|        229.3|\n",
      "|   17|2022-09-15|Thursday|       285.47|\n",
      "|   18|2022-09-22|Thursday|       322.42|\n",
      "|   19|2022-09-29|Thursday|       194.25|\n",
      "|   20|2022-10-06|Thursday|       219.97|\n",
      "|   21|2022-10-13|Thursday|       390.77|\n",
      "|   22|2022-10-20|Thursday|       180.77|\n",
      "|   23|2022-10-27|Thursday|       155.35|\n",
      "|   24|2022-11-03|Thursday|        99.08|\n",
      "|   25|2022-11-10|Thursday|        200.4|\n",
      "|   26|2022-11-17|Thursday|       179.87|\n",
      "|   27|2022-11-24|Thursday|        84.47|\n",
      "|   28|2022-12-01|Thursday|        258.3|\n",
      "|   29|2022-12-08|Thursday|       202.82|\n",
      "|   30|2022-12-15|Thursday|       382.33|\n",
      "|   31|2022-12-22|Thursday|       349.35|\n",
      "|   32|2022-12-29|Thursday|       513.52|\n",
      "|   33|2023-01-05|Thursday|       303.63|\n",
      "|   34|2023-01-12|Thursday|       198.62|\n",
      "|   35|2023-01-19|Thursday|        98.05|\n",
      "|   36|2023-02-02|Thursday|        438.8|\n",
      "|   37|2023-02-09|Thursday|       222.32|\n",
      "|   38|2023-02-16|Thursday|        200.6|\n",
      "|   39|2023-02-23|Thursday|       246.55|\n",
      "|   40|2023-03-02|Thursday|       271.03|\n",
      "|   41|2023-03-09|Thursday|        292.5|\n",
      "|   42|2023-03-16|Thursday|       445.55|\n",
      "|   43|2023-03-23|Thursday|       350.75|\n",
      "|   44|2023-04-06|Thursday|       173.95|\n",
      "|   45|2023-04-13|Thursday|       419.77|\n",
      "|   46|2023-04-20|Thursday|       167.83|\n",
      "|   47|2023-04-27|Thursday|       120.25|\n",
      "|   48|2023-05-04|Thursday|       242.05|\n",
      "|   49|2023-05-11|Thursday|       180.35|\n",
      "|   50|2023-05-18|Thursday|       325.45|\n",
      "|   51|2023-05-25|Thursday|        198.3|\n",
      "|   52|2023-06-01|Thursday|       214.43|\n",
      "|   53|2023-06-08|Thursday|       257.73|\n",
      "|   54|2023-06-15|Thursday|       349.43|\n",
      "+-----+----------+--------+-------------+\n",
      "\n"
     ]
    }
   ],
   "source": [
    "final_df=updated_df.filter(col(\"day\")==\"Thursday\").groupBy(\"date\",\"day\").agg(max(col(\"max_diff\"))) \\\n",
    "          .selectExpr(\"row_number() over(order by date) as Sl_No\",\"*\",) \\\n",
    "          .orderBy(\"date\")\n",
    "final_df.show(1000)"
   ]
  },
  {
   "cell_type": "code",
   "execution_count": null,
   "metadata": {},
   "outputs": [],
   "source": []
  },
  {
   "cell_type": "code",
   "execution_count": null,
   "metadata": {},
   "outputs": [],
   "source": []
  }
 ],
 "metadata": {
  "kernelspec": {
   "display_name": "Python 3",
   "language": "python",
   "name": "python3"
  },
  "language_info": {
   "codemirror_mode": {
    "name": "ipython",
    "version": 3
   },
   "file_extension": ".py",
   "mimetype": "text/x-python",
   "name": "python",
   "nbconvert_exporter": "python",
   "pygments_lexer": "ipython3",
   "version": "3.7.3"
  }
 },
 "nbformat": 4,
 "nbformat_minor": 4
}
