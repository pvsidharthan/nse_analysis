{
 "cells": [
  {
   "cell_type": "code",
   "execution_count": 1,
   "metadata": {},
   "outputs": [],
   "source": [
    "import sys; \n",
    "sys.path.insert(0, '..')"
   ]
  },
  {
   "cell_type": "code",
   "execution_count": 2,
   "metadata": {},
   "outputs": [],
   "source": [
    "import findspark\n",
    "findspark.init()"
   ]
  },
  {
   "cell_type": "code",
   "execution_count": 3,
   "metadata": {},
   "outputs": [],
   "source": [
    "from pyspark.sql import SparkSession\n",
    "\n",
    "spark = SparkSession.builder. \\\n",
    "    appName(\"pyspark-1\"). \\\n",
    "    getOrCreate()"
   ]
  },
  {
   "cell_type": "markdown",
   "metadata": {},
   "source": [
    "### Read data"
   ]
  },
  {
   "cell_type": "code",
   "execution_count": 6,
   "metadata": {},
   "outputs": [
    {
     "name": "stdout",
     "output_type": "stream",
     "text": [
      "root\n",
      " |-- Job ID: integer (nullable = true)\n",
      " |-- Agency: string (nullable = true)\n",
      " |-- Posting Type: string (nullable = true)\n",
      " |-- # Of Positions: integer (nullable = true)\n",
      " |-- Business Title: string (nullable = true)\n",
      " |-- Civil Service Title: string (nullable = true)\n",
      " |-- Title Code No: string (nullable = true)\n",
      " |-- Level: string (nullable = true)\n",
      " |-- Job Category: string (nullable = true)\n",
      " |-- Full-Time/Part-Time indicator: string (nullable = true)\n",
      " |-- Salary Range From: double (nullable = true)\n",
      " |-- Salary Range To: double (nullable = true)\n",
      " |-- Salary Frequency: string (nullable = true)\n",
      " |-- Work Location: string (nullable = true)\n",
      " |-- Division/Work Unit: string (nullable = true)\n",
      " |-- Job Description: string (nullable = true)\n",
      " |-- Minimum Qual Requirements: string (nullable = true)\n",
      " |-- Preferred Skills: string (nullable = true)\n",
      " |-- Additional Information: string (nullable = true)\n",
      " |-- To Apply: string (nullable = true)\n",
      " |-- Hours/Shift: string (nullable = true)\n",
      " |-- Work Location 1: string (nullable = true)\n",
      " |-- Recruitment Contact: string (nullable = true)\n",
      " |-- Residency Requirement: string (nullable = true)\n",
      " |-- Posting Date: string (nullable = true)\n",
      " |-- Post Until: string (nullable = true)\n",
      " |-- Posting Updated: string (nullable = true)\n",
      " |-- Process Date: string (nullable = true)\n",
      "\n"
     ]
    }
   ],
   "source": [
    "df = spark.read.csv(\"/dataset/nyc-jobs.csv\", header=True, inferSchema=True)\n",
    "df.printSchema()"
   ]
  },
  {
   "cell_type": "markdown",
   "metadata": {},
   "source": [
    "### Sample function"
   ]
  },
  {
   "cell_type": "code",
   "execution_count": 5,
   "metadata": {},
   "outputs": [
    {
     "data": {
      "text/plain": [
       "['Annual', 'Daily', 'Hourly']"
      ]
     },
     "execution_count": 5,
     "metadata": {},
     "output_type": "execute_result"
    }
   ],
   "source": [
    "from utils.distinct_values import get_distinct_values\n",
    "get_distinct_values(df = df, column = 'Salary Frequency')"
   ]
  },
  {
   "cell_type": "markdown",
   "metadata": {},
   "source": [
    "### What's the number of jobs posting per category (Top 10)?"
   ]
  },
  {
   "cell_type": "code",
   "execution_count": 13,
   "metadata": {
    "scrolled": true
   },
   "outputs": [
    {
     "name": "stdout",
     "output_type": "stream",
     "text": [
      "+-----------------------------------------+-----+\n",
      "|Job Category                             |count|\n",
      "+-----------------------------------------+-----+\n",
      "|Engineering, Architecture, & Planning    |504  |\n",
      "|Technology, Data & Innovation            |313  |\n",
      "|Legal Affairs                            |226  |\n",
      "|Public Safety, Inspections, & Enforcement|182  |\n",
      "|Building Operations & Maintenance        |181  |\n",
      "|Finance, Accounting, & Procurement       |169  |\n",
      "|Administration & Human Resources         |134  |\n",
      "|Constituent Services & Community Programs|129  |\n",
      "|Health                                   |125  |\n",
      "|Policy, Research & Analysis              |124  |\n",
      "+-----------------------------------------+-----+\n",
      "only showing top 10 rows\n",
      "\n"
     ]
    }
   ],
   "source": [
    "df.groupBy(\"Job Category\").count().orderBy(\"count\",ascending=False).show(10,truncate=False)"
   ]
  },
  {
   "cell_type": "markdown",
   "metadata": {},
   "source": [
    "### What's the salary distribution per job category?"
   ]
  },
  {
   "cell_type": "code",
   "execution_count": 48,
   "metadata": {},
   "outputs": [],
   "source": [
    "from pyspark.sql import functions as F\n",
    "\n",
    "df=df.withColumn(\"SalaryRangeFromPerHr\",F.when(F.col(\"Salary Frequency\")==\"Annual\",F.col(\"Salary Range From\")/(8*20*12))\\\n",
    "                                      .when(F.col(\"Salary Frequency\")==\"Daily\",F.col(\"Salary Range From\")/(8)))\n",
    "\n",
    "df=df.withColumn(\"SalaryRangeToPerHr\",F.when(F.col(\"Salary Frequency\")==\"Annual\",F.col(\"Salary Range To\")/(8*20*12))\\\n",
    "                                      .when(F.col(\"Salary Frequency\")==\"Daily\",F.col(\"Salary Range To\")/(8)))\n",
    "df=df.withColumn(\"SalaryRangeAvg\",(F.col(\"SalaryRangeFromPerHr\")+F.col(\"SalaryRangeToPerHr\"))/2)"
   ]
  },
  {
   "cell_type": "code",
   "execution_count": 62,
   "metadata": {},
   "outputs": [
    {
     "name": "stdout",
     "output_type": "stream",
     "text": [
      "+--------------------+-------------------+-----------------+\n",
      "|        Job category|Average Salary From|Average Salary To|\n",
      "+--------------------+-------------------+-----------------+\n",
      "|Administration & ...|             113.85|           113.85|\n",
      "|Engineering, Arch...|             103.39|           103.39|\n",
      "|Engineering, Arch...|             100.15|           104.06|\n",
      "|Communications & ...|               59.9|            70.31|\n",
      "|Health Policy, Re...|              59.12|            74.94|\n",
      "|Constituent Servi...|              55.56|            66.22|\n",
      "|Administration & ...|              54.69|             59.9|\n",
      "|Administration & ...|              46.88|            52.08|\n",
      "|Administration & ...|              46.88|            47.92|\n",
      "|Administration & ...|              44.27|            52.08|\n",
      "|Engineering, Arch...|              44.02|            55.52|\n",
      "|Finance, Accounti...|               43.8|            47.06|\n",
      "|Health Technology...|               43.4|            47.05|\n",
      "|Administration & ...|              41.67|            52.08|\n",
      "|Administration & ...|              41.47|            47.69|\n",
      "|Administration & ...|              41.23|             46.3|\n",
      "|Administration & ...|              40.92|            82.29|\n",
      "|Legal Affairs Pub...|              40.77|            46.06|\n",
      "|Technology, Data ...|              39.77|            60.62|\n",
      "|Administration & ...|              39.12|            55.85|\n",
      "+--------------------+-------------------+-----------------+\n",
      "only showing top 20 rows\n",
      "\n"
     ]
    }
   ],
   "source": [
    "df.groupBy(\"Job category\").agg(F.round(F.mean(\"SalaryRangeFromPerHr\"),2).alias(\"Average Salary From\"),\\\n",
    "                               F.round(F.mean(\"SalaryRangeToPerHr\"),2).alias(\"Average Salary To\"))\\\n",
    ".orderBy(\"Average Salary From\", ascending=False).show(truncate=True)"
   ]
  },
  {
   "cell_type": "markdown",
   "metadata": {},
   "source": [
    "### Is there any correlation between the higher degree and the salary? "
   ]
  },
  {
   "cell_type": "code",
   "execution_count": 84,
   "metadata": {},
   "outputs": [
    {
     "name": "stdout",
     "output_type": "stream",
     "text": [
      "+------------------------------+------------------+\n",
      "|degree details                |avg               |\n",
      "+------------------------------+------------------+\n",
      "|1.\tBachelorâ€™s degree from an|113.84739583333334|\n",
      "|\"1. Baccalaureate degree from |109.15885416666667|\n",
      "|The Deputy Commissioner, Publi|104.16666666666667|\n",
      "|1.\tTen years or more years of |91.14583333333333 |\n",
      "|â€¢ Masterâ€™s degree in busin|83.33333333333333 |\n",
      "| City agencies                |83.33333333333333 |\n",
      "|Possession of a valid license |82.1484375        |\n",
      "|\"1.\tA bachelorâ€™s degree from|67.70833333333333 |\n",
      "|1.\tA baccalaureate degree from|66.66666666666667 |\n",
      "|The successful candidate will |61.774305555555536|\n",
      "|A valid license for High Press|60.84             |\n",
      "|\"Qualification Requirements:  |60.416666666666664|\n",
      "|1.\tA graduate degree from an a|57.291666666666664|\n",
      "|1. A license to practice law i|57.291666666666664|\n",
      "|1.  Baccalaureate degree from |53.96875          |\n",
      "| all candidates must have a va|49.46927083333333 |\n",
      "|Applicants must be admitted to|49.41822916666667 |\n",
      "|(1) Five years of full-time sa|48.35852556818182 |\n",
      "|\"1. Five years of full-time ex|48.35             |\n",
      "|1)\tHold a permanent (not provi|47.71666666666667 |\n",
      "+------------------------------+------------------+\n",
      "only showing top 20 rows\n",
      "\n"
     ]
    }
   ],
   "source": [
    "df.withColumn(\"degree details\",F.substring(F.col(\"Minimum Qual Requirements\"),1,30))\\\n",
    ".groupBy(\"degree details\").agg(F.mean(F.col(\"SalaryRangeFromPerHr\")).alias(\"avg\"))\\\n",
    ".orderBy(\"avg\",ascending=False).show(truncate=False)"
   ]
  },
  {
   "cell_type": "markdown",
   "metadata": {},
   "source": [
    "### What's the job posting having the highest salary per agency?"
   ]
  },
  {
   "cell_type": "code",
   "execution_count": 93,
   "metadata": {
    "scrolled": false
   },
   "outputs": [
    {
     "name": "stdout",
     "output_type": "stream",
     "text": [
      "+------------------------------+------------------------------------------------------------+\n",
      "|Agency                        |Business Title                                              |\n",
      "+------------------------------+------------------------------------------------------------+\n",
      "|LANDMARKS PRESERVATION COMM   |LANDMARKS PRESERVATIONIST, PRESERVATION DEPT                |\n",
      "|OFFICE OF COLLECTIVE BARGAININ|COLLEGE AIDE - CLERICAL                                     |\n",
      "|FIRE DEPARTMENT               |Clinical Director for the Couseling Services Unit           |\n",
      "|ADMIN FOR CHILDREN'S SVCS     |Business Analyst                                            |\n",
      "|MANHATTAN COMMUNITY BOARD #8  |Community Assistant                                         |\n",
      "|TAX COMMISSION                |CLERICAL ASSOCIATE                                          |\n",
      "|HRA/DEPT OF SOCIAL SERVICES   |ORACLE DATABASE ADMINISTRATOR                               |\n",
      "|TAXI & LIMOUSINE COMMISSION   |Executive Director, Technology Strategy                     |\n",
      "|EQUAL EMPLOY PRACTICES COMM   |Director of Learning and Development                        |\n",
      "|DEPARTMENT OF BUSINESS SERV.  |.NET DEVELOPER                                              |\n",
      "|DEPT OF DESIGN & CONSTRUCTION |Associate Commissioner                                      |\n",
      "|TEACHERS RETIREMENT SYSTEM    |AGENCY ATTORNEY INTERNE                                     |\n",
      "|DEPARTMENT OF CORRECTION      |Assistant Commissioner, Internal Communications             |\n",
      "|FINANCIAL INFO SVCS AGENCY    |SENIOR PEOPLESOFT HCM ANALYST                               |\n",
      "|FINANCIAL INFO SVCS AGENCY    |Windows Technical Project Manager                           |\n",
      "|OFFICE OF EMERGENCY MANAGEMENT|DISABILITY ACCESS AND FUNCTIONAL NEEDS MANAGER              |\n",
      "|HOUSING PRESERVATION & DVLPMNT|Assistant Commissioner, Division of New Construction Finance|\n",
      "|HOUSING PRESERVATION & DVLPMNT|Assistant Commissioner of Community Partnerships and Finance|\n",
      "|CIVILIAN COMPLAINT REVIEW BD  |Policy and Legal                                            |\n",
      "|OFFICE OF MANAGEMENT & BUDGET |Deputy Assistant Director  SOCIAL SERVICES                  |\n",
      "+------------------------------+------------------------------------------------------------+\n",
      "only showing top 20 rows\n",
      "\n"
     ]
    }
   ],
   "source": [
    "from pyspark.sql import Window\n",
    "agency_spec = Window.partitionBy(\"Agency\").orderBy(F.desc(\"SalaryRangeFromPerHr\"))\n",
    "df.withColumn(\"rank\",F.dense_rank().over(agency_spec)).filter(F.col(\"rank\")==1)\\\n",
    ".select(F.col(\"Agency\"),F.col(\"Business Title\")).distinct().show(truncate=False)"
   ]
  },
  {
   "cell_type": "markdown",
   "metadata": {},
   "source": [
    "### What's the job postings average salary per agency for the last 2 years?"
   ]
  },
  {
   "cell_type": "code",
   "execution_count": 118,
   "metadata": {},
   "outputs": [
    {
     "name": "stdout",
     "output_type": "stream",
     "text": [
      "+------------------------------+---------------------+\n",
      "|Agency                        |Average Salary in Hrs|\n",
      "+------------------------------+---------------------+\n",
      "|CONFLICTS OF INTEREST BOARD   |70.31                |\n",
      "|DEPARTMENT FOR THE AGING      |56.12                |\n",
      "|FIRE DEPARTMENT               |53.98                |\n",
      "|DEPARTMENT OF CITY PLANNING   |50.78                |\n",
      "|BUSINESS INTEGRITY COMMISSION |49.48                |\n",
      "|FINANCIAL INFO SVCS AGENCY    |48.96                |\n",
      "|DEPT OF INFO TECH & TELECOMM  |47.6                 |\n",
      "|HUMAN RIGHTS COMMISSION       |46.48                |\n",
      "|DEPT OF CITYWIDE ADMIN SVCS   |46.09                |\n",
      "|DEPARTMENT OF PROBATION       |45.68                |\n",
      "|MAYORS OFFICE OF CONTRACT SVCS|45.5                 |\n",
      "|CONSUMER AFFAIRS              |45.37                |\n",
      "|OFFICE OF THE COMPTROLLER     |44.39                |\n",
      "|HOUSING PRESERVATION & DVLPMNT|44.21                |\n",
      "|PRESIDENT BOROUGH OF MANHATTAN|42.97                |\n",
      "|DEPT OF YOUTH & COMM DEV SRVS |42.03                |\n",
      "|NYC HOUSING AUTHORITY         |41.94                |\n",
      "|DEPARTMENT OF CORRECTION      |41.02                |\n",
      "|LAW DEPARTMENT                |40.82                |\n",
      "|DEPARTMENT OF BUSINESS SERV.  |40.56                |\n",
      "+------------------------------+---------------------+\n",
      "only showing top 20 rows\n",
      "\n"
     ]
    }
   ],
   "source": [
    "from pyspark.sql.types import TimestampType\n",
    "df=df.withColumn(\"job date\",F.col(\"Posting Date\").cast(TimestampType()))\n",
    "df.filter(F.col(\"job date\")>F.add_months(F.col(\"job date\"),-24))\\\n",
    ".groupBy(\"Agency\").agg(F.round(F.mean(\"SalaryRangeAvg\"),2).alias(\"Average Salary in Hrs\"))\\\n",
    ".orderBy(\"Average Salary in Hrs\",ascending=False).show(truncate=False)"
   ]
  },
  {
   "cell_type": "markdown",
   "metadata": {},
   "source": [
    "### What are the highest paid skills in the US market?"
   ]
  },
  {
   "cell_type": "code",
   "execution_count": null,
   "metadata": {},
   "outputs": [],
   "source": []
  }
 ],
 "metadata": {
  "kernelspec": {
   "display_name": "Python 3",
   "language": "python",
   "name": "python3"
  },
  "language_info": {
   "codemirror_mode": {
    "name": "ipython",
    "version": 3
   },
   "file_extension": ".py",
   "mimetype": "text/x-python",
   "name": "python",
   "nbconvert_exporter": "python",
   "pygments_lexer": "ipython3",
   "version": "3.7.3"
  }
 },
 "nbformat": 4,
 "nbformat_minor": 4
}
