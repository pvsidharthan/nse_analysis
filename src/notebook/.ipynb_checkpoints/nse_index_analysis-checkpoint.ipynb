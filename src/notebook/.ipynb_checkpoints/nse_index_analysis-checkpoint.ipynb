{
 "cells": [
  {
   "cell_type": "code",
   "execution_count": 1,
   "metadata": {},
   "outputs": [],
   "source": [
    "import sys; \n",
    "sys.path.insert(0, '..')"
   ]
  },
  {
   "cell_type": "code",
   "execution_count": 2,
   "metadata": {},
   "outputs": [],
   "source": [
    "import findspark\n",
    "findspark.init()"
   ]
  },
  {
   "cell_type": "code",
   "execution_count": 3,
   "metadata": {},
   "outputs": [],
   "source": [
    "from pyspark.sql import SparkSession\n",
    "\n",
    "spark = SparkSession.builder. \\\n",
    "    appName(\"pyspark-1\"). \\\n",
    "    getOrCreate()"
   ]
  },
  {
   "cell_type": "code",
   "execution_count": 6,
   "metadata": {},
   "outputs": [
    {
     "name": "stdout",
     "output_type": "stream",
     "text": [
      "root\n",
      " |-- datetime: timestamp (nullable = true)\n",
      " |-- open: double (nullable = true)\n",
      " |-- high: double (nullable = true)\n",
      " |-- low: double (nullable = true)\n",
      " |-- close: double (nullable = true)\n",
      "\n"
     ]
    }
   ],
   "source": [
    "# Please use below file names\n",
    "# NIFTY - NIFTY_5min.csv\n",
    "# BANKNIFTY - BN_5min.csv\n",
    "# FINNIFTY - FINNIFTY_5min.csv\n",
    "# Candle data is available in the CSV files\n",
    "\"\"\"\n",
    "datetime,open,high,low,close\n",
    "2022-05-23T09:15:00+05:30,15830.95,15910.6,15809.4,15825.9\n",
    "\"\"\"\n",
    "df = spark.read.csv(\"/dataset/FINNIFTY_5min.csv\", header=True, inferSchema=True)\n",
    "df.printSchema()"
   ]
  },
  {
   "cell_type": "code",
   "execution_count": 7,
   "metadata": {},
   "outputs": [
    {
     "name": "stdout",
     "output_type": "stream",
     "text": [
      "+-------------------+--------+--------+--------+--------+----------+-------------------+--------+---------+--------+\n",
      "|           datetime|    open|    high|     low|   close|      date|                IST|    time|      day|duration|\n",
      "+-------------------+--------+--------+--------+--------+----------+-------------------+--------+---------+--------+\n",
      "|2022-07-27 03:45:00| 16727.1|16755.95|16694.55| 16741.6|2022-07-27|2022-07-27 09:15:00|09:15:00|Wednesday|       5|\n",
      "|2022-07-27 03:50:00| 16743.3|16746.55| 16678.0| 16679.2|2022-07-27|2022-07-27 09:20:00|09:20:00|Wednesday|      10|\n",
      "|2022-07-27 03:55:00| 16678.3| 16688.5| 16666.7| 16667.9|2022-07-27|2022-07-27 09:25:00|09:25:00|Wednesday|      15|\n",
      "|2022-07-27 04:00:00|16666.25| 16675.7| 16661.7|16670.05|2022-07-27|2022-07-27 09:30:00|09:30:00|Wednesday|      20|\n",
      "|2022-07-27 04:05:00|16669.45| 16698.2| 16669.1|16685.05|2022-07-27|2022-07-27 09:35:00|09:35:00|Wednesday|      25|\n",
      "|2022-07-27 04:10:00| 16685.4|16686.65|16661.55| 16678.4|2022-07-27|2022-07-27 09:40:00|09:40:00|Wednesday|      30|\n",
      "|2022-07-27 04:15:00| 16678.1| 16695.5|16677.45|16692.65|2022-07-27|2022-07-27 09:45:00|09:45:00|Wednesday|      35|\n",
      "|2022-07-27 04:20:00|16692.15| 16729.6|16692.15|16719.95|2022-07-27|2022-07-27 09:50:00|09:50:00|Wednesday|      40|\n",
      "|2022-07-27 04:25:00|16719.75|16727.05|16711.15| 16712.4|2022-07-27|2022-07-27 09:55:00|09:55:00|Wednesday|      45|\n",
      "|2022-07-27 04:30:00|16713.05|16738.35| 16707.2|16736.95|2022-07-27|2022-07-27 10:00:00|10:00:00|Wednesday|      50|\n",
      "|2022-07-27 04:35:00|16735.95|16747.45| 16728.8|16737.85|2022-07-27|2022-07-27 10:05:00|10:05:00|Wednesday|      55|\n",
      "|2022-07-27 04:40:00|16737.95|16760.55|16737.65| 16760.0|2022-07-27|2022-07-27 10:10:00|10:10:00|Wednesday|      60|\n",
      "|2022-07-27 04:45:00|16759.15| 16773.3|16749.35| 16764.8|2022-07-27|2022-07-27 10:15:00|10:15:00|Wednesday|      65|\n",
      "|2022-07-27 04:50:00|16765.05| 16767.3| 16742.4| 16752.3|2022-07-27|2022-07-27 10:20:00|10:20:00|Wednesday|      70|\n",
      "|2022-07-27 04:55:00| 16752.4|16755.15|16740.35|16753.55|2022-07-27|2022-07-27 10:25:00|10:25:00|Wednesday|      75|\n",
      "|2022-07-27 05:00:00| 16753.0| 16757.1| 16743.1| 16744.8|2022-07-27|2022-07-27 10:30:00|10:30:00|Wednesday|      80|\n",
      "|2022-07-27 05:05:00|16743.65| 16758.2| 16740.4| 16751.3|2022-07-27|2022-07-27 10:35:00|10:35:00|Wednesday|      85|\n",
      "|2022-07-27 05:10:00|16752.05|16772.95|16752.05| 16768.1|2022-07-27|2022-07-27 10:40:00|10:40:00|Wednesday|      90|\n",
      "|2022-07-27 05:15:00| 16767.0|16789.95| 16767.0|16782.85|2022-07-27|2022-07-27 10:45:00|10:45:00|Wednesday|      95|\n",
      "|2022-07-27 05:20:00| 16784.8| 16787.4|16769.25| 16780.4|2022-07-27|2022-07-27 10:50:00|10:50:00|Wednesday|     100|\n",
      "+-------------------+--------+--------+--------+--------+----------+-------------------+--------+---------+--------+\n",
      "only showing top 20 rows\n",
      "\n"
     ]
    }
   ],
   "source": [
    "import pyspark.sql.functions as f\n",
    "from pyspark.sql import Window\n",
    "df_extended=df.withColumn(\"date\",f.to_date('datetime')) \\\n",
    "              .withColumn(\"IST\",f.from_utc_timestamp(f.col(\"datetime\"),\"IST\")) \\\n",
    "              .withColumn('time',f.date_format('IST', 'HH:mm:ss')) \\\n",
    "              .withColumn(\"day\",f.date_format('date','EEEE')) \\\n",
    "              .withColumn(\"duration_unit\",f.row_number().over(Window.partitionBy(\"date\").orderBy(\"datetime\") )) \\\n",
    "              .withColumn(\"duration\",f.col(\"duration_unit\")*5) \\\n",
    "              .drop(\"duration_unit\")\n",
    "df_extended.show()"
   ]
  },
  {
   "cell_type": "code",
   "execution_count": 9,
   "metadata": {},
   "outputs": [],
   "source": [
    "# Start time and End time in IST\n",
    "# The volatality will be calcuted based on this timeframe\n",
    "start_time=\"10:00:00\"\n",
    "end_time=\"12:00:00\""
   ]
  },
  {
   "cell_type": "code",
   "execution_count": 13,
   "metadata": {},
   "outputs": [],
   "source": [
    "avg_df=df_extended.filter(df_extended.time==start_time) \\\n",
    "                  .selectExpr(\"date\",\"duration as dur_start\",\"round((high+low)/2,2) as avg\")\n",
    "\n",
    "joined_df=df_extended.filter((df_extended.time>=start_time) & (df_extended.time<=end_time)) \\\n",
    "                     .join(avg_df,df_extended.date==avg_df.date).drop(avg_df.date)"
   ]
  },
  {
   "cell_type": "code",
   "execution_count": 20,
   "metadata": {},
   "outputs": [
    {
     "name": "stdout",
     "output_type": "stream",
     "text": [
      "+--------+--------+--------+--------+--------+-------+--------+----------+---------+-------+--------+---------------+\n",
      "|    open|    high|     low|   close|    time|    day|duration|      date|dur_start|    avg|max_diff|duration_in_min|\n",
      "+--------+--------+--------+--------+--------+-------+--------+----------+---------+-------+--------+---------------+\n",
      "|17423.45| 17435.8| 17414.2| 17435.8|10:00:00|Tuesday|      50|2022-08-02|       50|17425.0|    10.8|              0|\n",
      "|17434.45| 17444.9|17402.85| 17409.2|10:05:00|Tuesday|      55|2022-08-02|       50|17425.0|   22.15|              5|\n",
      "| 17409.1| 17409.1|17385.95| 17393.8|10:10:00|Tuesday|      60|2022-08-02|       50|17425.0|   39.05|             10|\n",
      "| 17392.6| 17413.9| 17392.4|17411.35|10:15:00|Tuesday|      65|2022-08-02|       50|17425.0|    32.6|             15|\n",
      "|17410.95| 17427.2|17397.25|17417.85|10:20:00|Tuesday|      70|2022-08-02|       50|17425.0|   27.75|             20|\n",
      "|17416.95| 17421.4| 17404.2|17411.05|10:25:00|Tuesday|      75|2022-08-02|       50|17425.0|    20.8|             25|\n",
      "| 17410.4| 17427.9| 17410.4| 17424.5|10:30:00|Tuesday|      80|2022-08-02|       50|17425.0|    14.6|             30|\n",
      "| 17425.6| 17447.8|17422.95| 17447.4|10:35:00|Tuesday|      85|2022-08-02|       50|17425.0|    22.8|             35|\n",
      "| 17447.5|17456.75|17439.75| 17453.7|10:40:00|Tuesday|      90|2022-08-02|       50|17425.0|   31.75|             40|\n",
      "| 17454.7|17464.65|17439.55| 17440.0|10:45:00|Tuesday|      95|2022-08-02|       50|17425.0|   39.65|             45|\n",
      "| 17439.5|17449.95|17434.45| 17446.7|10:50:00|Tuesday|     100|2022-08-02|       50|17425.0|   24.95|             50|\n",
      "|17446.55| 17454.4| 17440.1|17446.85|10:55:00|Tuesday|     105|2022-08-02|       50|17425.0|    29.4|             55|\n",
      "| 17447.8| 17449.5|17419.35| 17424.2|11:00:00|Tuesday|     110|2022-08-02|       50|17425.0|    24.5|             60|\n",
      "| 17422.7|17427.45| 17414.4|17419.45|11:05:00|Tuesday|     115|2022-08-02|       50|17425.0|    10.6|             65|\n",
      "|17419.65| 17445.5|17419.55|17437.15|11:10:00|Tuesday|     120|2022-08-02|       50|17425.0|    20.5|             70|\n",
      "| 17438.7| 17439.3|17425.15|17434.25|11:15:00|Tuesday|     125|2022-08-02|       50|17425.0|    14.3|             75|\n",
      "|17434.65|17448.45|17433.85|17447.85|11:20:00|Tuesday|     130|2022-08-02|       50|17425.0|   23.45|             80|\n",
      "|17447.35| 17457.7|17442.05|17454.95|11:25:00|Tuesday|     135|2022-08-02|       50|17425.0|    32.7|             85|\n",
      "|17455.35| 17476.5|17453.35| 17475.1|11:30:00|Tuesday|     140|2022-08-02|       50|17425.0|    51.5|             90|\n",
      "|17474.95| 17499.4| 17473.9|17498.05|11:35:00|Tuesday|     145|2022-08-02|       50|17425.0|    74.4|             95|\n",
      "+--------+--------+--------+--------+--------+-------+--------+----------+---------+-------+--------+---------------+\n",
      "only showing top 20 rows\n",
      "\n"
     ]
    }
   ],
   "source": [
    "updated_df=joined_df.withColumn(\"diff_high\",f.round(f.abs(f.col(\"avg\")-f.col(\"high\")),2)) \\\n",
    "         .withColumn(\"diff_low\",f.round(f.abs(f.col(\"avg\")-f.col(\"low\")),2)) \\\n",
    "         .withColumn(\"max_diff\",f.when(f.col(\"diff_high\")>f.col(\"diff_low\"),f.col(\"diff_high\")) \\\n",
    "                     .otherwise(f.col(\"diff_low\"))) \\\n",
    "         .drop(*(\"diff_high\",\"diff_low\",\"datetime\",\"IST\")) \\\n",
    "         .withColumn(\"duration_in_min\",f.col(\"duration\")-f.col(\"dur_start\"))\n",
    "\n",
    "updated_df.filter(f.col(\"day\")==\"Tuesday\").show()"
   ]
  },
  {
   "cell_type": "code",
   "execution_count": null,
   "metadata": {},
   "outputs": [],
   "source": [
    "# filtering Tuesday records since Tuesday is the expiry day for FINNIFTY\n",
    "final_df=updated_df.filter(f.col(\"day\")==\"Tuesday\") \\\n",
    "          .withColumn(\"r1\",f.row_number().over(Window.partitionBy(\"date\").orderBy(f.col(\"max_diff\").desc()) )) \\\n",
    "          .filter(f.col(\"r1\")==1) \\\n",
    "          .selectExpr(\"row_number() over(order by date) as Sl_No\",\"day\",\"date\",\"time\",\"max_diff\",\"duration_in_min\")\n",
    "final_df.show(1000)"
   ]
  },
  {
   "cell_type": "code",
   "execution_count": null,
   "metadata": {},
   "outputs": [],
   "source": []
  }
 ],
 "metadata": {
  "kernelspec": {
   "display_name": "Python 3",
   "language": "python",
   "name": "python3"
  },
  "language_info": {
   "codemirror_mode": {
    "name": "ipython",
    "version": 3
   },
   "file_extension": ".py",
   "mimetype": "text/x-python",
   "name": "python",
   "nbconvert_exporter": "python",
   "pygments_lexer": "ipython3",
   "version": "3.7.3"
  }
 },
 "nbformat": 4,
 "nbformat_minor": 4
}
