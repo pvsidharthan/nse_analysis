{
 "cells": [
  {
   "cell_type": "markdown",
   "metadata": {},
   "source": [
    "#### FYI: Abandoned experiments, learnings etc can be found here:\n",
    "[pre_processing_and_wrangling - experiments and leaning](pre_processing_and_wrangling%20-%20experiments%20and%20leaning.ipynb)"
   ]
  },
  {
   "cell_type": "code",
   "execution_count": 1,
   "metadata": {},
   "outputs": [],
   "source": [
    "import findspark\n",
    "findspark.init()"
   ]
  },
  {
   "cell_type": "code",
   "execution_count": 2,
   "metadata": {},
   "outputs": [],
   "source": [
    "from pyspark.sql import SparkSession\n",
    "\n",
    "spark = SparkSession.builder. \\\n",
    "    appName(\"pyspark-1\"). \\\n",
    "    getOrCreate()"
   ]
  },
  {
   "cell_type": "code",
   "execution_count": 38,
   "metadata": {},
   "outputs": [],
   "source": [
    "df = spark.read.csv(\"/dataset/dedupd_df.csv\",header=True,inferSchema=True)"
   ]
  },
  {
   "cell_type": "code",
   "execution_count": 39,
   "metadata": {},
   "outputs": [
    {
     "name": "stdout",
     "output_type": "stream",
     "text": [
      "root\n",
      " |-- _c0: integer (nullable = true)\n",
      " |-- Job ID: integer (nullable = true)\n",
      " |-- Agency: string (nullable = true)\n",
      " |-- Posting Type: string (nullable = true)\n",
      " |-- # Of Positions: integer (nullable = true)\n",
      " |-- Business Title: string (nullable = true)\n",
      " |-- Civil Service Title: string (nullable = true)\n",
      " |-- Title Code No: string (nullable = true)\n",
      " |-- Level: string (nullable = true)\n",
      " |-- Job Category: string (nullable = true)\n",
      " |-- Full-Time/Part-Time indicator: string (nullable = true)\n",
      " |-- Salary Range From: double (nullable = true)\n",
      " |-- Salary Range To: double (nullable = true)\n",
      " |-- Salary Frequency: string (nullable = true)\n",
      " |-- Work Location: string (nullable = true)\n",
      " |-- Division/Work Unit: string (nullable = true)\n",
      " |-- Job Description: string (nullable = true)\n",
      " |-- Minimum Qual Requirements: string (nullable = true)\n",
      " |-- Preferred Skills: string (nullable = true)\n",
      " |-- Additional Information: string (nullable = true)\n",
      " |-- To Apply: string (nullable = true)\n",
      " |-- Hours/Shift: string (nullable = true)\n",
      " |-- Work Location 1: string (nullable = true)\n",
      " |-- Recruitment Contact: string (nullable = true)\n",
      " |-- Residency Requirement: string (nullable = true)\n",
      " |-- Posting Date: string (nullable = true)\n",
      " |-- Post Until: string (nullable = true)\n",
      " |-- Posting Updated: string (nullable = true)\n",
      " |-- Process Date: string (nullable = true)\n",
      "\n"
     ]
    }
   ],
   "source": [
    "df.printSchema()"
   ]
  },
  {
   "cell_type": "code",
   "execution_count": 40,
   "metadata": {},
   "outputs": [],
   "source": [
    "featues = [\"Job ID\",\n",
    "           \"Agency\", \n",
    "           \"Job Category\",\n",
    "           \"Salary Range From\",\n",
    "           \"Salary Range To\",\n",
    "           \"Salary Frequency\",\n",
    "           \"Minimum Qual Requirements\",\n",
    "           \"Posting Date\",\n",
    "           \"Preferred Skills\"]"
   ]
  },
  {
   "cell_type": "code",
   "execution_count": 41,
   "metadata": {},
   "outputs": [],
   "source": [
    "df_required_feaures = df.select(featues)\n",
    "df = None"
   ]
  },
  {
   "cell_type": "code",
   "execution_count": 42,
   "metadata": {},
   "outputs": [
    {
     "name": "stdout",
     "output_type": "stream",
     "text": [
      "root\n",
      " |-- Job ID: integer (nullable = true)\n",
      " |-- Agency: string (nullable = true)\n",
      " |-- Job Category: string (nullable = true)\n",
      " |-- Salary Range From: double (nullable = true)\n",
      " |-- Salary Range To: double (nullable = true)\n",
      " |-- Salary Frequency: string (nullable = true)\n",
      " |-- Minimum Qual Requirements: string (nullable = true)\n",
      " |-- Posting Date: string (nullable = true)\n",
      " |-- Preferred Skills: string (nullable = true)\n",
      "\n"
     ]
    }
   ],
   "source": [
    "df_required_feaures.printSchema()"
   ]
  },
  {
   "cell_type": "code",
   "execution_count": 43,
   "metadata": {},
   "outputs": [
    {
     "data": {
      "text/html": [
       "<div>\n",
       "<style scoped>\n",
       "    .dataframe tbody tr th:only-of-type {\n",
       "        vertical-align: middle;\n",
       "    }\n",
       "\n",
       "    .dataframe tbody tr th {\n",
       "        vertical-align: top;\n",
       "    }\n",
       "\n",
       "    .dataframe thead th {\n",
       "        text-align: right;\n",
       "    }\n",
       "</style>\n",
       "<table border=\"1\" class=\"dataframe\">\n",
       "  <thead>\n",
       "    <tr style=\"text-align: right;\">\n",
       "      <th></th>\n",
       "      <th>0</th>\n",
       "      <th>1</th>\n",
       "      <th>2</th>\n",
       "      <th>3</th>\n",
       "      <th>4</th>\n",
       "    </tr>\n",
       "  </thead>\n",
       "  <tbody>\n",
       "    <tr>\n",
       "      <th>Job ID</th>\n",
       "      <td>239052</td>\n",
       "      <td>311799</td>\n",
       "      <td>339370</td>\n",
       "      <td>400075</td>\n",
       "      <td>406297</td>\n",
       "    </tr>\n",
       "    <tr>\n",
       "      <th>Agency</th>\n",
       "      <td>ADMIN FOR CHILDREN'S SVCS</td>\n",
       "      <td>DEPARTMENT OF TRANSPORTATION</td>\n",
       "      <td>ADMIN FOR CHILDREN'S SVCS</td>\n",
       "      <td>ADMIN FOR CHILDREN'S SVCS</td>\n",
       "      <td>DEPT OF INFO TECH &amp; TELECOMM</td>\n",
       "    </tr>\n",
       "    <tr>\n",
       "      <th>Job Category</th>\n",
       "      <td>Community &amp; Business Services Social Services</td>\n",
       "      <td>Building Operations &amp; Maintenance</td>\n",
       "      <td>Legal Affairs</td>\n",
       "      <td>Technology, Data &amp; Innovation</td>\n",
       "      <td>Technology, Data &amp; Innovation Policy, Research...</td>\n",
       "    </tr>\n",
       "    <tr>\n",
       "      <th>Salary Range From</th>\n",
       "      <td>48895</td>\n",
       "      <td>373.03</td>\n",
       "      <td>51315</td>\n",
       "      <td>82884</td>\n",
       "      <td>69940</td>\n",
       "    </tr>\n",
       "    <tr>\n",
       "      <th>Salary Range To</th>\n",
       "      <td>75900</td>\n",
       "      <td>373.03</td>\n",
       "      <td>54720</td>\n",
       "      <td>106786</td>\n",
       "      <td>130000</td>\n",
       "    </tr>\n",
       "    <tr>\n",
       "      <th>Salary Frequency</th>\n",
       "      <td>Annual</td>\n",
       "      <td>Daily</td>\n",
       "      <td>Annual</td>\n",
       "      <td>Annual</td>\n",
       "      <td>Annual</td>\n",
       "    </tr>\n",
       "    <tr>\n",
       "      <th>Minimum Qual Requirements</th>\n",
       "      <td>\"\"\"1. A baccalaureate degree from an accredite...</td>\n",
       "      <td>(1) Five years of full-time satisfactory exper...</td>\n",
       "      <td>1. A baccalaureate degree from an accredited c...</td>\n",
       "      <td>\"\"\"(1) A baccalaureate degree from an accredit...</td>\n",
       "      <td>\"\"\"1. A baccalaureate degree from an accredite...</td>\n",
       "    </tr>\n",
       "    <tr>\n",
       "      <th>Posting Date</th>\n",
       "      <td>New York City residency is generally required ...</td>\n",
       "      <td>2017-11-01T00:00:00.000</td>\n",
       "      <td>2018-03-27T00:00:00.000</td>\n",
       "      <td>systems analysis and design</td>\n",
       "      <td>None</td>\n",
       "    </tr>\n",
       "    <tr>\n",
       "      <th>Preferred Skills</th>\n",
       "      <td>\" all candidates must have at least one year o...</td>\n",
       "      <td>None</td>\n",
       "      <td>Preferred candidate has significate child prot...</td>\n",
       "      <td>including or supplemented by twenty-four (24)...</td>\n",
       "      <td>of supervisory or administrative experience i...</td>\n",
       "    </tr>\n",
       "  </tbody>\n",
       "</table>\n",
       "</div>"
      ],
      "text/plain": [
       "                                                                           0  \\\n",
       "Job ID                                                                239052   \n",
       "Agency                                             ADMIN FOR CHILDREN'S SVCS   \n",
       "Job Category                   Community & Business Services Social Services   \n",
       "Salary Range From                                                      48895   \n",
       "Salary Range To                                                        75900   \n",
       "Salary Frequency                                                      Annual   \n",
       "Minimum Qual Requirements  \"\"\"1. A baccalaureate degree from an accredite...   \n",
       "Posting Date               New York City residency is generally required ...   \n",
       "Preferred Skills           \" all candidates must have at least one year o...   \n",
       "\n",
       "                                                                           1  \\\n",
       "Job ID                                                                311799   \n",
       "Agency                                          DEPARTMENT OF TRANSPORTATION   \n",
       "Job Category                               Building Operations & Maintenance   \n",
       "Salary Range From                                                     373.03   \n",
       "Salary Range To                                                       373.03   \n",
       "Salary Frequency                                                       Daily   \n",
       "Minimum Qual Requirements  (1) Five years of full-time satisfactory exper...   \n",
       "Posting Date                                         2017-11-01T00:00:00.000   \n",
       "Preferred Skills                                                        None   \n",
       "\n",
       "                                                                           2  \\\n",
       "Job ID                                                                339370   \n",
       "Agency                                             ADMIN FOR CHILDREN'S SVCS   \n",
       "Job Category                                                   Legal Affairs   \n",
       "Salary Range From                                                      51315   \n",
       "Salary Range To                                                        54720   \n",
       "Salary Frequency                                                      Annual   \n",
       "Minimum Qual Requirements  1. A baccalaureate degree from an accredited c...   \n",
       "Posting Date                                         2018-03-27T00:00:00.000   \n",
       "Preferred Skills           Preferred candidate has significate child prot...   \n",
       "\n",
       "                                                                           3  \\\n",
       "Job ID                                                                400075   \n",
       "Agency                                             ADMIN FOR CHILDREN'S SVCS   \n",
       "Job Category                                   Technology, Data & Innovation   \n",
       "Salary Range From                                                      82884   \n",
       "Salary Range To                                                       106786   \n",
       "Salary Frequency                                                      Annual   \n",
       "Minimum Qual Requirements  \"\"\"(1) A baccalaureate degree from an accredit...   \n",
       "Posting Date                                     systems analysis and design   \n",
       "Preferred Skills            including or supplemented by twenty-four (24)...   \n",
       "\n",
       "                                                                           4  \n",
       "Job ID                                                                406297  \n",
       "Agency                                          DEPT OF INFO TECH & TELECOMM  \n",
       "Job Category               Technology, Data & Innovation Policy, Research...  \n",
       "Salary Range From                                                      69940  \n",
       "Salary Range To                                                       130000  \n",
       "Salary Frequency                                                      Annual  \n",
       "Minimum Qual Requirements  \"\"\"1. A baccalaureate degree from an accredite...  \n",
       "Posting Date                                                            None  \n",
       "Preferred Skills            of supervisory or administrative experience i...  "
      ]
     },
     "execution_count": 43,
     "metadata": {},
     "output_type": "execute_result"
    }
   ],
   "source": [
    "df_required_feaures.limit(5).toPandas().transpose()"
   ]
  },
  {
   "cell_type": "markdown",
   "metadata": {},
   "source": [
    "### Feature Engineering\n",
    "\n",
    "- Salary \n",
    "\n",
    "    - Required: a function to derive a salary based on \"Salary Range From\", \"Salary Range To\" and \"Salary Frequency\"\n",
    "        The resultant salary must be in the same units across each \"Salary Frequency\" so that a comparison can be made\n",
    "\n",
    "\n",
    "- Minimum Qual Requirements \n",
    "\n",
    "    - Required: a function to extrapolate any qualification specification.  I may end up having a simply flag:  required_degree: boolean\n",
    "   \n",
    "   \n",
    "- Posting Date - only about half of the records have a valid data in this field\n",
    "                "
   ]
  },
  {
   "cell_type": "markdown",
   "metadata": {},
   "source": [
    "## Salary"
   ]
  },
  {
   "cell_type": "markdown",
   "metadata": {},
   "source": [
    "Required: derive a salary based on \"Salary Range From\", \"Salary Range To\" and \"Salary Frequency\" The resultant salary must be in the same units across each \"Salary Frequency\" so that a comparison can be made"
   ]
  },
  {
   "cell_type": "code",
   "execution_count": 44,
   "metadata": {},
   "outputs": [],
   "source": [
    "from pyspark.sql.functions import col,regexp_extract"
   ]
  },
  {
   "cell_type": "code",
   "execution_count": 45,
   "metadata": {},
   "outputs": [],
   "source": [
    "import sys\n",
    "sys.path.insert(0,'../utils')"
   ]
  },
  {
   "cell_type": "code",
   "execution_count": 46,
   "metadata": {},
   "outputs": [],
   "source": [
    "import importlib"
   ]
  },
  {
   "cell_type": "markdown",
   "metadata": {},
   "source": [
    "#### PLEASE NOTE\n",
    "get_HourlySalaryUDF was tested here [get_HourlySalaryUDF](test%20UDF%20functions.ipynb#test_get_HourlySalaryUDF)"
   ]
  },
  {
   "cell_type": "code",
   "execution_count": 47,
   "metadata": {},
   "outputs": [],
   "source": [
    "import udf_functions as UDF"
   ]
  },
  {
   "cell_type": "code",
   "execution_count": 48,
   "metadata": {},
   "outputs": [
    {
     "name": "stdout",
     "output_type": "stream",
     "text": [
      "Help on function get_HourlySalaryUDF in module udf_functions:\n",
      "\n",
      "get_HourlySalaryUDF(SalaryRangeFrom, SalaryRangeTo, SalaryFrequency) -> float\n",
      "    Description:\n",
      "    \n",
      "    Santity checks of accidental From To swapping:\n",
      "        if SalaryRangeFrom > SalaryRangeTo\n",
      "            then swap the values.\n",
      "    \n",
      "    Calculate SalaryMixedFreq as follows:\n",
      "        if \"Salary Range From\" is not null and not 0, then calculate \n",
      "            midrange salary, i.e. sal = (min + (max - min)/2)\n",
      "        else \n",
      "            use \"Salary Range To\" as the salary\n",
      "        If SalaryRangeTo is not defined or 0 return None\n",
      "    \n",
      "    Calculate HourlySalary as follows:\n",
      "    \n",
      "       SalaryMixedFreq will be the yearly salary, Daily salary or \n",
      "       hourly salary depending on \"Salary Frequency\"\n",
      "       Calculate HourlySalary based on \"Salary Frequency\":\n",
      "       1 - \"Hourly\": set HourlySalary = SalaryMixedFreq\n",
      "       2 - \"Daily\":  set HourlySalary = SalaryMixedFreq / 8 rounded to 2 dec places\n",
      "       3 - \"Annual\": set HourlySalary = SalaryMixedFreq / 1757 rounded to 2 dec places\n",
      "    \n",
      "    :param SalaryRangeFrom: col value of \"Salary Range From\"\n",
      "    :param SalaryRangeTo\" col value of \"Salary Range To\"\n",
      "    :param SalaryFrequency\" col value of \"Salary Frequency\"\n",
      "    \n",
      "    :return: HourlySalary as float\n",
      "\n"
     ]
    }
   ],
   "source": [
    "help(UDF.get_HourlySalaryUDF)"
   ]
  },
  {
   "cell_type": "code",
   "execution_count": 49,
   "metadata": {},
   "outputs": [],
   "source": [
    "df_salary = df_required_feaures.withColumn(\"HourlySalary\",\n",
    "                                 UDF.get_HourlySalaryUDF(\n",
    "                                            col('Salary Range From'),\n",
    "                                            col('Salary Range To'),\n",
    "                                            col('Salary Frequency')\n",
    "                                        )\n",
    "                                     )\n"
   ]
  },
  {
   "cell_type": "code",
   "execution_count": 54,
   "metadata": {},
   "outputs": [],
   "source": [
    "df_required_feaures = None"
   ]
  },
  {
   "cell_type": "code",
   "execution_count": 51,
   "metadata": {
    "scrolled": false
   },
   "outputs": [
    {
     "data": {
      "text/html": [
       "<div>\n",
       "<style scoped>\n",
       "    .dataframe tbody tr th:only-of-type {\n",
       "        vertical-align: middle;\n",
       "    }\n",
       "\n",
       "    .dataframe tbody tr th {\n",
       "        vertical-align: top;\n",
       "    }\n",
       "\n",
       "    .dataframe thead th {\n",
       "        text-align: right;\n",
       "    }\n",
       "</style>\n",
       "<table border=\"1\" class=\"dataframe\">\n",
       "  <thead>\n",
       "    <tr style=\"text-align: right;\">\n",
       "      <th></th>\n",
       "      <th>Job ID</th>\n",
       "      <th>Agency</th>\n",
       "      <th>Job Category</th>\n",
       "      <th>Salary Range From</th>\n",
       "      <th>Salary Range To</th>\n",
       "      <th>Salary Frequency</th>\n",
       "      <th>Minimum Qual Requirements</th>\n",
       "      <th>Posting Date</th>\n",
       "      <th>Preferred Skills</th>\n",
       "      <th>HourlySalary</th>\n",
       "    </tr>\n",
       "  </thead>\n",
       "  <tbody>\n",
       "    <tr>\n",
       "      <th>0</th>\n",
       "      <td>239052</td>\n",
       "      <td>ADMIN FOR CHILDREN'S SVCS</td>\n",
       "      <td>Community &amp; Business Services Social Services</td>\n",
       "      <td>48895.00</td>\n",
       "      <td>75900.00</td>\n",
       "      <td>Annual</td>\n",
       "      <td>\"\"\"1. A baccalaureate degree from an accredite...</td>\n",
       "      <td>New York City residency is generally required ...</td>\n",
       "      <td>\" all candidates must have at least one year o...</td>\n",
       "      <td>35.509998</td>\n",
       "    </tr>\n",
       "    <tr>\n",
       "      <th>1</th>\n",
       "      <td>311799</td>\n",
       "      <td>DEPARTMENT OF TRANSPORTATION</td>\n",
       "      <td>Building Operations &amp; Maintenance</td>\n",
       "      <td>373.03</td>\n",
       "      <td>373.03</td>\n",
       "      <td>Daily</td>\n",
       "      <td>(1) Five years of full-time satisfactory exper...</td>\n",
       "      <td>2017-11-01T00:00:00.000</td>\n",
       "      <td>None</td>\n",
       "      <td>46.630001</td>\n",
       "    </tr>\n",
       "    <tr>\n",
       "      <th>2</th>\n",
       "      <td>339370</td>\n",
       "      <td>ADMIN FOR CHILDREN'S SVCS</td>\n",
       "      <td>Legal Affairs</td>\n",
       "      <td>51315.00</td>\n",
       "      <td>54720.00</td>\n",
       "      <td>Annual</td>\n",
       "      <td>1. A baccalaureate degree from an accredited c...</td>\n",
       "      <td>2018-03-27T00:00:00.000</td>\n",
       "      <td>Preferred candidate has significate child prot...</td>\n",
       "      <td>30.180000</td>\n",
       "    </tr>\n",
       "    <tr>\n",
       "      <th>3</th>\n",
       "      <td>400075</td>\n",
       "      <td>ADMIN FOR CHILDREN'S SVCS</td>\n",
       "      <td>Technology, Data &amp; Innovation</td>\n",
       "      <td>82884.00</td>\n",
       "      <td>106786.00</td>\n",
       "      <td>Annual</td>\n",
       "      <td>\"\"\"(1) A baccalaureate degree from an accredit...</td>\n",
       "      <td>systems analysis and design</td>\n",
       "      <td>including or supplemented by twenty-four (24)...</td>\n",
       "      <td>53.980000</td>\n",
       "    </tr>\n",
       "    <tr>\n",
       "      <th>4</th>\n",
       "      <td>406297</td>\n",
       "      <td>DEPT OF INFO TECH &amp; TELECOMM</td>\n",
       "      <td>Technology, Data &amp; Innovation Policy, Research...</td>\n",
       "      <td>69940.00</td>\n",
       "      <td>130000.00</td>\n",
       "      <td>Annual</td>\n",
       "      <td>\"\"\"1. A baccalaureate degree from an accredite...</td>\n",
       "      <td>None</td>\n",
       "      <td>of supervisory or administrative experience i...</td>\n",
       "      <td>56.900002</td>\n",
       "    </tr>\n",
       "    <tr>\n",
       "      <th>5</th>\n",
       "      <td>406575</td>\n",
       "      <td>DEPT OF INFO TECH &amp; TELECOMM</td>\n",
       "      <td>Technology, Data &amp; Innovation</td>\n",
       "      <td>75000.00</td>\n",
       "      <td>120000.00</td>\n",
       "      <td>Annual</td>\n",
       "      <td>\"\"\"1. A baccalaureate degree from an accredite...</td>\n",
       "      <td>2019-09-30T00:00:00.000</td>\n",
       "      <td>The preferred candidate should possess the fol...</td>\n",
       "      <td>55.490002</td>\n",
       "    </tr>\n",
       "    <tr>\n",
       "      <th>6</th>\n",
       "      <td>409339</td>\n",
       "      <td>OFFICE OF MANAGEMENT &amp; BUDGET</td>\n",
       "      <td>Finance, Accounting, &amp; Procurement Legal Affai...</td>\n",
       "      <td>114379.00</td>\n",
       "      <td>114379.00</td>\n",
       "      <td>Annual</td>\n",
       "      <td>1. A baccalaureate degree from an accredited c...</td>\n",
       "      <td>2019-08-28T00:00:00.000</td>\n",
       "      <td>QUALIFICATIONS:  â€¢\\tAbility to provide hands...</td>\n",
       "      <td>65.099998</td>\n",
       "    </tr>\n",
       "    <tr>\n",
       "      <th>7</th>\n",
       "      <td>425665</td>\n",
       "      <td>HRA/DEPT OF SOCIAL SERVICES</td>\n",
       "      <td>Policy, Research &amp; Analysis Social Services</td>\n",
       "      <td>60435.00</td>\n",
       "      <td>115000.00</td>\n",
       "      <td>Annual</td>\n",
       "      <td>\"\"\"1. A master's degree from an accredited col...</td>\n",
       "      <td>industrial psychology</td>\n",
       "      <td>finance</td>\n",
       "      <td>49.919998</td>\n",
       "    </tr>\n",
       "    <tr>\n",
       "      <th>8</th>\n",
       "      <td>233549</td>\n",
       "      <td>NYC EMPLOYEES RETIREMENT SYS</td>\n",
       "      <td>Information Technology &amp; Telecommunications</td>\n",
       "      <td>87203.00</td>\n",
       "      <td>131623.00</td>\n",
       "      <td>Annual</td>\n",
       "      <td>\"\"\"Professional/vendor certification(s) in loc...</td>\n",
       "      <td>integration</td>\n",
       "      <td>all candidates must have the following:  1. A...</td>\n",
       "      <td>62.270000</td>\n",
       "    </tr>\n",
       "    <tr>\n",
       "      <th>9</th>\n",
       "      <td>277372</td>\n",
       "      <td>DEPT OF ENVIRONMENT PROTECTION</td>\n",
       "      <td>Engineering, Architecture, &amp; Planning Technolo...</td>\n",
       "      <td>47974.00</td>\n",
       "      <td>55170.00</td>\n",
       "      <td>Annual</td>\n",
       "      <td>1. A baccalaureate degree from an accredited c...</td>\n",
       "      <td>2017-01-09T00:00:00.000</td>\n",
       "      <td>â€¢\\tExperience in the planning, layout and de...</td>\n",
       "      <td>29.350000</td>\n",
       "    </tr>\n",
       "  </tbody>\n",
       "</table>\n",
       "</div>"
      ],
      "text/plain": [
       "   Job ID                          Agency  \\\n",
       "0  239052       ADMIN FOR CHILDREN'S SVCS   \n",
       "1  311799    DEPARTMENT OF TRANSPORTATION   \n",
       "2  339370       ADMIN FOR CHILDREN'S SVCS   \n",
       "3  400075       ADMIN FOR CHILDREN'S SVCS   \n",
       "4  406297    DEPT OF INFO TECH & TELECOMM   \n",
       "5  406575    DEPT OF INFO TECH & TELECOMM   \n",
       "6  409339   OFFICE OF MANAGEMENT & BUDGET   \n",
       "7  425665     HRA/DEPT OF SOCIAL SERVICES   \n",
       "8  233549    NYC EMPLOYEES RETIREMENT SYS   \n",
       "9  277372  DEPT OF ENVIRONMENT PROTECTION   \n",
       "\n",
       "                                        Job Category  Salary Range From  \\\n",
       "0      Community & Business Services Social Services           48895.00   \n",
       "1                  Building Operations & Maintenance             373.03   \n",
       "2                                      Legal Affairs           51315.00   \n",
       "3                      Technology, Data & Innovation           82884.00   \n",
       "4  Technology, Data & Innovation Policy, Research...           69940.00   \n",
       "5                      Technology, Data & Innovation           75000.00   \n",
       "6  Finance, Accounting, & Procurement Legal Affai...          114379.00   \n",
       "7        Policy, Research & Analysis Social Services           60435.00   \n",
       "8        Information Technology & Telecommunications           87203.00   \n",
       "9  Engineering, Architecture, & Planning Technolo...           47974.00   \n",
       "\n",
       "   Salary Range To Salary Frequency  \\\n",
       "0         75900.00           Annual   \n",
       "1           373.03            Daily   \n",
       "2         54720.00           Annual   \n",
       "3        106786.00           Annual   \n",
       "4        130000.00           Annual   \n",
       "5        120000.00           Annual   \n",
       "6        114379.00           Annual   \n",
       "7        115000.00           Annual   \n",
       "8        131623.00           Annual   \n",
       "9         55170.00           Annual   \n",
       "\n",
       "                           Minimum Qual Requirements  \\\n",
       "0  \"\"\"1. A baccalaureate degree from an accredite...   \n",
       "1  (1) Five years of full-time satisfactory exper...   \n",
       "2  1. A baccalaureate degree from an accredited c...   \n",
       "3  \"\"\"(1) A baccalaureate degree from an accredit...   \n",
       "4  \"\"\"1. A baccalaureate degree from an accredite...   \n",
       "5  \"\"\"1. A baccalaureate degree from an accredite...   \n",
       "6  1. A baccalaureate degree from an accredited c...   \n",
       "7  \"\"\"1. A master's degree from an accredited col...   \n",
       "8  \"\"\"Professional/vendor certification(s) in loc...   \n",
       "9  1. A baccalaureate degree from an accredited c...   \n",
       "\n",
       "                                        Posting Date  \\\n",
       "0  New York City residency is generally required ...   \n",
       "1                            2017-11-01T00:00:00.000   \n",
       "2                            2018-03-27T00:00:00.000   \n",
       "3                        systems analysis and design   \n",
       "4                                               None   \n",
       "5                            2019-09-30T00:00:00.000   \n",
       "6                            2019-08-28T00:00:00.000   \n",
       "7                              industrial psychology   \n",
       "8                                        integration   \n",
       "9                            2017-01-09T00:00:00.000   \n",
       "\n",
       "                                    Preferred Skills  HourlySalary  \n",
       "0  \" all candidates must have at least one year o...     35.509998  \n",
       "1                                               None     46.630001  \n",
       "2  Preferred candidate has significate child prot...     30.180000  \n",
       "3   including or supplemented by twenty-four (24)...     53.980000  \n",
       "4   of supervisory or administrative experience i...     56.900002  \n",
       "5  The preferred candidate should possess the fol...     55.490002  \n",
       "6  QUALIFICATIONS:  â€¢\\tAbility to provide hands...     65.099998  \n",
       "7                                            finance     49.919998  \n",
       "8   all candidates must have the following:  1. A...     62.270000  \n",
       "9  â€¢\\tExperience in the planning, layout and de...     29.350000  "
      ]
     },
     "execution_count": 51,
     "metadata": {},
     "output_type": "execute_result"
    }
   ],
   "source": [
    "df_salary.limit(10).toPandas()"
   ]
  },
  {
   "cell_type": "markdown",
   "metadata": {},
   "source": [
    "# Minimum Qual Requirements\n",
    "\n",
    "Required: a function to extrapolate any qualification specification. I may end up having a simply flag: required_degree: boolean\n",
    "\n",
    "I have used [List of Degrees: Most Popular Degree Programs by Level](https://bestaccreditedcolleges.org/articles/list-of-degrees.html) as my reference\n",
    "\n",
    "**NOTE1**: get_degreeUDF was tested [here](test%20UDF%20functions.ipynb#test_get_degreeUDF)\n",
    "\n",
    "**NOTE2**: get_degreeUDF sets \"not_specified\" when 'Minimum Qual Requirements' is Null\n"
   ]
  },
  {
   "cell_type": "markdown",
   "metadata": {},
   "source": [
    "Call UDF get_degreeUDF(MinimumQualRequirements) to get the higher qualification requirements if found creating new column \n",
    "- \"Higher Degree\""
   ]
  },
  {
   "cell_type": "code",
   "execution_count": 52,
   "metadata": {},
   "outputs": [],
   "source": [
    "importlib.reload(UDF)\n",
    "df_salary_degree = df_salary.withColumn(\"Higher Degree\",\n",
    "                                 UDF.get_degreeUDF(\n",
    "                                            col('Minimum Qual Requirements')\n",
    "                                        )\n",
    "                                     )\n",
    "df_salary = None"
   ]
  },
  {
   "cell_type": "code",
   "execution_count": 55,
   "metadata": {
    "scrolled": false
   },
   "outputs": [
    {
     "data": {
      "text/html": [
       "<div>\n",
       "<style scoped>\n",
       "    .dataframe tbody tr th:only-of-type {\n",
       "        vertical-align: middle;\n",
       "    }\n",
       "\n",
       "    .dataframe tbody tr th {\n",
       "        vertical-align: top;\n",
       "    }\n",
       "\n",
       "    .dataframe thead th {\n",
       "        text-align: right;\n",
       "    }\n",
       "</style>\n",
       "<table border=\"1\" class=\"dataframe\">\n",
       "  <thead>\n",
       "    <tr style=\"text-align: right;\">\n",
       "      <th></th>\n",
       "      <th>0</th>\n",
       "      <th>1</th>\n",
       "      <th>2</th>\n",
       "      <th>3</th>\n",
       "      <th>4</th>\n",
       "    </tr>\n",
       "  </thead>\n",
       "  <tbody>\n",
       "    <tr>\n",
       "      <th>summary</th>\n",
       "      <td>count</td>\n",
       "      <td>mean</td>\n",
       "      <td>stddev</td>\n",
       "      <td>min</td>\n",
       "      <td>max</td>\n",
       "    </tr>\n",
       "    <tr>\n",
       "      <th>Job ID</th>\n",
       "      <td>1661</td>\n",
       "      <td>383594.9331727875</td>\n",
       "      <td>55442.69628987496</td>\n",
       "      <td>87990</td>\n",
       "      <td>426238</td>\n",
       "    </tr>\n",
       "    <tr>\n",
       "      <th>Agency</th>\n",
       "      <td>1661</td>\n",
       "      <td>None</td>\n",
       "      <td>None</td>\n",
       "      <td>ADMIN FOR CHILDREN'S SVCS</td>\n",
       "      <td>TEACHERS RETIREMENT SYSTEM</td>\n",
       "    </tr>\n",
       "    <tr>\n",
       "      <th>Job Category</th>\n",
       "      <td>1659</td>\n",
       "      <td>None</td>\n",
       "      <td>None</td>\n",
       "      <td>Administration &amp; Human Resources</td>\n",
       "      <td>Technology, Data &amp; Innovation Social Services</td>\n",
       "    </tr>\n",
       "    <tr>\n",
       "      <th>Salary Range From</th>\n",
       "      <td>1661</td>\n",
       "      <td>58836.501277965086</td>\n",
       "      <td>26392.114682422838</td>\n",
       "      <td>0.0</td>\n",
       "      <td>218587.0</td>\n",
       "    </tr>\n",
       "    <tr>\n",
       "      <th>Salary Range To</th>\n",
       "      <td>1661</td>\n",
       "      <td>85387.93789482239</td>\n",
       "      <td>42041.27995414807</td>\n",
       "      <td>10.36</td>\n",
       "      <td>234402.0</td>\n",
       "    </tr>\n",
       "    <tr>\n",
       "      <th>Salary Frequency</th>\n",
       "      <td>1661</td>\n",
       "      <td>None</td>\n",
       "      <td>None</td>\n",
       "      <td>Annual</td>\n",
       "      <td>Hourly</td>\n",
       "    </tr>\n",
       "    <tr>\n",
       "      <th>Minimum Qual Requirements</th>\n",
       "      <td>1652</td>\n",
       "      <td>None</td>\n",
       "      <td>None</td>\n",
       "      <td>AND TAKE AND PASS THE EXAM FOR THE CIVIL SERV...</td>\n",
       "      <td>â€¢ Masterâ€™s degree in business administrati...</td>\n",
       "    </tr>\n",
       "    <tr>\n",
       "      <th>Posting Date</th>\n",
       "      <td>1518</td>\n",
       "      <td>32.0625</td>\n",
       "      <td>52.07558867150587</td>\n",
       "      <td>3. A satisfactory combination of education a...</td>\n",
       "      <td>â€¢Hands-on experience in developing large Int...</td>\n",
       "    </tr>\n",
       "    <tr>\n",
       "      <th>Preferred Skills</th>\n",
       "      <td>1530</td>\n",
       "      <td>None</td>\n",
       "      <td>None</td>\n",
       "      <td>2.\\tAn associate degree from an accredited c...</td>\n",
       "      <td>â€¢Relevant experience in the construction ind...</td>\n",
       "    </tr>\n",
       "    <tr>\n",
       "      <th>HourlySalary</th>\n",
       "      <td>1661</td>\n",
       "      <td>43.62527401170266</td>\n",
       "      <td>15.141683499318422</td>\n",
       "      <td>9.55</td>\n",
       "      <td>124.41</td>\n",
       "    </tr>\n",
       "    <tr>\n",
       "      <th>Higher Degree</th>\n",
       "      <td>1661</td>\n",
       "      <td>None</td>\n",
       "      <td>None</td>\n",
       "      <td>Associate</td>\n",
       "      <td>not_specified</td>\n",
       "    </tr>\n",
       "  </tbody>\n",
       "</table>\n",
       "</div>"
      ],
      "text/plain": [
       "                               0                   1                   2  \\\n",
       "summary                    count                mean              stddev   \n",
       "Job ID                      1661   383594.9331727875   55442.69628987496   \n",
       "Agency                      1661                None                None   \n",
       "Job Category                1659                None                None   \n",
       "Salary Range From           1661  58836.501277965086  26392.114682422838   \n",
       "Salary Range To             1661   85387.93789482239   42041.27995414807   \n",
       "Salary Frequency            1661                None                None   \n",
       "Minimum Qual Requirements   1652                None                None   \n",
       "Posting Date                1518             32.0625   52.07558867150587   \n",
       "Preferred Skills            1530                None                None   \n",
       "HourlySalary                1661   43.62527401170266  15.141683499318422   \n",
       "Higher Degree               1661                None                None   \n",
       "\n",
       "                                                                           3  \\\n",
       "summary                                                                  min   \n",
       "Job ID                                                                 87990   \n",
       "Agency                                             ADMIN FOR CHILDREN'S SVCS   \n",
       "Job Category                                Administration & Human Resources   \n",
       "Salary Range From                                                        0.0   \n",
       "Salary Range To                                                        10.36   \n",
       "Salary Frequency                                                      Annual   \n",
       "Minimum Qual Requirements   AND TAKE AND PASS THE EXAM FOR THE CIVIL SERV...   \n",
       "Posting Date                 3. A satisfactory combination of education a...   \n",
       "Preferred Skills             2.\\tAn associate degree from an accredited c...   \n",
       "HourlySalary                                                            9.55   \n",
       "Higher Degree                                                      Associate   \n",
       "\n",
       "                                                                           4  \n",
       "summary                                                                  max  \n",
       "Job ID                                                                426238  \n",
       "Agency                                            TEACHERS RETIREMENT SYSTEM  \n",
       "Job Category                   Technology, Data & Innovation Social Services  \n",
       "Salary Range From                                                   218587.0  \n",
       "Salary Range To                                                     234402.0  \n",
       "Salary Frequency                                                      Hourly  \n",
       "Minimum Qual Requirements  â€¢ Masterâ€™s degree in business administrati...  \n",
       "Posting Date               â€¢Hands-on experience in developing large Int...  \n",
       "Preferred Skills           â€¢Relevant experience in the construction ind...  \n",
       "HourlySalary                                                          124.41  \n",
       "Higher Degree                                                  not_specified  "
      ]
     },
     "execution_count": 55,
     "metadata": {},
     "output_type": "execute_result"
    }
   ],
   "source": [
    "df_salary_degree.describe().toPandas().transpose()"
   ]
  },
  {
   "cell_type": "markdown",
   "metadata": {},
   "source": [
    "<a id='job_category'></a>\n",
    "\n",
    "\n",
    "# Job Category"
   ]
  },
  {
   "cell_type": "markdown",
   "metadata": {},
   "source": [
    "- there are 2 missing Job Catergory's\n",
    "\n",
    "For these I will set to \"Not Specified\""
   ]
  },
  {
   "cell_type": "code",
   "execution_count": 56,
   "metadata": {},
   "outputs": [],
   "source": [
    "from pyspark.sql.functions import col,regexp_extract"
   ]
  },
  {
   "cell_type": "code",
   "execution_count": 57,
   "metadata": {},
   "outputs": [
    {
     "data": {
      "text/plain": [
       "131"
      ]
     },
     "execution_count": 57,
     "metadata": {},
     "output_type": "execute_result"
    }
   ],
   "source": [
    "df_salary_degree.select('Job Category').distinct().count()"
   ]
  },
  {
   "cell_type": "code",
   "execution_count": 58,
   "metadata": {},
   "outputs": [
    {
     "data": {
      "text/plain": [
       "2"
      ]
     },
     "execution_count": 58,
     "metadata": {},
     "output_type": "execute_result"
    }
   ],
   "source": [
    "df_salary_degree.where(col('Job Category').isNull()).count()"
   ]
  },
  {
   "cell_type": "code",
   "execution_count": 59,
   "metadata": {},
   "outputs": [
    {
     "name": "stdout",
     "output_type": "stream",
     "text": [
      "+------+--------------------+------------+-----------------+---------------+----------------+-------------------------+--------------------+--------------------+------------+-------------+\n",
      "|Job ID|              Agency|Job Category|Salary Range From|Salary Range To|Salary Frequency|Minimum Qual Requirements|        Posting Date|    Preferred Skills|HourlySalary|Higher Degree|\n",
      "+------+--------------------+------------+-----------------+---------------+----------------+-------------------------+--------------------+--------------------+------------+-------------+\n",
      "| 97899|DEPARTMENT OF BUS...|        null|          60740.0|       162014.0|          Annual|     \"\"\"1. A baccalaur...|                null| of supervisory o...|       63.39|       Degree|\n",
      "| 87990|DEPARTMENT OF BUS...|        null|          42405.0|        65485.0|          Annual|     \"\"\"1.\tA baccalaur...|New York City res...|\" all candidates ...|        30.7|       Degree|\n",
      "+------+--------------------+------------+-----------------+---------------+----------------+-------------------------+--------------------+--------------------+------------+-------------+\n",
      "\n"
     ]
    }
   ],
   "source": [
    "df_salary_degree.where(col('Job Category').isNull()).show()"
   ]
  },
  {
   "cell_type": "code",
   "execution_count": 60,
   "metadata": {},
   "outputs": [],
   "source": [
    "from pyspark.sql.functions import when\n"
   ]
  },
  {
   "cell_type": "code",
   "execution_count": 61,
   "metadata": {},
   "outputs": [],
   "source": [
    "df_salary_degree_JC = df_salary_degree.\\\n",
    "                        withColumn('Job Category', \n",
    "                                   when(\n",
    "                                       col('Job Category').isNull(),\"Not Specified\").\\\n",
    "                                   otherwise(col('Job Category')))\n"
   ]
  },
  {
   "cell_type": "markdown",
   "metadata": {},
   "source": [
    "rows with Job ID in (87990,97899) had NULL 'Job Category' before the update\n",
    "check values now:"
   ]
  },
  {
   "cell_type": "code",
   "execution_count": 62,
   "metadata": {},
   "outputs": [
    {
     "data": {
      "text/plain": [
       "0"
      ]
     },
     "execution_count": 62,
     "metadata": {},
     "output_type": "execute_result"
    }
   ],
   "source": [
    "df_salary_degree_JC.where(col('Job Category').isNull()).count()"
   ]
  },
  {
   "cell_type": "code",
   "execution_count": 63,
   "metadata": {},
   "outputs": [
    {
     "name": "stdout",
     "output_type": "stream",
     "text": [
      "+-------------+\n",
      "| Job Category|\n",
      "+-------------+\n",
      "|Not Specified|\n",
      "+-------------+\n",
      "\n"
     ]
    }
   ],
   "source": [
    "df_salary_degree_JC.filter(col('Job ID') == 87990).select('Job Category').show()"
   ]
  },
  {
   "cell_type": "code",
   "execution_count": 64,
   "metadata": {},
   "outputs": [
    {
     "name": "stdout",
     "output_type": "stream",
     "text": [
      "+-------------+\n",
      "| Job Category|\n",
      "+-------------+\n",
      "|Not Specified|\n",
      "+-------------+\n",
      "\n"
     ]
    }
   ],
   "source": [
    "df_salary_degree_JC.filter(col('Job ID') == 97899).select('Job Category').show()"
   ]
  },
  {
   "cell_type": "code",
   "execution_count": 65,
   "metadata": {},
   "outputs": [
    {
     "data": {
      "text/plain": [
       "2"
      ]
     },
     "execution_count": 65,
     "metadata": {},
     "output_type": "execute_result"
    }
   ],
   "source": [
    "df_salary_degree_JC.filter(col('Job Category') == 'Not Specified').count()"
   ]
  },
  {
   "cell_type": "code",
   "execution_count": 66,
   "metadata": {},
   "outputs": [
    {
     "data": {
      "text/plain": [
       "131"
      ]
     },
     "execution_count": 66,
     "metadata": {},
     "output_type": "execute_result"
    }
   ],
   "source": [
    "df_salary_degree_JC.select('Job Category').distinct().count()"
   ]
  },
  {
   "cell_type": "code",
   "execution_count": 67,
   "metadata": {},
   "outputs": [
    {
     "data": {
      "text/html": [
       "<div>\n",
       "<style scoped>\n",
       "    .dataframe tbody tr th:only-of-type {\n",
       "        vertical-align: middle;\n",
       "    }\n",
       "\n",
       "    .dataframe tbody tr th {\n",
       "        vertical-align: top;\n",
       "    }\n",
       "\n",
       "    .dataframe thead th {\n",
       "        text-align: right;\n",
       "    }\n",
       "</style>\n",
       "<table border=\"1\" class=\"dataframe\">\n",
       "  <thead>\n",
       "    <tr style=\"text-align: right;\">\n",
       "      <th></th>\n",
       "      <th>0</th>\n",
       "      <th>1</th>\n",
       "      <th>2</th>\n",
       "      <th>3</th>\n",
       "      <th>4</th>\n",
       "    </tr>\n",
       "  </thead>\n",
       "  <tbody>\n",
       "    <tr>\n",
       "      <th>summary</th>\n",
       "      <td>count</td>\n",
       "      <td>mean</td>\n",
       "      <td>stddev</td>\n",
       "      <td>min</td>\n",
       "      <td>max</td>\n",
       "    </tr>\n",
       "    <tr>\n",
       "      <th>Job ID</th>\n",
       "      <td>1661</td>\n",
       "      <td>383594.9331727875</td>\n",
       "      <td>55442.69628987496</td>\n",
       "      <td>87990</td>\n",
       "      <td>426238</td>\n",
       "    </tr>\n",
       "    <tr>\n",
       "      <th>Agency</th>\n",
       "      <td>1661</td>\n",
       "      <td>None</td>\n",
       "      <td>None</td>\n",
       "      <td>ADMIN FOR CHILDREN'S SVCS</td>\n",
       "      <td>TEACHERS RETIREMENT SYSTEM</td>\n",
       "    </tr>\n",
       "    <tr>\n",
       "      <th>Job Category</th>\n",
       "      <td>1661</td>\n",
       "      <td>None</td>\n",
       "      <td>None</td>\n",
       "      <td>Administration &amp; Human Resources</td>\n",
       "      <td>Technology, Data &amp; Innovation Social Services</td>\n",
       "    </tr>\n",
       "    <tr>\n",
       "      <th>Salary Range From</th>\n",
       "      <td>1661</td>\n",
       "      <td>58836.501277965086</td>\n",
       "      <td>26392.114682422838</td>\n",
       "      <td>0.0</td>\n",
       "      <td>218587.0</td>\n",
       "    </tr>\n",
       "    <tr>\n",
       "      <th>Salary Range To</th>\n",
       "      <td>1661</td>\n",
       "      <td>85387.93789482239</td>\n",
       "      <td>42041.27995414807</td>\n",
       "      <td>10.36</td>\n",
       "      <td>234402.0</td>\n",
       "    </tr>\n",
       "    <tr>\n",
       "      <th>Salary Frequency</th>\n",
       "      <td>1661</td>\n",
       "      <td>None</td>\n",
       "      <td>None</td>\n",
       "      <td>Annual</td>\n",
       "      <td>Hourly</td>\n",
       "    </tr>\n",
       "    <tr>\n",
       "      <th>Minimum Qual Requirements</th>\n",
       "      <td>1652</td>\n",
       "      <td>None</td>\n",
       "      <td>None</td>\n",
       "      <td>AND TAKE AND PASS THE EXAM FOR THE CIVIL SERV...</td>\n",
       "      <td>â€¢ Masterâ€™s degree in business administrati...</td>\n",
       "    </tr>\n",
       "    <tr>\n",
       "      <th>Posting Date</th>\n",
       "      <td>1518</td>\n",
       "      <td>32.0625</td>\n",
       "      <td>52.07558867150587</td>\n",
       "      <td>3. A satisfactory combination of education a...</td>\n",
       "      <td>â€¢Hands-on experience in developing large Int...</td>\n",
       "    </tr>\n",
       "    <tr>\n",
       "      <th>Preferred Skills</th>\n",
       "      <td>1530</td>\n",
       "      <td>None</td>\n",
       "      <td>None</td>\n",
       "      <td>2.\\tAn associate degree from an accredited c...</td>\n",
       "      <td>â€¢Relevant experience in the construction ind...</td>\n",
       "    </tr>\n",
       "    <tr>\n",
       "      <th>HourlySalary</th>\n",
       "      <td>1661</td>\n",
       "      <td>43.62527401170266</td>\n",
       "      <td>15.141683499318422</td>\n",
       "      <td>9.55</td>\n",
       "      <td>124.41</td>\n",
       "    </tr>\n",
       "    <tr>\n",
       "      <th>Higher Degree</th>\n",
       "      <td>1661</td>\n",
       "      <td>None</td>\n",
       "      <td>None</td>\n",
       "      <td>Associate</td>\n",
       "      <td>not_specified</td>\n",
       "    </tr>\n",
       "  </tbody>\n",
       "</table>\n",
       "</div>"
      ],
      "text/plain": [
       "                               0                   1                   2  \\\n",
       "summary                    count                mean              stddev   \n",
       "Job ID                      1661   383594.9331727875   55442.69628987496   \n",
       "Agency                      1661                None                None   \n",
       "Job Category                1661                None                None   \n",
       "Salary Range From           1661  58836.501277965086  26392.114682422838   \n",
       "Salary Range To             1661   85387.93789482239   42041.27995414807   \n",
       "Salary Frequency            1661                None                None   \n",
       "Minimum Qual Requirements   1652                None                None   \n",
       "Posting Date                1518             32.0625   52.07558867150587   \n",
       "Preferred Skills            1530                None                None   \n",
       "HourlySalary                1661   43.62527401170266  15.141683499318422   \n",
       "Higher Degree               1661                None                None   \n",
       "\n",
       "                                                                           3  \\\n",
       "summary                                                                  min   \n",
       "Job ID                                                                 87990   \n",
       "Agency                                             ADMIN FOR CHILDREN'S SVCS   \n",
       "Job Category                                Administration & Human Resources   \n",
       "Salary Range From                                                        0.0   \n",
       "Salary Range To                                                        10.36   \n",
       "Salary Frequency                                                      Annual   \n",
       "Minimum Qual Requirements   AND TAKE AND PASS THE EXAM FOR THE CIVIL SERV...   \n",
       "Posting Date                 3. A satisfactory combination of education a...   \n",
       "Preferred Skills             2.\\tAn associate degree from an accredited c...   \n",
       "HourlySalary                                                            9.55   \n",
       "Higher Degree                                                      Associate   \n",
       "\n",
       "                                                                           4  \n",
       "summary                                                                  max  \n",
       "Job ID                                                                426238  \n",
       "Agency                                            TEACHERS RETIREMENT SYSTEM  \n",
       "Job Category                   Technology, Data & Innovation Social Services  \n",
       "Salary Range From                                                   218587.0  \n",
       "Salary Range To                                                     234402.0  \n",
       "Salary Frequency                                                      Hourly  \n",
       "Minimum Qual Requirements  â€¢ Masterâ€™s degree in business administrati...  \n",
       "Posting Date               â€¢Hands-on experience in developing large Int...  \n",
       "Preferred Skills           â€¢Relevant experience in the construction ind...  \n",
       "HourlySalary                                                          124.41  \n",
       "Higher Degree                                                  not_specified  "
      ]
     },
     "execution_count": 67,
     "metadata": {},
     "output_type": "execute_result"
    }
   ],
   "source": [
    "df_salary_degree_JC.describe().toPandas().transpose()"
   ]
  },
  {
   "cell_type": "markdown",
   "metadata": {},
   "source": [
    "# Posting Date\n",
    "\n",
    "See my analysis regarding [posting data](data_analysis.ipynb#posting_date_analysis_summary)"
   ]
  },
  {
   "cell_type": "code",
   "execution_count": 68,
   "metadata": {},
   "outputs": [],
   "source": [
    "from pyspark.sql.functions import col,regexp_extract,to_date,when"
   ]
  },
  {
   "cell_type": "code",
   "execution_count": 69,
   "metadata": {},
   "outputs": [
    {
     "name": "stdout",
     "output_type": "stream",
     "text": [
      "+----------------------------------------------------------------------------------------------------------------------------------------------------------------------------------------------------------------------------------------------------------------------------------------------------------------------------------------------------------------------------------------------------------------+\n",
      "|Posting Date                                                                                                                                                                                                                                                                                                                                                                                                    |\n",
      "+----------------------------------------------------------------------------------------------------------------------------------------------------------------------------------------------------------------------------------------------------------------------------------------------------------------------------------------------------------------------------------------------------------------+\n",
      "|New York City residency is generally required within 90 days of appointment. However, City Employees in certain titles who have worked for the City for 2 continuous years may also be eligible to reside in Nassau, Suffolk, Putnam, Westchester, Rockland, or Orange County. To determine if the residency requirement applies to you, please discuss with the agency representative at the time of interview.|\n",
      "|2017-11-01T00:00:00.000                                                                                                                                                                                                                                                                                                                                                                                         |\n",
      "|2018-03-27T00:00:00.000                                                                                                                                                                                                                                                                                                                                                                                         |\n",
      "| systems analysis and design                                                                                                                                                                                                                                                                                                                                                                                    |\n",
      "|null                                                                                                                                                                                                                                                                                                                                                                                                            |\n",
      "|2019-09-30T00:00:00.000                                                                                                                                                                                                                                                                                                                                                                                         |\n",
      "|2019-08-28T00:00:00.000                                                                                                                                                                                                                                                                                                                                                                                         |\n",
      "| industrial psychology                                                                                                                                                                                                                                                                                                                                                                                          |\n",
      "| integration                                                                                                                                                                                                                                                                                                                                                                                                    |\n",
      "|2017-01-09T00:00:00.000                                                                                                                                                                                                                                                                                                                                                                                         |\n",
      "+----------------------------------------------------------------------------------------------------------------------------------------------------------------------------------------------------------------------------------------------------------------------------------------------------------------------------------------------------------------------------------------------------------------+\n",
      "only showing top 10 rows\n",
      "\n"
     ]
    }
   ],
   "source": [
    "df_salary_degree_JC.select('Posting Date').show(10,truncate=False)"
   ]
  },
  {
   "cell_type": "markdown",
   "metadata": {},
   "source": [
    "- removed the null by setting a crazy date that I'll exclude when running the reports"
   ]
  },
  {
   "cell_type": "code",
   "execution_count": 70,
   "metadata": {},
   "outputs": [],
   "source": [
    "df_pre_final1 = df_salary_degree_JC.\\\n",
    "            withColumn(\"PostingDate_regexp\",\n",
    "                      regexp_extract(\n",
    "                          'Posting Date',\n",
    "                          r'.*?(\\d{4}-\\d{2}-\\d{2})T.*?',\n",
    "                          1\n",
    "                      )).\\\n",
    "            withColumn(\"PostingDateYYYYMMDD\",\n",
    "                       when(col('PostingDate_regexp') == \"\",\n",
    "                            '1900-01-01').\\\n",
    "                       when(col('PostingDate_regexp').isNull(),\n",
    "                            '1900-01-01').\\\n",
    "                       otherwise(\n",
    "                           col('PostingDate_regexp')\n",
    "                       )\n",
    "                      ).\\\n",
    "            withColumn(\"PostingDateAdj\",\n",
    "                       to_date(col(\"PostingDateYYYYMMDD\"),\"yyyy-MM-dd\"))"
   ]
  },
  {
   "cell_type": "code",
   "execution_count": 71,
   "metadata": {},
   "outputs": [
    {
     "name": "stdout",
     "output_type": "stream",
     "text": [
      "root\n",
      " |-- Job ID: integer (nullable = true)\n",
      " |-- Agency: string (nullable = true)\n",
      " |-- Job Category: string (nullable = true)\n",
      " |-- Salary Range From: double (nullable = true)\n",
      " |-- Salary Range To: double (nullable = true)\n",
      " |-- Salary Frequency: string (nullable = true)\n",
      " |-- Minimum Qual Requirements: string (nullable = true)\n",
      " |-- Posting Date: string (nullable = true)\n",
      " |-- Preferred Skills: string (nullable = true)\n",
      " |-- HourlySalary: float (nullable = true)\n",
      " |-- Higher Degree: string (nullable = true)\n",
      " |-- PostingDate_regexp: string (nullable = true)\n",
      " |-- PostingDateYYYYMMDD: string (nullable = true)\n",
      " |-- PostingDateAdj: date (nullable = true)\n",
      "\n"
     ]
    }
   ],
   "source": [
    "df_pre_final1.printSchema()"
   ]
  },
  {
   "cell_type": "code",
   "execution_count": 72,
   "metadata": {},
   "outputs": [],
   "source": [
    "df_salary_degree_JC = None"
   ]
  },
  {
   "cell_type": "code",
   "execution_count": 73,
   "metadata": {},
   "outputs": [
    {
     "name": "stdout",
     "output_type": "stream",
     "text": [
      "+--------------------+------------------+-------------------+--------------+\n",
      "|        Posting Date|PostingDate_regexp|PostingDateYYYYMMDD|PostingDateAdj|\n",
      "+--------------------+------------------+-------------------+--------------+\n",
      "|New York City res...|                  |         1900-01-01|    1900-01-01|\n",
      "|2017-11-01T00:00:...|        2017-11-01|         2017-11-01|    2017-11-01|\n",
      "|2018-03-27T00:00:...|        2018-03-27|         2018-03-27|    2018-03-27|\n",
      "| systems analysis...|                  |         1900-01-01|    1900-01-01|\n",
      "|                null|              null|         1900-01-01|    1900-01-01|\n",
      "|2019-09-30T00:00:...|        2019-09-30|         2019-09-30|    2019-09-30|\n",
      "|2019-08-28T00:00:...|        2019-08-28|         2019-08-28|    2019-08-28|\n",
      "| industrial psych...|                  |         1900-01-01|    1900-01-01|\n",
      "|         integration|                  |         1900-01-01|    1900-01-01|\n",
      "|2017-01-09T00:00:...|        2017-01-09|         2017-01-09|    2017-01-09|\n",
      "|2018-09-19T00:00:...|        2018-09-19|         2018-09-19|    2018-09-19|\n",
      "|2019-03-02T00:00:...|        2019-03-02|         2019-03-02|    2019-03-02|\n",
      "|                null|              null|         1900-01-01|    1900-01-01|\n",
      "|Appointments are ...|                  |         1900-01-01|    1900-01-01|\n",
      "|2019-07-31T00:00:...|        2019-07-31|         2019-07-31|    2019-07-31|\n",
      "| executive experi...|                  |         1900-01-01|    1900-01-01|\n",
      "| business or publ...|                  |         1900-01-01|    1900-01-01|\n",
      "|2019-12-06T00:00:...|        2019-12-06|         2019-12-06|    2019-12-06|\n",
      "|New York City res...|                  |         1900-01-01|    1900-01-01|\n",
      "| or analytical or...|                  |         1900-01-01|    1900-01-01|\n",
      "+--------------------+------------------+-------------------+--------------+\n",
      "only showing top 20 rows\n",
      "\n"
     ]
    }
   ],
   "source": [
    "df_pre_final1.select('Posting Date','PostingDate_regexp',\"PostingDateYYYYMMDD\",\"PostingDateAdj\").show()"
   ]
  },
  {
   "cell_type": "code",
   "execution_count": 81,
   "metadata": {},
   "outputs": [],
   "source": [
    "df_final = df_pre_final1.\\\n",
    "                    drop(col('Salary Range From')).\\\n",
    "                    drop(col('Salary Range To')).\\\n",
    "                    drop(col('Salary Frequency')).\\\n",
    "                    drop(col('Minimum Qual Requirements')).\\\n",
    "                    drop(col('Posting Date')).\\\n",
    "                    drop(col('PostingDate_regexp')).\\\n",
    "                    drop(col('PostingDateYYYYMMDD')).\\\n",
    "                    drop(col('Posting Date')).\\\n",
    "                    withColumnRenamed('Job ID','JobID').\\\n",
    "                    withColumnRenamed('Job Category','JobCategory').\\\n",
    "                    withColumnRenamed('Higher Degree','HigherDegree').\\\n",
    "                    withColumnRenamed('Preferred Skills','PreferredSkills')"
   ]
  },
  {
   "cell_type": "code",
   "execution_count": 82,
   "metadata": {},
   "outputs": [
    {
     "name": "stdout",
     "output_type": "stream",
     "text": [
      "root\n",
      " |-- JobID: integer (nullable = true)\n",
      " |-- Agency: string (nullable = true)\n",
      " |-- JobCategory: string (nullable = true)\n",
      " |-- PreferredSkills: string (nullable = true)\n",
      " |-- HourlySalary: float (nullable = true)\n",
      " |-- HigherDegree: string (nullable = true)\n",
      " |-- PostingDateAdj: date (nullable = true)\n",
      "\n"
     ]
    }
   ],
   "source": [
    "df_final.printSchema()"
   ]
  },
  {
   "cell_type": "code",
   "execution_count": 83,
   "metadata": {},
   "outputs": [
    {
     "name": "stdout",
     "output_type": "stream",
     "text": [
      "+-------+-----------------+--------------------+--------------------+--------------------+------------------+-------------+\n",
      "|summary|            JobID|              Agency|         JobCategory|     PreferredSkills|      HourlySalary| HigherDegree|\n",
      "+-------+-----------------+--------------------+--------------------+--------------------+------------------+-------------+\n",
      "|  count|             1661|                1661|                1661|                1530|              1661|         1661|\n",
      "|   mean|383594.9331727875|                null|                null|                null| 43.62527401170266|         null|\n",
      "| stddev|55442.69628987496|                null|                null|                null|15.141683499318422|         null|\n",
      "|    min|            87990|ADMIN FOR CHILDRE...|Administration & ...|  2.\tAn associate...|              9.55|    Associate|\n",
      "|    max|           426238|TEACHERS RETIREME...|Technology, Data ...|â€¢Relevant exper...|            124.41|not_specified|\n",
      "+-------+-----------------+--------------------+--------------------+--------------------+------------------+-------------+\n",
      "\n"
     ]
    }
   ],
   "source": [
    "df_final.describe().show()"
   ]
  },
  {
   "cell_type": "markdown",
   "metadata": {},
   "source": [
    "Where has PostingDateAdj gone from describe????? \n",
    "\n",
    "Its in printSchema but not describe.\n",
    "\n"
   ]
  },
  {
   "cell_type": "code",
   "execution_count": 84,
   "metadata": {},
   "outputs": [
    {
     "name": "stdout",
     "output_type": "stream",
     "text": [
      "+--------------+\n",
      "|PostingDateAdj|\n",
      "+--------------+\n",
      "|    1900-01-01|\n",
      "|    2017-11-01|\n",
      "|    2018-03-27|\n",
      "|    1900-01-01|\n",
      "|    1900-01-01|\n",
      "|    2019-09-30|\n",
      "|    2019-08-28|\n",
      "|    1900-01-01|\n",
      "|    1900-01-01|\n",
      "|    2017-01-09|\n",
      "|    2018-09-19|\n",
      "|    2019-03-02|\n",
      "|    1900-01-01|\n",
      "|    1900-01-01|\n",
      "|    2019-07-31|\n",
      "|    1900-01-01|\n",
      "|    1900-01-01|\n",
      "|    2019-12-06|\n",
      "|    1900-01-01|\n",
      "|    1900-01-01|\n",
      "+--------------+\n",
      "only showing top 20 rows\n",
      "\n"
     ]
    }
   ],
   "source": [
    "df_final.select(\"PostingDateAdj\").show()"
   ]
  },
  {
   "cell_type": "code",
   "execution_count": 85,
   "metadata": {},
   "outputs": [
    {
     "name": "stdout",
     "output_type": "stream",
     "text": [
      "root\n",
      " |-- JobID: integer (nullable = true)\n",
      " |-- Agency: string (nullable = true)\n",
      " |-- JobCategory: string (nullable = true)\n",
      " |-- PreferredSkills: string (nullable = true)\n",
      " |-- HourlySalary: float (nullable = true)\n",
      " |-- HigherDegree: string (nullable = true)\n",
      " |-- PostingDateAdj: date (nullable = true)\n",
      "\n"
     ]
    }
   ],
   "source": [
    "df_final.printSchema()"
   ]
  },
  {
   "cell_type": "code",
   "execution_count": 86,
   "metadata": {},
   "outputs": [
    {
     "name": "stdout",
     "output_type": "stream",
     "text": [
      "dedupd_df.csv  invoices.csv  nyc-jobs.csv\r\n"
     ]
    }
   ],
   "source": [
    "!ls /dataset/"
   ]
  },
  {
   "cell_type": "code",
   "execution_count": 87,
   "metadata": {},
   "outputs": [],
   "source": [
    "df_final.write.parquet('/dataset/df_final',mode='overwrite')"
   ]
  },
  {
   "cell_type": "code",
   "execution_count": 88,
   "metadata": {},
   "outputs": [
    {
     "name": "stdout",
     "output_type": "stream",
     "text": [
      "_SUCCESS\r\n",
      "part-00000-5bc0b4f6-8f79-431b-975d-03fb6ab05eff-c000.snappy.parquet\r\n",
      "part-00001-5bc0b4f6-8f79-431b-975d-03fb6ab05eff-c000.snappy.parquet\r\n",
      "part-00002-5bc0b4f6-8f79-431b-975d-03fb6ab05eff-c000.snappy.parquet\r\n"
     ]
    }
   ],
   "source": [
    "!ls /dataset/df_final"
   ]
  },
  {
   "cell_type": "markdown",
   "metadata": {},
   "source": [
    "### test that we can read in the saved DF"
   ]
  },
  {
   "cell_type": "code",
   "execution_count": 89,
   "metadata": {},
   "outputs": [],
   "source": [
    "test_df = spark.read.parquet('/dataset/df_final')"
   ]
  },
  {
   "cell_type": "code",
   "execution_count": 90,
   "metadata": {},
   "outputs": [
    {
     "name": "stdout",
     "output_type": "stream",
     "text": [
      "root\n",
      " |-- JobID: integer (nullable = true)\n",
      " |-- Agency: string (nullable = true)\n",
      " |-- JobCategory: string (nullable = true)\n",
      " |-- PreferredSkills: string (nullable = true)\n",
      " |-- HourlySalary: float (nullable = true)\n",
      " |-- HigherDegree: string (nullable = true)\n",
      " |-- PostingDateAdj: date (nullable = true)\n",
      "\n"
     ]
    }
   ],
   "source": [
    "test_df.printSchema()"
   ]
  },
  {
   "cell_type": "code",
   "execution_count": null,
   "metadata": {},
   "outputs": [],
   "source": []
  },
  {
   "cell_type": "code",
   "execution_count": null,
   "metadata": {},
   "outputs": [],
   "source": []
  }
 ],
 "metadata": {
  "kernelspec": {
   "display_name": "Python 3",
   "language": "python",
   "name": "python3"
  },
  "language_info": {
   "codemirror_mode": {
    "name": "ipython",
    "version": 3
   },
   "file_extension": ".py",
   "mimetype": "text/x-python",
   "name": "python",
   "nbconvert_exporter": "python",
   "pygments_lexer": "ipython3",
   "version": "3.7.3"
  }
 },
 "nbformat": 4,
 "nbformat_minor": 4
}
