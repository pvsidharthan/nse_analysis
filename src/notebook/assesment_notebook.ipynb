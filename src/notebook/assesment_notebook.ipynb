{
 "cells": [
  {
   "cell_type": "markdown",
   "metadata": {},
   "source": [
    "# The Assessment\n"
   ]
  },
  {
   "cell_type": "markdown",
   "metadata": {},
   "source": [
    "### Data Exploration\n",
    "\n",
    "- Provide a detailed analysis of source data: Column values (eg: Numerical vs character), categorical columns, etc. \n",
    "\n",
    "Follow link to see my detailed analysis:\n",
    "\n",
    "\n",
    "[data exploration](./data_exploration.ipynb)\n",
    "\n",
    "\n",
    "- List of KPIs to be resolved:\n",
    "  - What's the number of jobs posting per category (Top 10)? \n",
    "  - What's the salary distribution per job category? \n",
    "  - Is there any correlation between the higher degree and the salary?\n",
    "  - What's the job posting having the highest salary per agency? \n",
    "  - What's the job postings average salary per agency for the last 2 years? \n",
    "  - What are the highest paid skills in the US market? \n",
    "\n",
    "### Data Processing\n",
    " \n",
    "- Create functions to process your dataset (Cleaning, column pre-processing, data wrangling, transformation etc) \n",
    "- Apply atleast 3 feature engineering techniques \n",
    "- Features removal based on the exploration/ profiling.\n",
    "\n",
    "    - see [data exploration](./data_exploration.ipynb)\n",
    "    \n",
    "- Store your processed data into a target file\n",
    "\n",
    "## Expectations\n",
    "\n",
    "- Above mentioned challenge\n",
    "- Test cases : you need to create/run your own test cases for every functions you build.\n",
    "- Code Comments \n",
    "- If any deployment to be done, please document the proposals of the deployment steps in [MyDocument.md](https://github.com/projectforyou/project1/blob/main/MyDocument.md)\n",
    "- If you had to trigger your code, please suggest your approach in [MyDocument.md](https://github.com/projectforyou/project1/blob/main/MyDocument.md)\n"
   ]
  },
  {
   "cell_type": "code",
   "execution_count": null,
   "metadata": {},
   "outputs": [],
   "source": []
  },
  {
   "cell_type": "code",
   "execution_count": null,
   "metadata": {},
   "outputs": [],
   "source": []
  },
  {
   "cell_type": "code",
   "execution_count": null,
   "metadata": {},
   "outputs": [],
   "source": []
  },
  {
   "cell_type": "code",
   "execution_count": null,
   "metadata": {},
   "outputs": [],
   "source": []
  },
  {
   "cell_type": "code",
   "execution_count": null,
   "metadata": {},
   "outputs": [],
   "source": []
  },
  {
   "cell_type": "code",
   "execution_count": null,
   "metadata": {},
   "outputs": [],
   "source": []
  },
  {
   "cell_type": "code",
   "execution_count": null,
   "metadata": {},
   "outputs": [],
   "source": []
  },
  {
   "cell_type": "code",
   "execution_count": null,
   "metadata": {},
   "outputs": [],
   "source": []
  }
 ],
 "metadata": {
  "kernelspec": {
   "display_name": "Python 3",
   "language": "python",
   "name": "python3"
  },
  "language_info": {
   "codemirror_mode": {
    "name": "ipython",
    "version": 3
   },
   "file_extension": ".py",
   "mimetype": "text/x-python",
   "name": "python",
   "nbconvert_exporter": "python",
   "pygments_lexer": "ipython3",
   "version": "3.7.3"
  }
 },
 "nbformat": 4,
 "nbformat_minor": 4
}
