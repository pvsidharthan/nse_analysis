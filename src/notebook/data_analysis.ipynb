{
 "cells": [
  {
   "cell_type": "code",
   "execution_count": 1,
   "metadata": {},
   "outputs": [],
   "source": [
    "import findspark\n",
    "findspark.init()"
   ]
  },
  {
   "cell_type": "code",
   "execution_count": 2,
   "metadata": {},
   "outputs": [],
   "source": [
    "from pyspark.sql import SparkSession\n",
    "\n",
    "spark = SparkSession.builder. \\\n",
    "    appName(\"pyspark-1\"). \\\n",
    "    getOrCreate()"
   ]
  },
  {
   "cell_type": "markdown",
   "metadata": {},
   "source": [
    "### Read data"
   ]
  },
  {
   "cell_type": "code",
   "execution_count": 3,
   "metadata": {},
   "outputs": [
    {
     "name": "stdout",
     "output_type": "stream",
     "text": [
      "root\n",
      " |-- Job ID: string (nullable = true)\n",
      " |-- Agency: string (nullable = true)\n",
      " |-- Posting Type: string (nullable = true)\n",
      " |-- # Of Positions: string (nullable = true)\n",
      " |-- Business Title: string (nullable = true)\n",
      " |-- Civil Service Title: string (nullable = true)\n",
      " |-- Title Code No: string (nullable = true)\n",
      " |-- Level: string (nullable = true)\n",
      " |-- Job Category: string (nullable = true)\n",
      " |-- Full-Time/Part-Time indicator: string (nullable = true)\n",
      " |-- Salary Range From: string (nullable = true)\n",
      " |-- Salary Range To: string (nullable = true)\n",
      " |-- Salary Frequency: string (nullable = true)\n",
      " |-- Work Location: string (nullable = true)\n",
      " |-- Division/Work Unit: string (nullable = true)\n",
      " |-- Job Description: string (nullable = true)\n",
      " |-- Minimum Qual Requirements: string (nullable = true)\n",
      " |-- Preferred Skills: string (nullable = true)\n",
      " |-- Additional Information: string (nullable = true)\n",
      " |-- To Apply: string (nullable = true)\n",
      " |-- Hours/Shift: string (nullable = true)\n",
      " |-- Work Location 1: string (nullable = true)\n",
      " |-- Recruitment Contact: string (nullable = true)\n",
      " |-- Residency Requirement: string (nullable = true)\n",
      " |-- Posting Date: string (nullable = true)\n",
      " |-- Post Until: string (nullable = true)\n",
      " |-- Posting Updated: string (nullable = true)\n",
      " |-- Process Date: string (nullable = true)\n",
      "\n"
     ]
    }
   ],
   "source": [
    "df = spark.read.csv(\"/dataset/nyc-jobs.csv\", header=True)\n",
    "df.printSchema()"
   ]
  },
  {
   "cell_type": "code",
   "execution_count": 4,
   "metadata": {},
   "outputs": [
    {
     "data": {
      "text/plain": [
       "2946"
      ]
     },
     "execution_count": 4,
     "metadata": {},
     "output_type": "execute_result"
    }
   ],
   "source": [
    "df_count = df.count()\n",
    "df_count"
   ]
  },
  {
   "cell_type": "markdown",
   "metadata": {},
   "source": [
    "### Sample function"
   ]
  },
  {
   "cell_type": "code",
   "execution_count": 5,
   "metadata": {},
   "outputs": [],
   "source": [
    "import sys; \n",
    "sys.path.insert(0, '..')"
   ]
  },
  {
   "cell_type": "code",
   "execution_count": 6,
   "metadata": {},
   "outputs": [
    {
     "data": {
      "text/plain": [
       "['Annual', 'Daily', 'Hourly']"
      ]
     },
     "execution_count": 6,
     "metadata": {},
     "output_type": "execute_result"
    }
   ],
   "source": [
    "from utils.distinct_values import get_distinct_values\n",
    "get_distinct_values(df = df, column= 'Salary Frequency')"
   ]
  },
  {
   "cell_type": "markdown",
   "metadata": {},
   "source": [
    "### Test get_distinct_values"
   ]
  },
  {
   "cell_type": "code",
   "execution_count": 7,
   "metadata": {},
   "outputs": [],
   "source": [
    "sys.path.insert(0, '../tests')"
   ]
  },
  {
   "cell_type": "code",
   "execution_count": 8,
   "metadata": {},
   "outputs": [],
   "source": [
    "import test_distinct_values as T"
   ]
  },
  {
   "cell_type": "code",
   "execution_count": 9,
   "metadata": {},
   "outputs": [
    {
     "data": {
      "text/plain": [
       "True"
      ]
     },
     "execution_count": 9,
     "metadata": {},
     "output_type": "execute_result"
    }
   ],
   "source": [
    "T.loadTest()"
   ]
  },
  {
   "cell_type": "code",
   "execution_count": 10,
   "metadata": {},
   "outputs": [],
   "source": [
    "T.test_get_distinct_values()"
   ]
  },
  {
   "cell_type": "markdown",
   "metadata": {},
   "source": [
    "From the printSchema output we can see that the dtypes are all string.  Its possible to use inferSchema with read_cvs but for large data sets this can take a long time since the complete dataset needs to be scanned and for each column.\n",
    "\n",
    "Instead, we can create the schema and use that to re create df\n",
    "\n",
    "First, lets take a look at the data"
   ]
  },
  {
   "cell_type": "code",
   "execution_count": 11,
   "metadata": {},
   "outputs": [],
   "source": [
    "sys.path.insert(0, '../utils')"
   ]
  },
  {
   "cell_type": "code",
   "execution_count": 12,
   "metadata": {},
   "outputs": [],
   "source": [
    "import pre_processing_functions as PPF"
   ]
  },
  {
   "cell_type": "code",
   "execution_count": 13,
   "metadata": {},
   "outputs": [
    {
     "name": "stdout",
     "output_type": "stream",
     "text": [
      "Help on module pre_processing_functions:\n",
      "\n",
      "NAME\n",
      "    pre_processing_functions\n",
      "\n",
      "FUNCTIONS\n",
      "    get_counts_map(df: pyspark.sql.dataframe.DataFrame) -> dict\n",
      "        Return dict of DataFrame df's columns and their respective non-null counts. \n",
      "        \n",
      "        Can be used to determine whether there are nulls in a dataframe, i.e.:\n",
      "        If the count for each coumn != df.count() there are missing values\n",
      "        (count be a neat function to do this already, and will use that when/if\n",
      "        I find it, but for now this function is useful) \n",
      "        \n",
      "        Usage: \n",
      "        df = .....        \n",
      "        counts_map=get_missing_counts(df)\n",
      "        print(counts_map)\n",
      "        {  'Job ID': '2946',\n",
      "            'Agency': '2946',\n",
      "            'Posting Type': '2946',\n",
      "            '# Of Positions': '2946',\n",
      "            .\n",
      "            .\n",
      "        }\n",
      "        \n",
      "        :param df: input dataframe\n",
      "        :return: dict/map of column: <count>\n",
      "\n",
      "FILE\n",
      "    /utils/pre_processing_functions.py\n",
      "\n",
      "\n"
     ]
    }
   ],
   "source": [
    "help(PPF)"
   ]
  },
  {
   "cell_type": "code",
   "execution_count": 14,
   "metadata": {},
   "outputs": [
    {
     "data": {
      "text/plain": [
       "{'Job ID': 2946,\n",
       " 'Agency': 2946,\n",
       " 'Posting Type': 2946,\n",
       " '# Of Positions': 2946,\n",
       " 'Business Title': 2946,\n",
       " 'Civil Service Title': 2946,\n",
       " 'Title Code No': 2946,\n",
       " 'Level': 2946,\n",
       " 'Job Category': 2944,\n",
       " 'Full-Time/Part-Time indicator': 2751,\n",
       " 'Salary Range From': 2946,\n",
       " 'Salary Range To': 2946,\n",
       " 'Salary Frequency': 2946,\n",
       " 'Work Location': 2946,\n",
       " 'Division/Work Unit': 2946,\n",
       " 'Job Description': 2946,\n",
       " 'Minimum Qual Requirements': 2928,\n",
       " 'Preferred Skills': 2687,\n",
       " 'Additional Information': 2383,\n",
       " 'To Apply': 2766,\n",
       " 'Hours/Shift': 1884,\n",
       " 'Work Location 1': 1808,\n",
       " 'Recruitment Contact': 1183,\n",
       " 'Residency Requirement': 2268,\n",
       " 'Posting Date': 2429,\n",
       " 'Post Until': 1447,\n",
       " 'Posting Updated': 2438,\n",
       " 'Process Date': 2521}"
      ]
     },
     "execution_count": 14,
     "metadata": {},
     "output_type": "execute_result"
    }
   ],
   "source": [
    "counts_map = PPF.get_counts_map(df)\n",
    "counts_map"
   ]
  },
  {
   "cell_type": "code",
   "execution_count": 15,
   "metadata": {},
   "outputs": [
    {
     "data": {
      "text/plain": [
       "28"
      ]
     },
     "execution_count": 15,
     "metadata": {},
     "output_type": "execute_result"
    }
   ],
   "source": [
    "len(df.columns)\n"
   ]
  },
  {
   "cell_type": "code",
   "execution_count": 16,
   "metadata": {},
   "outputs": [
    {
     "name": "stdout",
     "output_type": "stream",
     "text": [
      "count() 2946\n"
     ]
    },
    {
     "data": {
      "text/plain": [
       "Recruitment Contact               1183\n",
       "Post Until                        1447\n",
       "Work Location 1                   1808\n",
       "Hours/Shift                       1884\n",
       "Residency Requirement             2268\n",
       "Additional Information            2383\n",
       "Posting Date                      2429\n",
       "Posting Updated                   2438\n",
       "Process Date                      2521\n",
       "Preferred Skills                  2687\n",
       "Full-Time/Part-Time indicator     2751\n",
       "To Apply                          2766\n",
       "Minimum Qual Requirements         2928\n",
       "Job Category                      2944\n",
       "Job Description                   2946\n",
       "Work Location                     2946\n",
       "Salary Frequency                  2946\n",
       "Salary Range To                   2946\n",
       "Salary Range From                 2946\n",
       "Level                             2946\n",
       "Title Code No                     2946\n",
       "Civil Service Title               2946\n",
       "Business Title                    2946\n",
       "# Of Positions                    2946\n",
       "Posting Type                      2946\n",
       "Agency                            2946\n",
       "Job ID                            2946\n",
       "Division/Work Unit                2946\n",
       "summary                          count\n",
       "Name: 0, dtype: object"
      ]
     },
     "execution_count": 16,
     "metadata": {},
     "output_type": "execute_result"
    }
   ],
   "source": [
    "desc = df.describe().toPandas().transpose()\n",
    "df_count=df.count()\n",
    "print(f\"count() {df_count}\")\n",
    "desc[0].sort_values()"
   ]
  },
  {
   "cell_type": "code",
   "execution_count": 17,
   "metadata": {},
   "outputs": [
    {
     "data": {
      "text/html": [
       "<div>\n",
       "<style scoped>\n",
       "    .dataframe tbody tr th:only-of-type {\n",
       "        vertical-align: middle;\n",
       "    }\n",
       "\n",
       "    .dataframe tbody tr th {\n",
       "        vertical-align: top;\n",
       "    }\n",
       "\n",
       "    .dataframe thead th {\n",
       "        text-align: right;\n",
       "    }\n",
       "</style>\n",
       "<table border=\"1\" class=\"dataframe\">\n",
       "  <thead>\n",
       "    <tr style=\"text-align: right;\">\n",
       "      <th></th>\n",
       "      <th>0</th>\n",
       "      <th>1</th>\n",
       "      <th>2</th>\n",
       "      <th>3</th>\n",
       "      <th>4</th>\n",
       "    </tr>\n",
       "  </thead>\n",
       "  <tbody>\n",
       "    <tr>\n",
       "      <th>summary</th>\n",
       "      <td>count</td>\n",
       "      <td>mean</td>\n",
       "      <td>stddev</td>\n",
       "      <td>min</td>\n",
       "      <td>max</td>\n",
       "    </tr>\n",
       "    <tr>\n",
       "      <th>Job ID</th>\n",
       "      <td>2946</td>\n",
       "      <td>384821.5631364562</td>\n",
       "      <td>53075.33897715407</td>\n",
       "      <td>132292</td>\n",
       "      <td>97899</td>\n",
       "    </tr>\n",
       "    <tr>\n",
       "      <th>Agency</th>\n",
       "      <td>2946</td>\n",
       "      <td>None</td>\n",
       "      <td>None</td>\n",
       "      <td>ADMIN FOR CHILDREN'S SVCS</td>\n",
       "      <td>TEACHERS RETIREMENT SYSTEM</td>\n",
       "    </tr>\n",
       "    <tr>\n",
       "      <th>Posting Type</th>\n",
       "      <td>2946</td>\n",
       "      <td>None</td>\n",
       "      <td>None</td>\n",
       "      <td>External</td>\n",
       "      <td>Internal</td>\n",
       "    </tr>\n",
       "    <tr>\n",
       "      <th># Of Positions</th>\n",
       "      <td>2946</td>\n",
       "      <td>2.4959266802443993</td>\n",
       "      <td>9.281312826466838</td>\n",
       "      <td>1</td>\n",
       "      <td>91</td>\n",
       "    </tr>\n",
       "  </tbody>\n",
       "</table>\n",
       "</div>"
      ],
      "text/plain": [
       "                    0                   1                  2  \\\n",
       "summary         count                mean             stddev   \n",
       "Job ID           2946   384821.5631364562  53075.33897715407   \n",
       "Agency           2946                None               None   \n",
       "Posting Type     2946                None               None   \n",
       "# Of Positions   2946  2.4959266802443993  9.281312826466838   \n",
       "\n",
       "                                        3                           4  \n",
       "summary                               min                         max  \n",
       "Job ID                             132292                       97899  \n",
       "Agency          ADMIN FOR CHILDREN'S SVCS  TEACHERS RETIREMENT SYSTEM  \n",
       "Posting Type                     External                    Internal  \n",
       "# Of Positions                          1                          91  "
      ]
     },
     "execution_count": 17,
     "metadata": {},
     "output_type": "execute_result"
    }
   ],
   "source": [
    "desc.head()"
   ]
  },
  {
   "cell_type": "code",
   "execution_count": 18,
   "metadata": {},
   "outputs": [
    {
     "data": {
      "text/plain": [
       "0     count\n",
       "1      mean\n",
       "2    stddev\n",
       "3       min\n",
       "4       max\n",
       "Name: summary, dtype: object"
      ]
     },
     "execution_count": 18,
     "metadata": {},
     "output_type": "execute_result"
    }
   ],
   "source": [
    "desc.loc[\"summary\"]"
   ]
  },
  {
   "cell_type": "code",
   "execution_count": 19,
   "metadata": {},
   "outputs": [],
   "source": [
    "desc, desc.columns = desc[1:], desc.loc[\"summary\"]"
   ]
  },
  {
   "cell_type": "code",
   "execution_count": 20,
   "metadata": {},
   "outputs": [
    {
     "data": {
      "text/html": [
       "<div>\n",
       "<style scoped>\n",
       "    .dataframe tbody tr th:only-of-type {\n",
       "        vertical-align: middle;\n",
       "    }\n",
       "\n",
       "    .dataframe tbody tr th {\n",
       "        vertical-align: top;\n",
       "    }\n",
       "\n",
       "    .dataframe thead th {\n",
       "        text-align: right;\n",
       "    }\n",
       "</style>\n",
       "<table border=\"1\" class=\"dataframe\">\n",
       "  <thead>\n",
       "    <tr style=\"text-align: right;\">\n",
       "      <th>summary</th>\n",
       "      <th>count</th>\n",
       "      <th>mean</th>\n",
       "      <th>stddev</th>\n",
       "      <th>min</th>\n",
       "      <th>max</th>\n",
       "    </tr>\n",
       "  </thead>\n",
       "  <tbody>\n",
       "    <tr>\n",
       "      <th>Job ID</th>\n",
       "      <td>2946</td>\n",
       "      <td>384821.5631364562</td>\n",
       "      <td>53075.33897715407</td>\n",
       "      <td>132292</td>\n",
       "      <td>97899</td>\n",
       "    </tr>\n",
       "    <tr>\n",
       "      <th>Agency</th>\n",
       "      <td>2946</td>\n",
       "      <td>None</td>\n",
       "      <td>None</td>\n",
       "      <td>ADMIN FOR CHILDREN'S SVCS</td>\n",
       "      <td>TEACHERS RETIREMENT SYSTEM</td>\n",
       "    </tr>\n",
       "    <tr>\n",
       "      <th>Posting Type</th>\n",
       "      <td>2946</td>\n",
       "      <td>None</td>\n",
       "      <td>None</td>\n",
       "      <td>External</td>\n",
       "      <td>Internal</td>\n",
       "    </tr>\n",
       "    <tr>\n",
       "      <th># Of Positions</th>\n",
       "      <td>2946</td>\n",
       "      <td>2.4959266802443993</td>\n",
       "      <td>9.281312826466838</td>\n",
       "      <td>1</td>\n",
       "      <td>91</td>\n",
       "    </tr>\n",
       "    <tr>\n",
       "      <th>Business Title</th>\n",
       "      <td>2946</td>\n",
       "      <td>None</td>\n",
       "      <td>None</td>\n",
       "      <td>.NET DEVELOPER</td>\n",
       "      <td>executive Vice President for Operations</td>\n",
       "    </tr>\n",
       "    <tr>\n",
       "      <th>Civil Service Title</th>\n",
       "      <td>2946</td>\n",
       "      <td>None</td>\n",
       "      <td>None</td>\n",
       "      <td>ACCOUNTANT</td>\n",
       "      <td>YOUTH COORDINATOR (YOUTH SERVI</td>\n",
       "    </tr>\n",
       "    <tr>\n",
       "      <th>Title Code No</th>\n",
       "      <td>2946</td>\n",
       "      <td>35558.51334552102</td>\n",
       "      <td>28141.297679769723</td>\n",
       "      <td>0527A</td>\n",
       "      <td>95841</td>\n",
       "    </tr>\n",
       "    <tr>\n",
       "      <th>Level</th>\n",
       "      <td>2946</td>\n",
       "      <td>1.0531400966183575</td>\n",
       "      <td>1.1403671232078134</td>\n",
       "      <td>0</td>\n",
       "      <td>M7</td>\n",
       "    </tr>\n",
       "    <tr>\n",
       "      <th>Job Category</th>\n",
       "      <td>2944</td>\n",
       "      <td>None</td>\n",
       "      <td>None</td>\n",
       "      <td>Administration &amp; Human Resources</td>\n",
       "      <td>Technology, Data &amp; Innovation Social Services</td>\n",
       "    </tr>\n",
       "    <tr>\n",
       "      <th>Full-Time/Part-Time indicator</th>\n",
       "      <td>2751</td>\n",
       "      <td>None</td>\n",
       "      <td>None</td>\n",
       "      <td>F</td>\n",
       "      <td>P</td>\n",
       "    </tr>\n",
       "    <tr>\n",
       "      <th>Salary Range From</th>\n",
       "      <td>2946</td>\n",
       "      <td>58904.139793856084</td>\n",
       "      <td>26986.57593579136</td>\n",
       "      <td>0</td>\n",
       "      <td>99353</td>\n",
       "    </tr>\n",
       "    <tr>\n",
       "      <th>Salary Range To</th>\n",
       "      <td>2946</td>\n",
       "      <td>85535.71162739306</td>\n",
       "      <td>42871.31345366744</td>\n",
       "      <td>10.36</td>\n",
       "      <td>99406</td>\n",
       "    </tr>\n",
       "    <tr>\n",
       "      <th>Salary Frequency</th>\n",
       "      <td>2946</td>\n",
       "      <td>None</td>\n",
       "      <td>None</td>\n",
       "      <td>Annual</td>\n",
       "      <td>Hourly</td>\n",
       "    </tr>\n",
       "    <tr>\n",
       "      <th>Work Location</th>\n",
       "      <td>2946</td>\n",
       "      <td>None</td>\n",
       "      <td>None</td>\n",
       "      <td>1 Bay St., S.I.,Ny</td>\n",
       "      <td>Â Tort: Bronx</td>\n",
       "    </tr>\n",
       "    <tr>\n",
       "      <th>Division/Work Unit</th>\n",
       "      <td>2946</td>\n",
       "      <td>None</td>\n",
       "      <td>None</td>\n",
       "      <td>10th Precinct - Civilian/Cadet</td>\n",
       "      <td>Zoning</td>\n",
       "    </tr>\n",
       "    <tr>\n",
       "      <th>Job Description</th>\n",
       "      <td>2946</td>\n",
       "      <td>None</td>\n",
       "      <td>None</td>\n",
       "      <td>\"NOTE: IT IS IMPORTANT THAT CANDIDATES MUST HA...</td>\n",
       "      <td>â€¢ Under supervision, perform all types of wo...</td>\n",
       "    </tr>\n",
       "    <tr>\n",
       "      <th>Minimum Qual Requirements</th>\n",
       "      <td>2928</td>\n",
       "      <td>None</td>\n",
       "      <td>None</td>\n",
       "      <td>â€¢ The candidate will be expected to gain a...</td>\n",
       "      <td>â€¢ Masterâ€™s degree in business administrati...</td>\n",
       "    </tr>\n",
       "    <tr>\n",
       "      <th>Preferred Skills</th>\n",
       "      <td>2687</td>\n",
       "      <td>None</td>\n",
       "      <td>None</td>\n",
       "      <td>â€¢ Performs other related assignments or s...</td>\n",
       "      <td>â€¢The Deputy Chief is expected to be a strate...</td>\n",
       "    </tr>\n",
       "    <tr>\n",
       "      <th>Additional Information</th>\n",
       "      <td>2383</td>\n",
       "      <td>None</td>\n",
       "      <td>None</td>\n",
       "      <td>or  \"\"3\"\"  above.  However</td>\n",
       "      <td>â€œNOTE: This position is open to qualified pe...</td>\n",
       "    </tr>\n",
       "    <tr>\n",
       "      <th>To Apply</th>\n",
       "      <td>2766</td>\n",
       "      <td>None</td>\n",
       "      <td>None</td>\n",
       "      <td>\"\"2\"\"</td>\n",
       "      <td>â€¢Extensive experience with CommVault Simpana...</td>\n",
       "    </tr>\n",
       "    <tr>\n",
       "      <th>Hours/Shift</th>\n",
       "      <td>1884</td>\n",
       "      <td>None</td>\n",
       "      <td>None</td>\n",
       "      <td>\"\"2\"\"</td>\n",
       "      <td>â€¢General knowledge of NYC hiring practices. ...</td>\n",
       "    </tr>\n",
       "    <tr>\n",
       "      <th>Work Location 1</th>\n",
       "      <td>1808</td>\n",
       "      <td>None</td>\n",
       "      <td>None</td>\n",
       "      <td>\"\"2\"\"</td>\n",
       "      <td>â€¢Knowledge of statistics and experience usin...</td>\n",
       "    </tr>\n",
       "    <tr>\n",
       "      <th>Recruitment Contact</th>\n",
       "      <td>1183</td>\n",
       "      <td>None</td>\n",
       "      <td>None</td>\n",
       "      <td>Environmental Health</td>\n",
       "      <td>â€¢ Strong written and verbal communication sk...</td>\n",
       "    </tr>\n",
       "    <tr>\n",
       "      <th>Residency Requirement</th>\n",
       "      <td>2268</td>\n",
       "      <td>None</td>\n",
       "      <td>None</td>\n",
       "      <td>executive or supervisory capacity. The super...</td>\n",
       "      <td>â€œNOTE: This position is open to qualified pe...</td>\n",
       "    </tr>\n",
       "    <tr>\n",
       "      <th>Posting Date</th>\n",
       "      <td>2429</td>\n",
       "      <td>None</td>\n",
       "      <td>None</td>\n",
       "      <td>\"\"2\"\" or \"\"3\"\" above. However</td>\n",
       "      <td>â€¢5+ years in a Business Analyst role: experi...</td>\n",
       "    </tr>\n",
       "    <tr>\n",
       "      <th>Post Until</th>\n",
       "      <td>1447</td>\n",
       "      <td>None</td>\n",
       "      <td>None</td>\n",
       "      <td>\"\"2\"\"</td>\n",
       "      <td>â€¢ Demonstrated ability to manage the design ...</td>\n",
       "    </tr>\n",
       "    <tr>\n",
       "      <th>Posting Updated</th>\n",
       "      <td>2438</td>\n",
       "      <td>None</td>\n",
       "      <td>None</td>\n",
       "      <td>\"\"2\"\"</td>\n",
       "      <td>Varies</td>\n",
       "    </tr>\n",
       "    <tr>\n",
       "      <th>Process Date</th>\n",
       "      <td>2521</td>\n",
       "      <td>None</td>\n",
       "      <td>None</td>\n",
       "      <td>architecture</td>\n",
       "      <td>â€œNOTE: This position is open to qualified pe...</td>\n",
       "    </tr>\n",
       "  </tbody>\n",
       "</table>\n",
       "</div>"
      ],
      "text/plain": [
       "summary                       count                mean              stddev  \\\n",
       "Job ID                         2946   384821.5631364562   53075.33897715407   \n",
       "Agency                         2946                None                None   \n",
       "Posting Type                   2946                None                None   \n",
       "# Of Positions                 2946  2.4959266802443993   9.281312826466838   \n",
       "Business Title                 2946                None                None   \n",
       "Civil Service Title            2946                None                None   \n",
       "Title Code No                  2946   35558.51334552102  28141.297679769723   \n",
       "Level                          2946  1.0531400966183575  1.1403671232078134   \n",
       "Job Category                   2944                None                None   \n",
       "Full-Time/Part-Time indicator  2751                None                None   \n",
       "Salary Range From              2946  58904.139793856084   26986.57593579136   \n",
       "Salary Range To                2946   85535.71162739306   42871.31345366744   \n",
       "Salary Frequency               2946                None                None   \n",
       "Work Location                  2946                None                None   \n",
       "Division/Work Unit             2946                None                None   \n",
       "Job Description                2946                None                None   \n",
       "Minimum Qual Requirements      2928                None                None   \n",
       "Preferred Skills               2687                None                None   \n",
       "Additional Information         2383                None                None   \n",
       "To Apply                       2766                None                None   \n",
       "Hours/Shift                    1884                None                None   \n",
       "Work Location 1                1808                None                None   \n",
       "Recruitment Contact            1183                None                None   \n",
       "Residency Requirement          2268                None                None   \n",
       "Posting Date                   2429                None                None   \n",
       "Post Until                     1447                None                None   \n",
       "Posting Updated                2438                None                None   \n",
       "Process Date                   2521                None                None   \n",
       "\n",
       "summary                                                                      min  \\\n",
       "Job ID                                                                    132292   \n",
       "Agency                                                 ADMIN FOR CHILDREN'S SVCS   \n",
       "Posting Type                                                            External   \n",
       "# Of Positions                                                                 1   \n",
       "Business Title                                                    .NET DEVELOPER   \n",
       "Civil Service Title                                                   ACCOUNTANT   \n",
       "Title Code No                                                              0527A   \n",
       "Level                                                                          0   \n",
       "Job Category                                    Administration & Human Resources   \n",
       "Full-Time/Part-Time indicator                                                  F   \n",
       "Salary Range From                                                              0   \n",
       "Salary Range To                                                            10.36   \n",
       "Salary Frequency                                                          Annual   \n",
       "Work Location                                                 1 Bay St., S.I.,Ny   \n",
       "Division/Work Unit                                10th Precinct - Civilian/Cadet   \n",
       "Job Description                \"NOTE: IT IS IMPORTANT THAT CANDIDATES MUST HA...   \n",
       "Minimum Qual Requirements        â€¢ The candidate will be expected to gain a...   \n",
       "Preferred Skills                  â€¢ Performs other related assignments or s...   \n",
       "Additional Information                                or  \"\"3\"\"  above.  However   \n",
       "To Apply                                                                   \"\"2\"\"   \n",
       "Hours/Shift                                                                \"\"2\"\"   \n",
       "Work Location 1                                                            \"\"2\"\"   \n",
       "Recruitment Contact                                         Environmental Health   \n",
       "Residency Requirement            executive or supervisory capacity. The super...   \n",
       "Posting Date                                       \"\"2\"\" or \"\"3\"\" above. However   \n",
       "Post Until                                                                 \"\"2\"\"   \n",
       "Posting Updated                                                            \"\"2\"\"   \n",
       "Process Date                                                        architecture   \n",
       "\n",
       "summary                                                                      max  \n",
       "Job ID                                                                     97899  \n",
       "Agency                                                TEACHERS RETIREMENT SYSTEM  \n",
       "Posting Type                                                            Internal  \n",
       "# Of Positions                                                                91  \n",
       "Business Title                           executive Vice President for Operations  \n",
       "Civil Service Title                               YOUTH COORDINATOR (YOUTH SERVI  \n",
       "Title Code No                                                              95841  \n",
       "Level                                                                         M7  \n",
       "Job Category                       Technology, Data & Innovation Social Services  \n",
       "Full-Time/Part-Time indicator                                                  P  \n",
       "Salary Range From                                                          99353  \n",
       "Salary Range To                                                            99406  \n",
       "Salary Frequency                                                          Hourly  \n",
       "Work Location                                                      Â Tort: Bronx  \n",
       "Division/Work Unit                                                        Zoning  \n",
       "Job Description                â€¢ Under supervision, perform all types of wo...  \n",
       "Minimum Qual Requirements      â€¢ Masterâ€™s degree in business administrati...  \n",
       "Preferred Skills               â€¢The Deputy Chief is expected to be a strate...  \n",
       "Additional Information         â€œNOTE: This position is open to qualified pe...  \n",
       "To Apply                       â€¢Extensive experience with CommVault Simpana...  \n",
       "Hours/Shift                    â€¢General knowledge of NYC hiring practices. ...  \n",
       "Work Location 1                â€¢Knowledge of statistics and experience usin...  \n",
       "Recruitment Contact            â€¢ Strong written and verbal communication sk...  \n",
       "Residency Requirement          â€œNOTE: This position is open to qualified pe...  \n",
       "Posting Date                   â€¢5+ years in a Business Analyst role: experi...  \n",
       "Post Until                     â€¢ Demonstrated ability to manage the design ...  \n",
       "Posting Updated                                                           Varies  \n",
       "Process Date                   â€œNOTE: This position is open to qualified pe...  "
      ]
     },
     "execution_count": 20,
     "metadata": {},
     "output_type": "execute_result"
    }
   ],
   "source": [
    "desc"
   ]
  },
  {
   "cell_type": "markdown",
   "metadata": {},
   "source": [
    "### Job ID \n"
   ]
  },
  {
   "cell_type": "markdown",
   "metadata": {},
   "source": [
    "Are there any nulls?"
   ]
  },
  {
   "cell_type": "code",
   "execution_count": 21,
   "metadata": {},
   "outputs": [
    {
     "data": {
      "text/plain": [
       "True"
      ]
     },
     "execution_count": 21,
     "metadata": {},
     "output_type": "execute_result"
    }
   ],
   "source": [
    "df_count == counts_map[\"Job ID\"]"
   ]
  },
  {
   "cell_type": "markdown",
   "metadata": {},
   "source": [
    "There are no nulls, but are there any duplicates?"
   ]
  },
  {
   "cell_type": "code",
   "execution_count": 22,
   "metadata": {},
   "outputs": [
    {
     "data": {
      "text/plain": [
       "1661"
      ]
     },
     "execution_count": 22,
     "metadata": {},
     "output_type": "execute_result"
    }
   ],
   "source": [
    "df.select('Job ID').distinct().count()"
   ]
  },
  {
   "cell_type": "markdown",
   "metadata": {},
   "source": [
    "What is the reason for almost all Job IDs to have 2 rows.  I'd guess that there is an original record, then an update.  Lets take a look and see..."
   ]
  },
  {
   "cell_type": "code",
   "execution_count": 23,
   "metadata": {},
   "outputs": [],
   "source": [
    "df.withColumnRenamed('Job ID','JobID').createOrReplaceTempView('temp')"
   ]
  },
  {
   "cell_type": "code",
   "execution_count": 24,
   "metadata": {},
   "outputs": [
    {
     "name": "stdout",
     "output_type": "stream",
     "text": [
      "+------+--------+\n",
      "| JobID|count(1)|\n",
      "+------+--------+\n",
      "|239052|       2|\n",
      "|406297|       2|\n",
      "|406575|       2|\n",
      "|409339|       2|\n",
      "|400075|       2|\n",
      "|233549|       2|\n",
      "|277372|       2|\n",
      "|365567|       2|\n",
      "|412747|       2|\n",
      "|385306|       2|\n",
      "|393911|       2|\n",
      "|396449|       2|\n",
      "|403310|       2|\n",
      "|423960|       2|\n",
      "|426223|       2|\n",
      "|393997|       2|\n",
      "|403522|       2|\n",
      "|404892|       2|\n",
      "|424083|       2|\n",
      "|407266|       2|\n",
      "+------+--------+\n",
      "only showing top 20 rows\n",
      "\n"
     ]
    }
   ],
   "source": [
    "spark.sql(\"\"\"\n",
    "    select JobID,count(*) from temp\n",
    "    group by JobID\n",
    "    having count(*) > 1\n",
    "    \"\"\").show()"
   ]
  },
  {
   "cell_type": "code",
   "execution_count": 25,
   "metadata": {},
   "outputs": [
    {
     "data": {
      "text/html": [
       "<div>\n",
       "<style scoped>\n",
       "    .dataframe tbody tr th:only-of-type {\n",
       "        vertical-align: middle;\n",
       "    }\n",
       "\n",
       "    .dataframe tbody tr th {\n",
       "        vertical-align: top;\n",
       "    }\n",
       "\n",
       "    .dataframe thead th {\n",
       "        text-align: right;\n",
       "    }\n",
       "</style>\n",
       "<table border=\"1\" class=\"dataframe\">\n",
       "  <thead>\n",
       "    <tr style=\"text-align: right;\">\n",
       "      <th></th>\n",
       "      <th>0</th>\n",
       "      <th>1</th>\n",
       "    </tr>\n",
       "  </thead>\n",
       "  <tbody>\n",
       "    <tr>\n",
       "      <th>Job ID</th>\n",
       "      <td>132292</td>\n",
       "      <td>132292</td>\n",
       "    </tr>\n",
       "    <tr>\n",
       "      <th>Agency</th>\n",
       "      <td>NYC HOUSING AUTHORITY</td>\n",
       "      <td>NYC HOUSING AUTHORITY</td>\n",
       "    </tr>\n",
       "    <tr>\n",
       "      <th>Posting Type</th>\n",
       "      <td>External</td>\n",
       "      <td>Internal</td>\n",
       "    </tr>\n",
       "    <tr>\n",
       "      <th># Of Positions</th>\n",
       "      <td>52</td>\n",
       "      <td>52</td>\n",
       "    </tr>\n",
       "    <tr>\n",
       "      <th>Business Title</th>\n",
       "      <td>Maintenance Worker - Technical Services-Heatin...</td>\n",
       "      <td>Maintenance Worker - Technical Services-Heatin...</td>\n",
       "    </tr>\n",
       "    <tr>\n",
       "      <th>Civil Service Title</th>\n",
       "      <td>MAINTENANCE WORKER</td>\n",
       "      <td>MAINTENANCE WORKER</td>\n",
       "    </tr>\n",
       "    <tr>\n",
       "      <th>Title Code No</th>\n",
       "      <td>90698</td>\n",
       "      <td>90698</td>\n",
       "    </tr>\n",
       "    <tr>\n",
       "      <th>Level</th>\n",
       "      <td>0</td>\n",
       "      <td>0</td>\n",
       "    </tr>\n",
       "    <tr>\n",
       "      <th>Job Category</th>\n",
       "      <td>Maintenance &amp; Operations</td>\n",
       "      <td>Maintenance &amp; Operations</td>\n",
       "    </tr>\n",
       "    <tr>\n",
       "      <th>Full-Time/Part-Time indicator</th>\n",
       "      <td>F</td>\n",
       "      <td>F</td>\n",
       "    </tr>\n",
       "    <tr>\n",
       "      <th>Salary Range From</th>\n",
       "      <td>51907.68</td>\n",
       "      <td>51907.68</td>\n",
       "    </tr>\n",
       "    <tr>\n",
       "      <th>Salary Range To</th>\n",
       "      <td>54580.32</td>\n",
       "      <td>54580.32</td>\n",
       "    </tr>\n",
       "    <tr>\n",
       "      <th>Salary Frequency</th>\n",
       "      <td>Annual</td>\n",
       "      <td>Annual</td>\n",
       "    </tr>\n",
       "    <tr>\n",
       "      <th>Work Location</th>\n",
       "      <td>Heating Mgt-Operations</td>\n",
       "      <td>Heating Mgt-Operations</td>\n",
       "    </tr>\n",
       "    <tr>\n",
       "      <th>Division/Work Unit</th>\n",
       "      <td>Management Services Department</td>\n",
       "      <td>Management Services Department</td>\n",
       "    </tr>\n",
       "    <tr>\n",
       "      <th>Job Description</th>\n",
       "      <td>Under direct supervision, assist in the routin...</td>\n",
       "      <td>Under direct supervision, assist in the routin...</td>\n",
       "    </tr>\n",
       "    <tr>\n",
       "      <th>Minimum Qual Requirements</th>\n",
       "      <td>\"1. Three years of full-time satisfactory expe...</td>\n",
       "      <td>\"1. Three years of full-time satisfactory expe...</td>\n",
       "    </tr>\n",
       "    <tr>\n",
       "      <th>Preferred Skills</th>\n",
       "      <td>mechanical</td>\n",
       "      <td>mechanical</td>\n",
       "    </tr>\n",
       "    <tr>\n",
       "      <th>Additional Information</th>\n",
       "      <td>or construction trades in a trade school or v...</td>\n",
       "      <td>or construction trades in a trade school or v...</td>\n",
       "    </tr>\n",
       "    <tr>\n",
       "      <th>To Apply</th>\n",
       "      <td>may be substituted for six months of the expe...</td>\n",
       "      <td>may be substituted for six months of the expe...</td>\n",
       "    </tr>\n",
       "    <tr>\n",
       "      <th>Hours/Shift</th>\n",
       "      <td>all candidates must have a minimum of two yea...</td>\n",
       "      <td>all candidates must have a minimum of two yea...</td>\n",
       "    </tr>\n",
       "    <tr>\n",
       "      <th>Work Location 1</th>\n",
       "      <td>1.  A High School Diploma or GED.  2.  CDL Dri...</td>\n",
       "      <td>1.  A High School Diploma or GED.  2.  CDL Dri...</td>\n",
       "    </tr>\n",
       "    <tr>\n",
       "      <th>Recruitment Contact</th>\n",
       "      <td>1.  A Motor Vehicle Driverâ€™s License valid i...</td>\n",
       "      <td>1.  A Motor Vehicle Driverâ€™s License valid i...</td>\n",
       "    </tr>\n",
       "    <tr>\n",
       "      <th>Residency Requirement</th>\n",
       "      <td>\"Click the \"\"Apply Now\"\" button.\"</td>\n",
       "      <td>\"Click the \"\"Apply Now\"\" button.\"</td>\n",
       "    </tr>\n",
       "    <tr>\n",
       "      <th>Posting Date</th>\n",
       "      <td>None</td>\n",
       "      <td>None</td>\n",
       "    </tr>\n",
       "    <tr>\n",
       "      <th>Post Until</th>\n",
       "      <td>None</td>\n",
       "      <td>None</td>\n",
       "    </tr>\n",
       "    <tr>\n",
       "      <th>Posting Updated</th>\n",
       "      <td>None</td>\n",
       "      <td>None</td>\n",
       "    </tr>\n",
       "    <tr>\n",
       "      <th>Process Date</th>\n",
       "      <td>NYCHA has no residency requirements.</td>\n",
       "      <td>NYCHA has no residency requirements.</td>\n",
       "    </tr>\n",
       "  </tbody>\n",
       "</table>\n",
       "</div>"
      ],
      "text/plain": [
       "                                                                               0  \\\n",
       "Job ID                                                                    132292   \n",
       "Agency                                                     NYC HOUSING AUTHORITY   \n",
       "Posting Type                                                            External   \n",
       "# Of Positions                                                                52   \n",
       "Business Title                 Maintenance Worker - Technical Services-Heatin...   \n",
       "Civil Service Title                                           MAINTENANCE WORKER   \n",
       "Title Code No                                                              90698   \n",
       "Level                                                                          0   \n",
       "Job Category                                            Maintenance & Operations   \n",
       "Full-Time/Part-Time indicator                                                  F   \n",
       "Salary Range From                                                       51907.68   \n",
       "Salary Range To                                                         54580.32   \n",
       "Salary Frequency                                                          Annual   \n",
       "Work Location                                             Heating Mgt-Operations   \n",
       "Division/Work Unit                                Management Services Department   \n",
       "Job Description                Under direct supervision, assist in the routin...   \n",
       "Minimum Qual Requirements      \"1. Three years of full-time satisfactory expe...   \n",
       "Preferred Skills                                                      mechanical   \n",
       "Additional Information          or construction trades in a trade school or v...   \n",
       "To Apply                        may be substituted for six months of the expe...   \n",
       "Hours/Shift                     all candidates must have a minimum of two yea...   \n",
       "Work Location 1                1.  A High School Diploma or GED.  2.  CDL Dri...   \n",
       "Recruitment Contact            1.  A Motor Vehicle Driverâ€™s License valid i...   \n",
       "Residency Requirement                          \"Click the \"\"Apply Now\"\" button.\"   \n",
       "Posting Date                                                                None   \n",
       "Post Until                                                                  None   \n",
       "Posting Updated                                                             None   \n",
       "Process Date                                NYCHA has no residency requirements.   \n",
       "\n",
       "                                                                               1  \n",
       "Job ID                                                                    132292  \n",
       "Agency                                                     NYC HOUSING AUTHORITY  \n",
       "Posting Type                                                            Internal  \n",
       "# Of Positions                                                                52  \n",
       "Business Title                 Maintenance Worker - Technical Services-Heatin...  \n",
       "Civil Service Title                                           MAINTENANCE WORKER  \n",
       "Title Code No                                                              90698  \n",
       "Level                                                                          0  \n",
       "Job Category                                            Maintenance & Operations  \n",
       "Full-Time/Part-Time indicator                                                  F  \n",
       "Salary Range From                                                       51907.68  \n",
       "Salary Range To                                                         54580.32  \n",
       "Salary Frequency                                                          Annual  \n",
       "Work Location                                             Heating Mgt-Operations  \n",
       "Division/Work Unit                                Management Services Department  \n",
       "Job Description                Under direct supervision, assist in the routin...  \n",
       "Minimum Qual Requirements      \"1. Three years of full-time satisfactory expe...  \n",
       "Preferred Skills                                                      mechanical  \n",
       "Additional Information          or construction trades in a trade school or v...  \n",
       "To Apply                        may be substituted for six months of the expe...  \n",
       "Hours/Shift                     all candidates must have a minimum of two yea...  \n",
       "Work Location 1                1.  A High School Diploma or GED.  2.  CDL Dri...  \n",
       "Recruitment Contact            1.  A Motor Vehicle Driverâ€™s License valid i...  \n",
       "Residency Requirement                          \"Click the \"\"Apply Now\"\" button.\"  \n",
       "Posting Date                                                                None  \n",
       "Post Until                                                                  None  \n",
       "Posting Updated                                                             None  \n",
       "Process Date                                NYCHA has no residency requirements.  "
      ]
     },
     "execution_count": 25,
     "metadata": {},
     "output_type": "execute_result"
    }
   ],
   "source": [
    "df.sort(\"Job ID\").limit(2).toPandas().transpose()"
   ]
  },
  {
   "cell_type": "markdown",
   "metadata": {},
   "source": [
    "The first duplicate Job ID's data is a duplicated record and not what I expected which was an updayed record.  I'll remove true duplicates, i.e. rows where all columns are duplicated, then check if Job ID is now unique"
   ]
  },
  {
   "cell_type": "code",
   "execution_count": 26,
   "metadata": {},
   "outputs": [],
   "source": [
    "dedupd_df = df.distinct()"
   ]
  },
  {
   "cell_type": "code",
   "execution_count": 27,
   "metadata": {},
   "outputs": [
    {
     "data": {
      "text/plain": [
       "2915"
      ]
     },
     "execution_count": 27,
     "metadata": {},
     "output_type": "execute_result"
    }
   ],
   "source": [
    "dedupd_df.count()"
   ]
  },
  {
   "cell_type": "markdown",
   "metadata": {},
   "source": [
    "Only 31 duplicated rows removed,  so now we need to investigate the duplicated Job ID that we still have.  From above we know that there are only 1661 unique IDs.\n",
    "\n",
    "I cheated a bit here, and used Excel to identify where the duplications are and what columns are not duplicated causing .distinct() to not drop most of these.   I have found that these 4 columns have small changes but from the records I viewed, the changes were not fucntional in that by dropping them I wont lose any information in the analaysis that required.\n",
    "\n",
    "Job Description, Minimum Qual Requirements, Preferred Skills and Additional Information \n",
    "\n"
   ]
  },
  {
   "cell_type": "code",
   "execution_count": 28,
   "metadata": {},
   "outputs": [
    {
     "data": {
      "text/plain": [
       "1661"
      ]
     },
     "execution_count": 28,
     "metadata": {},
     "output_type": "execute_result"
    }
   ],
   "source": [
    "df.dropDuplicates([\"Job ID\"]).count()"
   ]
  },
  {
   "cell_type": "code",
   "execution_count": 29,
   "metadata": {},
   "outputs": [],
   "source": [
    "dedupd_df = df.dropDuplicates([\"Job ID\"])"
   ]
  },
  {
   "cell_type": "markdown",
   "metadata": {},
   "source": [
    "I'm going to rebuild my small helper dict counts_map"
   ]
  },
  {
   "cell_type": "code",
   "execution_count": 30,
   "metadata": {},
   "outputs": [
    {
     "name": "stdout",
     "output_type": "stream",
     "text": [
      "{'Job ID': 1661, 'Agency': 1661, 'Posting Type': 1661, '# Of Positions': 1661, 'Business Title': 1661, 'Civil Service Title': 1661, 'Title Code No': 1661, 'Level': 1661, 'Job Category': 1659, 'Full-Time/Part-Time indicator': 1548, 'Salary Range From': 1661, 'Salary Range To': 1661, 'Salary Frequency': 1661, 'Work Location': 1661, 'Division/Work Unit': 1661, 'Job Description': 1661, 'Minimum Qual Requirements': 1652, 'Preferred Skills': 1513, 'Additional Information': 1359, 'To Apply': 1566, 'Hours/Shift': 1080, 'Work Location 1': 1040, 'Recruitment Contact': 689, 'Residency Requirement': 1296, 'Posting Date': 1371, 'Post Until': 825, 'Posting Updated': 1378, 'Process Date': 1428}\n"
     ]
    }
   ],
   "source": [
    "counts_map = PPF.get_counts_map(dedupd_df)\n",
    "print(counts_map)\n",
    "desc = dedupd_df.describe().toPandas().transpose()\n",
    "desc, desc.columns = desc[1:], desc.loc[\"summary\"]"
   ]
  },
  {
   "cell_type": "code",
   "execution_count": 31,
   "metadata": {},
   "outputs": [
    {
     "data": {
      "text/plain": [
       "1661"
      ]
     },
     "execution_count": 31,
     "metadata": {},
     "output_type": "execute_result"
    }
   ],
   "source": [
    "df_count=dedupd_df.count()\n",
    "df_count"
   ]
  },
  {
   "cell_type": "code",
   "execution_count": 32,
   "metadata": {},
   "outputs": [],
   "source": [
    "dedupd_df.withColumnRenamed('Job ID','JobID').createOrReplaceTempView('temp')"
   ]
  },
  {
   "cell_type": "code",
   "execution_count": 33,
   "metadata": {},
   "outputs": [
    {
     "name": "stdout",
     "output_type": "stream",
     "text": [
      "+--------+\n",
      "|count(1)|\n",
      "+--------+\n",
      "|       0|\n",
      "+--------+\n",
      "\n"
     ]
    }
   ],
   "source": [
    "spark.sql(\"\"\"\n",
    "    with v1 as (\n",
    "        select JobID,count(*) from temp\n",
    "        group by JobID\n",
    "        having count(*) > 1\n",
    "    )\n",
    "    select count(*) from v1\n",
    "    \"\"\").show()"
   ]
  },
  {
   "cell_type": "markdown",
   "metadata": {},
   "source": [
    "Job ID Summary:\n",
    "    \n",
    "* Required for data analysis:  Yes: during pre-processing of the data, Job ID can be useful to hone in on rows where the processing has created unexpected results.\n"
   ]
  },
  {
   "cell_type": "markdown",
   "metadata": {},
   "source": [
    "#### Agency \n",
    "\n",
    "String and there are no missing values\n",
    "\n",
    "* Required for data analysis:  Yes\n",
    "\n",
    ">   What's the job posting having the highest salary per agency? \n"
   ]
  },
  {
   "cell_type": "code",
   "execution_count": 34,
   "metadata": {},
   "outputs": [
    {
     "data": {
      "text/plain": [
       "True"
      ]
     },
     "execution_count": 34,
     "metadata": {},
     "output_type": "execute_result"
    }
   ],
   "source": [
    "df_count == counts_map[\"Agency\"]"
   ]
  },
  {
   "cell_type": "markdown",
   "metadata": {},
   "source": [
    "#### Posting Type \n",
    "\n",
    "Would be a categorical type as there are only 2 distict values (none missing)\n",
    "\n",
    "* Required for data analysis:  No"
   ]
  },
  {
   "cell_type": "code",
   "execution_count": 35,
   "metadata": {},
   "outputs": [
    {
     "name": "stdout",
     "output_type": "stream",
     "text": [
      "+------------+-----+\n",
      "|Posting Type|count|\n",
      "+------------+-----+\n",
      "|    Internal|  969|\n",
      "|    External|  692|\n",
      "+------------+-----+\n",
      "\n"
     ]
    }
   ],
   "source": [
    "dedupd_df.groupBy(\"Posting Type\").count().orderBy('count', ascending=False).limit(10).show()"
   ]
  },
  {
   "cell_type": "markdown",
   "metadata": {},
   "source": [
    "#### \"# Of Positions\"\n",
    "\n",
    "should int type (no missing values)\n",
    "\n",
    "* Required for data analysis:  No"
   ]
  },
  {
   "cell_type": "code",
   "execution_count": 36,
   "metadata": {},
   "outputs": [
    {
     "data": {
      "text/plain": [
       "True"
      ]
     },
     "execution_count": 36,
     "metadata": {},
     "output_type": "execute_result"
    }
   ],
   "source": [
    "df_count == counts_map[\"# Of Positions\"]"
   ]
  },
  {
   "cell_type": "markdown",
   "metadata": {},
   "source": [
    "#### Business Title \n",
    "\n",
    "string type and no missing\n",
    "\n",
    "* Required for data analysis:  No"
   ]
  },
  {
   "cell_type": "code",
   "execution_count": 37,
   "metadata": {},
   "outputs": [
    {
     "data": {
      "text/plain": [
       "True"
      ]
     },
     "execution_count": 37,
     "metadata": {},
     "output_type": "execute_result"
    }
   ],
   "source": [
    "df_count == counts_map[\"Business Title\"]"
   ]
  },
  {
   "cell_type": "markdown",
   "metadata": {},
   "source": [
    "#### Civil Service Title \n",
    "\n",
    "string type and no missing\n",
    "\n",
    "* Required for data analysis:  No"
   ]
  },
  {
   "cell_type": "code",
   "execution_count": 38,
   "metadata": {},
   "outputs": [
    {
     "data": {
      "text/plain": [
       "True"
      ]
     },
     "execution_count": 38,
     "metadata": {},
     "output_type": "execute_result"
    }
   ],
   "source": [
    "df_count == counts_map[\"Civil Service Title\"]"
   ]
  },
  {
   "cell_type": "markdown",
   "metadata": {},
   "source": [
    "#### Title Code No \n",
    "\n",
    "String, as there are numerics mixed in with numbers.\n",
    "No missing values\n",
    "\n",
    "* Required for data analysis:  No"
   ]
  },
  {
   "cell_type": "code",
   "execution_count": 39,
   "metadata": {},
   "outputs": [
    {
     "data": {
      "text/plain": [
       "True"
      ]
     },
     "execution_count": 39,
     "metadata": {},
     "output_type": "execute_result"
    }
   ],
   "source": [
    "df_count == counts_map[\"Title Code No\"]"
   ]
  },
  {
   "cell_type": "code",
   "execution_count": 40,
   "metadata": {},
   "outputs": [
    {
     "name": "stdout",
     "output_type": "stream",
     "text": [
      "+-------------+\n",
      "|Title Code No|\n",
      "+-------------+\n",
      "|        56058|\n",
      "|        91717|\n",
      "|        52366|\n",
      "|        13632|\n",
      "|        10009|\n",
      "|         6798|\n",
      "|        0608A|\n",
      "|        1002D|\n",
      "|        13652|\n",
      "|        22425|\n",
      "|        20210|\n",
      "|         6776|\n",
      "|        10009|\n",
      "|        20415|\n",
      "|        90910|\n",
      "|        10079|\n",
      "|        22508|\n",
      "|        1007C|\n",
      "|        56058|\n",
      "|        8300A|\n",
      "+-------------+\n",
      "only showing top 20 rows\n",
      "\n"
     ]
    }
   ],
   "source": [
    "dedupd_df.select(\"Title Code No\").show()"
   ]
  },
  {
   "cell_type": "markdown",
   "metadata": {},
   "source": [
    "#### Level\n",
    "String type\n",
    "No missing values\n",
    "\n",
    "* Required for data analysis:  No"
   ]
  },
  {
   "cell_type": "code",
   "execution_count": 41,
   "metadata": {},
   "outputs": [
    {
     "data": {
      "text/plain": [
       "True"
      ]
     },
     "execution_count": 41,
     "metadata": {},
     "output_type": "execute_result"
    }
   ],
   "source": [
    "df_count == counts_map[\"Level\"]"
   ]
  },
  {
   "cell_type": "code",
   "execution_count": 42,
   "metadata": {},
   "outputs": [
    {
     "name": "stdout",
     "output_type": "stream",
     "text": [
      "+-----+\n",
      "|Level|\n",
      "+-----+\n",
      "|   M7|\n",
      "|   M7|\n",
      "|   M7|\n",
      "|   M7|\n",
      "|   M7|\n",
      "|   M7|\n",
      "|   M7|\n",
      "|   M7|\n",
      "|   M6|\n",
      "|   M5|\n",
      "+-----+\n",
      "\n"
     ]
    }
   ],
   "source": [
    "dedupd_df.select(\"Level\").orderBy(\"Level\",ascending=False).limit(10).show()"
   ]
  },
  {
   "cell_type": "code",
   "execution_count": 43,
   "metadata": {},
   "outputs": [
    {
     "name": "stdout",
     "output_type": "stream",
     "text": [
      "+-----+\n",
      "|Level|\n",
      "+-----+\n",
      "|    0|\n",
      "|    0|\n",
      "|    0|\n",
      "|    0|\n",
      "|    0|\n",
      "|    0|\n",
      "|    0|\n",
      "|    0|\n",
      "|    0|\n",
      "|    0|\n",
      "+-----+\n",
      "\n"
     ]
    }
   ],
   "source": [
    "dedupd_df.select(\"Level\").orderBy(\"Level\",ascending=True).limit(10).show()"
   ]
  },
  {
   "cell_type": "markdown",
   "metadata": {},
   "source": [
    "#### Job Category\n",
    "\n",
    "summart:\n",
    "\n",
    "- String Type\n",
    "- missing 2 values:\n",
    "- 131 distinct categories\n",
    "\n",
    "* Required for data analysis:  YES\n",
    "\n",
    "> What's the salary distribution per job category \n",
    "    - 3 line graph, min, max, avg - grouped by category\n",
    "\n",
    "> What's the number of jobs posting per category (Top 10)\n",
    "    - report\n",
    "    - histogram"
   ]
  },
  {
   "cell_type": "code",
   "execution_count": 44,
   "metadata": {},
   "outputs": [
    {
     "data": {
      "text/plain": [
       "False"
      ]
     },
     "execution_count": 44,
     "metadata": {},
     "output_type": "execute_result"
    }
   ],
   "source": [
    "df_count == counts_map[\"Job Category\"]"
   ]
  },
  {
   "cell_type": "code",
   "execution_count": 45,
   "metadata": {},
   "outputs": [
    {
     "name": "stdout",
     "output_type": "stream",
     "text": [
      "+--------------------+-----+\n",
      "|        Job Category|count|\n",
      "+--------------------+-----+\n",
      "|Administration & ...|    1|\n",
      "|Health Policy, Re...|    2|\n",
      "|Administration & ...|    1|\n",
      "|Finance, Accounti...|    1|\n",
      "|Information Techn...|    1|\n",
      "|Engineering, Arch...|    4|\n",
      "|Legal Affairs Pol...|    3|\n",
      "|Administration & ...|    1|\n",
      "|Constituent Servi...|   68|\n",
      "|Building Operatio...|   99|\n",
      "|Engineering, Arch...|    2|\n",
      "|Constituent Servi...|    4|\n",
      "|Administration & ...|    1|\n",
      "|       Legal Affairs|  120|\n",
      "|Engineering, Arch...|    1|\n",
      "|Finance, Accounti...|    3|\n",
      "|Constituent Servi...|    1|\n",
      "|Administration & ...|    1|\n",
      "|Health Legal Affairs|    2|\n",
      "|Administration & ...|    4|\n",
      "+--------------------+-----+\n",
      "only showing top 20 rows\n",
      "\n"
     ]
    }
   ],
   "source": [
    "dedupd_df.groupBy(\"Job Category\").count().show()"
   ]
  },
  {
   "cell_type": "code",
   "execution_count": 46,
   "metadata": {},
   "outputs": [
    {
     "name": "stdout",
     "output_type": "stream",
     "text": [
      "+--------------------+-----+\n",
      "|        Job Category|count|\n",
      "+--------------------+-----+\n",
      "|Engineering, Arch...|  260|\n",
      "|Technology, Data ...|  182|\n",
      "|       Legal Affairs|  120|\n",
      "|Building Operatio...|   99|\n",
      "|Finance, Accounti...|   98|\n",
      "|Public Safety, In...|   98|\n",
      "|Administration & ...|   88|\n",
      "|              Health|   71|\n",
      "|Constituent Servi...|   68|\n",
      "|Policy, Research ...|   64|\n",
      "+--------------------+-----+\n",
      "\n"
     ]
    }
   ],
   "source": [
    "dedupd_df.groupBy('Job Category').count().orderBy('count', ascending=False).limit(10).show()"
   ]
  },
  {
   "cell_type": "code",
   "execution_count": 47,
   "metadata": {},
   "outputs": [
    {
     "data": {
      "text/plain": [
       "131"
      ]
     },
     "execution_count": 47,
     "metadata": {},
     "output_type": "execute_result"
    }
   ],
   "source": [
    "dedupd_df.select('Job Category').distinct().count()"
   ]
  },
  {
   "cell_type": "markdown",
   "metadata": {},
   "source": [
    "- there are 2 missing Job Catergory's"
   ]
  },
  {
   "cell_type": "code",
   "execution_count": 48,
   "metadata": {},
   "outputs": [
    {
     "data": {
      "text/plain": [
       "2"
      ]
     },
     "execution_count": 48,
     "metadata": {},
     "output_type": "execute_result"
    }
   ],
   "source": [
    "df_count - counts_map[\"Job Category\"]"
   ]
  },
  {
   "cell_type": "code",
   "execution_count": 49,
   "metadata": {},
   "outputs": [],
   "source": [
    "import pyspark.sql.functions as F"
   ]
  },
  {
   "cell_type": "code",
   "execution_count": 50,
   "metadata": {},
   "outputs": [
    {
     "data": {
      "text/html": [
       "<div>\n",
       "<style scoped>\n",
       "    .dataframe tbody tr th:only-of-type {\n",
       "        vertical-align: middle;\n",
       "    }\n",
       "\n",
       "    .dataframe tbody tr th {\n",
       "        vertical-align: top;\n",
       "    }\n",
       "\n",
       "    .dataframe thead th {\n",
       "        text-align: right;\n",
       "    }\n",
       "</style>\n",
       "<table border=\"1\" class=\"dataframe\">\n",
       "  <thead>\n",
       "    <tr style=\"text-align: right;\">\n",
       "      <th></th>\n",
       "      <th>0</th>\n",
       "      <th>1</th>\n",
       "    </tr>\n",
       "  </thead>\n",
       "  <tbody>\n",
       "    <tr>\n",
       "      <th>Job ID</th>\n",
       "      <td>97899</td>\n",
       "      <td>87990</td>\n",
       "    </tr>\n",
       "    <tr>\n",
       "      <th>Agency</th>\n",
       "      <td>DEPARTMENT OF BUSINESS SERV.</td>\n",
       "      <td>DEPARTMENT OF BUSINESS SERV.</td>\n",
       "    </tr>\n",
       "    <tr>\n",
       "      <th>Posting Type</th>\n",
       "      <td>Internal</td>\n",
       "      <td>Internal</td>\n",
       "    </tr>\n",
       "    <tr>\n",
       "      <th># Of Positions</th>\n",
       "      <td>1</td>\n",
       "      <td>1</td>\n",
       "    </tr>\n",
       "    <tr>\n",
       "      <th>Business Title</th>\n",
       "      <td>EXECUTIVE DIRECTOR, BUSINESS DEVELOPMENT</td>\n",
       "      <td>Account Manager</td>\n",
       "    </tr>\n",
       "    <tr>\n",
       "      <th>Civil Service Title</th>\n",
       "      <td>ADMINISTRATIVE BUSINESS PROMOT</td>\n",
       "      <td>CONTRACT REVIEWER (OFFICE OF L</td>\n",
       "    </tr>\n",
       "    <tr>\n",
       "      <th>Title Code No</th>\n",
       "      <td>10009</td>\n",
       "      <td>40563</td>\n",
       "    </tr>\n",
       "    <tr>\n",
       "      <th>Level</th>\n",
       "      <td>M3</td>\n",
       "      <td>1</td>\n",
       "    </tr>\n",
       "    <tr>\n",
       "      <th>Job Category</th>\n",
       "      <td>None</td>\n",
       "      <td>None</td>\n",
       "    </tr>\n",
       "    <tr>\n",
       "      <th>Full-Time/Part-Time indicator</th>\n",
       "      <td>F</td>\n",
       "      <td>None</td>\n",
       "    </tr>\n",
       "    <tr>\n",
       "      <th>Salary Range From</th>\n",
       "      <td>60740</td>\n",
       "      <td>42405</td>\n",
       "    </tr>\n",
       "    <tr>\n",
       "      <th>Salary Range To</th>\n",
       "      <td>162014</td>\n",
       "      <td>65485</td>\n",
       "    </tr>\n",
       "    <tr>\n",
       "      <th>Salary Frequency</th>\n",
       "      <td>Annual</td>\n",
       "      <td>Annual</td>\n",
       "    </tr>\n",
       "    <tr>\n",
       "      <th>Work Location</th>\n",
       "      <td>110 William St. N Y</td>\n",
       "      <td>110 William St. N Y</td>\n",
       "    </tr>\n",
       "    <tr>\n",
       "      <th>Division/Work Unit</th>\n",
       "      <td>Tech Talent Pipeline</td>\n",
       "      <td>Strategy &amp; Analytics</td>\n",
       "    </tr>\n",
       "    <tr>\n",
       "      <th>Job Description</th>\n",
       "      <td>The New York City Department of Small Business...</td>\n",
       "      <td>Division of Economic &amp; Financial Opportunity (...</td>\n",
       "    </tr>\n",
       "    <tr>\n",
       "      <th>Minimum Qual Requirements</th>\n",
       "      <td>\"1. A baccalaureate degree from an accredited ...</td>\n",
       "      <td>\"1.\\tA baccalaureate degree from an accredited...</td>\n",
       "    </tr>\n",
       "    <tr>\n",
       "      <th>Preferred Skills</th>\n",
       "      <td>None</td>\n",
       "      <td>all candidates must have at least one year of...</td>\n",
       "    </tr>\n",
       "    <tr>\n",
       "      <th>Additional Information</th>\n",
       "      <td>None</td>\n",
       "      <td>â€¢\\tExcellent interpersonal and organizationa...</td>\n",
       "    </tr>\n",
       "    <tr>\n",
       "      <th>To Apply</th>\n",
       "      <td>In addition to applying through this website, ...</td>\n",
       "      <td>Salary range for this position is: $42,405 - $...</td>\n",
       "    </tr>\n",
       "    <tr>\n",
       "      <th>Hours/Shift</th>\n",
       "      <td>None</td>\n",
       "      <td>None</td>\n",
       "    </tr>\n",
       "    <tr>\n",
       "      <th>Work Location 1</th>\n",
       "      <td>None</td>\n",
       "      <td>None</td>\n",
       "    </tr>\n",
       "    <tr>\n",
       "      <th>Recruitment Contact</th>\n",
       "      <td>None</td>\n",
       "      <td>None</td>\n",
       "    </tr>\n",
       "    <tr>\n",
       "      <th>Residency Requirement</th>\n",
       "      <td>New York City residency is generally required ...</td>\n",
       "      <td>None</td>\n",
       "    </tr>\n",
       "    <tr>\n",
       "      <th>Posting Date</th>\n",
       "      <td>2012-01-26T00:00:00.000</td>\n",
       "      <td>New York City residency is generally required ...</td>\n",
       "    </tr>\n",
       "    <tr>\n",
       "      <th>Post Until</th>\n",
       "      <td>None</td>\n",
       "      <td>2011-06-24T00:00:00.000</td>\n",
       "    </tr>\n",
       "    <tr>\n",
       "      <th>Posting Updated</th>\n",
       "      <td>2012-01-26T00:00:00.000</td>\n",
       "      <td>None</td>\n",
       "    </tr>\n",
       "    <tr>\n",
       "      <th>Process Date</th>\n",
       "      <td>2019-12-17T00:00:00.000</td>\n",
       "      <td>2011-06-24T00:00:00.000</td>\n",
       "    </tr>\n",
       "  </tbody>\n",
       "</table>\n",
       "</div>"
      ],
      "text/plain": [
       "                                                                               0  \\\n",
       "Job ID                                                                     97899   \n",
       "Agency                                              DEPARTMENT OF BUSINESS SERV.   \n",
       "Posting Type                                                            Internal   \n",
       "# Of Positions                                                                 1   \n",
       "Business Title                          EXECUTIVE DIRECTOR, BUSINESS DEVELOPMENT   \n",
       "Civil Service Title                               ADMINISTRATIVE BUSINESS PROMOT   \n",
       "Title Code No                                                              10009   \n",
       "Level                                                                         M3   \n",
       "Job Category                                                                None   \n",
       "Full-Time/Part-Time indicator                                                  F   \n",
       "Salary Range From                                                          60740   \n",
       "Salary Range To                                                           162014   \n",
       "Salary Frequency                                                          Annual   \n",
       "Work Location                                                110 William St. N Y   \n",
       "Division/Work Unit                                          Tech Talent Pipeline   \n",
       "Job Description                The New York City Department of Small Business...   \n",
       "Minimum Qual Requirements      \"1. A baccalaureate degree from an accredited ...   \n",
       "Preferred Skills                                                            None   \n",
       "Additional Information                                                      None   \n",
       "To Apply                       In addition to applying through this website, ...   \n",
       "Hours/Shift                                                                 None   \n",
       "Work Location 1                                                             None   \n",
       "Recruitment Contact                                                         None   \n",
       "Residency Requirement          New York City residency is generally required ...   \n",
       "Posting Date                                             2012-01-26T00:00:00.000   \n",
       "Post Until                                                                  None   \n",
       "Posting Updated                                          2012-01-26T00:00:00.000   \n",
       "Process Date                                             2019-12-17T00:00:00.000   \n",
       "\n",
       "                                                                               1  \n",
       "Job ID                                                                     87990  \n",
       "Agency                                              DEPARTMENT OF BUSINESS SERV.  \n",
       "Posting Type                                                            Internal  \n",
       "# Of Positions                                                                 1  \n",
       "Business Title                                                   Account Manager  \n",
       "Civil Service Title                               CONTRACT REVIEWER (OFFICE OF L  \n",
       "Title Code No                                                              40563  \n",
       "Level                                                                          1  \n",
       "Job Category                                                                None  \n",
       "Full-Time/Part-Time indicator                                               None  \n",
       "Salary Range From                                                          42405  \n",
       "Salary Range To                                                            65485  \n",
       "Salary Frequency                                                          Annual  \n",
       "Work Location                                                110 William St. N Y  \n",
       "Division/Work Unit                                          Strategy & Analytics  \n",
       "Job Description                Division of Economic & Financial Opportunity (...  \n",
       "Minimum Qual Requirements      \"1.\\tA baccalaureate degree from an accredited...  \n",
       "Preferred Skills                all candidates must have at least one year of...  \n",
       "Additional Information         â€¢\\tExcellent interpersonal and organizationa...  \n",
       "To Apply                       Salary range for this position is: $42,405 - $...  \n",
       "Hours/Shift                                                                 None  \n",
       "Work Location 1                                                             None  \n",
       "Recruitment Contact                                                         None  \n",
       "Residency Requirement                                                       None  \n",
       "Posting Date                   New York City residency is generally required ...  \n",
       "Post Until                                               2011-06-24T00:00:00.000  \n",
       "Posting Updated                                                             None  \n",
       "Process Date                                             2011-06-24T00:00:00.000  "
      ]
     },
     "execution_count": 50,
     "metadata": {},
     "output_type": "execute_result"
    }
   ],
   "source": [
    "dedupd_df.where(F.col('Job Category').isNull()).toPandas().transpose()"
   ]
  },
  {
   "cell_type": "markdown",
   "metadata": {},
   "source": [
    "- There are only 2 records with null Job Category.  I'll update these to \"not specified\" [here](pre_processing_and_wrangling.ipynb#job_category)"
   ]
  },
  {
   "cell_type": "markdown",
   "metadata": {},
   "source": [
    "#### Full-Time/Part-Time indicator\n",
    "\n",
    "String with missing values\n",
    "\n",
    "* Required for data analysis:  No\n"
   ]
  },
  {
   "cell_type": "code",
   "execution_count": 51,
   "metadata": {},
   "outputs": [
    {
     "name": "stdout",
     "output_type": "stream",
     "text": [
      "+-----------------------------+-----+\n",
      "|Full-Time/Part-Time indicator|count|\n",
      "+-----------------------------+-----+\n",
      "|                            F| 1484|\n",
      "|                         null|  113|\n",
      "|                            P|   64|\n",
      "+-----------------------------+-----+\n",
      "\n"
     ]
    }
   ],
   "source": [
    "dedupd_df.groupBy(\"Full-Time/Part-Time indicator\").count().show()"
   ]
  },
  {
   "cell_type": "markdown",
   "metadata": {},
   "source": [
    "- There are 113 records with null.  I'll update these to \"not specified\" if required for reporting"
   ]
  },
  {
   "cell_type": "markdown",
   "metadata": {},
   "source": [
    "#### Salary Range From\n",
    "\n",
    "* Required for data analysis:  YES\n",
    "\n",
    "> mutilple salary related questions to answer\n",
    "\n",
    "Should be numeric, lets look at the data:"
   ]
  },
  {
   "cell_type": "code",
   "execution_count": 52,
   "metadata": {},
   "outputs": [
    {
     "data": {
      "text/plain": [
       "0"
      ]
     },
     "execution_count": 52,
     "metadata": {},
     "output_type": "execute_result"
    }
   ],
   "source": [
    "df_count - counts_map[\"Salary Range From\"]"
   ]
  },
  {
   "cell_type": "markdown",
   "metadata": {},
   "source": [
    "- check that all columns are int - actually select those that cannot be cast to int."
   ]
  },
  {
   "cell_type": "code",
   "execution_count": 53,
   "metadata": {},
   "outputs": [
    {
     "name": "stdout",
     "output_type": "stream",
     "text": [
      "+-----------------+\n",
      "|Salary Range From|\n",
      "+-----------------+\n",
      "+-----------------+\n",
      "\n"
     ]
    }
   ],
   "source": [
    "dedupd_df.select(\"Salary Range From\").where(F.col(\"Salary Range From\").cast('float').isNull()).show()"
   ]
  },
  {
   "cell_type": "code",
   "execution_count": 54,
   "metadata": {},
   "outputs": [
    {
     "data": {
      "text/plain": [
       "summary\n",
       "count                   1661\n",
       "mean      58836.501277965064\n",
       "stddev    26392.114682422845\n",
       "min                        0\n",
       "max                    99353\n",
       "Name: Salary Range From, dtype: object"
      ]
     },
     "execution_count": 54,
     "metadata": {},
     "output_type": "execute_result"
    }
   ],
   "source": [
    "desc.loc[\"Salary Range From\"]"
   ]
  },
  {
   "cell_type": "markdown",
   "metadata": {},
   "source": [
    "#### Salary Range To\n",
    "\n",
    "Should be numeric, lets look at the data:\n",
    "\n",
    "\n",
    "* Required for data analysis:  YES\n",
    "\n",
    "> mutilple salary related questions to answer"
   ]
  },
  {
   "cell_type": "code",
   "execution_count": 55,
   "metadata": {},
   "outputs": [
    {
     "data": {
      "text/plain": [
       "0"
      ]
     },
     "execution_count": 55,
     "metadata": {},
     "output_type": "execute_result"
    }
   ],
   "source": [
    "df_count - counts_map[\"Salary Range To\"]"
   ]
  },
  {
   "cell_type": "code",
   "execution_count": 56,
   "metadata": {},
   "outputs": [
    {
     "name": "stdout",
     "output_type": "stream",
     "text": [
      "+---------------+\n",
      "|Salary Range To|\n",
      "+---------------+\n",
      "+---------------+\n",
      "\n"
     ]
    }
   ],
   "source": [
    "dedupd_df.select(\"Salary Range To\").where(F.col(\"Salary Range To\").cast('float').isNull()).show()"
   ]
  },
  {
   "cell_type": "code",
   "execution_count": 57,
   "metadata": {},
   "outputs": [
    {
     "data": {
      "text/plain": [
       "summary\n",
       "count                  1661\n",
       "mean       85387.9378948224\n",
       "stddev    42041.27995414808\n",
       "min                   10.36\n",
       "max                   99406\n",
       "Name: Salary Range To, dtype: object"
      ]
     },
     "execution_count": 57,
     "metadata": {},
     "output_type": "execute_result"
    }
   ],
   "source": [
    "desc.loc[\"Salary Range To\"]"
   ]
  },
  {
   "cell_type": "markdown",
   "metadata": {},
   "source": [
    "#### Salary Frequency"
   ]
  },
  {
   "cell_type": "code",
   "execution_count": 58,
   "metadata": {},
   "outputs": [
    {
     "name": "stdout",
     "output_type": "stream",
     "text": [
      "+----------------+-----+\n",
      "|Salary Frequency|count|\n",
      "+----------------+-----+\n",
      "|          Annual| 1540|\n",
      "|          Hourly|   99|\n",
      "|           Daily|   22|\n",
      "+----------------+-----+\n",
      "\n"
     ]
    }
   ],
   "source": [
    "dedupd_df.groupBy(\"Salary Frequency\").count().limit(10).show()"
   ]
  },
  {
   "cell_type": "markdown",
   "metadata": {},
   "source": [
    "- Function required to put salary columns on the same frequencey scale\n",
    "\n",
    "create function to create new columns: \"Freq Adjusted Salary Range From\" and \"Freq Adjusted Salary Range To\""
   ]
  },
  {
   "cell_type": "markdown",
   "metadata": {},
   "source": [
    "#### Work Location\n",
    "\n",
    "String\n",
    "\n",
    "* Required for data analysis:  Yes"
   ]
  },
  {
   "cell_type": "markdown",
   "metadata": {},
   "source": [
    "#### Division/Work Unit\n",
    "\n",
    "* Required for data analysis:  No"
   ]
  },
  {
   "cell_type": "markdown",
   "metadata": {},
   "source": [
    "#### Job Description\n",
    "\n",
    "There are no missing rows\n",
    "\n",
    "* Required for data analysis:  _Maybe_,...could be required to answer \"what are the highest paid skills....\"\n",
    "\n",
    "**However looking through many rows of the data I am not sure how required skills can be extracted from this column.**  \n",
    "\n",
    "Examples when using \"skill\" as part of a regex:\n",
    "\n",
    "These matches do not indicate the skill reuirement of the candidate\n",
    "- `Assist skill trades staff.`  \n",
    "- `and linking employers with a skilled and qualified workforce.` \n",
    "\n",
    "This match does, but how could one categorise it in a form ready for a report:\n",
    "\n",
    "- `kills:  The ideal candidate will have demonstrated success developing and implementing business driven programs and will have exhibited:     Strong management and leadership skills   Experience planning, implementing and managing projects involving diverse stakeholders ......`\n",
    "\n",
    "At this point I'm not what column / derived column I'll need to answer \"What are the highest paid skills in the US market?\"\n"
   ]
  },
  {
   "cell_type": "code",
   "execution_count": 59,
   "metadata": {},
   "outputs": [
    {
     "data": {
      "text/plain": [
       "0"
      ]
     },
     "execution_count": 59,
     "metadata": {},
     "output_type": "execute_result"
    }
   ],
   "source": [
    "df_count - counts_map[\"Job Description\"]"
   ]
  },
  {
   "cell_type": "code",
   "execution_count": 60,
   "metadata": {},
   "outputs": [
    {
     "name": "stdout",
     "output_type": "stream",
     "text": [
      "+----------------------------------------------------------------------------------------------------------------------------------------------------------------------------------------------------------------------------------------------------------------------------------------------------------------------------------------------------------------------------------------------------------------------------------------------------------------------------------------------------------------------------------------------------------------------------------------------------------------------------------------------------------------------------------------------------------------------------------------------------------------------------------------------------------------------------------------------------------------------------------------------------------------------------------------------------------------------------------------------------------------------------------------------------------------------------------------------------------------------------------------------------------------------------------------------------------------------------------------------------------------------------------------------------------------------------------------------------------------------------------------------------------------------------------------------------------------------------------------------------------------------------------------------------------------------------------------------------------------------------------------------------------------------------------------------------------------------------------------------------------------------------------------------------------------------------------------------------------------------------------------------------------------------------------------------------------------------------------------------------------------------------------------------------------------------------------------------------------------------------------------------------------------------------------------------------------------------------------------------------------------------------------------------------------------------------------------------------------------------------------------------------------------------------------------------------------------------------------------------------------------------------------------------------------------------------------------------------------------------------------------------------------------------------------------------------------------------------------------------------------------------------------------------------------------------------------------------------------------------------------------------------------------------------------------------------------------------------------------------------------------------------------------------------------------------------------------------------------------------------------------------------------------------------------------------------------------------------------------------------------------------------------------------------------------------------------------------------------------------------------------------------------------------------------------------------------------------------------------------------------------------------------------------------------------------------------------------------------------------------------------------------------------------------------------------------------------------------------------------------------------------------------------------------------------------------------------------------------------------------------------------------------------------------------------------------------------------------------------------------------------------------------------------------------------------------------------------------------------------------------------------------------------------------------------------------------------------------------------------------------------------------------------------------------------------------------------------------------------------------------------------------------------------------------------------------------------------------------------------------------------------------------------------------------------------------------------------------------------------------------------------------------------------------------------------------------------------------------------------------------------------------------------------------------------------------------------------------------------------------------------------------------------------------------------------------------------------------------------------------------------------------------------------------------------------------------------------------------------------------------------------------------------------------------------------------------------------------------------------------------------------------------------------------------------------------------------------------------------------------------------------+\n",
      "|Job Description                                                                                                                                                                                                                                                                                                                                                                                                                                                                                                                                                                                                                                                                                                                                                                                                                                                                                                                                                                                                                                                                                                                                                                                                                                                                                                                                                                                                                                                                                                                                                                                                                                                                                                                                                                                                                                                                                                                                                                                                                                                                                                                                                                                                                                                                                                                                                                                                                                                                                                                                                                                                                                                                                                                                                                                                                                                                                                                                                                                                                                                                                                                                                                                                                                                                                                                                                                                                                                                                                                                                                                                                                                                                                                                                                                                                                                                                                                                                                                                                                                                                                                                                                                                                                                                                                                                                                                                                                                                                                                                                                                                                                                                                                                                                                                                                                                                                                                                                                                                                                                                                                                                                                                                                                                                                                                                                                                               |\n",
      "+----------------------------------------------------------------------------------------------------------------------------------------------------------------------------------------------------------------------------------------------------------------------------------------------------------------------------------------------------------------------------------------------------------------------------------------------------------------------------------------------------------------------------------------------------------------------------------------------------------------------------------------------------------------------------------------------------------------------------------------------------------------------------------------------------------------------------------------------------------------------------------------------------------------------------------------------------------------------------------------------------------------------------------------------------------------------------------------------------------------------------------------------------------------------------------------------------------------------------------------------------------------------------------------------------------------------------------------------------------------------------------------------------------------------------------------------------------------------------------------------------------------------------------------------------------------------------------------------------------------------------------------------------------------------------------------------------------------------------------------------------------------------------------------------------------------------------------------------------------------------------------------------------------------------------------------------------------------------------------------------------------------------------------------------------------------------------------------------------------------------------------------------------------------------------------------------------------------------------------------------------------------------------------------------------------------------------------------------------------------------------------------------------------------------------------------------------------------------------------------------------------------------------------------------------------------------------------------------------------------------------------------------------------------------------------------------------------------------------------------------------------------------------------------------------------------------------------------------------------------------------------------------------------------------------------------------------------------------------------------------------------------------------------------------------------------------------------------------------------------------------------------------------------------------------------------------------------------------------------------------------------------------------------------------------------------------------------------------------------------------------------------------------------------------------------------------------------------------------------------------------------------------------------------------------------------------------------------------------------------------------------------------------------------------------------------------------------------------------------------------------------------------------------------------------------------------------------------------------------------------------------------------------------------------------------------------------------------------------------------------------------------------------------------------------------------------------------------------------------------------------------------------------------------------------------------------------------------------------------------------------------------------------------------------------------------------------------------------------------------------------------------------------------------------------------------------------------------------------------------------------------------------------------------------------------------------------------------------------------------------------------------------------------------------------------------------------------------------------------------------------------------------------------------------------------------------------------------------------------------------------------------------------------------------------------------------------------------------------------------------------------------------------------------------------------------------------------------------------------------------------------------------------------------------------------------------------------------------------------------------------------------------------------------------------------------------------------------------------------------------------------------------+\n",
      "|Reporting to the Training Supervisor the Trainer will be devoted primarily to providing staff with skills and knowledge of quality child welfare practice. The Trainer will ensure efficient and effective daily operation by providing and facilitating administrative, educative and supportive services to new and seasoned staff.  The Training Department delivers foundation and in-service training dictated by a training plan created each fiscal year. The position will provide support to ACS/DYFJ/JSA leadership, and external consultants to assure good communication and the timeliness of deliverables.   Responsibilities of this position include:  â€¢\tThe Trainer should be a champion of strength based practice and training, and knowledgeable on current NYC child welfare practice and policy. â€¢\tSupervising and coaching of new and seasoned agency staff. â€¢\t Expertise in competencies for child welfare practice and the ability to coach and develop staff. â€¢\tCollaborate in all aspects of the training departments work: including scheduling, administrative tasks and quality improvement. â€¢\tHave significant experience in training various components of the CW Core Training Program. â€¢\tBeing able to model skills, and provide evaluative and developmental feedback to participants. â€¢\tWork closely with ACSâ€™, DYFJ and Close To Home to develop, coordinate and implement training for frontline staff and supervisors. â€¢\tParticipate in assignments as needed and attend trainings and meetings as indicated.                                                                                                                                                                                                                                                                                                                                                                                                                                                                                                                                                                                                                                                                                                                                                                                                                                                                                                                                                                                                                                                                                                                                                                                                                                                                                                                                                                                                                                                                                                                                                                                                                                                                                                                                                                                                                                                                                                                                                                                                                                                                                                                                                                                                                                                                                                                                                                                                                                                                                                                                                                                                                                                                                                                                                                                                                                                                                                                                                                                                                                                                                                                                                                                                                                                                                                                                                                                                                                                                                                                                                                                                                                                                                                                                                                                                                        |\n",
      "|*** IN ORDER TO BE CONSIDERED FOR THIS POSITION CANDIDATES MUST BE SERVING PERMANENTLY IN THE TITLE OF ELECTRICIAN ***        Under direction, works as an electrician on the installation, repair and maintenance of high or low tension electrical systems for light, heat, power and communications in or on buildings, structures and highways; may serve as a special electrician, making applications and obtaining permits and approvals required by rule, regulation and/or statute; prepares reports and maintains records; performs related work. In the temporary absence of the supervisor, may perform the duties of that position. Supervises assigned personnel. When assigned as a special electrician, obtains permits for electrical work to be performed; conducts and/or witnesses tests on electrical wiring systems, equipment and/or appliances; prepares applications, reports, notices and other documents; prepares required sketches, drawings and layouts.                                                                                                                                                                                                                                                                                                                                                                                                                                                                                                                                                                                                                                                                                                                                                                                                                                                                                                                                                                                                                                                                                                                                                                                                                                                                                                                                                                                                                                                                                                                                                                                                                                                                                                                                                                                                                                                                                                                                                                                                                                                                                                                                                                                                                                                                                                                                                                                                                                                                                                                                                                                                                                                                                                                                                                                                                                                                                                                                                                                                                                                                                                                                                                                                                                                                                                                                                                                                                                                                                                                                                                                                                                                                                                                                                                                                                                                                                                                                                                                                                                                                                                                                                                                                                                                                                                                                                                                                        |\n",
      "|Family Court Legal Services (FCLS) is responsible for representing Childrenâ€™s Services in child neglect and abuse cases, permanency hearings, and other child welfare proceedings in the New York City Family Courts. Court liaison officers work collaboratively with attorneys, case-planners, and other child welfare stakeholders to further the agencyâ€™s mission on behalf of children and families. Specific duties will include:   â€¢ Establish regular contact with each Court Part in order to be readily available to receive Court Orders for State Central Register clearances and Court-ordered investigations (COIâ€™s) on custody, visitation and guardianship cases;  â€¢ Communicate with the Court regarding any questions or issues related to Court Orders involving Childrenâ€™s Services that arise on delinquency and PINS cases;  â€¢ Interview parties and children on the cases to gather information needed by the Court and Childrenâ€™s Services;  â€¢ Track the progress of each custody, visitation and guardianship case involving Childrenâ€™s Services until the case is completed and there are no further Court Orders;  â€¢ Assist the attorneys with other case-related matters not inconsistent with the main Liaison functions;  â€¢ Move around the court house quite a bit between court rooms;  â€¢ In connections, set up and open cases for the assignment to the borough responsible for completing COI;  â€¢ Submit the COI to the courts, gather information about follow-up requests from the court, and communicate that to DCP;  â€¢ Perform SCR clearances on individuals;  â€¢ Removal of children in court when neccessary.                                                                                                                                                                                                                                                                                                                                                                                                                                                                                                                                                                                                                                                                                                                                                                                                                                                                                                                                                                                                                                                                                                                                                                                                                                                                                                                                                                                                                                                                                                                                                                                                                                                                                                                                                                                                                                                                                                                                                                                                                                                                                                                                                                                                                                                                                                                                                                                                                                                                                                                                                                                                                                                                                                                                                                                                                                                                                                                                                                                                                                                                                                                                                                                                                                                                                                                                                                                                                                                                                                                                                                                                                                                                                                        |\n",
      "|This position is open to permanent (not provisional) candidates currently serving as Computer Specialist (Soft Ware) only.  The New York City Administration for Childrenâ€™s Services of Office of Information Technology (OIT) Business Solutions department is responsible for the building the systems that provide operational, analytical and managerial support functions, as well as IT resource management, for the entire agency.  Working closely with different business stakeholders within the agency, Business Solutions develops and implements both custom and packaged applications, and maintains the requisite technical infrastructure, using in-house project resources and hired consultants. We encourage innovation, creativity, and a think outside of the box attitude when solving complex problems and implementing new solutions.  The office of Information Technology Business Solutions is recruiting for two (2) Certified IT Developer Applications Level 2, functioning as Systems Developer who will:   â€¢ Under general supervision of the Systems Development Team Lead, and wide latitude for independent initiative and judgment will lead the effort of complex application development according to requirements/specifications using Dynamics and associated languages and tools in a variety of systems development life cycle (SDLC) methodologies, including Waterfall, Agile and Hybrid Agile. â€¢ Designs, develops, programs and implements in assigned project utilizing MS Dynamics on cloud and/or on premises with SQL Server backend, .net technologies and other related technologies. â€¢ Designs, develops, programs and implements in assigned project utilizing ADX Studio/ADX Portals. â€¢ Develop SQL Server Reporting Services reports â€¢ Utilize version control systems such as TFS. â€¢ Create Technical Design Documents â€¢ Perform unit and integration testing â€¢ Interact with customers to comprehend product requirements â€¢ Explain technical concepts to users and help them understand the solutions implemented â€¢ Estimates timeframe to implement specifications â€¢ Works with the business analysts and team to program the specifications â€¢ Provides updates to Project Manager and supervisor â€¢ Participates in project meetings   Skills Needed:  â€¢ 5 years' experience with writing application software, data analysis, data access, data structures, data manipulation, databases, design, programming, testing and implementation, technical and user documentation, software conversions/migration of data; available to assist and/or lead in the design of program specifications and the implementation of software solutions. â€¢ Highly skilled and specific expertise in programming in MS Dynamics 2016, 365 cloud, .net 3.5 or higher with Visual studio and related technologies. â€¢ 3 years' experience in MS Dynamics, .net and Visual Studio and related technologies. â€¢ Experience with MS SQL Server 2016 or above as well as SQL Server Integration Services (SSIS). â€¢ Experience with SSRS â€¢ Experience with ADX Studio or ADX Portals. â€¢ Experience with Kingsway Software tool â€¢ Experience in building Power Apps. â€¢ Experience with version control systems, preferably TFS.  â€¢ Versed in different development methodologies (Iterative, Agile, Scrum etc.).  â€¢ Strong communication, analysis, and problem-solving skills.  â€¢ Experience in creation of design documents. â€¢ Experience integrating with ESRI â€¢ Knowledge of Tableau, Power BI â€¢ Quick to learn, self-motivated, and enthusiastic; work well within a team environment and with minimal supervision.  â€¢ Comfortable working with defined project plans and contributing estimates to the planning process.  â€¢ Able to meet and deliver on deadlines and work well under pressure.  â€¢ Follow guidelines and standards as set forth by ACS and OIT.                                                                                                                                                                                                                                                                                                                                                                                                                                                                                                                                                                                                                                                                                                                                                                                                                                                                                                                                                                                                                                                                                                                                                                                                                                                                                                                                                                                                                     |\n",
      "|The Mayorâ€™s Office of the Chief Technology Officer (MOCTO) facilitates citywide coordination and collaboration on technology issues, serves as a catalyst for and advises agencies on innovation, and interacts with the wider New York City technology ecosystem. MOCTO proactively engages with technologists to help influence the delivery of new technologies that can positively impact the public realm. MOCTO helps prepare the City for technology transformation and the outcomes that will impact the future of our City, from urban planning, to government services, to policy and decision-making.   The Director of Research and Future Planning will report to the Deputy Chief Technology Officer in the Mayorâ€™s Office of the Chief Technology Officer (MOCTO).   Responsibilities will include:  â€¢\tConduct original research at the intersection of technology and policy; â€¢\tLead measurement and documentation of work outcomes to ensure effective and efficient use of resources; â€¢\tCreate formats and structure to MCOTO reports; â€¢\tWrite reports on emerging technologies; â€¢\tEdit content written by other members of MOCTO who have subject-matter expertise; â€¢\tWork collaboratively with teams across MOCTO; â€¢\tConduct convenings with relevant stakeholders; â€¢\tPerform technology and innovation-related duties as assigned.                                                                                                                                                                                                                                                                                                                                                                                                                                                                                                                                                                                                                                                                                                                                                                                                                                                                                                                                                                                                                                                                                                                                                                                                                                                                                                                                                                                                                                                                                                                                                                                                                                                                                                                                                                                                                                                                                                                                                                                                                                                                                                                                                                                                                                                                                                                                                                                                                                                                                                                                                                                                                                                                                                                                                                                                                                                                                                                                                                                                                                                                                                                                                                                                                                                                                                                                                                                                                                                                                                                                                                                                                                                                                                                                                                                                                                                                                                                                                                                                                   |\n",
      "|About New York City Cyber Command Mission.  NYC Cyber Command leads the Cityâ€™s cyber defense efforts, working across more than 100 agencies and offices to prevent, detect, respond, and recover from cyber threats. NYC3 protects NYC infrastructure and critical systems from malicious attacks and safeguards the data, devices, and services of the City.   Culture. Foremost, we serve the people of the City of New York, so earning - and keeping - their trust is paramount. To deserve that trust, we relentlessly focus on facts, provide sound judgment, and maintain a healthy culture. We pride ourselves on having a respectful and inclusive workplace built on kindness, honest intellectual debate, and excellent work.   Job Description  Senior Threat Analysts within NYC Cyber Command perform many critical functions within the Threat Management discipline. Chief among these functions is providing 24x7x365 coverage within the Security Operations Center (SOC). For this reason, Senior Threat Analysts, must be able and willing to fill night and weekend shifts. Some of the Senior Threat Analysts tasks are described below:   Responsibilities will include: â€¢\tLead SOC detection and response activities during shift; â€¢\tCoordinate SOC operations with SOC Manager; â€¢\tCharacterize and analyze network traffic to identify anomalous activity and potential threats to network resources; â€¢\tCoordinate with enterprise-wide cyber defense staff to validate network alerts; â€¢\tEnsure that cybersecurity-enabled products or other compensating security control technologies reduce identified risk to an acceptable level; â€¢\tDocument and escalate incidents (including events history, status, and potential impact for further action) that may cause ongoing and immediate impact to the environment; â€¢\tPerform cyber defense trend analysis and reporting; â€¢\tPerform event correlation using information gathered from a variety of sources within the enterprise to gain situational awareness and determine the effectiveness of an observed attack; â€¢\tPerform security reviews and identify security gaps in security architecture resulting in recommendations for inclusion in the risk mitigation strategy; â€¢\tPlan and recommend modifications or adjustments based on exercise results or system environment; â€¢\tProvide timely detection, identification, and alerting of possible attacks/intrusions, anomalous activities, and misuse activities and distinguish these incidents and events from benign activities; â€¢\tUse cyber defense tools for continual monitoring and analysis of system activity to identify malicious activity; â€¢\tAnalyze identified malicious activity to determine weaknesses exploited, exploitation methods, effects on system and information; â€¢\tDetermine tactics, techniques, and procedures (TTPs) for intrusion sets; â€¢\tExamine network topologies to understand data flows through the network; â€¢\tRecommend computing environment vulnerability corrections; â€¢\tIdentify and analyze anomalies in network traffic using metadata; â€¢\tConduct research, analysis, and correlation across a wide variety of all source data sets (indications and warnings); â€¢\tWork with stakeholders to resolve computer security incidents and vulnerability compliance; â€¢\tProvide advice and input for Disaster Recovery, Contingency, and Continuity of Operations Plans.                                                                                                                                                                                                                                                                                                                                                                                                                                                                                                                                                                                                                                                                                                                                                                                                                                                                                                                                                                                                                                                                                                                                                                                                                                                                                                                                                                                                                                                                                                                                                                                                                                                                                                                                                                                                                                                                                                       |\n",
      "|TASK FORCE: \t\tFederal and State Grants Monitoring  UNIT:  \t\tCentral  JOB TITLE: \t\tOne (1) Deputy Assistant Director  CONTROL CODE: \tBAW-20-01   SUMMARY:   The Mayorâ€™s Office of Management and Budget (OMB) is the City government's chief financial agency. OMB's staff of analysts and experts assembles and oversees the Mayorâ€™s expense and capital budgets, which fund the services and activities of more than 70 City agencies.   Within OMB, the Federal and State Revenue Monitoring Task Force works with City, State, and Federal agencies to secure Federal funding to assist New York City recover from the devastation of Superstorm Sandy. Specifically, this Task Force oversees the strategic deployment of the Federal Emergency Management Administrationâ€™s (FEMA) Public Assistance funding across the five boroughs.   Please note that this is a grant-funded position. The term of employment is dependent upon the availability of grant funding, but is expected to be at least four years.   JOB DESCRIPTION:  The duties of the position include the following activities:  â€¢\tOversee the Sandy Recovery Fiscal and Reporting Units administering the FEMA Public Assistance and Hazard Mitigation grants awarded to the City. â€¢\tLead the continued development and maintenance of the Cityâ€™s FEMA - Grant Management System. â€¢\tLead the administration of the FEMA funds as they relate to the City budget. â€¢\tInteract closely with finance departments at entities that may be involved with the Federal funds including, but not limited to, FEMA, the NYS Department of Homeland Security and Emergency Services, the US Department of Housing and Urban Development, and New York City Agencies. â€¢\tPrepare analytical reports and briefings on Federal and related programmatic and budgetary issues. â€¢\tEvaluate programmatic performance and monitor the expenditures of Federally funded activities. â€¢\tProvide technical assistance, including training, to NYC agency recipients of FEMA funds. â€¢\tAssist in the continued development of a document management system to help prepare for internal and external audits. â€¢\tParticipate in ad-hoc projects, when necessary.                                                                                                                                                                                                                                                                                                                                                                                                                                                                                                                                                                                                                                                                                                                                                                                                                                                                                                                                                                                                                                                                                                                                                                                                                                                                                                                                                                                                                                                                                                                                                                                                                                                                                                                                                                                                                                                                                                                                                                                                                                                                                                                                                                                                                                                                                                                                                                                                                                                                                                                                                                                                                                                                                                                                                                                                                                                                                                                                                                                                                                                                                                                                                       |\n",
      "|We are recruiting for one (1) Administrative Staff Analyst NM-II to function as Director of the Process Evaluation Review Team (PERT).  PERT is tasked with aggressively monitoring program compliance with Agency policy and changes under welfare reform. This is accomplished via reviews of processes that are designed to ensure program compliance and foster uniform interpretation/application of policy. PERT staff review cases, monitor application and recertification interviews, check for appropriate signage, notices and referrals, conduct reviews of processes in almost all Job and SNAP centers, and conduct comprehensive operational assessments and analyses at HRA locations to provide information necessary to implement corrective actions and adjust policies to improve program access, customer service and minimize the potential for fiscal sanctions and litigation.   Job Description:   â€¢Evaluate reports and other source material pertaining to the unitâ€™s audits/reviews on FIA programs/services and gives final approval on recommendations made by the Deputy Director, Assistant Directors, Case Reviewers and Analysts for submission to the Chief Program Accountability Officer, Deputy Commissioner of Audit Services and Quality Assurance, Deputy Commissioner of Family Independence Administration (FIA) and other departments to ensure that recommendations are compatible with the Agencyâ€™s management goals;  â€¢Oversee the design and execution of customized audit instruments, data collection, and complex analytical tools used to monitor and report compliance with complex and/or high-profile lawsuit stipulations and court orders;                               â€¢Oversee the preparation of analyses and comparative reports by the Deputy and Assistant Directors based on the data collected by various sources such as Job Stat, Caper Reports, OTDA, QC reviews, WMS, POS etc., to assist individual FIA centers and other HRA programs in determining problem areas and training needs.  â€¢Provide expertise to PERT staff that monitor newly formulated corrective action initiatives within the FIA programs to ensure that recommended solutions are feasible and in compliance with federal, state, and local regulations, oversight agency mandates or corrective action plans, and lawsuit stipulations.  â€¢Collaborate with the Assistant Deputy Commissioner and Deputy Director on formulating strategies for all special projects assigned to PERT, FIA regional and center management, Office of Legal Affairs, Office of Program Accountability directors, and any other involved parties; participate in meetings with representatives of the same to discuss the design and implementation of audit instruments and to prioritize work assignments.  â€¢Collaborate with FIA Regional Managers, Directors, and other senior staff and analysts through meetings, presentations, and/or workshops to identify areas for system innovation and workflow improvement and develop strategies to correct existing agency deficiencies, ensure lawsuit stipulation compliance, and minimize the risk of financial sanctions .                                                                                        â€¢May assume responsibility for the operation of the Office of Quality Assurance & Fiscal Integrity in the absence of the Assistant Deputy Commissioner.                                                                                                                                                                                                                                                                                                                                                                                                                                                                                                                                                                                                                                                                                                                                                                                                                                                                                                                                                                                                                                                                                                                                                                                                                                                                                                                                                                                                                                                                                                                                                                                                                                                                                                                                                                                                                                                                                                                     |\n",
      "|Oversees the design, installation, configuration and support of the NYCERS data and voice communications environments. This includes at the NYCERS premises (the Brooklyn Tower, the Brooklyn Mezzanine and Long Island City), the external connectivity (between the NYCERS locations, to Internet Service Providers (ISP), to Telephone Companies and to other NYC agencies), and the Fiber Channel (FICON) and Fiber Channel Over IP (FCIP) connections to the disk storage array (SAN) and the virtual tape library (VTL). Oversees the configuration, allocation and utilization of disk on the SAN and the VTL. Responsibilities include the planning, design, installation, configuration, testing, troubleshooting, maintenance, capacity monitoring, bandwidth monitoring, security and support of all applicable devices, systems and components. Manages vendor services, service engagements, adherence to Service Level Agreements and the completion of work by the commitment dates. Develops and documents standard operating procedures, standards and utilities for administration, management, monitoring, modification and troubleshooting of the voice network, the data network, the SAN and the VTL. Monitors capacity and bandwidth utilization to establish trends and project needs and growth forecasts. Serves as the in-house expert and authority regarding network communications and connectivity issues.                                                                                                                                                                                                                                                                                                                                                                                                                                                                                                                                                                                                                                                                                                                                                                                                                                                                                                                                                                                                                                                                                                                                                                                                                                                                                                                                                                                                                                                                                                                                                                                                                                                                                                                                                                                                                                                                                                                                                                                                                                                                                                                                                                                                                                                                                                                                                                                                                                                                                                                                                                                                                                                                                                                                                                                                                                                                                                                                                                                                                                                                                                                                                                                                                                                                                                                                                                                                                                                                                                                                                                                                                                                                                                                                                                                                                                                                                                                                                     |\n",
      "|The NYC Department of Environmental Protection (DEP) protects public health and the environment by supplying clean drinking water, collecting and treating wastewater, and reducing air, noise, and hazardous materials pollution. DEP is the largest combined municipal water and wastewater utility in the country, with nearly 6,000 employees. DEP delivers more than 1.1 billion gallons per day of the highest quality drinking water to 8.3 million NYC residents and more than 1 million people in Upstate New York, and has a wastewater conveyance and treatment system capable of processing over 1.3 billion gallons of wastewater per day to protect the environment and the cityâ€™s surrounding waterways. The Bureau of Engineering Design & Construction (BEDC) currently has $10B of active construction contracts and another $3B of planning and design contracts under the responsibility and management of the bureau. The projects BEDC implement allow DEP as a whole to continue to operate and maintain an exemplary water supply system.  NYCDEPâ€™s commitment to sustainable storm water management has led to creative methods of conveyance and disposal of storm water in the combined sewer areas throughout the city. The Green Infrastructure Section of the In-House Design (IHD) Division is responsible for the design and construction of alternative methods of storm water management called Best Management Practices (BMPs) with the goal of reducing the volume of storm water entering the combined sewers, reducing the frequency of the combined sewer overflow events and improving the quality of the storm discharge to the surrounding water bodies.    The Bureau of Engineering Design & Construction seeks to hire a Project Manager Intern for In-House Designâ€™s Green Infrastructure group, located in our Lefrak Office in Queens, NY. Under supervision of the Accountable Manager of Green Infrastructure, the selected candidate will assist in the delivery of green infrastructure capital projects through the design, procurement and construction phases by overseeing consultants, in coordination with other managing agencies for the implementation of green infrastructure sites in the City Right of Way program. Work shall include conducting desktop and site assessments to determine locations of green infrastructure, review of plans and specifications for right of way bioswales, green strips, storm water green streets, infiltration basins and porous pavement as well as coordinating with construction contractors and construction managers during the construction phase.  **** Only those applicants with permanent Civil Service status as a Project Manager Intern or applicants that have applied for the civil service exam # 6055 are eligible to apply to this JVN. If you do not have permanent civil service status as a Project Manager Intern or have not applied for the civil service test, please do not apply to this position as you will not be considered for an interview.****                                                                                                                                                                                                                                                                                                                                                                                                                                                                                                                                                                                                                                                                                                                                                                                                                                                                                                                                                                                                                                                                                                                                                                                                                                                                                                                                                                                                                                                                                                                                                                                                                                                                                                                                                                                                                                                                                                                                                                                                                                                                                                                                                                                                                                                                                                  |\n",
      "|Opportunity for an ambitious and self-motivated tech savvy AutoCAD professional with expert level experience to refine CAD design standards and improve workflow processes for the design and construction of NYCDOTâ€™s street system as it relates to geometry, roadway striping, signing, new safety treatments and maintenance of roadway markings.  The selected candidate will function as an expert CAD administrator and power user, refining CAD standards and coordinating with associated stakeholders. The selected candidate will also be responsible for overseeing the document management team that maintain all official records prepared by the Geometric Design Unit. The candidate will help to achieve the Vision Zero initiative through the preparation of new sample plans and the design/ implementation of standard roadway geometries and pavement markings.    The candidate should have the ability to effectively communicate new procedures to agency engineers and others.  In addition to AutoCAD, the candidate should be proficient in the use of Civil-3D, AutoTurn, and ArcGIS.  The candidate will be expected to work collaboratively and inclusively, seeking to cultivate continued professional development and effectively communicate with all stakeholders. Must be a clear and effective communicator both verbally and through written reports and correspondence.  Design and Construction has professional engineering oversight for changes to curb line geometry and street plans for the five Boroughs. We create and maintain the official marking plans and oversee the application of all pavement markings including colored treatments for plazas, bus and bike lanes. The office draws on the expertise and talents of civil engineers, urban designers, sign designers, planners, IT experts, analysts and others to help the agency achieve Vision Zero and other city goals.                                                                                                                                                                                                                                                                                                                                                                                                                                                                                                                                                                                                                                                                                                                                                                                                                                                                                                                                                                                                                                                                                                                                                                                                                                                                                                                                                                                                                                                                                                                                                                                                                                                                                                                                                                                                                                                                                                                                                                                                                                                                                                                                                                                                                                                                                                                                                                                                                                                                                                                                                                                                                                                                                                                                                                                                                                                                                                                                                                                                                                                                                                                                                                                                                                                                                                                                                                                                                                                     |\n",
      "|The Nurse-Family Partnership (NFP) Program within the Bureau of Maternal, Infant and Reproductive Health is a nationally replicated nurse home visiting program that has been rigorously evaluated for over 30 years and which has demonstrated significant improvements in pregnancy outcomes, parenting skills and family self-sufficiency. The NFP program began in NYC in 2003.  It is currently in all five boroughs and is the largest urban site in the nation.   The NFP is seeking Bilingual Nurses to provide direct clinical services to NFP clients in Manhattan, Queens and Brooklyn. The NFP Nursesâ€™ caseloads will consist of either Spanish speaking-only clients living in Queens and Brooklyn and French speaking-only clients living in all parts of Manhattan.  DUTIES WILL INCLUDE BUT NOT BE LIMITED TO:   Under supervision of the NFP Supervisor, the NFP Nurse Home Visitor will perform the following duties:   -Apply the nursing process to assess the six prescribed NFP domains, including physical, emotional, social and environmental needs of women and their families as they relate to health and life course development.   -Assist women and their families in establishing realistic goals and measurable outcomes; utilize reflective practice, stages of change, and other behavioral change approaches.   -Provide counseling to assist women & their families in attaining targeted goals in areas including prenatal & postpartum care, nutrition, parenting, childcare, family planning, special health problems, housing, continuing education & employment.   -Evaluate women's & families' progress toward target goals, revise plan of care as appropriate.   -Develop a working relationship with women and their families that promotes trust and problem solving.   -Assist client in developing supportive relationships with family members and friends during pregnancy, birth and childcare.   -Link women and family with community resources that are relevant to their specific needs.   -Consult and collaborate with other professionals providing services to women and their families.   -Document nursing activities in a timely manner and in accord with visit and institutional guidelines.   -Participate in ongoing learning in program implementation.   -Meet with supervisor for minimum of one hour per week.   -Participate in weekly 2-hour team meetings and case conferences.   -Perform other related duties as needed.                                                                                                                                                                                                                                                                                                                                                                                                                                                                                                                                                                                                                                                                                                                                                                                                                                                                                                                                                                                                                                                                                                                                                                                                                                                                                                                                                                                                                                                                                                                                                                                                                                                                                                                                                                                                                                                                                                                                                                                                                                                                                                                                                                                                                                                                                                                                                                                                                                                                                                                                                                                                                                                                                                                                                                                                                                                                                       |\n",
      "|The New York City Department of Correction (DOC) provides for the care, custody, and control of persons accused of crimes or convicted and sentenced to one year or less of jail time.  The Department manages inmate facilities, located on Rikers Island.  In addition, the Department operates two hospital Prison Wards (Bellevue and Elmhurst hospitals) and court holding facilities in each borough.    The New York City Department of Correction has a unique opportunity for an experienced manager to serve as the Director of the Borough Based Jail System. The position will serve under the direction of the Executive Director with wide latitude for independent judgment and decision making and will be responsible for the day-to-day planning and implementation of borough based jails in coordination with the Mayorâ€™s Office of Criminal Justice (MOCJ) to ensure that DOC feedback is in line with administration policies with respect to criminal justice reform; developing and/or managing the development of project-related documents, including schedules, project plans, presentations, meeting agendas, status reports, talking points, budget proposals, etc.; anticipating regulatory processes and critical path items to ensure that they do not impede the progress of project goals and objectives.  The candidate will also work with DDC to develop and implement construction management plans to ensure appropriate DOC oversight during the Design/Build process and represent the Borough Based Jail System project at local community meetings including developing presentation materials and speaking to system operations, etc.  In addition, the candidate will work in collaboration with the Department of Design and Construction, Office of the Mayor, Mayorâ€™s Office of Criminal Justice, Mayorâ€™s Office of Management and Budget  as well as advocacy groups and working groups; may serve as a liaison in various meetings with Federal, State, City government, nonprofit organizations, advocates and other entities; prepare reports and materials for briefings with external and internal stakeholders; performs related duties as necessary. .                                                                                                                                                                                                                                                                                                                                                                                                                                                                                                                                                                                                                                                                                                                                                                                                                                                                                                                                                                                                                                                                                                                                                                                                                                                                                                                                                                                                                                                                                                                                                                                                                                                                                                                                                                                                                                                                                                                                                                                                                                                                                                                                                                                                                                                                                                                                                                                                                                                                                                                                                                                                                                                                                                                                                                                                                                                                                                                                                                                                                                                                                                                                                                          |\n",
      "|The NYC Department of Environmental Protection (DEP) enriches the environment and protects public health for all New Yorkers by providing 1.1 billion gallons of high quality drinking water, managing wastewater and storm water, and reducing air, noise, and hazardous materials pollution.  DEP is the largest combined municipal water and wastewater utility in the country, with nearly 6,000 employees.  DEP's water supply system is comprised of 19 reservoirs and 3 controlled lakes throughout the systemâ€™s 2,000 square mile watershed that extends 125 miles north and west of the City.  The overall objective of the Division of Connections and Permitting is the protection of the New York City environment by means of the protection of the New York City water supply and sewer systems. Regulation of connections to the New York City water supply system is necessary in order to minimize the possibility of reduced water pressure, contamination of the city water supply due to cross connections, damage to the city water supply system due to water hammer and also to insure adequate fire protection within buildings in accordance with the Department of Buildings requirements. In addition, regulation of connections to the New York City sewer system is necessary in order to minimize the possibility of excessive discharge into the city sewer system, damage to the city sewer system due to improperly constructed connections, and backup and /or flooding onto streets and/or private property due to inadequate size or slope of connections.  DUTIES WILL INCLUDE BUT NOT BE LIMITED TO: â€¢\tSupervise staff engaged in: reviewing SD1&2 Forms submitted by P.Eâ€™s and R/.Aâ€™s, providing general information to inquiring public, either by telephone or in person for Sewer and Water, processing applications for House Connection Permits and Water Service Permits.  â€¢\tDemonstrates knowledge of and support for EEO Standards and Procedures. â€¢\tEnsure consistent policies and procedures are followed and eliminate any identified differences. â€¢\tManage the Borough Records Office, provide guidance on policy and oversee any observed problems. Analyze and research all related facts to make recommendations for action/response including all requirements and regulations governing House Connection Proposal approvals, and any Permitting.                                                                                                                                                                                                                                                                                                                                                                                                                                                                                                                                                                                                                                                                                                                                                                                                                                                                                                                                                                                                                                                                                                                                                                                                                                                                                                                                                                                                                                                                                                                                                                                                                                                                                                                                                                                                                                                                                                                                                                                                                                                                                                                                                                                                                                                                                                                                                                                                                                                                                                                                                                                                                                                                                                                                                                                                                                                                                                                                                                        |\n",
      "|Traffic Control & Engineering seeks to hire safety oriented and self-motivated candidates to prepare, install, maintain and repair traffic control devices such as signs, stanchions, supports, parking meters, pavement markings and traffic counters; operate, maintain and make minor adjustments to motor vehicles, marking machines, air compressors, pavement breakers, snow plows and other field and shop equipment. The candidates will perform manual labor in the loading and unloading of trucks and the placement of traffic devices, rigs; climbs and works from ladders and tower trucks in buckets. The candidates may be assigned to remove traffic encumbrances, operate a motor vehicle and perform other related duties. The candidates will be expected to work collaboratively and inclusively, seeking to cultivate continued professional development and effectively communicate with all stakeholders.  The candidates will be responsible for ensuring adherence to all agency safety rules and regulations in creating a safe work environment for themselves and colleagues, ensuring all safety equipment and gear are used and worn properly on work site. Traffic Control & Engineering is responsible for administration, engineering and operations related to the installation, manufacturing, maintenance and removal of non-electronic traffic control devices and other transportation safety related fixtures citywide.                                                                                                                                                                                                                                                                                                                                                                                                                                                                                                                                                                                                                                                                                                                                                                                                                                                                                                                                                                                                                                                                                                                                                                                                                                                                                                                                                                                                                                                                                                                                                                                                                                                                                                                                                                                                                                                                                                                                                                                                                                                                                                                                                                                                                                                                                                                                                                                                                                                                                                                                                                                                                                                                                                                                                                                                                                                                                                                                                                                                                                                                                                                                                                                                                                                                                                                                                                                                                                                                                                                                                                                                                                                                                                                                                                                                                                                                                                                                |\n",
      "|The New York City Taxi and Limousine Commission (TLC) is the City agency responsible for oversight of the for-hire vehicle industries in New York City, which Include yellow medallion taxis, green Boro taxis, community car services and livery cars, black cars services, luxury limousines, commuter vans and Para-transit services.  Combined, TLC regulates Industries that are responsible for over 800,000 daily trips.   Our role is to ensure that each passenger's riding experience is safe comfortable and convenient and that TLC drivers are driving safely.  Under direction of the Executive leadership of the TLC Uniformed Services Bureau, the Enforcement Deputy Chief will: â€¢\tOversee enforcement squads assigned to the overnight shift that conduct patrol and other enforcement operations citywide. â€¢\tProvide training and mentoring for all rank levels. â€¢\tPartner with other law enforcement agencies and industry stakeholders when developing \tenforcement strategies. â€¢\tDevelop and manage a unified approach to addressing illegal for-hire activity, utilizing \tenforcement statistics to determine performance measures. â€¢\tUtilize enforcement statistics and for-hire trip data to identify trends that will inform staff \tdeployment and enforcement strategies. â€¢\tPresent at internal and external meetings/briefing on Enforcement Division performance.     â€¢\tDeputy Chief will make changes to deployment strategies and squad assignments ensuring the \tEnforcement Division capability to carry out its mission and responsibilities in an exemplary \tmanner. â€¢\tDeputy Chief will be responsible for other management projects and responsibilities as \tdetermined by Uniformed Services Bureau Leadership. â€¢\tAuthor Division memos related to disciplinary action and unusual incidents; tactical plans and \treview all written documentation drafted by junior supervisory staff. â€¢\tConduct initial internal investigations regarding the behavior of staff in violation of agency policy \twhich may impact employeeâ€™s Special Patrolmen status with the NYPD. â€¢\tAttend community meeting (i.e. precinct community council meetings, town halls, inter-agency \toperation meetings, etc.). â€¢\tInform staff of current directives and orders â€¢\tResponsible for serviceability, proper care and use of equipment, patrol and administrative \trecord keeping. â€¢\tResponsible for conducting annual and probationary performance evaluations. â€¢\tInstruct and frequently test the knowledge of staff regarding their duties and responsibilities. â€¢\tBe available via agency mobile device 24/7 to senior leadership and direct reports. â€¢\tConduct frequent uniform inspections of staff including equipment and general appearance in \tthe field while on patrol. â€¢\tReview activity of squads assigned daily, monthly, quarterly and annually. â€¢\tProvide formal orientation for newly promoted and assigned Captains and Lieutenants. â€¢\tDotted line oversight over Division Radio Command Operations Desk (aka Central). â€¢\tInitiate disciplinary process as needed.                                                                                                                                                                                                                                                                                                                                                                                                                                                                                                                                                                                                                                                                                                                                                                                                                                                                                                                                                                                                                                                                                                                                                                                                                                                                                                                                                                                                                                                                                                                                                                                                                                                                                                                                                                                                                                                                                                                                                                                                                                                                                                                                                                                                                                           |\n",
      "|HPDâ€™s Division of Housing Opportunity & Program Services ensures that the agencyâ€™s affordable housing is made available through fair, transparent and accessible programming. Developers creating affordable housing are required to offer many types of units through an open lottery process on NYC Housing Connect and fill other units through a placement process for households in the Cityâ€™s shelter system. The Marketing & Affordability Oversight program administers the administers the Housing Connect lottery system and crafts policy and procedures to ensure that these programs offer equal opportunity to all applicants and affirmatively further fair housing.  Your Impact:  As the Director of Marketing & Affordability oversight, you will play a unique and high-impact role, overseeing and streamlining the Cityâ€™s largest program connecting New Yorkers to affordable housing. Under Mayor de Blasioâ€™s administration, over 30,000 affordable units have been offered through the Housing Connect lottery system. In this role, you will oversee the Housing Connect lottery system, launch the exciting new version of the online Housing Connect site, and work toward the continued development of policies aimed at reducing barriers to housing access and fostering inclusion in our developments. Over the past several years, the program has implemented, then deepened restrictions on developersâ€™ ability to reject income-eligible applicants for credit and housing court history; created robust requirements for language and disability access plans in the lottery; and increased the transparency of our housing opportunity programs through broad community outreach and new educational materials. The Director will be charged with pressing forward on identifying new opportunities to increase access to affordable housing and inclusivity in housing developments, while also ensuring the efficiency of the lottery process to accommodate a fast-growing portfolio of units.  Your Responsibilities:  The Director of Marketing & Affordability Oversight manages the operations of affordable housing lotteries, ensuring the timely rent up or sale of completed units, general program efficiency, and a fair, open, transparent, accessible process to connect New Yorkers to housing.    Responsibilities include:   â€¢\tIdentifying new opportunities for process improvement and operational streamlining aimed to shorten lease up times and the application process  â€¢\tCollaborating with HPDâ€™s Fair Housing program and Office of Legal Affairs to continually evolve HPDâ€™s policies and procedures on marketing, lease-up and sales of affordable units and tenant selection â€¢\tManaging a growing staff, currently of made up of 25 employees, including two Deputy Directors and Project Management teams, as well as Education & Outreach Coordinators that spearhead trainings and education efforts for marketing agents and the public â€¢\tConducting public presentations at events hosted by community boards, elected officials, and community organizations to provide information on the housing lottery and responding to public questions or concerns â€¢\tEnsuring quality customer service to applicants in the lottery system, including timely and accurate responses to questions, complaints, and appeals from housing applicants and the public â€¢\tFostering positive and productive working relationships with external partners including marketing agents and developers; striking a balance of compliance monitoring and service provision in the work of the program                                                                                                                                                                                                                                                                                                                                                                                                                                                                                                                                                                                                                                                                                                                                                                                                                                                                                                                                                                                                                                                                                                                                                                                                                                                                                                                                                                                                                                                                                                                                                                                                                                                                                                        |\n",
      "|â€¢\tUnder the Director of GIS & Analytics for Forestry, Horticulture, & Natural Resources, with some latitude for inde-pendent initiative and judgement, assist with managing data and information resources to support operations, planning, and analytics for Forestry, Horticulture, & Natural Resources. â€¢\tSupervise GIS and information management specialists in creating spatial and non-spatial analysis, developing and maintaining databases and enterprise GIS applications, and supporting GIS users.   â€¢\tManage a portfolio of projects: plan, coordinate, and direct the implementation of complex data projects, lead scoping meetings with project stakeholders to identify goals, monitor milestones to ensure timely completion of work, and maintain detailed and accurate project progress and schedule information. â€¢\tWith minimal supervision, prepare products to support operations and analytics, including cartographic packages, statistical analyses, data summaries, presentations, and reports.    â€¢\tDevelop and enforce data standards and QA/QC strategies which promote information relationships, discourage redundancy, and ensure the integrity of the urban forest and natural areas data.     â€¢\tDevelop and maintain proper documentation of all analytical and data management methodologies. â€¢\tLead outreach to, and build relationships with, a diverse set of internal and external stakeholders.                                                                                                                                                                                                                                                                                                                                                                                                                                                                                                                                                                                                                                                                                                                                                                                                                                                                                                                                                                                                                                                                                                                                                                                                                                                                                                                                                                                                                                                                                                                                                                                                                                                                                                                                                                                                                                                                                                                                                                                                                                                                                                                                                                                                                                                                                                                                                                                                                                                                                                                                                                                                                                                                                                                                                                                                                                                                                                                                                                                                                                                                                                                                                                                                                                                                                                                                                                                                                                                                                                                                                                                                                                                                                                                                                                                                                                                                                                                                       |\n",
      "|The New York City Department of Housing Preservation and Development (HPD) is the nationâ€™s largest municipal housing preservation and development agency. Its mission is to promote quality housing and diverse, thriving neighborhoods for New Yorkers through loan and development programs for new affordable housing, preservation of the affordability of the existing housing stock, enforcement of housing quality standards, and educational programs for tenants and building owners. HPD is tasked with fulfilling Mayor de Blasioâ€™s Housing New York Plan which was recently expanded and accelerated through Housing New York 2.0 to complete the initial goal of 200,000 homes two years ahead of schedule by 2022, and achieve an additional 100,000 homes over the following four years, for a total of 300,000 homes by 2026.  Your Team:  The Conversions Unit, seated in the Executive Office of Development, coordinates the conversion of construction loans to permanent financing as part of the Cityâ€™s ambitious Housing New York affordable housing plan. The Conversions team operates in three functions: 1) facilitating the conversion of construction loans to permanent loans for both New Construction and Preservation projects, 2) managing the rent-restructuring implementation and rental achievement according to regulatory guidelines, and 3) processing Section 8 allocations for development projects. The Conversions team is made up of a director, managing analyst, 4 Conversions coordinators, a Section 8 specialist, and an administrative assistant.  Your Impact:  As a Conversions Coordinator, you will have the opportunity to support the permanent loan conversion process of New Construction and Preservation projects with HPD financing through closing and transfer to Asset Management. The Conversion Coordinator will also manage the necessary rent-restructuring implementation and processing of Section 8 allocations for development projects. Coordinators will be responsible for coordinating tenant applications, tracking progress, communicating with Division of Tenant Resources (DTR) and maintaining the feedback loop with landlords. The conversions coordinator will also have the opportunity to recommend policy, process, and engagement improvements towards greater program efficiency. These efforts will help drive the Agencyâ€™s goal of providing 300,000 units by 2026.  Your Role:  As a Conversions Coordinator, you will be supporting the project managers in facilitating crucial aspects of a conversion and/or rent restructuring implementation within deadline and in accordance with currently applicable laws, codes, policies and procedures. This work will include, but not be limited to, reviewing and analyzing legal documents, data entry, analyzing rent rolls, and keeping track of submitted documents. The Conversions Coordinator will also manage the Section 8 allocation process form end to end. This includes liaising with the development team on voucher allocation needs, tracking and troubleshooting applications, coordinating with DTR and maintaining the feedback loop with landlords and necessary stakeholders.  Your Responsibilities:  Your responsibilities will include, but not be limited to: â€¢\tMeet with residents to complete Section 8 application or mail blank application to for residents who have requested a reasonable accommodation â€¢\tReview S8 applications for completeness â€¢\tTrack S8 applications to ensure timely processing of payment to landlord â€¢\tRespond to all landlord and tenant inquires   â€¢\tFollow up with DTR on landlord issues and concerns â€¢\tOrganize and participate in S8 teleconference with sponsors/landlords regarding S8 statuses â€¢\tMaintains Daily Application Chart â€“ List the number of applications submitted to DTR on a daily basis â€¢\tPrepare and maintain Section 8 weekly report to landlords â€¢\tUtilize technical systems for processing and conducting research of applications status and payments (I.E. AMS, Elite, ECS and BOSS) â€¢\tManage NOFA process (applications/Issues and conditions) in coordination with other team members. â€¢\tSupport Conversion project managers as needed â€¢\tProactively and pre-emptively highlight challenges, missing information, delays, problems and other issues that may affect a conversion and coordinate the necessary actions to resolve â€¢\tEnsure compliance and consistency in implementation of rent restructuring within federal, local and regulatory guidelines â€¢\tBuild and prepare the legal file for closing or rent restructuring in accordance with checklist templates and other requirements; ensure all information is accurate, complete, well-organized and timely. â€¢\tMaintain accurate records of updates and calculations utilizing excel spreadsheets and access databases â€¢\tDemonstrate ability to meet deadlines and manage multiple projects in a timely manner â€¢\tWork on special projects as needed  In addition to the tasks described above, the individual hired will be expected to take on additional tasks as time allows which may include tracking workflow and assisting with team projects. Staff must be able to handle both financial modeling and external client relationships.|\n",
      "|Please read this posting carefully to make certain you meet the qualification requirements before applying to this position.   Position Summary  The Senior Advisor provides the Executive Vice President for Leased Housing (EVP) with senior level management support and expert advice to improve the Leased Housing Departmentâ€™s (LHD) administration and delivery of rent subsidy services.  The successful candidate will serve as a policy analyst and writer; liaise with various departments; coordinate/follow up on various requests, projects and assignments.  Responsibilities include, but are not limited to the following:  1.\tAssist EVP in identifying program business process improvements, increasing compliance with HUD regulations, and developing strategic plans. 2.\tResearch issues and prepare briefings; including the effects on existing policies, business practices and recommend solutions.  3.\tAuthor clear, effective policy documents by conducting appropriate research and fact gathering; including coordinating with and receiving input from staff.  4.\tCommunicate with and respond to information requests from internal and external stakeholders, including but not limited to, the Performance Management and Analytics, Department of Communications, Office of the Inspector General, Housing and Urban Development and City Hall.  5.\tSchedule meetings with external parties as needed to support or enhance program administration (i.e. DHS, HRA, etc.).  6.\tSeek internal buy-in and support from key NYCHA staff on projects that will improve customer service (i.e. liaison with CCC and WIC).    7.\tMaintain relationships with internal and external stakeholders; provide follow-up where needed.  8.\tParticipate in or manage special projects as requested by EVP.  9.\tPerform other related duties as requested by EVP. 10.\tRepresent LHD on committees and subcommittees involved in special initiatives or projects where necessary.  Attend public forums or meetings involving the EVP, Chairman and/or Executive Staff.  Key Competencies  â€¢\tExcellent Communicator - ability to communicate clearly, both written and verbal; to think on oneâ€™s feet with a calm and pleasant demeanor; to artfully influence and persuade, and to render diplomatic approaches while remaining focused on the agencyâ€™s goals and priorities.  â€¢\tPartnership and Collaboration - establish a strong network of relationships among senior level staff across other City, State and Federal agencies and government and external stakeholders.  â€¢\tCreative Problem Solver - develop innovative and impactful solutions that help address operational needs.  â€¢\tStrategic - think strategically about trends and consequences.  â€¢\tMulti-task and Goal Oriented - demonstrated ability to make timely and sound decisions/recommendations; establish priorities and successfully carry out multiple assignments, meeting critical deadlines and timeframes.                                                                                                                                                                                                                                                                                                                                                                                                                                                                                                                                                                                                                                                                                                                                                                                                                                                                                                                                                                                                                                                                                                                                                                                                                                                                                                                                                                                                                                                                                                                                                                                                                                                                                                                                                                                                                                                                                                                                                                                                                                                                                                                                                                                                                                                                                                                                                                |\n",
      "+----------------------------------------------------------------------------------------------------------------------------------------------------------------------------------------------------------------------------------------------------------------------------------------------------------------------------------------------------------------------------------------------------------------------------------------------------------------------------------------------------------------------------------------------------------------------------------------------------------------------------------------------------------------------------------------------------------------------------------------------------------------------------------------------------------------------------------------------------------------------------------------------------------------------------------------------------------------------------------------------------------------------------------------------------------------------------------------------------------------------------------------------------------------------------------------------------------------------------------------------------------------------------------------------------------------------------------------------------------------------------------------------------------------------------------------------------------------------------------------------------------------------------------------------------------------------------------------------------------------------------------------------------------------------------------------------------------------------------------------------------------------------------------------------------------------------------------------------------------------------------------------------------------------------------------------------------------------------------------------------------------------------------------------------------------------------------------------------------------------------------------------------------------------------------------------------------------------------------------------------------------------------------------------------------------------------------------------------------------------------------------------------------------------------------------------------------------------------------------------------------------------------------------------------------------------------------------------------------------------------------------------------------------------------------------------------------------------------------------------------------------------------------------------------------------------------------------------------------------------------------------------------------------------------------------------------------------------------------------------------------------------------------------------------------------------------------------------------------------------------------------------------------------------------------------------------------------------------------------------------------------------------------------------------------------------------------------------------------------------------------------------------------------------------------------------------------------------------------------------------------------------------------------------------------------------------------------------------------------------------------------------------------------------------------------------------------------------------------------------------------------------------------------------------------------------------------------------------------------------------------------------------------------------------------------------------------------------------------------------------------------------------------------------------------------------------------------------------------------------------------------------------------------------------------------------------------------------------------------------------------------------------------------------------------------------------------------------------------------------------------------------------------------------------------------------------------------------------------------------------------------------------------------------------------------------------------------------------------------------------------------------------------------------------------------------------------------------------------------------------------------------------------------------------------------------------------------------------------------------------------------------------------------------------------------------------------------------------------------------------------------------------------------------------------------------------------------------------------------------------------------------------------------------------------------------------------------------------------------------------------------------------------------------------------------------------------------------------------------------------------------------------+\n",
      "only showing top 20 rows\n",
      "\n"
     ]
    }
   ],
   "source": [
    "dedupd_df.select(\"Job Description\").show(20,truncate=False)"
   ]
  },
  {
   "cell_type": "code",
   "execution_count": null,
   "metadata": {},
   "outputs": [],
   "source": []
  },
  {
   "cell_type": "code",
   "execution_count": null,
   "metadata": {},
   "outputs": [],
   "source": []
  },
  {
   "cell_type": "markdown",
   "metadata": {},
   "source": [
    "#### Minimum Qual Requirements\n",
    "\n",
    "String\n",
    "\n",
    "* Required for data analysis:  YES\n",
    "\n",
    "> mutilple salary related questions to answer\n",
    "\n",
    "Data will need to be processed as this text field looks to be free txt as apposed to a selection from a drop-down combo list.  That means there could be typos, abbreviations etc etc.\n",
    "\n",
    "Due to the free-text nature of this column a query like:\n",
    "`df.groupBy(\"Minimum Qual Requirements\")....` would not be possible."
   ]
  },
  {
   "cell_type": "code",
   "execution_count": 61,
   "metadata": {},
   "outputs": [
    {
     "name": "stdout",
     "output_type": "stream",
     "text": [
      "+-------------------------+\n",
      "|Minimum Qual Requirements|\n",
      "+-------------------------+\n",
      "|     \"1. A baccalaurea...|\n",
      "|     (1) Five years of...|\n",
      "|     1. A baccalaureat...|\n",
      "|     \"(1) A baccalaure...|\n",
      "|     \"1. A baccalaurea...|\n",
      "|     \"1. A baccalaurea...|\n",
      "|     1. A baccalaureat...|\n",
      "|     \"1. A master's de...|\n",
      "|     \"Professional/ven...|\n",
      "|     1. A baccalaureat...|\n",
      "|     1.  A baccalaurea...|\n",
      "|     Qualification Req...|\n",
      "|     \"1. A baccalaurea...|\n",
      "|     \"(1) Four (4) yea...|\n",
      "|     1. Two years of f...|\n",
      "|     \"1. A four year h...|\n",
      "|     \"1.A baccalaureat...|\n",
      "|     1. A baccalaureat...|\n",
      "|     \"1. A baccalaurea...|\n",
      "|     \"1. A baccalaurea...|\n",
      "+-------------------------+\n",
      "\n"
     ]
    }
   ],
   "source": [
    "dedupd_df.select(\"Minimum Qual Requirements\").limit(20).show()"
   ]
  },
  {
   "cell_type": "markdown",
   "metadata": {},
   "source": [
    "#### Preferred Skills\n",
    "\n",
    "* Required for data analysis:  Yes to answer `What are the highest paid skills in the US market?`\n"
   ]
  },
  {
   "cell_type": "code",
   "execution_count": 62,
   "metadata": {},
   "outputs": [
    {
     "name": "stdout",
     "output_type": "stream",
     "text": [
      "+------------------------------------------------------------------------------------------------------------------------------------------------------------------------------------------------------------------------------------------------------------------------------------------------------------------------------------------------------------------------------------------------------------------------------------------------------------------------------------------------------------------------------------------------------------------------------------------------------------------------------------------------------------------------------------------------------------------------------------------------------------------------------------------------------------------------------------------------------------------------------------------------------------------------------------------------------------------------------------------------------------------------------------------------------------------------------------------------------------------------------------------------------------------------------------------------------------------------------------------------------------------------------------------------------------------------------------------------------------------------------------------+\n",
      "|Preferred Skills                                                                                                                                                                                                                                                                                                                                                                                                                                                                                                                                                                                                                                                                                                                                                                                                                                                                                                                                                                                                                                                                                                                                                                                                                                                                                                                                                                          |\n",
      "+------------------------------------------------------------------------------------------------------------------------------------------------------------------------------------------------------------------------------------------------------------------------------------------------------------------------------------------------------------------------------------------------------------------------------------------------------------------------------------------------------------------------------------------------------------------------------------------------------------------------------------------------------------------------------------------------------------------------------------------------------------------------------------------------------------------------------------------------------------------------------------------------------------------------------------------------------------------------------------------------------------------------------------------------------------------------------------------------------------------------------------------------------------------------------------------------------------------------------------------------------------------------------------------------------------------------------------------------------------------------------------------+\n",
      "| all candidates must have at least one year of experience as described in \"\"1\"\" above.\"                                                                                                                                                                                                                                                                                                                                                                                                                                                                                                                                                                                                                                                                                                                                                                                                                                                                                                                                                                                                                                                                                                                                                                                                                                                                                                   |\n",
      "|null                                                                                                                                                                                                                                                                                                                                                                                                                                                                                                                                                                                                                                                                                                                                                                                                                                                                                                                                                                                                                                                                                                                                                                                                                                                                                                                                                                                      |\n",
      "|Preferred candidate has significate child protective experience in the field and has also appeared in court, testifying often. Candidate should be comfortable using multiple computer databases including Connections and LTS.                                                                                                                                                                                                                                                                                                                                                                                                                                                                                                                                                                                                                                                                                                                                                                                                                                                                                                                                                                                                                                                                                                                                                           |\n",
      "| including one year in a project leader capacity or as a major contributor on a complex project; or  (3) A satisfactory combination of education and experience that is equivalent to (1) or (2) above. College education may be substituted for up to two years of the required experience in (2) above on the basis that sixty (60) semester credits from an accredited college is equated to one year of experience. A masters degree in computer science or a related computer field may be substituted for one year of the required experience in (1) or (2) above. However                                                                                                                                                                                                                                                                                                                                                                                                                                                                                                                                                                                                                                                                                                                                                                                                          |\n",
      "|The preferred candidate should possess the following: â€¢\tAcademic or professional experience with report writing and editing; â€¢\tA passion for technology and innovation; â€¢\tStrong written, verbal, and visual communication skills; â€¢\tExperience working in a high-pressure environments and meeting deadlines; â€¢\tCollaborative nature; â€¢\tA growth mindset.                                                                                                                                                                                                                                                                                                                                                                                                                                                                                                                                                                                                                                                                                                                                                                                                                                                                                                                                                                                                                    |\n",
      "|The preferred candidate should possess the following: â€¢\tExcellent verbal and oral communication skills are required; â€¢\tAbility to analyze malware; â€¢\tAbility to conduct vulnerability scans and recognize vulnerabilities in security systems; â€¢\tAbility to accurately and completely source all data used in intelligence, assessment and/or planning products; â€¢\tAbility to apply cybersecurity and privacy principles to organizational requirements (relevant to confidentiality, integrity, availability, authentication, non-repudiation); â€¢\tAbility to apply techniques for detecting host and network-based intrusions using intrusion detection technologies; â€¢\tAbility to interpret the information collected by network tools (e.g. Nslookup, Ping, and Traceroute).                                                                                                                                                                                                                                                                                                                                                                                                                                                                                                                                                                                             |\n",
      "|QUALIFICATIONS:  â€¢\tAbility to provide hands-on administration of fiscal operations in accordance with Federal standards.  â€¢\tPrior experience and a thorough understanding of the Federal regulations and statutes regarding Federal grants to State and Local Governments - specific knowledge of the Federal disaster program guidance (FEMA-PA, FEMA 404, FEMA PAAP, including 44 CFR and OMB Circular A-87) preferred. â€¢\tAdvanced fiscal knowledge and skills that encompass budget and program analysis, expenditure tracking, revenue exercises and Federal grants are preferred. â€¢\tPrior experience with FMS is required. Prior experience with Intuit Quick Base or other database software and computer programming experience is preferred. â€¢\tExceptional organizational, research, and analytic skills. â€¢\tExceptional interpersonal skills and an ability to maintain working relationships with staff and other internal and external colleagues at all levels with utmost professionalism. â€¢\tOutstanding written and oral communication skills, including public speaking and presentation. â€¢\tAbility to be a self-motivator, to motivate others, and to work independently. Must be able to work calmly and proficiently under pressure and to adhere to strict deadlines. â€¢\tFlexibility to work late nights and/or weekends during time sensitive periods.|\n",
      "| including the 18 months of executive                                                                                                                                                                                                                                                                                                                                                                                                                                                                                                                                                                                                                                                                                                                                                                                                                                                                                                                                                                                                                                                                                                                                                                                                                                                                                                                                                     |\n",
      "| all candidates must have at least one year of satisfactory (not classroom based) full-time information technology experience as described in \"\"1\"\" above.                                          Note:  In addition to meeting the minimum Qualification Requirements: Incumbents may be required to update existing and/or obtain additional professional industry-standard certification(s) for current and future technical environments(s) in which they may be assigned to work                                                                                                                                                                                                                                                                                                                                                                                                                                                                                                                                                                                                                                                                                                                                                                                                                                                                                                   |\n",
      "|â€¢\tExperience in the planning, layout and details of contract drawings, specifications, field inspections and investigations.    â€¢\tExperience in the design of site plans and storm water management.   â€¢\tExperience in the application of code requirements and preparation of technical reports, and related design software applications.  â€¢\tExcellent communication and leadership skills.  â€¢\tProficient with Microsoft Word and Excel Applications.                                                                                                                                                                                                                                                                                                                                                                                                                                                                                                                                                                                                                                                                                                                                                                                                                                                                                                                         |\n",
      "|Expert in AutoCAD, AutoTurn and ArcGIS.  Experience with BIM, MicroStation, Inroads, ProjectWise, engineering document management, data science, coding, quality control and project management are a plus.                                                                                                                                                                                                                                                                                                                                                                                                                                                                                                                                                                                                                                                                                                                                                                                                                                                                                                                                                                                                                                                                                                                                                                               |\n",
      "|ERROR: #NAME?                                                                                                                                                                                                                                                                                                                                                                                                                                                                                                                                                                                                                                                                                                                                                                                                                                                                                                                                                                                                                                                                                                                                                                                                                                                                                                                                                                             |\n",
      "|â€¢ Experience working with design contractors and governmental agencies specific to    the construction of correctional facilities. â€¢ Experience with large complex projects with varied stakeholders and various methods    of construction procurement (DBOM, PPP, Design/Build, etc).  â€¢ Extensive knowledge of local, federal, and state project approvals, permitting, and    regulatory processes. â€¢ Superior organizational and multi-tasking skills, including the ability to take initiative    and work independently on tasks with broadly-defined objectives.    â€¢ Ability to apply strategic critical thinking and problem-solving skills to complex and    dynamic situations; strong research and analytic skills.   â€¢ In-depth knowledge of modern principles and practices in correctional administration,    management and operations; inmate housing and classification, correctional facility    security and emergency response operations.                                                                                                                                                                                                                                                                                                                                                                                                              |\n",
      "| to be eligible for placement in Assignment Levels II and III                                                                                                                                                                                                                                                                                                                                                                                                                                                                                                                                                                                                                                                                                                                                                                                                                                                                                                                                                                                                                                                                                                                                                                                                                                                                                                                             |\n",
      "|Preference given to candidates possessing CDL Class B license.  Ability to work in all types of inclement weather.                                                                                                                                                                                                                                                                                                                                                                                                                                                                                                                                                                                                                                                                                                                                                                                                                                                                                                                                                                                                                                                                                                                                                                                                                                                                        |\n",
      "|â€¢The Deputy Chief is expected to be a strategic thinker, anticipating issues or trends and must be open to new approaches and technologies while also thinking from an evidence based policing mindset understanding the needs of the for-hire industry, the City of New York and the public safety community. â€¢The Deputy Chief is expected to have the mentorship skills and a clear understanding or resource allocation while avoiding micromanagement. â€¢Experience managing groups of teams/squads within the context of a complex law enforcement organization with the ability to manage Administrative resources (staffing, equipment, officer wellness, etc.) to develop innovative enforcement initiatives and enhance staff morale.    â€¢Prior experience with an accredited law enforcement agency, and/or managing Peace Officer Operations â€¢Military Service managing security operations. â€¢The ability to manage up and develop uniform first-line and middle-management personnel. â€¢3 to 5 years supervisory experience. â€¢Able to work overnight and midnight shifts which may include weekends                                                                                                                                                                                                                                                            |\n",
      "| city planning                                                                                                                                                                                                                                                                                                                                                                                                                                                                                                                                                                                                                                                                                                                                                                                                                                                                                                                                                                                                                                                                                                                                                                                                                                                                                                                                                                            |\n",
      "|1.\tStrong knowledge of ecological, environmental, and forestry principles, government operations, and Parksâ€™ busi-ness processes and operations. 2.\tDemonstrated success in supervision, project management, and utilization of data for supporting operations and management planning. 3.\tExtensive experience using GIS and database software, specifically ArcGIS and SQL.  Strong computer software experience with analytical and data visualization software for analytics, data visualization, and related product de-velopment. 4.\tStrong familiarity with best practices in scoping technology projects to translate management goals into project priorities for technical staff. 5.\tExperience developing metrics and implementing reporting procedures for performance tracking. 6.\tStrong skills in communication, facilitation of technical discussions with non-specialists, technical documentation, and organization. 7.\tA driver license valid in New York State.                                                                                                                                                                                                                                                                                                                                                                                                     |\n",
      "| all candidates must have at least one year of experience as described in \"\"1\"\" above.\"                                                                                                                                                                                                                                                                                                                                                                                                                                                                                                                                                                                                                                                                                                                                                                                                                                                                                                                                                                                                                                                                                                                                                                                                                                                                                                   |\n",
      "| city planning                                                                                                                                                                                                                                                                                                                                                                                                                                                                                                                                                                                                                                                                                                                                                                                                                                                                                                                                                                                                                                                                                                                                                                                                                                                                                                                                                                            |\n",
      "+------------------------------------------------------------------------------------------------------------------------------------------------------------------------------------------------------------------------------------------------------------------------------------------------------------------------------------------------------------------------------------------------------------------------------------------------------------------------------------------------------------------------------------------------------------------------------------------------------------------------------------------------------------------------------------------------------------------------------------------------------------------------------------------------------------------------------------------------------------------------------------------------------------------------------------------------------------------------------------------------------------------------------------------------------------------------------------------------------------------------------------------------------------------------------------------------------------------------------------------------------------------------------------------------------------------------------------------------------------------------------------------+\n",
      "only showing top 20 rows\n",
      "\n"
     ]
    }
   ],
   "source": [
    "dedupd_df.select(\"Preferred Skills\").show(truncate=False)"
   ]
  },
  {
   "cell_type": "markdown",
   "metadata": {},
   "source": [
    "This is a free text field.  Not sure how to get best value for my analysis.  To be honest, I have noticed the requirement for `What are the highest paid skills in the US market?` at the last hour so to speak.   So not sure what I will do, see [Reports](Reports.ipynb##highest_paid_skills)"
   ]
  },
  {
   "cell_type": "markdown",
   "metadata": {},
   "source": [
    "#### Additional Information\n",
    "\n",
    "* Required for data analysis:  No\n"
   ]
  },
  {
   "cell_type": "markdown",
   "metadata": {},
   "source": [
    "#### To Apply\n",
    "\n",
    "* Required for data analysis:  No\n"
   ]
  },
  {
   "cell_type": "markdown",
   "metadata": {},
   "source": [
    "#### Hours/Shift\n",
    "\n",
    "* Required for data analysis:  No.\n",
    "    \n",
    "Will need to calculate salary in the case of hourly or monthly paid emplyees and ignore this column"
   ]
  },
  {
   "cell_type": "code",
   "execution_count": 63,
   "metadata": {},
   "outputs": [
    {
     "name": "stdout",
     "output_type": "stream",
     "text": [
      "+--------------------+----------------+\n",
      "|         Hours/Shift|Salary Frequency|\n",
      "+--------------------+----------------+\n",
      "|\"Click on the \"\"A...|          Annual|\n",
      "|                null|           Daily|\n",
      "|                null|          Annual|\n",
      "| you must explain...|          Annual|\n",
      "|Day - Due to the ...|          Annual|\n",
      "|Day - Due to the ...|          Annual|\n",
      "|                null|          Annual|\n",
      "| as described in ...|          Annual|\n",
      "|                null|          Annual|\n",
      "|                null|          Annual|\n",
      "|35 Hours/To be de...|          Annual|\n",
      "|                null|          Annual|\n",
      "|                null|          Annual|\n",
      "|Appointments are ...|          Annual|\n",
      "|  40 hours / Various|          Annual|\n",
      "|                null|          Annual|\n",
      "|        architecture|          Annual|\n",
      "|                null|          Annual|\n",
      "|       Apply Online.|          Annual|\n",
      "|        architecture|          Annual|\n",
      "+--------------------+----------------+\n",
      "only showing top 20 rows\n",
      "\n"
     ]
    }
   ],
   "source": [
    "dedupd_df.select([\"Hours/Shift\",\"Salary Frequency\"]).show()"
   ]
  },
  {
   "cell_type": "code",
   "execution_count": 64,
   "metadata": {},
   "outputs": [
    {
     "data": {
      "text/html": [
       "<div>\n",
       "<style scoped>\n",
       "    .dataframe tbody tr th:only-of-type {\n",
       "        vertical-align: middle;\n",
       "    }\n",
       "\n",
       "    .dataframe tbody tr th {\n",
       "        vertical-align: top;\n",
       "    }\n",
       "\n",
       "    .dataframe thead th {\n",
       "        text-align: right;\n",
       "    }\n",
       "</style>\n",
       "<table border=\"1\" class=\"dataframe\">\n",
       "  <thead>\n",
       "    <tr style=\"text-align: right;\">\n",
       "      <th></th>\n",
       "      <th>Hours/Shift</th>\n",
       "      <th>Salary Frequency</th>\n",
       "    </tr>\n",
       "  </thead>\n",
       "  <tbody>\n",
       "    <tr>\n",
       "      <th>0</th>\n",
       "      <td>None</td>\n",
       "      <td>Hourly</td>\n",
       "    </tr>\n",
       "    <tr>\n",
       "      <th>1</th>\n",
       "      <td>None</td>\n",
       "      <td>Hourly</td>\n",
       "    </tr>\n",
       "    <tr>\n",
       "      <th>2</th>\n",
       "      <td>None</td>\n",
       "      <td>Hourly</td>\n",
       "    </tr>\n",
       "    <tr>\n",
       "      <th>3</th>\n",
       "      <td>Up to 17 hours/week while school is in session...</td>\n",
       "      <td>Hourly</td>\n",
       "    </tr>\n",
       "    <tr>\n",
       "      <th>4</th>\n",
       "      <td>None</td>\n",
       "      <td>Hourly</td>\n",
       "    </tr>\n",
       "    <tr>\n",
       "      <th>...</th>\n",
       "      <td>...</td>\n",
       "      <td>...</td>\n",
       "    </tr>\n",
       "    <tr>\n",
       "      <th>94</th>\n",
       "      <td>None</td>\n",
       "      <td>Hourly</td>\n",
       "    </tr>\n",
       "    <tr>\n",
       "      <th>95</th>\n",
       "      <td>None</td>\n",
       "      <td>Hourly</td>\n",
       "    </tr>\n",
       "    <tr>\n",
       "      <th>96</th>\n",
       "      <td>This is a part time position.  20 hours per week.</td>\n",
       "      <td>Hourly</td>\n",
       "    </tr>\n",
       "    <tr>\n",
       "      <th>97</th>\n",
       "      <td>Monday-Friday   35 hours per week</td>\n",
       "      <td>Hourly</td>\n",
       "    </tr>\n",
       "    <tr>\n",
       "      <th>98</th>\n",
       "      <td>all candidates must have a minimum of two yea...</td>\n",
       "      <td>Hourly</td>\n",
       "    </tr>\n",
       "  </tbody>\n",
       "</table>\n",
       "<p>99 rows × 2 columns</p>\n",
       "</div>"
      ],
      "text/plain": [
       "                                          Hours/Shift Salary Frequency\n",
       "0                                                None           Hourly\n",
       "1                                                None           Hourly\n",
       "2                                                None           Hourly\n",
       "3   Up to 17 hours/week while school is in session...           Hourly\n",
       "4                                                None           Hourly\n",
       "..                                                ...              ...\n",
       "94                                               None           Hourly\n",
       "95                                               None           Hourly\n",
       "96  This is a part time position.  20 hours per week.           Hourly\n",
       "97                  Monday-Friday   35 hours per week           Hourly\n",
       "98   all candidates must have a minimum of two yea...           Hourly\n",
       "\n",
       "[99 rows x 2 columns]"
      ]
     },
     "execution_count": 64,
     "metadata": {},
     "output_type": "execute_result"
    }
   ],
   "source": [
    "dedupd_df.select([\"Hours/Shift\",\"Salary Frequency\"]).where(F.col('Salary Frequency') == 'Hourly').toPandas()"
   ]
  },
  {
   "cell_type": "code",
   "execution_count": 65,
   "metadata": {},
   "outputs": [
    {
     "data": {
      "text/html": [
       "<div>\n",
       "<style scoped>\n",
       "    .dataframe tbody tr th:only-of-type {\n",
       "        vertical-align: middle;\n",
       "    }\n",
       "\n",
       "    .dataframe tbody tr th {\n",
       "        vertical-align: top;\n",
       "    }\n",
       "\n",
       "    .dataframe thead th {\n",
       "        text-align: right;\n",
       "    }\n",
       "</style>\n",
       "<table border=\"1\" class=\"dataframe\">\n",
       "  <thead>\n",
       "    <tr style=\"text-align: right;\">\n",
       "      <th></th>\n",
       "      <th>Hours/Shift</th>\n",
       "      <th>Salary Frequency</th>\n",
       "    </tr>\n",
       "  </thead>\n",
       "  <tbody>\n",
       "    <tr>\n",
       "      <th>0</th>\n",
       "      <td>None</td>\n",
       "      <td>Daily</td>\n",
       "    </tr>\n",
       "    <tr>\n",
       "      <th>1</th>\n",
       "      <td>None</td>\n",
       "      <td>Daily</td>\n",
       "    </tr>\n",
       "    <tr>\n",
       "      <th>2</th>\n",
       "      <td>the U.S. Department of Labor or any apprentic...</td>\n",
       "      <td>Daily</td>\n",
       "    </tr>\n",
       "    <tr>\n",
       "      <th>3</th>\n",
       "      <td>with a major in Water Quality  Monitoring</td>\n",
       "      <td>Daily</td>\n",
       "    </tr>\n",
       "    <tr>\n",
       "      <th>4</th>\n",
       "      <td>None</td>\n",
       "      <td>Daily</td>\n",
       "    </tr>\n",
       "    <tr>\n",
       "      <th>5</th>\n",
       "      <td>This position is open to qualified persons wit...</td>\n",
       "      <td>Daily</td>\n",
       "    </tr>\n",
       "    <tr>\n",
       "      <th>6</th>\n",
       "      <td>None</td>\n",
       "      <td>Daily</td>\n",
       "    </tr>\n",
       "    <tr>\n",
       "      <th>7</th>\n",
       "      <td>with a major in Water Quality  Monitoring</td>\n",
       "      <td>Daily</td>\n",
       "    </tr>\n",
       "    <tr>\n",
       "      <th>8</th>\n",
       "      <td>TO APPLY, PLEASE SUBMIT RESUME WITH COVER LETT...</td>\n",
       "      <td>Daily</td>\n",
       "    </tr>\n",
       "    <tr>\n",
       "      <th>9</th>\n",
       "      <td>NOTE: This position is open to qualified perso...</td>\n",
       "      <td>Daily</td>\n",
       "    </tr>\n",
       "    <tr>\n",
       "      <th>10</th>\n",
       "      <td>None</td>\n",
       "      <td>Daily</td>\n",
       "    </tr>\n",
       "    <tr>\n",
       "      <th>11</th>\n",
       "      <td>To Be Determined</td>\n",
       "      <td>Daily</td>\n",
       "    </tr>\n",
       "    <tr>\n",
       "      <th>12</th>\n",
       "      <td>To Be Determined / 40 hours per week</td>\n",
       "      <td>Daily</td>\n",
       "    </tr>\n",
       "    <tr>\n",
       "      <th>13</th>\n",
       "      <td>None</td>\n",
       "      <td>Daily</td>\n",
       "    </tr>\n",
       "    <tr>\n",
       "      <th>14</th>\n",
       "      <td>40 Hours / Monday-Friday; plus overtime</td>\n",
       "      <td>Daily</td>\n",
       "    </tr>\n",
       "    <tr>\n",
       "      <th>15</th>\n",
       "      <td>None</td>\n",
       "      <td>Daily</td>\n",
       "    </tr>\n",
       "    <tr>\n",
       "      <th>16</th>\n",
       "      <td>None</td>\n",
       "      <td>Daily</td>\n",
       "    </tr>\n",
       "    <tr>\n",
       "      <th>17</th>\n",
       "      <td>35 Hours / Shift To Be Determined</td>\n",
       "      <td>Daily</td>\n",
       "    </tr>\n",
       "    <tr>\n",
       "      <th>18</th>\n",
       "      <td>None</td>\n",
       "      <td>Daily</td>\n",
       "    </tr>\n",
       "    <tr>\n",
       "      <th>19</th>\n",
       "      <td>To be determined / 40 Hour per week</td>\n",
       "      <td>Daily</td>\n",
       "    </tr>\n",
       "    <tr>\n",
       "      <th>20</th>\n",
       "      <td>with a major in Water Quality  Monitoring</td>\n",
       "      <td>Daily</td>\n",
       "    </tr>\n",
       "    <tr>\n",
       "      <th>21</th>\n",
       "      <td>40 hours per week / rotating shifts</td>\n",
       "      <td>Daily</td>\n",
       "    </tr>\n",
       "  </tbody>\n",
       "</table>\n",
       "</div>"
      ],
      "text/plain": [
       "                                          Hours/Shift Salary Frequency\n",
       "0                                                None            Daily\n",
       "1                                                None            Daily\n",
       "2    the U.S. Department of Labor or any apprentic...            Daily\n",
       "3           with a major in Water Quality  Monitoring            Daily\n",
       "4                                                None            Daily\n",
       "5   This position is open to qualified persons wit...            Daily\n",
       "6                                                None            Daily\n",
       "7           with a major in Water Quality  Monitoring            Daily\n",
       "8   TO APPLY, PLEASE SUBMIT RESUME WITH COVER LETT...            Daily\n",
       "9   NOTE: This position is open to qualified perso...            Daily\n",
       "10                                               None            Daily\n",
       "11                                   To Be Determined            Daily\n",
       "12               To Be Determined / 40 hours per week            Daily\n",
       "13                                               None            Daily\n",
       "14            40 Hours / Monday-Friday; plus overtime            Daily\n",
       "15                                               None            Daily\n",
       "16                                               None            Daily\n",
       "17                  35 Hours / Shift To Be Determined            Daily\n",
       "18                                               None            Daily\n",
       "19                To be determined / 40 Hour per week            Daily\n",
       "20          with a major in Water Quality  Monitoring            Daily\n",
       "21                40 hours per week / rotating shifts            Daily"
      ]
     },
     "execution_count": 65,
     "metadata": {},
     "output_type": "execute_result"
    }
   ],
   "source": [
    "dedupd_df.select([\"Hours/Shift\",\"Salary Frequency\"]).where(F.col('Salary Frequency') == 'Daily').toPandas()"
   ]
  },
  {
   "cell_type": "markdown",
   "metadata": {},
   "source": [
    "* _tricky_ function required here.  Need to decide how to rationalise the salary based upon payment frequency.   Its not going to be correct to assume that hourly paid roles are going to do 40 hrs / week.  \n",
    "\n",
    "I will instead, use the statistics I've found in the following link and work out the salary as follows:\n",
    "\n",
    "[Average Working Hours \\(Statistical Data 2021\\)](https://clockify.me/working-hours)\n",
    "\n",
    "- for Annually paid roles, I'll calculate an hourly rate base upon USA avg hrs / year: 1757, e.g. $100k -> $56 per hour\n",
    "- for Daily paid roles, I'll calculate an hourly rate base upon 8 hrs / day\n",
    "- for Hourly paid roles, I'll use the raw data.\n",
    "\n",
    "This may be me skewed results, for example there _may_ be a role that demands only 5 hours a week but its very well paid.  The employee's real annual wage would be extremely low, but in my calculation this role would be relatively well paid.  I will have to look at the data after applying the proposed formula above.\n",
    "\n",
    "\n"
   ]
  },
  {
   "cell_type": "markdown",
   "metadata": {},
   "source": [
    "* Also, there are many hourly and daily paid jobs where the number of hours are not specified in \"Hours/Shift\"\n",
    "\n",
    "Maybe these columns have that info:\n",
    "\n",
    "- Job Description\n",
    "\n",
    "- Additional Information\n",
    "\n",
    "But we can see from the samples below that \n"
   ]
  },
  {
   "cell_type": "code",
   "execution_count": 66,
   "metadata": {},
   "outputs": [
    {
     "data": {
      "text/html": [
       "<div>\n",
       "<style scoped>\n",
       "    .dataframe tbody tr th:only-of-type {\n",
       "        vertical-align: middle;\n",
       "    }\n",
       "\n",
       "    .dataframe tbody tr th {\n",
       "        vertical-align: top;\n",
       "    }\n",
       "\n",
       "    .dataframe thead th {\n",
       "        text-align: right;\n",
       "    }\n",
       "</style>\n",
       "<table border=\"1\" class=\"dataframe\">\n",
       "  <thead>\n",
       "    <tr style=\"text-align: right;\">\n",
       "      <th></th>\n",
       "      <th>Hours/Shift</th>\n",
       "      <th>Salary Frequency</th>\n",
       "      <th>Job Description</th>\n",
       "      <th>Additional Information</th>\n",
       "    </tr>\n",
       "  </thead>\n",
       "  <tbody>\n",
       "    <tr>\n",
       "      <th>0</th>\n",
       "      <td>None</td>\n",
       "      <td>Hourly</td>\n",
       "      <td>NYC Parks is the steward of over 30,000 acres ...</td>\n",
       "      <td>Approximate start date: May 15, 2020.  Positio...</td>\n",
       "    </tr>\n",
       "    <tr>\n",
       "      <th>1</th>\n",
       "      <td>None</td>\n",
       "      <td>Hourly</td>\n",
       "      <td>** 30- 35 Hours Part-time      The Office of S...</td>\n",
       "      <td>Must follow all safety, security, Blood-borne ...</td>\n",
       "    </tr>\n",
       "    <tr>\n",
       "      <th>2</th>\n",
       "      <td>None</td>\n",
       "      <td>Hourly</td>\n",
       "      <td>The TLC is looking for four responsible Colleg...</td>\n",
       "      <td>None</td>\n",
       "    </tr>\n",
       "    <tr>\n",
       "      <th>3</th>\n",
       "      <td>None</td>\n",
       "      <td>Hourly</td>\n",
       "      <td>The Bureau of Sexually Transmitted Infections ...</td>\n",
       "      <td>**IMPORTANT NOTES TO ALL CANDIDATES:  Please n...</td>\n",
       "    </tr>\n",
       "    <tr>\n",
       "      <th>4</th>\n",
       "      <td>None</td>\n",
       "      <td>Hourly</td>\n",
       "      <td>DIVISION:\\t\\tTechnical Services â€“ Asset Mana...</td>\n",
       "      <td>REQUIREMENTS:  College Aide ($15.75): Students...</td>\n",
       "    </tr>\n",
       "    <tr>\n",
       "      <th>...</th>\n",
       "      <td>...</td>\n",
       "      <td>...</td>\n",
       "      <td>...</td>\n",
       "      <td>...</td>\n",
       "    </tr>\n",
       "    <tr>\n",
       "      <th>58</th>\n",
       "      <td>None</td>\n",
       "      <td>Hourly</td>\n",
       "      <td>Responsibilities of selected candidates will i...</td>\n",
       "      <td>SPECIAL NOTE:    1.  This is a temporary assig...</td>\n",
       "    </tr>\n",
       "    <tr>\n",
       "      <th>59</th>\n",
       "      <td>None</td>\n",
       "      <td>Hourly</td>\n",
       "      <td>The New York City Taxi and Limousine Commissio...</td>\n",
       "      <td>None</td>\n",
       "    </tr>\n",
       "    <tr>\n",
       "      <th>60</th>\n",
       "      <td>None</td>\n",
       "      <td>Hourly</td>\n",
       "      <td>New York City is home to approximately 1.64 mi...</td>\n",
       "      <td>None</td>\n",
       "    </tr>\n",
       "    <tr>\n",
       "      <th>61</th>\n",
       "      <td>None</td>\n",
       "      <td>Hourly</td>\n",
       "      <td>Under supervision, prepare and apply plasterin...</td>\n",
       "      <td>Candidates will be required to take and pass a...</td>\n",
       "    </tr>\n",
       "    <tr>\n",
       "      <th>62</th>\n",
       "      <td>None</td>\n",
       "      <td>Hourly</td>\n",
       "      <td>The NYC Department of Environmental Protection...</td>\n",
       "      <td>Appointments are subject to OMB approval.  For...</td>\n",
       "    </tr>\n",
       "  </tbody>\n",
       "</table>\n",
       "<p>63 rows × 4 columns</p>\n",
       "</div>"
      ],
      "text/plain": [
       "   Hours/Shift Salary Frequency  \\\n",
       "0         None           Hourly   \n",
       "1         None           Hourly   \n",
       "2         None           Hourly   \n",
       "3         None           Hourly   \n",
       "4         None           Hourly   \n",
       "..         ...              ...   \n",
       "58        None           Hourly   \n",
       "59        None           Hourly   \n",
       "60        None           Hourly   \n",
       "61        None           Hourly   \n",
       "62        None           Hourly   \n",
       "\n",
       "                                      Job Description  \\\n",
       "0   NYC Parks is the steward of over 30,000 acres ...   \n",
       "1   ** 30- 35 Hours Part-time      The Office of S...   \n",
       "2   The TLC is looking for four responsible Colleg...   \n",
       "3   The Bureau of Sexually Transmitted Infections ...   \n",
       "4   DIVISION:\\t\\tTechnical Services â€“ Asset Mana...   \n",
       "..                                                ...   \n",
       "58  Responsibilities of selected candidates will i...   \n",
       "59  The New York City Taxi and Limousine Commissio...   \n",
       "60  New York City is home to approximately 1.64 mi...   \n",
       "61  Under supervision, prepare and apply plasterin...   \n",
       "62  The NYC Department of Environmental Protection...   \n",
       "\n",
       "                               Additional Information  \n",
       "0   Approximate start date: May 15, 2020.  Positio...  \n",
       "1   Must follow all safety, security, Blood-borne ...  \n",
       "2                                                None  \n",
       "3   **IMPORTANT NOTES TO ALL CANDIDATES:  Please n...  \n",
       "4   REQUIREMENTS:  College Aide ($15.75): Students...  \n",
       "..                                                ...  \n",
       "58  SPECIAL NOTE:    1.  This is a temporary assig...  \n",
       "59                                               None  \n",
       "60                                               None  \n",
       "61  Candidates will be required to take and pass a...  \n",
       "62  Appointments are subject to OMB approval.  For...  \n",
       "\n",
       "[63 rows x 4 columns]"
      ]
     },
     "execution_count": 66,
     "metadata": {},
     "output_type": "execute_result"
    }
   ],
   "source": [
    "dedupd_df.select([\"Hours/Shift\",\"Salary Frequency\",\"Job Description\",\"Additional Information\"]).\\\n",
    "    where(F.col('Salary Frequency') == 'Hourly').\\\n",
    "    where(F.col('Hours/Shift').isNull()).toPandas()"
   ]
  },
  {
   "cell_type": "code",
   "execution_count": 67,
   "metadata": {
    "scrolled": true
   },
   "outputs": [
    {
     "data": {
      "text/html": [
       "<div>\n",
       "<style scoped>\n",
       "    .dataframe tbody tr th:only-of-type {\n",
       "        vertical-align: middle;\n",
       "    }\n",
       "\n",
       "    .dataframe tbody tr th {\n",
       "        vertical-align: top;\n",
       "    }\n",
       "\n",
       "    .dataframe thead th {\n",
       "        text-align: right;\n",
       "    }\n",
       "</style>\n",
       "<table border=\"1\" class=\"dataframe\">\n",
       "  <thead>\n",
       "    <tr style=\"text-align: right;\">\n",
       "      <th></th>\n",
       "      <th>Hours/Shift</th>\n",
       "      <th>Salary Frequency</th>\n",
       "      <th>Job Description</th>\n",
       "      <th>Additional Information</th>\n",
       "    </tr>\n",
       "  </thead>\n",
       "  <tbody>\n",
       "    <tr>\n",
       "      <th>0</th>\n",
       "      <td>None</td>\n",
       "      <td>Hourly</td>\n",
       "      <td>NYC Parks is the steward of over 30,000 acres ...</td>\n",
       "      <td>Approximate start date: May 15, 2020.  Positio...</td>\n",
       "    </tr>\n",
       "    <tr>\n",
       "      <th>1</th>\n",
       "      <td>None</td>\n",
       "      <td>Hourly</td>\n",
       "      <td>** 30- 35 Hours Part-time      The Office of S...</td>\n",
       "      <td>Must follow all safety, security, Blood-borne ...</td>\n",
       "    </tr>\n",
       "    <tr>\n",
       "      <th>2</th>\n",
       "      <td>None</td>\n",
       "      <td>Hourly</td>\n",
       "      <td>The TLC is looking for four responsible Colleg...</td>\n",
       "      <td>None</td>\n",
       "    </tr>\n",
       "    <tr>\n",
       "      <th>3</th>\n",
       "      <td>None</td>\n",
       "      <td>Hourly</td>\n",
       "      <td>The Bureau of Sexually Transmitted Infections ...</td>\n",
       "      <td>**IMPORTANT NOTES TO ALL CANDIDATES:  Please n...</td>\n",
       "    </tr>\n",
       "    <tr>\n",
       "      <th>4</th>\n",
       "      <td>None</td>\n",
       "      <td>Hourly</td>\n",
       "      <td>DIVISION:\\t\\tTechnical Services â€“ Asset Mana...</td>\n",
       "      <td>REQUIREMENTS:  College Aide ($15.75): Students...</td>\n",
       "    </tr>\n",
       "    <tr>\n",
       "      <th>...</th>\n",
       "      <td>...</td>\n",
       "      <td>...</td>\n",
       "      <td>...</td>\n",
       "      <td>...</td>\n",
       "    </tr>\n",
       "    <tr>\n",
       "      <th>58</th>\n",
       "      <td>None</td>\n",
       "      <td>Hourly</td>\n",
       "      <td>Responsibilities of selected candidates will i...</td>\n",
       "      <td>SPECIAL NOTE:    1.  This is a temporary assig...</td>\n",
       "    </tr>\n",
       "    <tr>\n",
       "      <th>59</th>\n",
       "      <td>None</td>\n",
       "      <td>Hourly</td>\n",
       "      <td>The New York City Taxi and Limousine Commissio...</td>\n",
       "      <td>None</td>\n",
       "    </tr>\n",
       "    <tr>\n",
       "      <th>60</th>\n",
       "      <td>None</td>\n",
       "      <td>Hourly</td>\n",
       "      <td>New York City is home to approximately 1.64 mi...</td>\n",
       "      <td>None</td>\n",
       "    </tr>\n",
       "    <tr>\n",
       "      <th>61</th>\n",
       "      <td>None</td>\n",
       "      <td>Hourly</td>\n",
       "      <td>Under supervision, prepare and apply plasterin...</td>\n",
       "      <td>Candidates will be required to take and pass a...</td>\n",
       "    </tr>\n",
       "    <tr>\n",
       "      <th>62</th>\n",
       "      <td>None</td>\n",
       "      <td>Hourly</td>\n",
       "      <td>The NYC Department of Environmental Protection...</td>\n",
       "      <td>Appointments are subject to OMB approval.  For...</td>\n",
       "    </tr>\n",
       "  </tbody>\n",
       "</table>\n",
       "<p>63 rows × 4 columns</p>\n",
       "</div>"
      ],
      "text/plain": [
       "   Hours/Shift Salary Frequency  \\\n",
       "0         None           Hourly   \n",
       "1         None           Hourly   \n",
       "2         None           Hourly   \n",
       "3         None           Hourly   \n",
       "4         None           Hourly   \n",
       "..         ...              ...   \n",
       "58        None           Hourly   \n",
       "59        None           Hourly   \n",
       "60        None           Hourly   \n",
       "61        None           Hourly   \n",
       "62        None           Hourly   \n",
       "\n",
       "                                      Job Description  \\\n",
       "0   NYC Parks is the steward of over 30,000 acres ...   \n",
       "1   ** 30- 35 Hours Part-time      The Office of S...   \n",
       "2   The TLC is looking for four responsible Colleg...   \n",
       "3   The Bureau of Sexually Transmitted Infections ...   \n",
       "4   DIVISION:\\t\\tTechnical Services â€“ Asset Mana...   \n",
       "..                                                ...   \n",
       "58  Responsibilities of selected candidates will i...   \n",
       "59  The New York City Taxi and Limousine Commissio...   \n",
       "60  New York City is home to approximately 1.64 mi...   \n",
       "61  Under supervision, prepare and apply plasterin...   \n",
       "62  The NYC Department of Environmental Protection...   \n",
       "\n",
       "                               Additional Information  \n",
       "0   Approximate start date: May 15, 2020.  Positio...  \n",
       "1   Must follow all safety, security, Blood-borne ...  \n",
       "2                                                None  \n",
       "3   **IMPORTANT NOTES TO ALL CANDIDATES:  Please n...  \n",
       "4   REQUIREMENTS:  College Aide ($15.75): Students...  \n",
       "..                                                ...  \n",
       "58  SPECIAL NOTE:    1.  This is a temporary assig...  \n",
       "59                                               None  \n",
       "60                                               None  \n",
       "61  Candidates will be required to take and pass a...  \n",
       "62  Appointments are subject to OMB approval.  For...  \n",
       "\n",
       "[63 rows x 4 columns]"
      ]
     },
     "execution_count": 67,
     "metadata": {},
     "output_type": "execute_result"
    }
   ],
   "source": [
    "dedupd_df.select([\"Hours/Shift\",\"Salary Frequency\",\"Job Description\",\"Additional Information\"]).\\\n",
    "    where(F.col('Salary Frequency') == 'Hourly').\\\n",
    "    where(F.col('Hours/Shift').isNull()).toPandas()"
   ]
  },
  {
   "cell_type": "code",
   "execution_count": 68,
   "metadata": {},
   "outputs": [
    {
     "data": {
      "text/plain": [
       "63"
      ]
     },
     "execution_count": 68,
     "metadata": {},
     "output_type": "execute_result"
    }
   ],
   "source": [
    "dedupd_df.select([\"Hours/Shift\",\"Salary Frequency\",\"Job Description\",\"Additional Information\"]).\\\n",
    "    where(F.col('Salary Frequency') == 'Hourly').\\\n",
    "    where(F.col('Hours/Shift').isNull()).count()"
   ]
  },
  {
   "cell_type": "markdown",
   "metadata": {},
   "source": [
    "- look for Job Descriptions that contain specification of the number of hours to work:\n",
    "\n",
    "Below I have limited the rows to just one to see where I am getting the regex match:\n",
    "\n",
    ">\n",
    "\n",
    "The mission of the New York City Police Department is to enhance the quality of life in New York City by working in partnership with the community to enforce the law, preserve peace, protect the people, reduce fear, and maintain order. The NYPD strives to foster a safe and fair city by incorporating Neighborhood Policing into all facets of Department operations, and solve the problems that create crime and disorder through an interdependent relationship between the people and its police, and by pioneering strategic innovation.  The Facilities Management Division, Building Maintenance Section manages the physical operation maintenance and repair of department facilities. The Building Maintenance Section is seeking a Sheet Metal Worker who will responsible for the following:  - Fabricate, erect and repair sheet metal structures such as ducts, metal ceilings, dampers, louvers and roofs;  - Spot welds solder and sweat all forms of sheet metal;  - Develop patterns and templates in fabricating complex shapes and forms.|\n",
    "\n",
    "And found that my regex is poor at finding what I'm attemping to find, e.g.\n",
    "\n",
    "- 25 hours\n",
    "- 40 hrs\n",
    "\n",
    "etc\n",
    "\n",
    "Here I've matched the hr in `through` - but further on I have found that even with this false match, there are many records where we cant use these columns.\n"
   ]
  },
  {
   "cell_type": "code",
   "execution_count": 69,
   "metadata": {},
   "outputs": [
    {
     "name": "stdout",
     "output_type": "stream",
     "text": [
      "+------------------------------------------------------------------------------------------------------------------------------------------------------------------------------------------------------------------------------------------------------------------------------------------------------------------------------------------------------------------------------------------------------------------------------------------------------------------------------------------------------------------------------------------------------------------------------------------------------------------------------------------------------------------------------------------------------------------------------------------------------------------------------------------------------------------------------------------------------------------------------------------------------------------------------------------------------------------------------------------------------------------------------------------------------------------------------------------------------------------------------------------------------------------------------------------------------------------------------------------------------------------------------------------------------------------------------------------------------------------------------------------------------------------------------------------------------------------------------------------------------------------------------------------------------------------------------------------------------------------------------------------------------------------------------------------------------------------------------------------------------------------------------------------------------------------------------------------------------------------------------------------------------------------------------------------------------------------------------------------------------------------------------------------------------------------------------------------------------------------------+\n",
      "|Job Description                                                                                                                                                                                                                                                                                                                                                                                                                                                                                                                                                                                                                                                                                                                                                                                                                                                                                                                                                                                                                                                                                                                                                                                                                                                                                                                                                                                                                                                                                                                                                                                                                                                                                                                                                                                                                                                                                                                                                                                                                                                                                                         |\n",
      "+------------------------------------------------------------------------------------------------------------------------------------------------------------------------------------------------------------------------------------------------------------------------------------------------------------------------------------------------------------------------------------------------------------------------------------------------------------------------------------------------------------------------------------------------------------------------------------------------------------------------------------------------------------------------------------------------------------------------------------------------------------------------------------------------------------------------------------------------------------------------------------------------------------------------------------------------------------------------------------------------------------------------------------------------------------------------------------------------------------------------------------------------------------------------------------------------------------------------------------------------------------------------------------------------------------------------------------------------------------------------------------------------------------------------------------------------------------------------------------------------------------------------------------------------------------------------------------------------------------------------------------------------------------------------------------------------------------------------------------------------------------------------------------------------------------------------------------------------------------------------------------------------------------------------------------------------------------------------------------------------------------------------------------------------------------------------------------------------------------------------+\n",
      "|The Mechanical Maintenance and Operations group is responsible for the preventative maintenance, repairs and operations of various mechanical systems within 55 DCAS-managed court and non-court buildings. They are also responsible for maintaining all heating, ventilation, and air conditioning equipment for safe, reliable, and efficient operation, including seasonal tune-ups; filter, belt, steam trap replacement, lubrication and perform emergency repairs on a 24-hour basis.  Responsibilities: Senior Stationary Engineers, under direction, are in responsible charge of the operation, maintenance and repair of all utilities in large public buildings and of steam power plants, chillers, refuse incinerator plants, swimming pools and skating rinks. They take responsible charge of the operation, maintenance, and repair of plant equipment such as boilers, furnaces, refuse incinerators, pumps, fans, engines, turbines, generators, electrical equipment, heating and ventilating equipment, and air conditioning and refrigeration systems; may operate or supervise the operation of control consoles in control rooms; are in responsible charge of the operation, maintenance and repair of mechanical, electrical, and plumbing equipment in swimming pools and skating rinks; supervise assigned personnel; prepare work schedules and direct the assignment of personnel; prepare equipment and material requisitions required for operation, maintenance and repair; direct and evaluate studies of operating procedures; determine and direct work procedures; keep records and write reports; and may operate a motor vehicle in the performance of assigned duties. All Senior Stationary Engineers perform related work.  Some of the physical activities performed by Senior Stationary Engineers and environmental conditions experienced are: Communicating orally in a noisy environment; climbing stairs, ladders, and over equipment; standing upright for extended periods of time; walking over wet and slippery surfaces; working on surfaces at substantial height|\n",
      "+------------------------------------------------------------------------------------------------------------------------------------------------------------------------------------------------------------------------------------------------------------------------------------------------------------------------------------------------------------------------------------------------------------------------------------------------------------------------------------------------------------------------------------------------------------------------------------------------------------------------------------------------------------------------------------------------------------------------------------------------------------------------------------------------------------------------------------------------------------------------------------------------------------------------------------------------------------------------------------------------------------------------------------------------------------------------------------------------------------------------------------------------------------------------------------------------------------------------------------------------------------------------------------------------------------------------------------------------------------------------------------------------------------------------------------------------------------------------------------------------------------------------------------------------------------------------------------------------------------------------------------------------------------------------------------------------------------------------------------------------------------------------------------------------------------------------------------------------------------------------------------------------------------------------------------------------------------------------------------------------------------------------------------------------------------------------------------------------------------------------+\n",
      "\n"
     ]
    }
   ],
   "source": [
    "dedupd_df.select([\"Job Description\"]).\\\n",
    "    where(F.col('Salary Frequency') == 'Daily').\\\n",
    "    where(F.col('Hours/Shift').isNull()).\\\n",
    "    where(F.col(\"Job Description\").rlike(\"(?i)^.*?hour|hr.*?$\")).limit(1).show(truncate=False)"
   ]
  },
  {
   "cell_type": "markdown",
   "metadata": {},
   "source": [
    "- look for records where neither Job Descriptions nor Additional Information contain specification of the number of hours to work.  "
   ]
  },
  {
   "cell_type": "code",
   "execution_count": 70,
   "metadata": {
    "scrolled": false
   },
   "outputs": [
    {
     "data": {
      "text/plain": [
       "3"
      ]
     },
     "execution_count": 70,
     "metadata": {},
     "output_type": "execute_result"
    }
   ],
   "source": [
    "dedupd_df.select([\"Job Description\",\"Additional Information\"]).\\\n",
    "    where(F.col('Salary Frequency') == 'Daily').\\\n",
    "    where(F.col('Hours/Shift').isNull()).\\\n",
    "    where(~F.col(\"Job Description\").rlike(\"(?i)^.*?hour|hr.*?$\")).limit(10).\\\n",
    "    where(~F.col(\"Additional Information\").rlike(\"(?i)^.*?hour|hr.*?$\")).count()"
   ]
  },
  {
   "cell_type": "markdown",
   "metadata": {},
   "source": [
    "- so only 5 rows:  It may be possible to get the total number of hours required for all of the others.   Lets take a look at the records more closely nd ssee its its going to be feasible to \"grep\" out the hours"
   ]
  },
  {
   "cell_type": "code",
   "execution_count": 71,
   "metadata": {},
   "outputs": [
    {
     "data": {
      "text/plain": [
       "4"
      ]
     },
     "execution_count": 71,
     "metadata": {},
     "output_type": "execute_result"
    }
   ],
   "source": [
    "dedupd_df.select([\"Job Description\",\"Additional Information\"]).\\\n",
    "    where(F.col('Salary Frequency') == 'Daily').\\\n",
    "    where(F.col('Hours/Shift').isNull()).\\\n",
    "    where(F.col(\"Job Description\").rlike(\"(?i)^.*?hour|hr.*?$\") | F.col(\"Additional Information\").rlike(\"(?i)^.*?hour|hr.*?$\")).\\\n",
    "    count()"
   ]
  },
  {
   "cell_type": "markdown",
   "metadata": {},
   "source": [
    "##### Conclusion:  It does not seem possible to find the number of hours required for over 100 of the Hourly paid jobs.   Therefore I am to go with my origonal suggested solution of working out all jobs' salaries in Hours."
   ]
  },
  {
   "cell_type": "markdown",
   "metadata": {},
   "source": [
    "#### Work Location 1\n",
    "\n",
    "* Required for data analysis:  No\n",
    "    "
   ]
  },
  {
   "cell_type": "markdown",
   "metadata": {},
   "source": [
    "#### Recruitment Contact\n",
    "\n",
    "* Required for data analysis:  No\n"
   ]
  },
  {
   "cell_type": "markdown",
   "metadata": {},
   "source": [
    "#### Residency Requirement\n",
    "\n",
    "* Required for data analysis:  No\n"
   ]
  },
  {
   "cell_type": "markdown",
   "metadata": {},
   "source": [
    "#### Posting Date\n",
    "\n",
    "* Required for data analysis:  Yes\n",
    "    \n",
    ">  What's the job postings average salary per agency for the last 2 years? \n",
    "\n",
    "* Are all dates in the correct format to be cast to date?\n",
    "\n",
    "These Posting Date values are not null but they also cannot be cast to date:"
   ]
  },
  {
   "cell_type": "code",
   "execution_count": 72,
   "metadata": {},
   "outputs": [
    {
     "data": {
      "text/plain": [
       "605"
      ]
     },
     "execution_count": 72,
     "metadata": {},
     "output_type": "execute_result"
    }
   ],
   "source": [
    "dedupd_df.select([\"Posting Date\"]).\\\n",
    "    where(F.col(\"Posting Date\").cast('date').isNull() & ~F.col(\"Posting Date\").isNull()).count()"
   ]
  },
  {
   "cell_type": "code",
   "execution_count": 73,
   "metadata": {},
   "outputs": [
    {
     "name": "stdout",
     "output_type": "stream",
     "text": [
      "+--------------------+\n",
      "|        Posting Date|\n",
      "+--------------------+\n",
      "|New York City res...|\n",
      "|           help desk|\n",
      "|New York City res...|\n",
      "| managerial or su...|\n",
      "| all candidates m...|\n",
      "|       Apply Online.|\n",
      "| \"\"2\"\" or \"\"3\"\" a...|\n",
      "|New York City Res...|\n",
      "|NYCHA has no resi...|\n",
      "|30-30 Thomson Ave...|\n",
      "| by examining for...|\n",
      "|      59 Maiden Lane|\n",
      "|New York City res...|\n",
      "|â€¢\t7+ years of P...|\n",
      "|\"Click on the \"\"A...|\n",
      "|30-30 Thomson Ave...|\n",
      "| \"\"2\"\" or \"\"3\"\" a...|\n",
      "|Please submit you...|\n",
      "|New York City res...|\n",
      "|New York City res...|\n",
      "|33 Beaver St, New...|\n",
      "| all candidates m...|\n",
      "|           help desk|\n",
      "|NYCHA has no resi...|\n",
      "|New York City res...|\n",
      "|1. 8 years relate...|\n",
      "| \"\"2\"\" or \"\"3\"\" a...|\n",
      "|9:00am to 5:00pm ...|\n",
      "| at least 18  mon...|\n",
      "|\"Please click on ...|\n",
      "+--------------------+\n",
      "only showing top 30 rows\n",
      "\n"
     ]
    }
   ],
   "source": [
    "dedupd_df.select([\"Posting Date\"]).\\\n",
    "    where(F.col(\"Posting Date\").cast('date').isNull() & ~F.col(\"Posting Date\").isNull()).show(30)"
   ]
  },
  {
   "cell_type": "markdown",
   "metadata": {},
   "source": [
    "The following cant simple be cast to date:"
   ]
  },
  {
   "cell_type": "code",
   "execution_count": 74,
   "metadata": {},
   "outputs": [
    {
     "data": {
      "text/plain": [
       "895"
      ]
     },
     "execution_count": 74,
     "metadata": {},
     "output_type": "execute_result"
    }
   ],
   "source": [
    "dedupd_df.select([\"Posting Date\"]).where(F.col(\"Posting Date\").cast('date').isNull()).count()"
   ]
  },
  {
   "cell_type": "code",
   "execution_count": 75,
   "metadata": {},
   "outputs": [
    {
     "data": {
      "text/html": [
       "<div>\n",
       "<style scoped>\n",
       "    .dataframe tbody tr th:only-of-type {\n",
       "        vertical-align: middle;\n",
       "    }\n",
       "\n",
       "    .dataframe tbody tr th {\n",
       "        vertical-align: top;\n",
       "    }\n",
       "\n",
       "    .dataframe thead th {\n",
       "        text-align: right;\n",
       "    }\n",
       "</style>\n",
       "<table border=\"1\" class=\"dataframe\">\n",
       "  <thead>\n",
       "    <tr style=\"text-align: right;\">\n",
       "      <th></th>\n",
       "      <th>0</th>\n",
       "      <th>1</th>\n",
       "      <th>2</th>\n",
       "      <th>3</th>\n",
       "      <th>4</th>\n",
       "    </tr>\n",
       "  </thead>\n",
       "  <tbody>\n",
       "    <tr>\n",
       "      <th>Job ID</th>\n",
       "      <td>239052</td>\n",
       "      <td>400075</td>\n",
       "      <td>425665</td>\n",
       "      <td>233549</td>\n",
       "      <td>396449</td>\n",
       "    </tr>\n",
       "    <tr>\n",
       "      <th>Agency</th>\n",
       "      <td>ADMIN FOR CHILDREN'S SVCS</td>\n",
       "      <td>ADMIN FOR CHILDREN'S SVCS</td>\n",
       "      <td>HRA/DEPT OF SOCIAL SERVICES</td>\n",
       "      <td>NYC EMPLOYEES RETIREMENT SYS</td>\n",
       "      <td>DEPT OF ENVIRONMENT PROTECTION</td>\n",
       "    </tr>\n",
       "    <tr>\n",
       "      <th>Posting Type</th>\n",
       "      <td>External</td>\n",
       "      <td>External</td>\n",
       "      <td>Internal</td>\n",
       "      <td>Internal</td>\n",
       "      <td>External</td>\n",
       "    </tr>\n",
       "    <tr>\n",
       "      <th># Of Positions</th>\n",
       "      <td>1</td>\n",
       "      <td>1</td>\n",
       "      <td>1</td>\n",
       "      <td>1</td>\n",
       "      <td>1</td>\n",
       "    </tr>\n",
       "    <tr>\n",
       "      <th>Business Title</th>\n",
       "      <td>Child Welfare Trainer</td>\n",
       "      <td>Dynamics Developer</td>\n",
       "      <td>Director, PERT</td>\n",
       "      <td>CERTIFIED IT ADMINISTRATOR (LAN/WAN), LEVEL 4</td>\n",
       "      <td>Mechanical Engineer</td>\n",
       "    </tr>\n",
       "    <tr>\n",
       "      <th>Civil Service Title</th>\n",
       "      <td>COMMUNITY COORDINATOR</td>\n",
       "      <td>COMPUTER SPECIALIST (SOFTWARE)</td>\n",
       "      <td>ADMINISTRATIVE STAFF ANALYST (</td>\n",
       "      <td>CERTIFIED IT ADMINISTRATOR (LA</td>\n",
       "      <td>MECHANICAL ENGINEER</td>\n",
       "    </tr>\n",
       "    <tr>\n",
       "      <th>Title Code No</th>\n",
       "      <td>56058</td>\n",
       "      <td>13632</td>\n",
       "      <td>1002D</td>\n",
       "      <td>13652</td>\n",
       "      <td>20415</td>\n",
       "    </tr>\n",
       "    <tr>\n",
       "      <th>Level</th>\n",
       "      <td>0</td>\n",
       "      <td>2</td>\n",
       "      <td>0</td>\n",
       "      <td>4</td>\n",
       "      <td>2</td>\n",
       "    </tr>\n",
       "    <tr>\n",
       "      <th>Job Category</th>\n",
       "      <td>Community &amp; Business Services Social Services</td>\n",
       "      <td>Technology, Data &amp; Innovation</td>\n",
       "      <td>Policy, Research &amp; Analysis Social Services</td>\n",
       "      <td>Information Technology &amp; Telecommunications</td>\n",
       "      <td>Engineering, Architecture, &amp; Planning</td>\n",
       "    </tr>\n",
       "    <tr>\n",
       "      <th>Full-Time/Part-Time indicator</th>\n",
       "      <td>F</td>\n",
       "      <td>None</td>\n",
       "      <td>F</td>\n",
       "      <td>F</td>\n",
       "      <td>F</td>\n",
       "    </tr>\n",
       "    <tr>\n",
       "      <th>Salary Range From</th>\n",
       "      <td>48895</td>\n",
       "      <td>82884</td>\n",
       "      <td>60435</td>\n",
       "      <td>87203</td>\n",
       "      <td>78210</td>\n",
       "    </tr>\n",
       "    <tr>\n",
       "      <th>Salary Range To</th>\n",
       "      <td>75900</td>\n",
       "      <td>106786</td>\n",
       "      <td>115000</td>\n",
       "      <td>131623</td>\n",
       "      <td>89942</td>\n",
       "    </tr>\n",
       "    <tr>\n",
       "      <th>Salary Frequency</th>\n",
       "      <td>Annual</td>\n",
       "      <td>Annual</td>\n",
       "      <td>Annual</td>\n",
       "      <td>Annual</td>\n",
       "      <td>Annual</td>\n",
       "    </tr>\n",
       "    <tr>\n",
       "      <th>Work Location</th>\n",
       "      <td>492 First Avenue, New York, Ny</td>\n",
       "      <td>150 William Street, New York N</td>\n",
       "      <td>4 World Trade Center</td>\n",
       "      <td>335 Adams Street, Brooklyn Ny</td>\n",
       "      <td>96-05 Horace Harding Expway</td>\n",
       "    </tr>\n",
       "    <tr>\n",
       "      <th>Division/Work Unit</th>\n",
       "      <td>Satterwhite Academy (DPPM)</td>\n",
       "      <td>Mis Admin,Network Sysms Dvlpmt</td>\n",
       "      <td>Off Of Qual Asse-Fisc Int NM</td>\n",
       "      <td>Executive Management</td>\n",
       "      <td>W   S/Connections Permitting</td>\n",
       "    </tr>\n",
       "    <tr>\n",
       "      <th>Job Description</th>\n",
       "      <td>Reporting to the Training Supervisor the Train...</td>\n",
       "      <td>This position is open to permanent (not provis...</td>\n",
       "      <td>We are recruiting for one (1) Administrative S...</td>\n",
       "      <td>Oversees the design, installation, configurati...</td>\n",
       "      <td>The NYC Department of Environmental Protection...</td>\n",
       "    </tr>\n",
       "    <tr>\n",
       "      <th>Minimum Qual Requirements</th>\n",
       "      <td>\"1. A baccalaureate degree from an accredited ...</td>\n",
       "      <td>\"(1) A baccalaureate degree from an accredited...</td>\n",
       "      <td>\"1. A master's degree from an accredited colle...</td>\n",
       "      <td>\"Professional/vendor certification(s) in local...</td>\n",
       "      <td>\"(1) Four (4) years of full-time, satisfactory...</td>\n",
       "    </tr>\n",
       "    <tr>\n",
       "      <th>Preferred Skills</th>\n",
       "      <td>all candidates must have at least one year of...</td>\n",
       "      <td>including one year in a project leader capaci...</td>\n",
       "      <td>including the 18 months of executive</td>\n",
       "      <td>all candidates must have at least one year of...</td>\n",
       "      <td>to be eligible for placement in Assignment Le...</td>\n",
       "    </tr>\n",
       "    <tr>\n",
       "      <th>Additional Information</th>\n",
       "      <td>The preferred candidate should possess knowled...</td>\n",
       "      <td>all candidates must have a four year high sch...</td>\n",
       "      <td>managerial</td>\n",
       "      <td>as determined by the employing agency.\"</td>\n",
       "      <td>individuals must have at least one year withi...</td>\n",
       "    </tr>\n",
       "    <tr>\n",
       "      <th>To Apply</th>\n",
       "      <td>Section 424-A of the New York Social Services ...</td>\n",
       "      <td>plus at least one (1) year of satisfactory fu...</td>\n",
       "      <td>administrative or supervisory experience</td>\n",
       "      <td>Minimum 5 years of experience planning, design...</td>\n",
       "      <td>None</td>\n",
       "    </tr>\n",
       "    <tr>\n",
       "      <th>Hours/Shift</th>\n",
       "      <td>\"Click on the \"\"Apply Now\"\" Button.\"</td>\n",
       "      <td>you must explain in detail how your experienc...</td>\n",
       "      <td>as described in \"\"1\"\" above.\"</td>\n",
       "      <td>None</td>\n",
       "      <td>Appointments are subject to OMB approval.  For...</td>\n",
       "    </tr>\n",
       "    <tr>\n",
       "      <th>Work Location 1</th>\n",
       "      <td>None</td>\n",
       "      <td>technical support</td>\n",
       "      <td>*Extensive knowledge of federal SNAP and TANF ...</td>\n",
       "      <td>Click the 'apply now' button to apply.  Please...</td>\n",
       "      <td>Click the â€œApply Nowâ€ button</td>\n",
       "    </tr>\n",
       "    <tr>\n",
       "      <th>Recruitment Contact</th>\n",
       "      <td>None</td>\n",
       "      <td>quality assurance (QA)</td>\n",
       "      <td>**LOAN FORGIVENESS  The federal government pro...</td>\n",
       "      <td>None</td>\n",
       "      <td>None</td>\n",
       "    </tr>\n",
       "    <tr>\n",
       "      <th>Residency Requirement</th>\n",
       "      <td>None</td>\n",
       "      <td>hardware installation</td>\n",
       "      <td>CANDIDATE MUST BE PERMANENT IN THE ADMINISTRAT...</td>\n",
       "      <td>None</td>\n",
       "      <td>None</td>\n",
       "    </tr>\n",
       "    <tr>\n",
       "      <th>Posting Date</th>\n",
       "      <td>New York City residency is generally required ...</td>\n",
       "      <td>help desk</td>\n",
       "      <td>None</td>\n",
       "      <td>None</td>\n",
       "      <td>None</td>\n",
       "    </tr>\n",
       "    <tr>\n",
       "      <th>Post Until</th>\n",
       "      <td>2016-05-02T00:00:00.000</td>\n",
       "      <td>or as an end user will not be accepted for me...</td>\n",
       "      <td>4 World Trade Center</td>\n",
       "      <td>New York City Residency is not required for th...</td>\n",
       "      <td>New York City Residency is not required for th...</td>\n",
       "    </tr>\n",
       "    <tr>\n",
       "      <th>Posting Updated</th>\n",
       "      <td>None</td>\n",
       "      <td>in addition to the Qualification Requirements...</td>\n",
       "      <td>None</td>\n",
       "      <td>2016-03-01T00:00:00.000</td>\n",
       "      <td>2019-05-30T00:00:00.000</td>\n",
       "    </tr>\n",
       "    <tr>\n",
       "      <th>Process Date</th>\n",
       "      <td>2016-05-25T00:00:00.000</td>\n",
       "      <td>individuals must have one year of satisfactor...</td>\n",
       "      <td>New York City residency is generally required ...</td>\n",
       "      <td>None</td>\n",
       "      <td>None</td>\n",
       "    </tr>\n",
       "  </tbody>\n",
       "</table>\n",
       "</div>"
      ],
      "text/plain": [
       "                                                                               0  \\\n",
       "Job ID                                                                    239052   \n",
       "Agency                                                 ADMIN FOR CHILDREN'S SVCS   \n",
       "Posting Type                                                            External   \n",
       "# Of Positions                                                                 1   \n",
       "Business Title                                             Child Welfare Trainer   \n",
       "Civil Service Title                                        COMMUNITY COORDINATOR   \n",
       "Title Code No                                                              56058   \n",
       "Level                                                                          0   \n",
       "Job Category                       Community & Business Services Social Services   \n",
       "Full-Time/Part-Time indicator                                                  F   \n",
       "Salary Range From                                                          48895   \n",
       "Salary Range To                                                            75900   \n",
       "Salary Frequency                                                          Annual   \n",
       "Work Location                                     492 First Avenue, New York, Ny   \n",
       "Division/Work Unit                                    Satterwhite Academy (DPPM)   \n",
       "Job Description                Reporting to the Training Supervisor the Train...   \n",
       "Minimum Qual Requirements      \"1. A baccalaureate degree from an accredited ...   \n",
       "Preferred Skills                all candidates must have at least one year of...   \n",
       "Additional Information         The preferred candidate should possess knowled...   \n",
       "To Apply                       Section 424-A of the New York Social Services ...   \n",
       "Hours/Shift                                 \"Click on the \"\"Apply Now\"\" Button.\"   \n",
       "Work Location 1                                                             None   \n",
       "Recruitment Contact                                                         None   \n",
       "Residency Requirement                                                       None   \n",
       "Posting Date                   New York City residency is generally required ...   \n",
       "Post Until                                               2016-05-02T00:00:00.000   \n",
       "Posting Updated                                                             None   \n",
       "Process Date                                             2016-05-25T00:00:00.000   \n",
       "\n",
       "                                                                               1  \\\n",
       "Job ID                                                                    400075   \n",
       "Agency                                                 ADMIN FOR CHILDREN'S SVCS   \n",
       "Posting Type                                                            External   \n",
       "# Of Positions                                                                 1   \n",
       "Business Title                                                Dynamics Developer   \n",
       "Civil Service Title                               COMPUTER SPECIALIST (SOFTWARE)   \n",
       "Title Code No                                                              13632   \n",
       "Level                                                                          2   \n",
       "Job Category                                       Technology, Data & Innovation   \n",
       "Full-Time/Part-Time indicator                                               None   \n",
       "Salary Range From                                                          82884   \n",
       "Salary Range To                                                           106786   \n",
       "Salary Frequency                                                          Annual   \n",
       "Work Location                                     150 William Street, New York N   \n",
       "Division/Work Unit                                Mis Admin,Network Sysms Dvlpmt   \n",
       "Job Description                This position is open to permanent (not provis...   \n",
       "Minimum Qual Requirements      \"(1) A baccalaureate degree from an accredited...   \n",
       "Preferred Skills                including one year in a project leader capaci...   \n",
       "Additional Information          all candidates must have a four year high sch...   \n",
       "To Apply                        plus at least one (1) year of satisfactory fu...   \n",
       "Hours/Shift                     you must explain in detail how your experienc...   \n",
       "Work Location 1                                                technical support   \n",
       "Recruitment Contact                                       quality assurance (QA)   \n",
       "Residency Requirement                                      hardware installation   \n",
       "Posting Date                                                           help desk   \n",
       "Post Until                      or as an end user will not be accepted for me...   \n",
       "Posting Updated                 in addition to the Qualification Requirements...   \n",
       "Process Date                    individuals must have one year of satisfactor...   \n",
       "\n",
       "                                                                               2  \\\n",
       "Job ID                                                                    425665   \n",
       "Agency                                               HRA/DEPT OF SOCIAL SERVICES   \n",
       "Posting Type                                                            Internal   \n",
       "# Of Positions                                                                 1   \n",
       "Business Title                                                    Director, PERT   \n",
       "Civil Service Title                               ADMINISTRATIVE STAFF ANALYST (   \n",
       "Title Code No                                                              1002D   \n",
       "Level                                                                          0   \n",
       "Job Category                         Policy, Research & Analysis Social Services   \n",
       "Full-Time/Part-Time indicator                                                  F   \n",
       "Salary Range From                                                          60435   \n",
       "Salary Range To                                                           115000   \n",
       "Salary Frequency                                                          Annual   \n",
       "Work Location                                               4 World Trade Center   \n",
       "Division/Work Unit                                  Off Of Qual Asse-Fisc Int NM   \n",
       "Job Description                We are recruiting for one (1) Administrative S...   \n",
       "Minimum Qual Requirements      \"1. A master's degree from an accredited colle...   \n",
       "Preferred Skills                            including the 18 months of executive   \n",
       "Additional Information                                                managerial   \n",
       "To Apply                                administrative or supervisory experience   \n",
       "Hours/Shift                                        as described in \"\"1\"\" above.\"   \n",
       "Work Location 1                *Extensive knowledge of federal SNAP and TANF ...   \n",
       "Recruitment Contact            **LOAN FORGIVENESS  The federal government pro...   \n",
       "Residency Requirement          CANDIDATE MUST BE PERMANENT IN THE ADMINISTRAT...   \n",
       "Posting Date                                                                None   \n",
       "Post Until                                                  4 World Trade Center   \n",
       "Posting Updated                                                             None   \n",
       "Process Date                   New York City residency is generally required ...   \n",
       "\n",
       "                                                                               3  \\\n",
       "Job ID                                                                    233549   \n",
       "Agency                                              NYC EMPLOYEES RETIREMENT SYS   \n",
       "Posting Type                                                            Internal   \n",
       "# Of Positions                                                                 1   \n",
       "Business Title                     CERTIFIED IT ADMINISTRATOR (LAN/WAN), LEVEL 4   \n",
       "Civil Service Title                               CERTIFIED IT ADMINISTRATOR (LA   \n",
       "Title Code No                                                              13652   \n",
       "Level                                                                          4   \n",
       "Job Category                         Information Technology & Telecommunications   \n",
       "Full-Time/Part-Time indicator                                                  F   \n",
       "Salary Range From                                                          87203   \n",
       "Salary Range To                                                           131623   \n",
       "Salary Frequency                                                          Annual   \n",
       "Work Location                                      335 Adams Street, Brooklyn Ny   \n",
       "Division/Work Unit                                          Executive Management   \n",
       "Job Description                Oversees the design, installation, configurati...   \n",
       "Minimum Qual Requirements      \"Professional/vendor certification(s) in local...   \n",
       "Preferred Skills                all candidates must have at least one year of...   \n",
       "Additional Information                   as determined by the employing agency.\"   \n",
       "To Apply                       Minimum 5 years of experience planning, design...   \n",
       "Hours/Shift                                                                 None   \n",
       "Work Location 1                Click the 'apply now' button to apply.  Please...   \n",
       "Recruitment Contact                                                         None   \n",
       "Residency Requirement                                                       None   \n",
       "Posting Date                                                                None   \n",
       "Post Until                     New York City Residency is not required for th...   \n",
       "Posting Updated                                          2016-03-01T00:00:00.000   \n",
       "Process Date                                                                None   \n",
       "\n",
       "                                                                               4  \n",
       "Job ID                                                                    396449  \n",
       "Agency                                            DEPT OF ENVIRONMENT PROTECTION  \n",
       "Posting Type                                                            External  \n",
       "# Of Positions                                                                 1  \n",
       "Business Title                                               Mechanical Engineer  \n",
       "Civil Service Title                                          MECHANICAL ENGINEER  \n",
       "Title Code No                                                              20415  \n",
       "Level                                                                          2  \n",
       "Job Category                               Engineering, Architecture, & Planning  \n",
       "Full-Time/Part-Time indicator                                                  F  \n",
       "Salary Range From                                                          78210  \n",
       "Salary Range To                                                            89942  \n",
       "Salary Frequency                                                          Annual  \n",
       "Work Location                                        96-05 Horace Harding Expway  \n",
       "Division/Work Unit                                  W   S/Connections Permitting  \n",
       "Job Description                The NYC Department of Environmental Protection...  \n",
       "Minimum Qual Requirements      \"(1) Four (4) years of full-time, satisfactory...  \n",
       "Preferred Skills                to be eligible for placement in Assignment Le...  \n",
       "Additional Information          individuals must have at least one year withi...  \n",
       "To Apply                                                                    None  \n",
       "Hours/Shift                    Appointments are subject to OMB approval.  For...  \n",
       "Work Location 1                                 Click the â€œApply Nowâ€ button  \n",
       "Recruitment Contact                                                         None  \n",
       "Residency Requirement                                                       None  \n",
       "Posting Date                                                                None  \n",
       "Post Until                     New York City Residency is not required for th...  \n",
       "Posting Updated                                          2019-05-30T00:00:00.000  \n",
       "Process Date                                                                None  "
      ]
     },
     "execution_count": 75,
     "metadata": {},
     "output_type": "execute_result"
    }
   ],
   "source": [
    "dedupd_df.where(F.col(\"Posting Date\").cast('date').isNull()).limit(5).toPandas().transpose()"
   ]
  },
  {
   "cell_type": "code",
   "execution_count": 76,
   "metadata": {},
   "outputs": [
    {
     "name": "stdout",
     "output_type": "stream",
     "text": [
      "+--------------------+\n",
      "|        Posting Date|\n",
      "+--------------------+\n",
      "|New York City res...|\n",
      "|2017-11-01T00:00:...|\n",
      "|2018-03-27T00:00:...|\n",
      "|           help desk|\n",
      "|2019-09-30T00:00:...|\n",
      "|2019-09-30T00:00:...|\n",
      "|2019-08-28T00:00:...|\n",
      "|                null|\n",
      "|                null|\n",
      "|2017-01-09T00:00:...|\n",
      "|2018-09-19T00:00:...|\n",
      "|2019-03-02T00:00:...|\n",
      "|2019-05-06T00:00:...|\n",
      "|                null|\n",
      "|2019-07-31T00:00:...|\n",
      "|2019-09-13T00:00:...|\n",
      "|                null|\n",
      "|2019-12-06T00:00:...|\n",
      "|New York City res...|\n",
      "| managerial or su...|\n",
      "+--------------------+\n",
      "only showing top 20 rows\n",
      "\n"
     ]
    }
   ],
   "source": [
    "dedupd_df.select([\"Posting Date\"]).show()"
   ]
  },
  {
   "cell_type": "markdown",
   "metadata": {},
   "source": [
    "<a id='posting_date_analysis_summary'></a>"
   ]
  },
  {
   "cell_type": "markdown",
   "metadata": {},
   "source": [
    "<a id='posting_date_analysis'></a>\n",
    "\n",
    "#### \"Posting Date\" analysis\n",
    "\n",
    "There are 1566 records that are either null or cant be cast to a date. If I cast to date, all values for corresponding rows where data is not valid will all be null and I dont want that.   For the one query regarding Posting Date I will only include the rows that have valid dates, just for that query.  \n",
    "\n",
    "With so many records \"invalid\" it does not make sense to impute a date.  I will update these nulls to 1900 and filter them out of any reports that are required"
   ]
  },
  {
   "cell_type": "markdown",
   "metadata": {},
   "source": [
    "#### Post Until\n",
    "\n",
    "* Required for data analysis:  No\n"
   ]
  },
  {
   "cell_type": "markdown",
   "metadata": {},
   "source": [
    "#### Posting Updated\n",
    "\n",
    "* Required for data analysis:  No\n"
   ]
  },
  {
   "cell_type": "markdown",
   "metadata": {},
   "source": [
    "#### Process Date\n",
    "\n",
    "* Required for data analysis:  No\n"
   ]
  },
  {
   "cell_type": "markdown",
   "metadata": {},
   "source": [
    "# Save data so far in csv format"
   ]
  },
  {
   "cell_type": "markdown",
   "metadata": {},
   "source": [
    "We have not changed any column types so I'm happy that csv format is okay for now."
   ]
  },
  {
   "cell_type": "code",
   "execution_count": 80,
   "metadata": {},
   "outputs": [],
   "source": [
    "dedupd_df.toPandas().to_csv('/dataset/dedupd_df.csv')"
   ]
  },
  {
   "cell_type": "code",
   "execution_count": 2,
   "metadata": {},
   "outputs": [
    {
     "name": "stdout",
     "output_type": "stream",
     "text": [
      "-rw-r--r-- 1 root root 8714066 Sep 18 21:43 /dataset/dedupd_df.csv\r\n"
     ]
    }
   ],
   "source": [
    "ls -l  /dataset/dedupd_df.csv"
   ]
  },
  {
   "cell_type": "code",
   "execution_count": 3,
   "metadata": {},
   "outputs": [
    {
     "name": "stdout",
     "output_type": "stream",
     "text": [
      ",Job ID,Agency,Posting Type,# Of Positions,Business Title,Civil Service Title,Title Code No,Level,Job Category,Full-Time/Part-Time indicator,Salary Range From,Salary Range To,Salary Frequency,Work Location,Division/Work Unit,Job Description,Minimum Qual Requirements,Preferred Skills,Additional Information,To Apply,Hours/Shift,Work Location 1,Recruitment Contact,Residency Requirement,Posting Date,Post Until,Posting Updated,Process Date\r\n"
     ]
    }
   ],
   "source": [
    "!head -1 /dataset/dedupd_df.csv"
   ]
  },
  {
   "cell_type": "code",
   "execution_count": null,
   "metadata": {},
   "outputs": [],
   "source": []
  }
 ],
 "metadata": {
  "kernelspec": {
   "display_name": "Python 3",
   "language": "python",
   "name": "python3"
  },
  "language_info": {
   "codemirror_mode": {
    "name": "ipython",
    "version": 3
   },
   "file_extension": ".py",
   "mimetype": "text/x-python",
   "name": "python",
   "nbconvert_exporter": "python",
   "pygments_lexer": "ipython3",
   "version": "3.7.3"
  }
 },
 "nbformat": 4,
 "nbformat_minor": 4
}
