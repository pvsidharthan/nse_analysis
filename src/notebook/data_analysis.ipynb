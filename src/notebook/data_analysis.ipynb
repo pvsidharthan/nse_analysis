{
 "cells": [
  {
   "cell_type": "code",
   "execution_count": 1,
   "metadata": {},
   "outputs": [],
   "source": [
    "import findspark\n",
    "findspark.init()"
   ]
  },
  {
   "cell_type": "code",
   "execution_count": 2,
   "metadata": {},
   "outputs": [],
   "source": [
    "from pyspark.sql import SparkSession\n",
    "\n",
    "spark = SparkSession.builder. \\\n",
    "    appName(\"pyspark-1\"). \\\n",
    "    getOrCreate()"
   ]
  },
  {
   "cell_type": "markdown",
   "metadata": {},
   "source": [
    "### Read data"
   ]
  },
  {
   "cell_type": "code",
   "execution_count": 3,
   "metadata": {},
   "outputs": [
    {
     "name": "stdout",
     "output_type": "stream",
     "text": [
      "root\n",
      " |-- Job ID: string (nullable = true)\n",
      " |-- Agency: string (nullable = true)\n",
      " |-- Posting Type: string (nullable = true)\n",
      " |-- # Of Positions: string (nullable = true)\n",
      " |-- Business Title: string (nullable = true)\n",
      " |-- Civil Service Title: string (nullable = true)\n",
      " |-- Title Code No: string (nullable = true)\n",
      " |-- Level: string (nullable = true)\n",
      " |-- Job Category: string (nullable = true)\n",
      " |-- Full-Time/Part-Time indicator: string (nullable = true)\n",
      " |-- Salary Range From: string (nullable = true)\n",
      " |-- Salary Range To: string (nullable = true)\n",
      " |-- Salary Frequency: string (nullable = true)\n",
      " |-- Work Location: string (nullable = true)\n",
      " |-- Division/Work Unit: string (nullable = true)\n",
      " |-- Job Description: string (nullable = true)\n",
      " |-- Minimum Qual Requirements: string (nullable = true)\n",
      " |-- Preferred Skills: string (nullable = true)\n",
      " |-- Additional Information: string (nullable = true)\n",
      " |-- To Apply: string (nullable = true)\n",
      " |-- Hours/Shift: string (nullable = true)\n",
      " |-- Work Location 1: string (nullable = true)\n",
      " |-- Recruitment Contact: string (nullable = true)\n",
      " |-- Residency Requirement: string (nullable = true)\n",
      " |-- Posting Date: string (nullable = true)\n",
      " |-- Post Until: string (nullable = true)\n",
      " |-- Posting Updated: string (nullable = true)\n",
      " |-- Process Date: string (nullable = true)\n",
      "\n"
     ]
    }
   ],
   "source": [
    "df = spark.read.csv(\"/dataset/nyc-jobs.csv\", header=True)\n",
    "df.printSchema()"
   ]
  },
  {
   "cell_type": "code",
   "execution_count": 19,
   "metadata": {},
   "outputs": [
    {
     "data": {
      "text/plain": [
       "2946"
      ]
     },
     "execution_count": 19,
     "metadata": {},
     "output_type": "execute_result"
    }
   ],
   "source": [
    "df_count = df.count()\n",
    "df_count"
   ]
  },
  {
   "cell_type": "markdown",
   "metadata": {},
   "source": [
    "### Sample function"
   ]
  },
  {
   "cell_type": "code",
   "execution_count": 8,
   "metadata": {},
   "outputs": [],
   "source": [
    "import sys; \n",
    "sys.path.insert(0, '..')"
   ]
  },
  {
   "cell_type": "code",
   "execution_count": 6,
   "metadata": {},
   "outputs": [
    {
     "data": {
      "text/plain": [
       "['Annual', 'Daily', 'Hourly']"
      ]
     },
     "execution_count": 6,
     "metadata": {},
     "output_type": "execute_result"
    }
   ],
   "source": [
    "from utils.distinct_values import get_distinct_values\n",
    "get_distinct_values(df = df, column= 'Salary Frequency')"
   ]
  },
  {
   "cell_type": "markdown",
   "metadata": {},
   "source": [
    "### Test get_distinct_values"
   ]
  },
  {
   "cell_type": "code",
   "execution_count": 7,
   "metadata": {},
   "outputs": [],
   "source": [
    "sys.path.insert(0, '../tests')"
   ]
  },
  {
   "cell_type": "code",
   "execution_count": 8,
   "metadata": {},
   "outputs": [],
   "source": [
    "import test_distinct_values as T"
   ]
  },
  {
   "cell_type": "code",
   "execution_count": 9,
   "metadata": {},
   "outputs": [
    {
     "data": {
      "text/plain": [
       "True"
      ]
     },
     "execution_count": 9,
     "metadata": {},
     "output_type": "execute_result"
    }
   ],
   "source": [
    "T.loadTest()"
   ]
  },
  {
   "cell_type": "code",
   "execution_count": 10,
   "metadata": {},
   "outputs": [],
   "source": [
    "T.test_get_distinct_values()"
   ]
  },
  {
   "cell_type": "code",
   "execution_count": null,
   "metadata": {},
   "outputs": [],
   "source": []
  },
  {
   "cell_type": "markdown",
   "metadata": {},
   "source": [
    "From the printSchema output we can see that the dtypes are all string.  Its possible to use inferSchema with read_cvs but for large data sets this can take a long time since the complete dataset needs to be scanned and for each column.\n",
    "\n",
    "Instead, we can create the schema and use that to re create df\n",
    "\n",
    "First, lets take a look at the data"
   ]
  },
  {
   "cell_type": "code",
   "execution_count": 9,
   "metadata": {},
   "outputs": [],
   "source": [
    "sys.path.insert(0, '../utils')"
   ]
  },
  {
   "cell_type": "code",
   "execution_count": 11,
   "metadata": {},
   "outputs": [],
   "source": [
    "import pre_processing_functions as PPF"
   ]
  },
  {
   "cell_type": "code",
   "execution_count": 12,
   "metadata": {},
   "outputs": [
    {
     "name": "stdout",
     "output_type": "stream",
     "text": [
      "Help on module pre_processing_functions:\n",
      "\n",
      "NAME\n",
      "    pre_processing_functions\n",
      "\n",
      "FUNCTIONS\n",
      "    get_counts_map(df: pyspark.sql.dataframe.DataFrame) -> dict\n",
      "        Return dict of DataFrame df's columns and their respective non-null counts. \n",
      "        \n",
      "        Can be used to determine whether there are nulls in a dataframe, i.e.:\n",
      "        If the count for each coumn != df.count() there are missing values\n",
      "        (count be a neat function to do this already, and will use that when/if\n",
      "        I find it, but for now this function is useful) \n",
      "        \n",
      "        Usage: \n",
      "        df = .....        \n",
      "        counts_map=get_missing_counts(df)\n",
      "        print(counts_map)\n",
      "        {  'Job ID': '2946',\n",
      "            'Agency': '2946',\n",
      "            'Posting Type': '2946',\n",
      "            '# Of Positions': '2946',\n",
      "            .\n",
      "            .\n",
      "        }\n",
      "        \n",
      "        :param df: input dataframe\n",
      "        :return: dict/map of column: <count>\n",
      "\n",
      "FILE\n",
      "    /utils/pre_processing_functions.py\n",
      "\n",
      "\n"
     ]
    }
   ],
   "source": [
    "help(PPF)"
   ]
  },
  {
   "cell_type": "code",
   "execution_count": 17,
   "metadata": {},
   "outputs": [
    {
     "data": {
      "text/plain": [
       "{'Job ID': 2946,\n",
       " 'Agency': 2946,\n",
       " 'Posting Type': 2946,\n",
       " '# Of Positions': 2946,\n",
       " 'Business Title': 2946,\n",
       " 'Civil Service Title': 2946,\n",
       " 'Title Code No': 2946,\n",
       " 'Level': 2946,\n",
       " 'Job Category': 2944,\n",
       " 'Full-Time/Part-Time indicator': 2751,\n",
       " 'Salary Range From': 2946,\n",
       " 'Salary Range To': 2946,\n",
       " 'Salary Frequency': 2946,\n",
       " 'Work Location': 2946,\n",
       " 'Division/Work Unit': 2946,\n",
       " 'Job Description': 2946,\n",
       " 'Minimum Qual Requirements': 2928,\n",
       " 'Preferred Skills': 2687,\n",
       " 'Additional Information': 2383,\n",
       " 'To Apply': 2766,\n",
       " 'Hours/Shift': 1884,\n",
       " 'Work Location 1': 1808,\n",
       " 'Recruitment Contact': 1183,\n",
       " 'Residency Requirement': 2268,\n",
       " 'Posting Date': 2429,\n",
       " 'Post Until': 1447,\n",
       " 'Posting Updated': 2438,\n",
       " 'Process Date': 2521}"
      ]
     },
     "execution_count": 17,
     "metadata": {},
     "output_type": "execute_result"
    }
   ],
   "source": [
    "counts_map = PPF.get_counts_map(df)\n",
    "counts_map"
   ]
  },
  {
   "cell_type": "code",
   "execution_count": 14,
   "metadata": {},
   "outputs": [
    {
     "data": {
      "text/plain": [
       "28"
      ]
     },
     "execution_count": 14,
     "metadata": {},
     "output_type": "execute_result"
    }
   ],
   "source": [
    "len(df.columns)\n"
   ]
  },
  {
   "cell_type": "code",
   "execution_count": 20,
   "metadata": {
    "scrolled": true
   },
   "outputs": [
    {
     "name": "stdout",
     "output_type": "stream",
     "text": [
      "count() 2946\n"
     ]
    },
    {
     "data": {
      "text/plain": [
       "Recruitment Contact               1183\n",
       "Post Until                        1447\n",
       "Work Location 1                   1808\n",
       "Hours/Shift                       1884\n",
       "Residency Requirement             2268\n",
       "Additional Information            2383\n",
       "Posting Date                      2429\n",
       "Posting Updated                   2438\n",
       "Process Date                      2521\n",
       "Preferred Skills                  2687\n",
       "Full-Time/Part-Time indicator     2751\n",
       "To Apply                          2766\n",
       "Minimum Qual Requirements         2928\n",
       "Job Category                      2944\n",
       "Job Description                   2946\n",
       "Work Location                     2946\n",
       "Salary Frequency                  2946\n",
       "Salary Range To                   2946\n",
       "Salary Range From                 2946\n",
       "Level                             2946\n",
       "Title Code No                     2946\n",
       "Civil Service Title               2946\n",
       "Business Title                    2946\n",
       "# Of Positions                    2946\n",
       "Posting Type                      2946\n",
       "Agency                            2946\n",
       "Job ID                            2946\n",
       "Division/Work Unit                2946\n",
       "summary                          count\n",
       "Name: 0, dtype: object"
      ]
     },
     "execution_count": 20,
     "metadata": {},
     "output_type": "execute_result"
    }
   ],
   "source": [
    "desc = df.describe().toPandas().transpose()\n",
    "df_count=df.count()\n",
    "print(f\"count() {df_count}\")\n",
    "desc[0].sort_values()"
   ]
  },
  {
   "cell_type": "code",
   "execution_count": 21,
   "metadata": {},
   "outputs": [
    {
     "data": {
      "text/html": [
       "<div>\n",
       "<style scoped>\n",
       "    .dataframe tbody tr th:only-of-type {\n",
       "        vertical-align: middle;\n",
       "    }\n",
       "\n",
       "    .dataframe tbody tr th {\n",
       "        vertical-align: top;\n",
       "    }\n",
       "\n",
       "    .dataframe thead th {\n",
       "        text-align: right;\n",
       "    }\n",
       "</style>\n",
       "<table border=\"1\" class=\"dataframe\">\n",
       "  <thead>\n",
       "    <tr style=\"text-align: right;\">\n",
       "      <th></th>\n",
       "      <th>0</th>\n",
       "      <th>1</th>\n",
       "      <th>2</th>\n",
       "      <th>3</th>\n",
       "      <th>4</th>\n",
       "    </tr>\n",
       "  </thead>\n",
       "  <tbody>\n",
       "    <tr>\n",
       "      <th>summary</th>\n",
       "      <td>count</td>\n",
       "      <td>mean</td>\n",
       "      <td>stddev</td>\n",
       "      <td>min</td>\n",
       "      <td>max</td>\n",
       "    </tr>\n",
       "    <tr>\n",
       "      <th>Job ID</th>\n",
       "      <td>2946</td>\n",
       "      <td>384821.5631364562</td>\n",
       "      <td>53075.33897715407</td>\n",
       "      <td>132292</td>\n",
       "      <td>97899</td>\n",
       "    </tr>\n",
       "    <tr>\n",
       "      <th>Agency</th>\n",
       "      <td>2946</td>\n",
       "      <td>None</td>\n",
       "      <td>None</td>\n",
       "      <td>ADMIN FOR CHILDREN'S SVCS</td>\n",
       "      <td>TEACHERS RETIREMENT SYSTEM</td>\n",
       "    </tr>\n",
       "    <tr>\n",
       "      <th>Posting Type</th>\n",
       "      <td>2946</td>\n",
       "      <td>None</td>\n",
       "      <td>None</td>\n",
       "      <td>External</td>\n",
       "      <td>Internal</td>\n",
       "    </tr>\n",
       "    <tr>\n",
       "      <th># Of Positions</th>\n",
       "      <td>2946</td>\n",
       "      <td>2.4959266802443993</td>\n",
       "      <td>9.281312826466838</td>\n",
       "      <td>1</td>\n",
       "      <td>91</td>\n",
       "    </tr>\n",
       "  </tbody>\n",
       "</table>\n",
       "</div>"
      ],
      "text/plain": [
       "                    0                   1                  2  \\\n",
       "summary         count                mean             stddev   \n",
       "Job ID           2946   384821.5631364562  53075.33897715407   \n",
       "Agency           2946                None               None   \n",
       "Posting Type     2946                None               None   \n",
       "# Of Positions   2946  2.4959266802443993  9.281312826466838   \n",
       "\n",
       "                                        3                           4  \n",
       "summary                               min                         max  \n",
       "Job ID                             132292                       97899  \n",
       "Agency          ADMIN FOR CHILDREN'S SVCS  TEACHERS RETIREMENT SYSTEM  \n",
       "Posting Type                     External                    Internal  \n",
       "# Of Positions                          1                          91  "
      ]
     },
     "execution_count": 21,
     "metadata": {},
     "output_type": "execute_result"
    }
   ],
   "source": [
    "desc.head()"
   ]
  },
  {
   "cell_type": "code",
   "execution_count": 22,
   "metadata": {},
   "outputs": [
    {
     "data": {
      "text/plain": [
       "0     count\n",
       "1      mean\n",
       "2    stddev\n",
       "3       min\n",
       "4       max\n",
       "Name: summary, dtype: object"
      ]
     },
     "execution_count": 22,
     "metadata": {},
     "output_type": "execute_result"
    }
   ],
   "source": [
    "desc.loc[\"summary\"]"
   ]
  },
  {
   "cell_type": "code",
   "execution_count": 23,
   "metadata": {},
   "outputs": [],
   "source": [
    "desc, desc.columns = desc[1:], desc.loc[\"summary\"]"
   ]
  },
  {
   "cell_type": "code",
   "execution_count": 24,
   "metadata": {},
   "outputs": [
    {
     "data": {
      "text/html": [
       "<div>\n",
       "<style scoped>\n",
       "    .dataframe tbody tr th:only-of-type {\n",
       "        vertical-align: middle;\n",
       "    }\n",
       "\n",
       "    .dataframe tbody tr th {\n",
       "        vertical-align: top;\n",
       "    }\n",
       "\n",
       "    .dataframe thead th {\n",
       "        text-align: right;\n",
       "    }\n",
       "</style>\n",
       "<table border=\"1\" class=\"dataframe\">\n",
       "  <thead>\n",
       "    <tr style=\"text-align: right;\">\n",
       "      <th>summary</th>\n",
       "      <th>count</th>\n",
       "      <th>mean</th>\n",
       "      <th>stddev</th>\n",
       "      <th>min</th>\n",
       "      <th>max</th>\n",
       "    </tr>\n",
       "  </thead>\n",
       "  <tbody>\n",
       "    <tr>\n",
       "      <th>Job ID</th>\n",
       "      <td>2946</td>\n",
       "      <td>384821.5631364562</td>\n",
       "      <td>53075.33897715407</td>\n",
       "      <td>132292</td>\n",
       "      <td>97899</td>\n",
       "    </tr>\n",
       "    <tr>\n",
       "      <th>Agency</th>\n",
       "      <td>2946</td>\n",
       "      <td>None</td>\n",
       "      <td>None</td>\n",
       "      <td>ADMIN FOR CHILDREN'S SVCS</td>\n",
       "      <td>TEACHERS RETIREMENT SYSTEM</td>\n",
       "    </tr>\n",
       "    <tr>\n",
       "      <th>Posting Type</th>\n",
       "      <td>2946</td>\n",
       "      <td>None</td>\n",
       "      <td>None</td>\n",
       "      <td>External</td>\n",
       "      <td>Internal</td>\n",
       "    </tr>\n",
       "    <tr>\n",
       "      <th># Of Positions</th>\n",
       "      <td>2946</td>\n",
       "      <td>2.4959266802443993</td>\n",
       "      <td>9.281312826466838</td>\n",
       "      <td>1</td>\n",
       "      <td>91</td>\n",
       "    </tr>\n",
       "    <tr>\n",
       "      <th>Business Title</th>\n",
       "      <td>2946</td>\n",
       "      <td>None</td>\n",
       "      <td>None</td>\n",
       "      <td>.NET DEVELOPER</td>\n",
       "      <td>executive Vice President for Operations</td>\n",
       "    </tr>\n",
       "    <tr>\n",
       "      <th>Civil Service Title</th>\n",
       "      <td>2946</td>\n",
       "      <td>None</td>\n",
       "      <td>None</td>\n",
       "      <td>ACCOUNTANT</td>\n",
       "      <td>YOUTH COORDINATOR (YOUTH SERVI</td>\n",
       "    </tr>\n",
       "    <tr>\n",
       "      <th>Title Code No</th>\n",
       "      <td>2946</td>\n",
       "      <td>35558.51334552102</td>\n",
       "      <td>28141.297679769723</td>\n",
       "      <td>0527A</td>\n",
       "      <td>95841</td>\n",
       "    </tr>\n",
       "    <tr>\n",
       "      <th>Level</th>\n",
       "      <td>2946</td>\n",
       "      <td>1.0531400966183575</td>\n",
       "      <td>1.1403671232078134</td>\n",
       "      <td>0</td>\n",
       "      <td>M7</td>\n",
       "    </tr>\n",
       "    <tr>\n",
       "      <th>Job Category</th>\n",
       "      <td>2944</td>\n",
       "      <td>None</td>\n",
       "      <td>None</td>\n",
       "      <td>Administration &amp; Human Resources</td>\n",
       "      <td>Technology, Data &amp; Innovation Social Services</td>\n",
       "    </tr>\n",
       "    <tr>\n",
       "      <th>Full-Time/Part-Time indicator</th>\n",
       "      <td>2751</td>\n",
       "      <td>None</td>\n",
       "      <td>None</td>\n",
       "      <td>F</td>\n",
       "      <td>P</td>\n",
       "    </tr>\n",
       "    <tr>\n",
       "      <th>Salary Range From</th>\n",
       "      <td>2946</td>\n",
       "      <td>58904.139793856084</td>\n",
       "      <td>26986.57593579136</td>\n",
       "      <td>0</td>\n",
       "      <td>99353</td>\n",
       "    </tr>\n",
       "    <tr>\n",
       "      <th>Salary Range To</th>\n",
       "      <td>2946</td>\n",
       "      <td>85535.71162739306</td>\n",
       "      <td>42871.31345366744</td>\n",
       "      <td>10.36</td>\n",
       "      <td>99406</td>\n",
       "    </tr>\n",
       "    <tr>\n",
       "      <th>Salary Frequency</th>\n",
       "      <td>2946</td>\n",
       "      <td>None</td>\n",
       "      <td>None</td>\n",
       "      <td>Annual</td>\n",
       "      <td>Hourly</td>\n",
       "    </tr>\n",
       "    <tr>\n",
       "      <th>Work Location</th>\n",
       "      <td>2946</td>\n",
       "      <td>None</td>\n",
       "      <td>None</td>\n",
       "      <td>1 Bay St., S.I.,Ny</td>\n",
       "      <td>Â Tort: Bronx</td>\n",
       "    </tr>\n",
       "    <tr>\n",
       "      <th>Division/Work Unit</th>\n",
       "      <td>2946</td>\n",
       "      <td>None</td>\n",
       "      <td>None</td>\n",
       "      <td>10th Precinct - Civilian/Cadet</td>\n",
       "      <td>Zoning</td>\n",
       "    </tr>\n",
       "    <tr>\n",
       "      <th>Job Description</th>\n",
       "      <td>2946</td>\n",
       "      <td>None</td>\n",
       "      <td>None</td>\n",
       "      <td>\"NOTE: IT IS IMPORTANT THAT CANDIDATES MUST HA...</td>\n",
       "      <td>â€¢ Under supervision, perform all types of wo...</td>\n",
       "    </tr>\n",
       "    <tr>\n",
       "      <th>Minimum Qual Requirements</th>\n",
       "      <td>2928</td>\n",
       "      <td>None</td>\n",
       "      <td>None</td>\n",
       "      <td>â€¢ The candidate will be expected to gain a...</td>\n",
       "      <td>â€¢ Masterâ€™s degree in business administrati...</td>\n",
       "    </tr>\n",
       "    <tr>\n",
       "      <th>Preferred Skills</th>\n",
       "      <td>2687</td>\n",
       "      <td>None</td>\n",
       "      <td>None</td>\n",
       "      <td>â€¢ Performs other related assignments or s...</td>\n",
       "      <td>â€¢The Deputy Chief is expected to be a strate...</td>\n",
       "    </tr>\n",
       "    <tr>\n",
       "      <th>Additional Information</th>\n",
       "      <td>2383</td>\n",
       "      <td>None</td>\n",
       "      <td>None</td>\n",
       "      <td>or  \"\"3\"\"  above.  However</td>\n",
       "      <td>â€œNOTE: This position is open to qualified pe...</td>\n",
       "    </tr>\n",
       "    <tr>\n",
       "      <th>To Apply</th>\n",
       "      <td>2766</td>\n",
       "      <td>None</td>\n",
       "      <td>None</td>\n",
       "      <td>\"\"2\"\"</td>\n",
       "      <td>â€¢Extensive experience with CommVault Simpana...</td>\n",
       "    </tr>\n",
       "    <tr>\n",
       "      <th>Hours/Shift</th>\n",
       "      <td>1884</td>\n",
       "      <td>None</td>\n",
       "      <td>None</td>\n",
       "      <td>\"\"2\"\"</td>\n",
       "      <td>â€¢General knowledge of NYC hiring practices. ...</td>\n",
       "    </tr>\n",
       "    <tr>\n",
       "      <th>Work Location 1</th>\n",
       "      <td>1808</td>\n",
       "      <td>None</td>\n",
       "      <td>None</td>\n",
       "      <td>\"\"2\"\"</td>\n",
       "      <td>â€¢Knowledge of statistics and experience usin...</td>\n",
       "    </tr>\n",
       "    <tr>\n",
       "      <th>Recruitment Contact</th>\n",
       "      <td>1183</td>\n",
       "      <td>None</td>\n",
       "      <td>None</td>\n",
       "      <td>Environmental Health</td>\n",
       "      <td>â€¢ Strong written and verbal communication sk...</td>\n",
       "    </tr>\n",
       "    <tr>\n",
       "      <th>Residency Requirement</th>\n",
       "      <td>2268</td>\n",
       "      <td>None</td>\n",
       "      <td>None</td>\n",
       "      <td>executive or supervisory capacity. The super...</td>\n",
       "      <td>â€œNOTE: This position is open to qualified pe...</td>\n",
       "    </tr>\n",
       "    <tr>\n",
       "      <th>Posting Date</th>\n",
       "      <td>2429</td>\n",
       "      <td>None</td>\n",
       "      <td>None</td>\n",
       "      <td>\"\"2\"\" or \"\"3\"\" above. However</td>\n",
       "      <td>â€¢5+ years in a Business Analyst role: experi...</td>\n",
       "    </tr>\n",
       "    <tr>\n",
       "      <th>Post Until</th>\n",
       "      <td>1447</td>\n",
       "      <td>None</td>\n",
       "      <td>None</td>\n",
       "      <td>\"\"2\"\"</td>\n",
       "      <td>â€¢ Demonstrated ability to manage the design ...</td>\n",
       "    </tr>\n",
       "    <tr>\n",
       "      <th>Posting Updated</th>\n",
       "      <td>2438</td>\n",
       "      <td>None</td>\n",
       "      <td>None</td>\n",
       "      <td>\"\"2\"\"</td>\n",
       "      <td>Varies</td>\n",
       "    </tr>\n",
       "    <tr>\n",
       "      <th>Process Date</th>\n",
       "      <td>2521</td>\n",
       "      <td>None</td>\n",
       "      <td>None</td>\n",
       "      <td>architecture</td>\n",
       "      <td>â€œNOTE: This position is open to qualified pe...</td>\n",
       "    </tr>\n",
       "  </tbody>\n",
       "</table>\n",
       "</div>"
      ],
      "text/plain": [
       "summary                       count                mean              stddev  \\\n",
       "Job ID                         2946   384821.5631364562   53075.33897715407   \n",
       "Agency                         2946                None                None   \n",
       "Posting Type                   2946                None                None   \n",
       "# Of Positions                 2946  2.4959266802443993   9.281312826466838   \n",
       "Business Title                 2946                None                None   \n",
       "Civil Service Title            2946                None                None   \n",
       "Title Code No                  2946   35558.51334552102  28141.297679769723   \n",
       "Level                          2946  1.0531400966183575  1.1403671232078134   \n",
       "Job Category                   2944                None                None   \n",
       "Full-Time/Part-Time indicator  2751                None                None   \n",
       "Salary Range From              2946  58904.139793856084   26986.57593579136   \n",
       "Salary Range To                2946   85535.71162739306   42871.31345366744   \n",
       "Salary Frequency               2946                None                None   \n",
       "Work Location                  2946                None                None   \n",
       "Division/Work Unit             2946                None                None   \n",
       "Job Description                2946                None                None   \n",
       "Minimum Qual Requirements      2928                None                None   \n",
       "Preferred Skills               2687                None                None   \n",
       "Additional Information         2383                None                None   \n",
       "To Apply                       2766                None                None   \n",
       "Hours/Shift                    1884                None                None   \n",
       "Work Location 1                1808                None                None   \n",
       "Recruitment Contact            1183                None                None   \n",
       "Residency Requirement          2268                None                None   \n",
       "Posting Date                   2429                None                None   \n",
       "Post Until                     1447                None                None   \n",
       "Posting Updated                2438                None                None   \n",
       "Process Date                   2521                None                None   \n",
       "\n",
       "summary                                                                      min  \\\n",
       "Job ID                                                                    132292   \n",
       "Agency                                                 ADMIN FOR CHILDREN'S SVCS   \n",
       "Posting Type                                                            External   \n",
       "# Of Positions                                                                 1   \n",
       "Business Title                                                    .NET DEVELOPER   \n",
       "Civil Service Title                                                   ACCOUNTANT   \n",
       "Title Code No                                                              0527A   \n",
       "Level                                                                          0   \n",
       "Job Category                                    Administration & Human Resources   \n",
       "Full-Time/Part-Time indicator                                                  F   \n",
       "Salary Range From                                                              0   \n",
       "Salary Range To                                                            10.36   \n",
       "Salary Frequency                                                          Annual   \n",
       "Work Location                                                 1 Bay St., S.I.,Ny   \n",
       "Division/Work Unit                                10th Precinct - Civilian/Cadet   \n",
       "Job Description                \"NOTE: IT IS IMPORTANT THAT CANDIDATES MUST HA...   \n",
       "Minimum Qual Requirements        â€¢ The candidate will be expected to gain a...   \n",
       "Preferred Skills                  â€¢ Performs other related assignments or s...   \n",
       "Additional Information                                or  \"\"3\"\"  above.  However   \n",
       "To Apply                                                                   \"\"2\"\"   \n",
       "Hours/Shift                                                                \"\"2\"\"   \n",
       "Work Location 1                                                            \"\"2\"\"   \n",
       "Recruitment Contact                                         Environmental Health   \n",
       "Residency Requirement            executive or supervisory capacity. The super...   \n",
       "Posting Date                                       \"\"2\"\" or \"\"3\"\" above. However   \n",
       "Post Until                                                                 \"\"2\"\"   \n",
       "Posting Updated                                                            \"\"2\"\"   \n",
       "Process Date                                                        architecture   \n",
       "\n",
       "summary                                                                      max  \n",
       "Job ID                                                                     97899  \n",
       "Agency                                                TEACHERS RETIREMENT SYSTEM  \n",
       "Posting Type                                                            Internal  \n",
       "# Of Positions                                                                91  \n",
       "Business Title                           executive Vice President for Operations  \n",
       "Civil Service Title                               YOUTH COORDINATOR (YOUTH SERVI  \n",
       "Title Code No                                                              95841  \n",
       "Level                                                                         M7  \n",
       "Job Category                       Technology, Data & Innovation Social Services  \n",
       "Full-Time/Part-Time indicator                                                  P  \n",
       "Salary Range From                                                          99353  \n",
       "Salary Range To                                                            99406  \n",
       "Salary Frequency                                                          Hourly  \n",
       "Work Location                                                      Â Tort: Bronx  \n",
       "Division/Work Unit                                                        Zoning  \n",
       "Job Description                â€¢ Under supervision, perform all types of wo...  \n",
       "Minimum Qual Requirements      â€¢ Masterâ€™s degree in business administrati...  \n",
       "Preferred Skills               â€¢The Deputy Chief is expected to be a strate...  \n",
       "Additional Information         â€œNOTE: This position is open to qualified pe...  \n",
       "To Apply                       â€¢Extensive experience with CommVault Simpana...  \n",
       "Hours/Shift                    â€¢General knowledge of NYC hiring practices. ...  \n",
       "Work Location 1                â€¢Knowledge of statistics and experience usin...  \n",
       "Recruitment Contact            â€¢ Strong written and verbal communication sk...  \n",
       "Residency Requirement          â€œNOTE: This position is open to qualified pe...  \n",
       "Posting Date                   â€¢5+ years in a Business Analyst role: experi...  \n",
       "Post Until                     â€¢ Demonstrated ability to manage the design ...  \n",
       "Posting Updated                                                           Varies  \n",
       "Process Date                   â€œNOTE: This position is open to qualified pe...  "
      ]
     },
     "execution_count": 24,
     "metadata": {},
     "output_type": "execute_result"
    }
   ],
   "source": [
    "desc"
   ]
  },
  {
   "cell_type": "markdown",
   "metadata": {},
   "source": [
    "#### Job ID \n",
    "\n",
    "should be int and there are no missing values\n",
    "\n",
    "* Required for data analysis:  Yes: during pre-processing of the data, Job ID can be usefult to hone in on rows where the processing has created unexpected results.\n"
   ]
  },
  {
   "cell_type": "code",
   "execution_count": 25,
   "metadata": {},
   "outputs": [
    {
     "name": "stdout",
     "output_type": "stream",
     "text": [
      "+------+\n",
      "|Job ID|\n",
      "+------+\n",
      "| 87990|\n",
      "| 97899|\n",
      "|132292|\n",
      "|132292|\n",
      "|133921|\n",
      "|133921|\n",
      "|137433|\n",
      "|138531|\n",
      "|151131|\n",
      "|152738|\n",
      "+------+\n",
      "\n"
     ]
    }
   ],
   "source": [
    "df.select(\"Job ID\").limit(10).show()\n"
   ]
  },
  {
   "cell_type": "code",
   "execution_count": 26,
   "metadata": {},
   "outputs": [
    {
     "data": {
      "text/plain": [
       "True"
      ]
     },
     "execution_count": 26,
     "metadata": {},
     "output_type": "execute_result"
    }
   ],
   "source": [
    "df_count == counts_map[\"Job ID\"]"
   ]
  },
  {
   "cell_type": "markdown",
   "metadata": {},
   "source": [
    "#### Agency \n",
    "\n",
    "String and there are no missing values\n",
    "\n",
    "* Required for data analysis:  Yes\n",
    "\n",
    ">   What's the job posting having the highest salary per agency? \n"
   ]
  },
  {
   "cell_type": "code",
   "execution_count": 27,
   "metadata": {},
   "outputs": [
    {
     "data": {
      "text/plain": [
       "True"
      ]
     },
     "execution_count": 27,
     "metadata": {},
     "output_type": "execute_result"
    }
   ],
   "source": [
    "df_count == counts_map[\"Agency\"]"
   ]
  },
  {
   "cell_type": "markdown",
   "metadata": {},
   "source": [
    "#### Posting Type \n",
    "\n",
    "Would be a categorical type as there are only 2 distict values (none missing)\n",
    "\n",
    "* Required for data analysis:  No"
   ]
  },
  {
   "cell_type": "code",
   "execution_count": 28,
   "metadata": {},
   "outputs": [
    {
     "name": "stdout",
     "output_type": "stream",
     "text": [
      "+------------+-----+\n",
      "|Posting Type|count|\n",
      "+------------+-----+\n",
      "|    Internal| 1684|\n",
      "|    External| 1262|\n",
      "+------------+-----+\n",
      "\n"
     ]
    }
   ],
   "source": [
    "df.groupBy(\"Posting Type\").count().orderBy('count', ascending=False).limit(10).show()"
   ]
  },
  {
   "cell_type": "markdown",
   "metadata": {},
   "source": [
    "#### \"# Of Positions\"\n",
    "\n",
    "should int type (no missing values)\n",
    "\n",
    "* Required for data analysis:  No"
   ]
  },
  {
   "cell_type": "code",
   "execution_count": 29,
   "metadata": {},
   "outputs": [
    {
     "data": {
      "text/plain": [
       "True"
      ]
     },
     "execution_count": 29,
     "metadata": {},
     "output_type": "execute_result"
    }
   ],
   "source": [
    "df_count == counts_map[\"# Of Positions\"]"
   ]
  },
  {
   "cell_type": "markdown",
   "metadata": {},
   "source": [
    "#### Business Title \n",
    "\n",
    "string type and no missing\n",
    "\n",
    "* Required for data analysis:  No"
   ]
  },
  {
   "cell_type": "code",
   "execution_count": 30,
   "metadata": {},
   "outputs": [
    {
     "data": {
      "text/plain": [
       "True"
      ]
     },
     "execution_count": 30,
     "metadata": {},
     "output_type": "execute_result"
    }
   ],
   "source": [
    "df_count == counts_map[\"Business Title\"]"
   ]
  },
  {
   "cell_type": "markdown",
   "metadata": {},
   "source": [
    "#### Civil Service Title \n",
    "\n",
    "string type and no missing\n",
    "\n",
    "* Required for data analysis:  No"
   ]
  },
  {
   "cell_type": "code",
   "execution_count": 31,
   "metadata": {},
   "outputs": [
    {
     "data": {
      "text/plain": [
       "True"
      ]
     },
     "execution_count": 31,
     "metadata": {},
     "output_type": "execute_result"
    }
   ],
   "source": [
    "df_count == counts_map[\"Civil Service Title\"]"
   ]
  },
  {
   "cell_type": "markdown",
   "metadata": {},
   "source": [
    "#### Title Code No \n",
    "\n",
    "String, as there are numerics mixed in with numbers.\n",
    "No missing values\n",
    "\n",
    "* Required for data analysis:  No"
   ]
  },
  {
   "cell_type": "code",
   "execution_count": 32,
   "metadata": {},
   "outputs": [
    {
     "data": {
      "text/plain": [
       "True"
      ]
     },
     "execution_count": 32,
     "metadata": {},
     "output_type": "execute_result"
    }
   ],
   "source": [
    "df_count == counts_map[\"Title Code No\"]"
   ]
  },
  {
   "cell_type": "code",
   "execution_count": 33,
   "metadata": {},
   "outputs": [
    {
     "name": "stdout",
     "output_type": "stream",
     "text": [
      "+-------------+\n",
      "|Title Code No|\n",
      "+-------------+\n",
      "|        40563|\n",
      "|        10009|\n",
      "|        90698|\n",
      "|        90698|\n",
      "|        91830|\n",
      "|        91830|\n",
      "|        12158|\n",
      "|        21822|\n",
      "|        1002D|\n",
      "|        10251|\n",
      "|        1002C|\n",
      "|        13642|\n",
      "|        13642|\n",
      "|        10209|\n",
      "|        10209|\n",
      "|        10251|\n",
      "|        13611|\n",
      "|        1002C|\n",
      "|        10251|\n",
      "|        13632|\n",
      "+-------------+\n",
      "only showing top 20 rows\n",
      "\n"
     ]
    }
   ],
   "source": [
    "df.select(\"Title Code No\").show()"
   ]
  },
  {
   "cell_type": "markdown",
   "metadata": {},
   "source": [
    "#### Level\n",
    "String type\n",
    "No missing values\n",
    "\n",
    "* Required for data analysis:  No"
   ]
  },
  {
   "cell_type": "code",
   "execution_count": 34,
   "metadata": {},
   "outputs": [
    {
     "data": {
      "text/plain": [
       "True"
      ]
     },
     "execution_count": 34,
     "metadata": {},
     "output_type": "execute_result"
    }
   ],
   "source": [
    "df_count == counts_map[\"Level\"]"
   ]
  },
  {
   "cell_type": "code",
   "execution_count": 35,
   "metadata": {},
   "outputs": [
    {
     "name": "stdout",
     "output_type": "stream",
     "text": [
      "+-----+\n",
      "|Level|\n",
      "+-----+\n",
      "|   M7|\n",
      "|   M7|\n",
      "|   M7|\n",
      "|   M7|\n",
      "|   M7|\n",
      "|   M7|\n",
      "|   M7|\n",
      "|   M7|\n",
      "|   M7|\n",
      "|   M7|\n",
      "+-----+\n",
      "\n"
     ]
    }
   ],
   "source": [
    "df.select(\"Level\").orderBy(\"Level\",ascending=False).limit(10).show()"
   ]
  },
  {
   "cell_type": "code",
   "execution_count": 36,
   "metadata": {},
   "outputs": [
    {
     "name": "stdout",
     "output_type": "stream",
     "text": [
      "+-----+\n",
      "|Level|\n",
      "+-----+\n",
      "|    0|\n",
      "|    0|\n",
      "|    0|\n",
      "|    0|\n",
      "|    0|\n",
      "|    0|\n",
      "|    0|\n",
      "|    0|\n",
      "|    0|\n",
      "|    0|\n",
      "+-----+\n",
      "\n"
     ]
    }
   ],
   "source": [
    "df.select(\"Level\").orderBy(\"Level\",ascending=True).limit(10).show()"
   ]
  },
  {
   "cell_type": "markdown",
   "metadata": {},
   "source": [
    "#### Job Category\n",
    "\n",
    "summart:\n",
    "\n",
    "- String Type\n",
    "- missing 2 values:\n",
    "- 131 distinct categories\n",
    "\n",
    "* Required for data analysis:  YES\n",
    "\n",
    "> What's the salary distribution per job category \n",
    "    - 3 line graph, min, max, avg - grouped by category\n",
    "\n",
    "> What's the number of jobs posting per category (Top 10)\n",
    "    - report\n",
    "    - histogram"
   ]
  },
  {
   "cell_type": "code",
   "execution_count": 37,
   "metadata": {},
   "outputs": [
    {
     "data": {
      "text/plain": [
       "False"
      ]
     },
     "execution_count": 37,
     "metadata": {},
     "output_type": "execute_result"
    }
   ],
   "source": [
    "df_count == counts_map[\"Job Category\"]"
   ]
  },
  {
   "cell_type": "code",
   "execution_count": 38,
   "metadata": {},
   "outputs": [
    {
     "name": "stdout",
     "output_type": "stream",
     "text": [
      "+--------------------+-----+\n",
      "|        Job Category|count|\n",
      "+--------------------+-----+\n",
      "|Administration & ...|    1|\n",
      "|Health Policy, Re...|    4|\n",
      "|Administration & ...|    3|\n",
      "|Information Techn...|    2|\n",
      "|Finance, Accounti...|    1|\n",
      "|Engineering, Arch...|    8|\n",
      "|Legal Affairs Pol...|    6|\n",
      "|Administration & ...|    2|\n",
      "|Constituent Servi...|  129|\n",
      "|Building Operatio...|  181|\n",
      "|Engineering, Arch...|    2|\n",
      "|Constituent Servi...|    8|\n",
      "|Administration & ...|    1|\n",
      "|       Legal Affairs|  226|\n",
      "|Engineering, Arch...|    2|\n",
      "|Finance, Accounti...|    4|\n",
      "|Constituent Servi...|    2|\n",
      "|Administration & ...|    2|\n",
      "|Health Legal Affairs|    4|\n",
      "|Administration & ...|    6|\n",
      "+--------------------+-----+\n",
      "only showing top 20 rows\n",
      "\n"
     ]
    }
   ],
   "source": [
    "df.groupBy(\"Job Category\").count().show()"
   ]
  },
  {
   "cell_type": "code",
   "execution_count": null,
   "metadata": {},
   "outputs": [],
   "source": [
    "df.groupBy('Job Category').count().orderBy('count', ascending=False).limit(10).show()"
   ]
  },
  {
   "cell_type": "code",
   "execution_count": null,
   "metadata": {},
   "outputs": [],
   "source": [
    "df.select('Job Category').distinct().count()"
   ]
  },
  {
   "cell_type": "markdown",
   "metadata": {},
   "source": [
    "- there are 2 missing Job Catergory's"
   ]
  },
  {
   "cell_type": "code",
   "execution_count": 43,
   "metadata": {},
   "outputs": [
    {
     "data": {
      "text/plain": [
       "2"
      ]
     },
     "execution_count": 43,
     "metadata": {},
     "output_type": "execute_result"
    }
   ],
   "source": [
    "df_count - counts_map[\"Job Category\"]"
   ]
  },
  {
   "cell_type": "code",
   "execution_count": 44,
   "metadata": {},
   "outputs": [],
   "source": [
    "import pyspark.sql.functions as F"
   ]
  },
  {
   "cell_type": "code",
   "execution_count": 45,
   "metadata": {
    "collapsed": true
   },
   "outputs": [
    {
     "data": {
      "text/html": [
       "<div>\n",
       "<style scoped>\n",
       "    .dataframe tbody tr th:only-of-type {\n",
       "        vertical-align: middle;\n",
       "    }\n",
       "\n",
       "    .dataframe tbody tr th {\n",
       "        vertical-align: top;\n",
       "    }\n",
       "\n",
       "    .dataframe thead th {\n",
       "        text-align: right;\n",
       "    }\n",
       "</style>\n",
       "<table border=\"1\" class=\"dataframe\">\n",
       "  <thead>\n",
       "    <tr style=\"text-align: right;\">\n",
       "      <th></th>\n",
       "      <th>0</th>\n",
       "      <th>1</th>\n",
       "    </tr>\n",
       "  </thead>\n",
       "  <tbody>\n",
       "    <tr>\n",
       "      <th>Job ID</th>\n",
       "      <td>87990</td>\n",
       "      <td>97899</td>\n",
       "    </tr>\n",
       "    <tr>\n",
       "      <th>Agency</th>\n",
       "      <td>DEPARTMENT OF BUSINESS SERV.</td>\n",
       "      <td>DEPARTMENT OF BUSINESS SERV.</td>\n",
       "    </tr>\n",
       "    <tr>\n",
       "      <th>Posting Type</th>\n",
       "      <td>Internal</td>\n",
       "      <td>Internal</td>\n",
       "    </tr>\n",
       "    <tr>\n",
       "      <th># Of Positions</th>\n",
       "      <td>1</td>\n",
       "      <td>1</td>\n",
       "    </tr>\n",
       "    <tr>\n",
       "      <th>Business Title</th>\n",
       "      <td>Account Manager</td>\n",
       "      <td>EXECUTIVE DIRECTOR, BUSINESS DEVELOPMENT</td>\n",
       "    </tr>\n",
       "    <tr>\n",
       "      <th>Civil Service Title</th>\n",
       "      <td>CONTRACT REVIEWER (OFFICE OF L</td>\n",
       "      <td>ADMINISTRATIVE BUSINESS PROMOT</td>\n",
       "    </tr>\n",
       "    <tr>\n",
       "      <th>Title Code No</th>\n",
       "      <td>40563</td>\n",
       "      <td>10009</td>\n",
       "    </tr>\n",
       "    <tr>\n",
       "      <th>Level</th>\n",
       "      <td>1</td>\n",
       "      <td>M3</td>\n",
       "    </tr>\n",
       "    <tr>\n",
       "      <th>Job Category</th>\n",
       "      <td>None</td>\n",
       "      <td>None</td>\n",
       "    </tr>\n",
       "    <tr>\n",
       "      <th>Full-Time/Part-Time indicator</th>\n",
       "      <td>None</td>\n",
       "      <td>F</td>\n",
       "    </tr>\n",
       "    <tr>\n",
       "      <th>Salary Range From</th>\n",
       "      <td>42405</td>\n",
       "      <td>60740</td>\n",
       "    </tr>\n",
       "    <tr>\n",
       "      <th>Salary Range To</th>\n",
       "      <td>65485</td>\n",
       "      <td>162014</td>\n",
       "    </tr>\n",
       "    <tr>\n",
       "      <th>Salary Frequency</th>\n",
       "      <td>Annual</td>\n",
       "      <td>Annual</td>\n",
       "    </tr>\n",
       "    <tr>\n",
       "      <th>Work Location</th>\n",
       "      <td>110 William St. N Y</td>\n",
       "      <td>110 William St. N Y</td>\n",
       "    </tr>\n",
       "    <tr>\n",
       "      <th>Division/Work Unit</th>\n",
       "      <td>Strategy &amp; Analytics</td>\n",
       "      <td>Tech Talent Pipeline</td>\n",
       "    </tr>\n",
       "    <tr>\n",
       "      <th>Job Description</th>\n",
       "      <td>Division of Economic &amp; Financial Opportunity (...</td>\n",
       "      <td>The New York City Department of Small Business...</td>\n",
       "    </tr>\n",
       "    <tr>\n",
       "      <th>Minimum Qual Requirements</th>\n",
       "      <td>\"1.\\tA baccalaureate degree from an accredited...</td>\n",
       "      <td>\"1. A baccalaureate degree from an accredited ...</td>\n",
       "    </tr>\n",
       "    <tr>\n",
       "      <th>Preferred Skills</th>\n",
       "      <td>all candidates must have at least one year of...</td>\n",
       "      <td>None</td>\n",
       "    </tr>\n",
       "    <tr>\n",
       "      <th>Additional Information</th>\n",
       "      <td>â€¢\\tExcellent interpersonal and organizationa...</td>\n",
       "      <td>None</td>\n",
       "    </tr>\n",
       "    <tr>\n",
       "      <th>To Apply</th>\n",
       "      <td>Salary range for this position is: $42,405 - $...</td>\n",
       "      <td>In addition to applying through this website, ...</td>\n",
       "    </tr>\n",
       "    <tr>\n",
       "      <th>Hours/Shift</th>\n",
       "      <td>None</td>\n",
       "      <td>None</td>\n",
       "    </tr>\n",
       "    <tr>\n",
       "      <th>Work Location 1</th>\n",
       "      <td>None</td>\n",
       "      <td>None</td>\n",
       "    </tr>\n",
       "    <tr>\n",
       "      <th>Recruitment Contact</th>\n",
       "      <td>None</td>\n",
       "      <td>None</td>\n",
       "    </tr>\n",
       "    <tr>\n",
       "      <th>Residency Requirement</th>\n",
       "      <td>None</td>\n",
       "      <td>New York City residency is generally required ...</td>\n",
       "    </tr>\n",
       "    <tr>\n",
       "      <th>Posting Date</th>\n",
       "      <td>New York City residency is generally required ...</td>\n",
       "      <td>2012-01-26T00:00:00.000</td>\n",
       "    </tr>\n",
       "    <tr>\n",
       "      <th>Post Until</th>\n",
       "      <td>2011-06-24T00:00:00.000</td>\n",
       "      <td>None</td>\n",
       "    </tr>\n",
       "    <tr>\n",
       "      <th>Posting Updated</th>\n",
       "      <td>None</td>\n",
       "      <td>2012-01-26T00:00:00.000</td>\n",
       "    </tr>\n",
       "    <tr>\n",
       "      <th>Process Date</th>\n",
       "      <td>2011-06-24T00:00:00.000</td>\n",
       "      <td>2019-12-17T00:00:00.000</td>\n",
       "    </tr>\n",
       "  </tbody>\n",
       "</table>\n",
       "</div>"
      ],
      "text/plain": [
       "                                                                               0  \\\n",
       "Job ID                                                                     87990   \n",
       "Agency                                              DEPARTMENT OF BUSINESS SERV.   \n",
       "Posting Type                                                            Internal   \n",
       "# Of Positions                                                                 1   \n",
       "Business Title                                                   Account Manager   \n",
       "Civil Service Title                               CONTRACT REVIEWER (OFFICE OF L   \n",
       "Title Code No                                                              40563   \n",
       "Level                                                                          1   \n",
       "Job Category                                                                None   \n",
       "Full-Time/Part-Time indicator                                               None   \n",
       "Salary Range From                                                          42405   \n",
       "Salary Range To                                                            65485   \n",
       "Salary Frequency                                                          Annual   \n",
       "Work Location                                                110 William St. N Y   \n",
       "Division/Work Unit                                          Strategy & Analytics   \n",
       "Job Description                Division of Economic & Financial Opportunity (...   \n",
       "Minimum Qual Requirements      \"1.\\tA baccalaureate degree from an accredited...   \n",
       "Preferred Skills                all candidates must have at least one year of...   \n",
       "Additional Information         â€¢\\tExcellent interpersonal and organizationa...   \n",
       "To Apply                       Salary range for this position is: $42,405 - $...   \n",
       "Hours/Shift                                                                 None   \n",
       "Work Location 1                                                             None   \n",
       "Recruitment Contact                                                         None   \n",
       "Residency Requirement                                                       None   \n",
       "Posting Date                   New York City residency is generally required ...   \n",
       "Post Until                                               2011-06-24T00:00:00.000   \n",
       "Posting Updated                                                             None   \n",
       "Process Date                                             2011-06-24T00:00:00.000   \n",
       "\n",
       "                                                                               1  \n",
       "Job ID                                                                     97899  \n",
       "Agency                                              DEPARTMENT OF BUSINESS SERV.  \n",
       "Posting Type                                                            Internal  \n",
       "# Of Positions                                                                 1  \n",
       "Business Title                          EXECUTIVE DIRECTOR, BUSINESS DEVELOPMENT  \n",
       "Civil Service Title                               ADMINISTRATIVE BUSINESS PROMOT  \n",
       "Title Code No                                                              10009  \n",
       "Level                                                                         M3  \n",
       "Job Category                                                                None  \n",
       "Full-Time/Part-Time indicator                                                  F  \n",
       "Salary Range From                                                          60740  \n",
       "Salary Range To                                                           162014  \n",
       "Salary Frequency                                                          Annual  \n",
       "Work Location                                                110 William St. N Y  \n",
       "Division/Work Unit                                          Tech Talent Pipeline  \n",
       "Job Description                The New York City Department of Small Business...  \n",
       "Minimum Qual Requirements      \"1. A baccalaureate degree from an accredited ...  \n",
       "Preferred Skills                                                            None  \n",
       "Additional Information                                                      None  \n",
       "To Apply                       In addition to applying through this website, ...  \n",
       "Hours/Shift                                                                 None  \n",
       "Work Location 1                                                             None  \n",
       "Recruitment Contact                                                         None  \n",
       "Residency Requirement          New York City residency is generally required ...  \n",
       "Posting Date                                             2012-01-26T00:00:00.000  \n",
       "Post Until                                                                  None  \n",
       "Posting Updated                                          2012-01-26T00:00:00.000  \n",
       "Process Date                                             2019-12-17T00:00:00.000  "
      ]
     },
     "execution_count": 45,
     "metadata": {},
     "output_type": "execute_result"
    }
   ],
   "source": [
    "df.where(F.col('Job Category').isNull()).toPandas().transpose()"
   ]
  },
  {
   "cell_type": "markdown",
   "metadata": {},
   "source": [
    "- There are only 2 records with null Job Category.  I'll update these to \"not specified\""
   ]
  },
  {
   "cell_type": "markdown",
   "metadata": {},
   "source": [
    "#### Full-Time/Part-Time indicator\n",
    "\n",
    "String with missing values\n",
    "\n",
    "* Required for data analysis:  No\n"
   ]
  },
  {
   "cell_type": "code",
   "execution_count": 46,
   "metadata": {},
   "outputs": [
    {
     "name": "stdout",
     "output_type": "stream",
     "text": [
      "+-----------------------------+-----+\n",
      "|Full-Time/Part-Time indicator|count|\n",
      "+-----------------------------+-----+\n",
      "|                            F| 2625|\n",
      "|                         null|  195|\n",
      "|                            P|  126|\n",
      "+-----------------------------+-----+\n",
      "\n"
     ]
    }
   ],
   "source": [
    "df.groupBy(\"Full-Time/Part-Time indicator\").count().show()"
   ]
  },
  {
   "cell_type": "markdown",
   "metadata": {},
   "source": [
    "- There are 195 records with null.  I'll update these to \"not specified\" if required for reporting"
   ]
  },
  {
   "cell_type": "markdown",
   "metadata": {},
   "source": [
    "#### Salary Range From\n",
    "\n",
    "* Required for data analysis:  YES\n",
    "\n",
    "> mutilple salary related questions to answer\n",
    "\n",
    "Should be numeric, lets look at the data:"
   ]
  },
  {
   "cell_type": "code",
   "execution_count": 47,
   "metadata": {},
   "outputs": [
    {
     "data": {
      "text/plain": [
       "0"
      ]
     },
     "execution_count": 47,
     "metadata": {},
     "output_type": "execute_result"
    }
   ],
   "source": [
    "df_count - counts_map[\"Salary Range From\"]"
   ]
  },
  {
   "cell_type": "markdown",
   "metadata": {},
   "source": [
    "- check that all columns are int - actually select those that cannot be cast to int."
   ]
  },
  {
   "cell_type": "code",
   "execution_count": 48,
   "metadata": {},
   "outputs": [
    {
     "name": "stdout",
     "output_type": "stream",
     "text": [
      "+-----------------+\n",
      "|Salary Range From|\n",
      "+-----------------+\n",
      "+-----------------+\n",
      "\n"
     ]
    }
   ],
   "source": [
    "df.select(\"Salary Range From\").where(F.col(\"Salary Range From\").cast('float').isNull()).show()"
   ]
  },
  {
   "cell_type": "code",
   "execution_count": 49,
   "metadata": {},
   "outputs": [
    {
     "data": {
      "text/plain": [
       "summary\n",
       "count                   2946\n",
       "mean      58904.139793856084\n",
       "stddev     26986.57593579136\n",
       "min                        0\n",
       "max                    99353\n",
       "Name: Salary Range From, dtype: object"
      ]
     },
     "execution_count": 49,
     "metadata": {},
     "output_type": "execute_result"
    }
   ],
   "source": [
    "desc.loc[\"Salary Range From\"]"
   ]
  },
  {
   "cell_type": "markdown",
   "metadata": {},
   "source": [
    "#### Salary Range To\n",
    "\n",
    "Should be numeric, lets look at the data:\n",
    "\n",
    "\n",
    "* Required for data analysis:  YES\n",
    "\n",
    "> mutilple salary related questions to answer"
   ]
  },
  {
   "cell_type": "code",
   "execution_count": 50,
   "metadata": {},
   "outputs": [
    {
     "data": {
      "text/plain": [
       "0"
      ]
     },
     "execution_count": 50,
     "metadata": {},
     "output_type": "execute_result"
    }
   ],
   "source": [
    "df_count - counts_map[\"Salary Range To\"]"
   ]
  },
  {
   "cell_type": "code",
   "execution_count": 51,
   "metadata": {},
   "outputs": [
    {
     "name": "stdout",
     "output_type": "stream",
     "text": [
      "+---------------+\n",
      "|Salary Range To|\n",
      "+---------------+\n",
      "+---------------+\n",
      "\n"
     ]
    }
   ],
   "source": [
    "df.select(\"Salary Range To\").where(F.col(\"Salary Range To\").cast('float').isNull()).show()"
   ]
  },
  {
   "cell_type": "code",
   "execution_count": 52,
   "metadata": {},
   "outputs": [
    {
     "data": {
      "text/plain": [
       "summary\n",
       "count                  2946\n",
       "mean      85535.71162739306\n",
       "stddev    42871.31345366744\n",
       "min                   10.36\n",
       "max                   99406\n",
       "Name: Salary Range To, dtype: object"
      ]
     },
     "execution_count": 52,
     "metadata": {},
     "output_type": "execute_result"
    }
   ],
   "source": [
    "desc.loc[\"Salary Range To\"]"
   ]
  },
  {
   "cell_type": "markdown",
   "metadata": {},
   "source": [
    "#### Salary Frequency"
   ]
  },
  {
   "cell_type": "code",
   "execution_count": 53,
   "metadata": {},
   "outputs": [
    {
     "name": "stdout",
     "output_type": "stream",
     "text": [
      "+----------------+-----+\n",
      "|Salary Frequency|count|\n",
      "+----------------+-----+\n",
      "|           Daily|   39|\n",
      "|          Annual| 2712|\n",
      "|          Hourly|  195|\n",
      "+----------------+-----+\n",
      "\n"
     ]
    }
   ],
   "source": [
    "df.groupBy(\"Salary Frequency\").count().limit(10).show()"
   ]
  },
  {
   "cell_type": "markdown",
   "metadata": {},
   "source": [
    "- Function required to put salary columns on the same frequencey scale\n",
    "\n",
    "create function to create new columns: \"Freq Adjusted Salary Range From\" and \"Freq Adjusted Salary Range To\""
   ]
  },
  {
   "cell_type": "markdown",
   "metadata": {},
   "source": [
    "#### Work Location\n",
    "\n",
    "String\n",
    "\n",
    "* Required for data analysis:  Yes"
   ]
  },
  {
   "cell_type": "markdown",
   "metadata": {},
   "source": [
    "#### Division/Work Unit\n",
    "\n",
    "* Required for data analysis:  No"
   ]
  },
  {
   "cell_type": "markdown",
   "metadata": {},
   "source": [
    "#### Job Description\n",
    "\n",
    "There are no missing rows\n",
    "\n",
    "* Required for data analysis:  _Maybe_,...could be required to answer \"what are the highest paid skills....\"\n",
    "\n",
    "**However looking through many rows of the data I am not sure how required skills can be extracted from this column.**  \n",
    "\n",
    "Examples when using \"skill\" as part of a regex:\n",
    "\n",
    "These matches do not indicate the skill reuirement of the candidate\n",
    "- `Assist skill trades staff.`  \n",
    "- `and linking employers with a skilled and qualified workforce.` \n",
    "\n",
    "This match does, but how could one categorise it in a form ready for a report:\n",
    "\n",
    "- `kills:  The ideal candidate will have demonstrated success developing and implementing business driven programs and will have exhibited:     Strong management and leadership skills   Experience planning, implementing and managing projects involving diverse stakeholders ......`\n",
    "\n",
    "At this point I'm not what column / derived column I'll need to answer \"What are the highest paid skills in the US market?\"\n"
   ]
  },
  {
   "cell_type": "code",
   "execution_count": 58,
   "metadata": {},
   "outputs": [
    {
     "data": {
      "text/plain": [
       "0"
      ]
     },
     "execution_count": 58,
     "metadata": {},
     "output_type": "execute_result"
    }
   ],
   "source": [
    "df_count - counts_map[\"Job Description\"]"
   ]
  },
  {
   "cell_type": "code",
   "execution_count": 59,
   "metadata": {},
   "outputs": [
    {
     "name": "stdout",
     "output_type": "stream",
     "text": [
      "+--------------------------------------------------------------------------------------------------------------------------------------------------------------------------------------------------------------------------------------------------------------------------------------------------------------------------------------------------------------------------------------------------------------------------------------------------------------------------------------------------------------------------------------------------------------------------------------------------------------------------------------------------------------------------------------------------------------------------------------------------------------------------------------------------------------------------------------------------------------------------------------------------------------------------------------------------------------------------------------------------------------------------------------------------------------------------------------------------------------------------------------------------------------------------------------------------------------------------------------------------------------------------------------------------------------------------------------------------------------------------------------------------------------------------------------------------------------------------------------------------------------------------------------------------------------------------------------------------------------------------------------------------------------------------------------------------------------------------------------------------------------------------------------------------------------------------------------------------------------------------------------------------------------------------------------------------------------------------------------------------------------------------------------------------------------------------------------------------------------------------------------------------------------------------------------------------------------------------------------------------------------------------------------------------------------------------------------------------------------------------------------------------------------------------------------------------------------------------------------------------------------------------------------------------------------------------------------------------------------------------------------------------------------------------------------------------------------------------------------------------------------------------------------------------------------------------------------------------------------------------------------------------------------------------------------------------------------------------------------------------------------------------------------------------------------------------------------------------------------------------------------------------------------------------------------------------------------------------------------------------------------------------------------------------------------------------------------------------------------------------------------------------------------------------------------------------------------------------------------------------------------------------------------------------------------------------------------------------------------------------------------------------------------------------------------------------------------------------------------------------------------------------------------------------------------------------------------------------------------------------------------------------------------------------------------------------------------------------------------------------------------------------------------------------------------------------------------------------------------------------------------------------------------------------------------------------------------------------------------------------------------------------------------------------------------------------------------------------------------------------------------------------------------------------------------------------------------------------------------------------------------------------------------------------------------------------------------------------------------------------------------------------------------------------------------------------------------------------------------------------------------------------------------------------------------------------------------------------------------------------------------------------------------------------------------------------------------------------------------------------------------------------------------------------------------------------------------------------------------------------------------------------------------------------------------------------------------------------------------------------------------------+\n",
      "|Job Description                                                                                                                                                                                                                                                                                                                                                                                                                                                                                                                                                                                                                                                                                                                                                                                                                                                                                                                                                                                                                                                                                                                                                                                                                                                                                                                                                                                                                                                                                                                                                                                                                                                                                                                                                                                                                                                                                                                                                                                                                                                                                                                                                                                                                                                                                                                                                                                                                                                                                                                                                                                                                                                                                                                                                                                                                                                                                                                                                                                                                                                                                                                                                                                                                                                                                                                                                                                                                                                                                                                                                                                                                                                                                                                                                                                                                                                                                                                                                                                                                                                                                                                                                                                                                                                                                                                                                                                                                                                                                                                                                                                                                                                                                                                                                                                                                                                                                                                                                                                                                                                                                                                                                                                                                                                     |\n",
      "+--------------------------------------------------------------------------------------------------------------------------------------------------------------------------------------------------------------------------------------------------------------------------------------------------------------------------------------------------------------------------------------------------------------------------------------------------------------------------------------------------------------------------------------------------------------------------------------------------------------------------------------------------------------------------------------------------------------------------------------------------------------------------------------------------------------------------------------------------------------------------------------------------------------------------------------------------------------------------------------------------------------------------------------------------------------------------------------------------------------------------------------------------------------------------------------------------------------------------------------------------------------------------------------------------------------------------------------------------------------------------------------------------------------------------------------------------------------------------------------------------------------------------------------------------------------------------------------------------------------------------------------------------------------------------------------------------------------------------------------------------------------------------------------------------------------------------------------------------------------------------------------------------------------------------------------------------------------------------------------------------------------------------------------------------------------------------------------------------------------------------------------------------------------------------------------------------------------------------------------------------------------------------------------------------------------------------------------------------------------------------------------------------------------------------------------------------------------------------------------------------------------------------------------------------------------------------------------------------------------------------------------------------------------------------------------------------------------------------------------------------------------------------------------------------------------------------------------------------------------------------------------------------------------------------------------------------------------------------------------------------------------------------------------------------------------------------------------------------------------------------------------------------------------------------------------------------------------------------------------------------------------------------------------------------------------------------------------------------------------------------------------------------------------------------------------------------------------------------------------------------------------------------------------------------------------------------------------------------------------------------------------------------------------------------------------------------------------------------------------------------------------------------------------------------------------------------------------------------------------------------------------------------------------------------------------------------------------------------------------------------------------------------------------------------------------------------------------------------------------------------------------------------------------------------------------------------------------------------------------------------------------------------------------------------------------------------------------------------------------------------------------------------------------------------------------------------------------------------------------------------------------------------------------------------------------------------------------------------------------------------------------------------------------------------------------------------------------------------------------------------------------------------------------------------------------------------------------------------------------------------------------------------------------------------------------------------------------------------------------------------------------------------------------------------------------------------------------------------------------------------------------------------------------------------------------------------------------------------------------------------------------------+\n",
      "|Division of Economic & Financial Opportunity (DEFO)    Mayor Michael R. Bloomberg and SBS are committed to encouraging a competitive and diverse New York City business environment by promoting the growth and success of minority and women-owned companies.  New York Cityâ€™s Minority and Women-owned Business Enterprise (M/WBE) program is designed to help these historically underserved groups become more competitive.    JOB DESCRIPTION           The Account Manager will provide a range of supportive services to City agency purchasing personnel and private-sector prime contractors to help them comply with M/WBE utilization goals under Local Law 129.  The Account Manager will oversee a portfolio of several City agencies and will be responsible for the monitoring and oversight of the strategies which have been broadly laid out for agencies to increase M/WBE utilization.  The primary objective for the Account Manager is to help agencies increase the number and dollar value of contracts awarded to M/WBE at various contract levels.  Specifically, the Account Manager will seek to bring agencies into compliance with the Citywide utilization goals and other metrics used for measuring agency performance. Each account manager will be responsible for procurements of all sizes and methods for their respective agencies.  The Account Manager will report to the Director of Procurement Initiatives.    Account Manager Model  Each agency has very specific vendor requirements and needs, as well as obstacles to increasing M/WBE Utilization. The account managers will learn what is procured, by what method, how frequently, and how to get more M/WBEs participating in the process. The account manager will leverage their procurement contacts to work directly with program end users to identify needs and obstacles and create appropriate solutions.    The Account Managerâ€™s responsibilities will include the following:  1.\tResearch agency procurement practices, requirements, in order to connect M/WBE firms with future procurement opportunities   2.\tWork with the agency senior staff to implement strategies to increase M/WBE participation   3.\tIntroduce new M/WBE firms to agency staff   4.\tAssist agency staff with tools to improve performance, including monitoring prime contractor performance relating to M/WBE subcontractor utilization goals   5.\tInform agency senior staff of their performance against goals on a regular basis   6.\tAssist program and procurement staff with program implementation questions as they arise   7.\tProduce  analysis of agency contracts and M/WBE program performance   8.\tCoordinate resources for agencies as necessary, including networking events, training sessions, etc.                                                                                                                                                                                                                                                                                                                                                                                                                                                                                                                                                                                                                                                                                                                                                                                                                                                                                                                                                                                                                                                                                                                                                                                                                                                                                                                                                                                                                                                                                                                                                                                                                                                                                                                                                                                                                                                                                                                                                                                                                                                                                                                                                                                                                                                                                                                                                                                                                                                |\n",
      "|The New York City Department of Small Business Services (SBS) is a vibrant, client-centered agency whose mission is to serve New Yorkâ€™s small businesses, jobseekers and commercial districts.  SBS makes it easier for companies in New York City to start, operate, and expand by providing direct assistance to business owners, supporting commercial districts, promoting financial and economic opportunity among minority- and women-owned businesses, preparing New Yorkers for jobs, and linking employers with a skilled and qualified workforce.  SBS continues to reach for higher professional standards through innovative systems, new approaches to government, and a strong focus on its employees.    NYC Business Solutions is a set of services offered by the NYC Department of Small Business Services to help businesses start, operate, and expand in New York City.  All services are offered at no cost and are available to businesses of any size and at any stage.  Services can be accessed through the cityâ€™s 7 NYC Business Solutions Centers, 6 Career Centers, and 3 Sector Centers located throughout the 5 boroughs.  In 2010, NYC Business Solutions provided services to over 10,000 business customers located throughout the five boroughs.    The Executive Director of Business Development will lead agency efforts to acquire new business customers and to increase the number of NYC Business Solutions services utilized by existing customers. The Executive Director is responsible for developing the business development strategy for all NYC Business Solutions services and ensuring effective implementation through the management of internal and external sales resources. The Executive Director will provide direct supervision to 3 Senior Account Managers and will oversee 16 sales teams in the field (70 total field staff).  The Executive Director will also lead the professional development program for all staff engaging directly with business customers and is responsible for collaborating with the NYC Business Solutions marketing team to improve brand recognition throughout the five boroughs.    Specific responsibilities include:     Develop and execute the Agencyâ€™s business development strategy for all NYC Business Solutions services    Identify business targets and coordinate sales efforts across sales teams to ensure efficient usage of system-wide resources    Manage sales teams to meet their quarterly and annual sales goals through quarterly business development planning meetings and regular check-ins    Directly supervise three Senior Account Managers and oversee approximately 70 field staff located at the cityâ€™s 7 NYC Business Solutions Centers, 6 Career Centers, and 3 Sector Centers    Track and analyze system sales activities using Oracle CRM On Demand    Collaborate with NYC Business Solutions and Workforce1 program management teams to link sales activity and service delivery    Identify and create sales tools that enable sales teams to more effectively sell NYC Business Solutions services    Design and implement the professional development program for all business facing staff   Develop curriculum and lead sales training sessions for new and existing staff  Organize and lead industry knowledge sessions with sector experts to deepen sales teamsâ€™ understanding of business prospects   Lead sector focused working groups to build industry expertise and  disseminate best practices across sales teams  Increase awareness of NYC Business Solutions Services throughout the five boroughs of New York City  Assist the marketing team to develop brochures, flyers, and advertisements to promote NYC Business Solutions services and events  Participate in panel discussions and deliver public presentations at events  Establish partnerships with non-profit organizations, government agencies, and the private sector to generate referrals for NYC Business Solutions services      Preferred Skills:  The ideal candidate will have demonstrated success developing and implementing business driven programs and will have exhibited:     Strong management and leadership skills   Experience planning, implementing and managing projects involving diverse stakeholders   Extensive private or public sector experience in business development and sales  The ability to organize and drive projects to timely completion   The ability to actively listen and synthesize disparate viewpoints into a shared vision   The ability to handle complexity in fast-paced entrepreneurial environments   The ability to communicate effectively with a diverse array of internal and external stakeholders   The ability to combine attention to detail with a clear understanding of the big picture   Outstanding presentation, writing, and communications skills   Outstanding analytical, problem solving, presentation and creative thinking abilities   Excellent MS Excel, Word and Power Point skills   Experience with Oracle CRM On Demand, SalesForce, or other customer relationship management tool preferred but not required  Foreign language skills a plus|\n",
      "|Under direct supervision, assist in the routine maintenance operation and repair of public buildings, structures, and the equipment they contain; perform related work.  Responsibilities  include, but are not limited to the following:    1.  Perform minor and major repairs to boilers, burners, vacuum tank, pumps, motors and other various heating equipment citywide.  2.  Survey and report on existing conditions of heating equipment.  3.  Assist Heating Superintendent with periodic reports.  4.  Assist skill trades staff.  5.  Provide assistance during emergencies.  6.  Respond to all heating/hot water service disruptions.    Candidates selected must be available to work and travel throughout the five boroughs; and will be required to work rotating shifts, including holidays and weekends.    8:00 AM - 4:00 PM  4:00 PM - 12:00 AM  12:00 AM - 8:00 AM                                                                                                                                                                                                                                                                                                                                                                                                                                                                                                                                                                                                                                                                                                                                                                                                                                                                                                                                                                                                                                                                                                                                                                                                                                                                                                                                                                                                                                                                                                                                                                                                                                                                                                                                                                                                                                                                                                                                                                                                                                                                                                                                                                                                                                                                                                                                                                                                                                                                                                                                                                                                                                                                                                                                                                                                                                                                                                                                                                                                                                                                                                                                                                                                                                                                                                                                                                                                                                                                                                                                                                                                                                                                                                                                                                                                                                                                                                                                                                                                                                                                                                                                                                                                                                                                                                                                                                           |\n",
      "|Under direct supervision, assist in the routine maintenance operation and repair of public buildings, structures, and the equipment they contain; perform related work.  Responsibilities  include, but are not limited to the following:    1.  Perform minor and major repairs to boilers, burners, vacuum tank, pumps, motors and other various heating equipment citywide.  2.  Survey and report on existing conditions of heating equipment.  3.  Assist Heating Superintendent with periodic reports.  4.  Assist skill trades staff.  5.  Provide assistance during emergencies.  6.  Respond to all heating/hot water service disruptions.    Candidates selected must be available to work and travel throughout the five boroughs; and will be required to work rotating shifts, including holidays and weekends.    8:00 AM - 4:00 PM  4:00 PM - 12:00 AM  12:00 AM - 8:00 AM                                                                                                                                                                                                                                                                                                                                                                                                                                                                                                                                                                                                                                                                                                                                                                                                                                                                                                                                                                                                                                                                                                                                                                                                                                                                                                                                                                                                                                                                                                                                                                                                                                                                                                                                                                                                                                                                                                                                                                                                                                                                                                                                                                                                                                                                                                                                                                                                                                                                                                                                                                                                                                                                                                                                                                                                                                                                                                                                                                                                                                                                                                                                                                                                                                                                                                                                                                                                                                                                                                                                                                                                                                                                                                                                                                                                                                                                                                                                                                                                                                                                                                                                                                                                                                                                                                                                                                           |\n",
      "|Responsibilities of selected candidates will include, but are not limited to the following:    1.  Prepare, fill and prime surfaces for painting.  2.   Mix paint components and match colors.  3.  Apply paint with a brush, roller or spray gun.  4.  Apply plaster to surfaces.  5.  Work on and from ladders, platforms and scaffolds  6.  Rig lines and scaffolds.                                                                                                                                                                                                                                                                                                                                                                                                                                                                                                                                                                                                                                                                                                                                                                                                                                                                                                                                                                                                                                                                                                                                                                                                                                                                                                                                                                                                                                                                                                                                                                                                                                                                                                                                                                                                                                                                                                                                                                                                                                                                                                                                                                                                                                                                                                                                                                                                                                                                                                                                                                                                                                                                                                                                                                                                                                                                                                                                                                                                                                                                                                                                                                                                                                                                                                                                                                                                                                                                                                                                                                                                                                                                                                                                                                                                                                                                                                                                                                                                                                                                                                                                                                                                                                                                                                                                                                                                                                                                                                                                                                                                                                                                                                                                                                                                                                                                                             |\n",
      "|Responsibilities of selected candidates will include, but are not limited to the following:    1.  Prepare, fill and prime surfaces for painting.  2.   Mix paint components and match colors.  3.  Apply paint with a brush, roller or spray gun.  4.  Apply plaster to surfaces.  5.  Work on and from ladders, platforms and scaffolds  6.  Rig lines and scaffolds.                                                                                                                                                                                                                                                                                                                                                                                                                                                                                                                                                                                                                                                                                                                                                                                                                                                                                                                                                                                                                                                                                                                                                                                                                                                                                                                                                                                                                                                                                                                                                                                                                                                                                                                                                                                                                                                                                                                                                                                                                                                                                                                                                                                                                                                                                                                                                                                                                                                                                                                                                                                                                                                                                                                                                                                                                                                                                                                                                                                                                                                                                                                                                                                                                                                                                                                                                                                                                                                                                                                                                                                                                                                                                                                                                                                                                                                                                                                                                                                                                                                                                                                                                                                                                                                                                                                                                                                                                                                                                                                                                                                                                                                                                                                                                                                                                                                                                             |\n",
      "|** OPEN TO PERMANENT PROCUREMENT ANALYSTS ONLY. YOU MUST CLEARLY STATE YOUR CIVIL SERVICE STATUS ON YOUR COVER LETTER.  ALL OTHER CANDIDATES WILL NOT BE CONSIDERED.      The mission of the Bureau of HIV/ AIDS Prevention and Control (the Bureau) is to prevent new infections and reduce morbidity and mortality among HIV-infected persons. The goals of the Administration Unit of the Bureau is to provide the necessary administrative support and coordination in the areas of contract administration; procurement; human resources management; fiscal administration; and contracts management to enable the program areas (HIV Prevention, HIV Care & Treatment, HIV Testing, Housing, and HIV Epidemiology and Field Services Unit) to function effectively and efficiently in achieving their respective missions.    DUTIES WILL INCLUDE BUT NOT BE LIMITED TO:    --Development and management of complex contracts and purchases for City, State, and/or Federal grants.    -- Manage the lifecycle of a grant budget(s), including, but not limited to, development of grant application budget and associated documents for submission to funders; expenditure tracking; final financial reporting.    -- Manage tracking systems for Personnel Services (PS) and Other Than Personnel Services (OTPS), Prepare statistical and narrative reports on a regular basis.    -- Review and reconcile budget reports from the DOHMHâ€™s multiple fiscal systems and proprietary tracking systems.    -- Analyze complex financial reports and fiscal data., Participate in planning, design and implementation of computer systems to track all aspects of grant budgets.    -- Act as liaison to other DOHMH offices in order to effectively execute budget activities, including: budget, claiming, internal accounting, grants.    -- Conduct ad-hoc reports or analysis as requested by the Assistant Director for Fiscal Administration and/or the Director of Administration.                                                                                                                                                                                                                                                                                                                                                                                                                                                                                                                                                                                                                                                                                                                                                                                                                                                                                                                                                                                                                                                                                                                                                                                                                                                                                                                                                                                                                                                                                                                                                                                                                                                                                                                                                                                                                                                                                                                                                                                                                                                                                                                                                                                                                                                                                                                                                                                                                                                                                                                                                                                                                                                                                                                                                                                                                                                                                                                                                                                                                                                                                                                                                                                                                                                                   |\n",
      "|Working in the Distribution Water Quality Operations Division, Organic Section, Queens, New York, the Associate Chemist II will report to the Organic Lab Section Supervisor and will perform and oversee complex testing of drinking water samples for trace organic contaminants by one or more gas chromatographic methods. This person will be responsible for maintaining the capability of the organic section to perform testing by their assigned methods, including: training analysts, maintaining stocks of equipment and supplies, diagnosing instrument problems and performing routine maintenance on gas chromatographs. The Associate Chemist will also draft or review analytical reports, Standard Operating Procedures (SOPs), and final reports to external agencies for his/her assigned methods. They shall participate in analysis of proficiency samples from NYS Department of Health Environmental Laboratory Approval Program (ELAP) and other Proficiency Test (PT) suppliers.                                                                                                                                                                                                                                                                                                                                                                                                                                                                                                                                                                                                                                                                                                                                                                                                                                                                                                                                                                                                                                                                                                                                                                                                                                                                                                                                                                                                                                                                                                                                                                                                                                                                                                                                                                                                                                                                                                                                                                                                                                                                                                                                                                                                                                                                                                                                                                                                                                                                                                                                                                                                                                                                                                                                                                                                                                                                                                                                                                                                                                                                                                                                                                                                                                                                                                                                                                                                                                                                                                                                                                                                                                                                                                                                                                                                                                                                                                                                                                                                                                                                                                                                                                                                                                                          |\n",
      "|Reporting to the Deputy Director of Technical Planning, with latitude for independent judgment, the Cost Estimating Manager is responsible for oversight and management of the day-to-day operations of the Cost Estimating Section of Capital Planning.  Responsibilities include, but are not limited to the following:    1.  Supervise cost estimating staff.  2.  Plan, assign and review work of subordinates.   3.  Oversee the preparation of various levels of cost estimates for the planning, design, construction, remodeling or repair of buildings, mechanical systems or various installations.  4.  Monitor quantity takeoffs and cost evaluations in relation to contract drawings, specifications or contract changes.  5.  Engage in and monitor complex research; conduct studies and investigations related to estimating functions.  6.  Ensure price library meets with current cost variations.  7.  Review contract estimates prepared by professional consultants and make recommendations for acceptance, rejection or modification.  8.  Evaluate staff performance and take corrective action if necessary.    NOTE:    Employees serving in the title of or who meet the qualification requirements for Administrative  Project Manager will be considered.                                                                                                                                                                                                                                                                                                                                                                                                                                                                                                                                                                                                                                                                                                                                                                                                                                                                                                                                                                                                                                                                                                                                                                                                                                                                                                                                                                                                                                                                                                                                                                                                                                                                                                                                                                                                                                                                                                                                                                                                                                                                                                                                                                                                                                                                                                                                                                                                                                                                                                                                                                                                                                                                                                                                                                                                                                                                                                                                                                                                                                                                                                                                                                                                                                                                                                                                                                                                                                                                                                                                                                                                                                                                                                                                                                                                                                                                                                                                                                           |\n",
      "|Performs essential administrative functions that are critical to the day-to-day operation of the Division.  Specific duties include but are not limited to:      Tracks outgoing notices of appeal:  tracks the preparation, service and filing of notices of appeal;  coordinates with Division Chief or designee, trial attorney and the Practice Unit to ensure that Notices of Appeal are timely prepared, served and filed and then duly entered in Law Manager.     Maintains the Divisionâ€™s electronic database:  Using Law Manager and FileSite, creates and maintains electronic case files and an Appeals electronic Brief Bank.    Case assignments:  Tracks assignment of new appeals and motions to appealsâ€™ teams according to the Divisionâ€™s rotation system and rules.        Mail and email:  Using Law Manager and other tools to identify and keep records of Appealsâ€™ incoming briefs, documents, and other materials â€“ and their  subsequent distribution to assigned attorneys, outside divisions/agencies, or (if unassigned) the Division Chief or designee.      Inquiries:  Answers phone, in-person and email inquiries from Law Department personnel, city agencies, opposing counsel, courts and the public about Division matters.     Statistical Reports:  Performs monthly and annual tallies of assigned cases â€“ by types, trial divisions, and appellate courts â€“ as well as win/loss tallies by court.    Division Liaison:  Frequently interfaces with those divisions handling their own appeal matters, as well as Tort and Family Court liaisons.  Regularly troubleshoots issues and coordinates work with Facilities, Operations and IT units, among others.    Coordinates and supervises division projects:  At the direction of the Division Chief or Supervising Attorney, coordinates with division secretary, team leaders, and the Practice Unit on various special projects.    File room:  Maintains the files of all unassigned appeals from the current and recent years that have not been perfected.          Archiving:  Assists attorneys in archiving closed files and, on an as needed basis, retrieving files from archives.                                                                                                                                                                                                                                                                                                                                                                                                                                                                                                                                                                                                                                                                                                                                                                                                                                                                                                                                                                                                                                                                                                                                                                                                                                                                                                                                                                                                                                                                                                                                                                                                                                                                                                                                                                                                                                                                                                                                                                                                                                                                                                                                                                                                                                                                                                                                                                                                                                                                                                                                                                                                                                                                                                                                                                                                                                                                                                                                                                                                                                                              |\n",
      "|DoITT provides for the sustained, efficient and effective delivery of IT services, infrastructure and telecommunications to enhance service delivery to New York City's residents, businesses, employees and visitors. As the City's technology leader, DoITT is responsible for maintaining the foundational IT infrastructure and systems that touch every aspect of City life from public safety to human services, from education to economic development crossing the full spectrum of governmental operations.    The successful candidate will serve as the Deputy Director of Audits and Accounts reporting to the Financial Management and Administration division. Responsibilities will include: Supervise and train the Audits and Accounts (A&A) staff; review and approve  vouchers that are processed on a daily basis; review and voucher all Telecom p-card transactions; process A&A Unit productivity reports for executive management review utilizing FMS data as well as the A&A database; ensure compliance with all applicable City Charter Regulations, Procurement Policy Board (PPB) Rules and Comptrollerâ€™s Directives; interact with all divisions regarding payment policies and procedures; establish standards and timeframes for internal document review and sign-off required for reimbursement of payments; ensure prompt payment for all goods and services other than payroll; perform all year-end closing and journal activities; act as liaison with the Comptrollerâ€™s Office and the Department of Finance; asist with both internal and external audits; and perform special projects and initiativeâ€™s as assigned.                                                                                                                                                                                                                                                                                                                                                                                                                                                                                                                                                                                                                                                                                                                                                                                                                                                                                                                                                                                                                                                                                                                                                                                                                                                                                                                                                                                                                                                                                                                                                                                                                                                                                                                                                                                                                                                                                                                                                                                                                                                                                                                                                                                                                                                                                                                                                                                                                                                                                                                                                                                                                                                                                                                                                                                                                                                                                                                                                                                                                                                                                                                                                                                                                                                                                                                                                                                                                                                                                                                                                                                                |\n",
      "|Oversees the design, installation, configuration and support of the NYCERS data and voice communications environments.  This includes at the NYCERS premises (the Brooklyn Tower, the Brooklyn Mezzanine and Long Island City), the external connectivity (between the NYCERS locations, to Internet Service Providers (ISP), to Telephone Companies and to other NYC agencies), and the Fiber Channel (FICON) and Fiber Channel Over IP (FCIP) connections to the disk storage array (SAN) and the virtual tape library (VTL).  Oversees the configuration, allocation and utilization of disk on the SAN and the VTL.  Responsibilities include the planning, design, installation, configuration, testing, troubleshooting, maintenance, capacity monitoring, bandwidth monitoring, security and support of all applicable devices, systems and components.  Manages vendor services, service engagements, adherence to Service Level Agreements and the completion of work by the commitment dates.  Develops and documents standard operating procedures, standards and utilities for administration, management, monitoring, modification and troubleshooting of the voice network, the data network.  Monitors capacity and bandwidth utilization to establish trends and project needs and growth forecasts.  Serves as the in-house expert and authority regarding network communications and connectivity issues.                                                                                                                                                                                                                                                                                                                                                                                                                                                                                                                                                                                                                                                                                                                                                                                                                                                                                                                                                                                                                                                                                                                                                                                                                                                                                                                                                                                                                                                                                                                                                                                                                                                                                                                                                                                                                                                                                                                                                                                                                                                                                                                                                                                                                                                                                                                                                                                                                                                                                                                                                                                                                                                                                                                                                                                                                                                                                                                                                                                                                                                                                                                                                                                                                                                                                                                                                                                                                                                                                                                                                                                                                                                                                                                                                                                                                                         |\n",
      "|Oversees the design, installation, configuration and support of the NYCERS data and voice communications environments.  This includes at the NYCERS premises (the Brooklyn Tower, the Brooklyn Mezzanine and Long Island City), the external connectivity (between the NYCERS locations, to Internet Service Providers (ISP), to Telephone Companies and to other NYC agencies), and the Fiber Channel (FICON) and Fiber Channel Over IP (FCIP) connections to the disk storage array (SAN) and the virtual tape library (VTL).  Oversees the configuration, allocation and utilization of disk on the SAN and the VTL.  Responsibilities include the planning, design, installation, configuration, testing, troubleshooting, maintenance, capacity monitoring, bandwidth monitoring, security and support of all applicable devices, systems and components.  Manages vendor services, service engagements, adherence to Service Level Agreements and the completion of work by the commitment dates.  Develops and documents standard operating procedures, standards and utilities for administration, management, monitoring, modification and troubleshooting of the voice network, the data network.  Monitors capacity and bandwidth utilization to establish trends and project needs and growth forecasts.  Serves as the in-house expert and authority regarding network communications and connectivity issues.                                                                                                                                                                                                                                                                                                                                                                                                                                                                                                                                                                                                                                                                                                                                                                                                                                                                                                                                                                                                                                                                                                                                                                                                                                                                                                                                                                                                                                                                                                                                                                                                                                                                                                                                                                                                                                                                                                                                                                                                                                                                                                                                                                                                                                                                                                                                                                                                                                                                                                                                                                                                                                                                                                                                                                                                                                                                                                                                                                                                                                                                                                                                                                                                                                                                                                                                                                                                                                                                                                                                                                                                                                                                                                                                                                                                                                         |\n",
      "|The Office of Collective Bargaining (OCB) is an independent, impartial governmental agency that resolves labor disputes between the City of New York and the City employeesâ€™ Unions.  OCB seeks a Clerical College Aide who will perform clerical and related work.    OCBâ€™s College Aide will attend to the officeâ€™s reception desk, answering and routing telephone calls and directing visitors to the proper destination.  He or she will also perform clerical work in relation to records, files, invoices and reports using alphabetical and numerical procedures including data/control coding.    He or she will perform clerical operations in an assigned area, such as the filing of material and the searching of files for material difficult to locate.    He or she will also prepare reports requiring the selection of data from simple records or statistics, and check records for accuracy of information and for conformity with established policy and procedures.                                                                                                                                                                                                                                                                                                                                                                                                                                                                                                                                                                                                                                                                                                                                                                                                                                                                                                                                                                                                                                                                                                                                                                                                                                                                                                                                                                                                                                                                                                                                                                                                                                                                                                                                                                                                                                                                                                                                                                                                                                                                                                                                                                                                                                                                                                                                                                                                                                                                                                                                                                                                                                                                                                                                                                                                                                                                                                                                                                                                                                                                                                                                                                                                                                                                                                                                                                                                                                                                                                                                                                                                                                                                                                                                                                                                                                                                                                                                                                                                                                                                                                                                                                                                                                                                     |\n",
      "|The Office of Collective Bargaining (OCB) is an independent, impartial governmental agency that resolves labor disputes between the City of New York and the City employeesâ€™ Unions.  OCB seeks a Clerical College Aide who will perform clerical and related work.    OCBâ€™s College Aide will attend to the officeâ€™s reception desk, answering and routing telephone calls and directing visitors to the proper destination.  He or she will also perform clerical work in relation to records, files, invoices and reports using alphabetical and numerical procedures including data/control coding.    He or she will perform clerical operations in an assigned area, such as the filing of material and the searching of files for material difficult to locate.    He or she will also prepare reports requiring the selection of data from simple records or statistics, and check records for accuracy of information and for conformity with established policy and procedures.                                                                                                                                                                                                                                                                                                                                                                                                                                                                                                                                                                                                                                                                                                                                                                                                                                                                                                                                                                                                                                                                                                                                                                                                                                                                                                                                                                                                                                                                                                                                                                                                                                                                                                                                                                                                                                                                                                                                                                                                                                                                                                                                                                                                                                                                                                                                                                                                                                                                                                                                                                                                                                                                                                                                                                                                                                                                                                                                                                                                                                                                                                                                                                                                                                                                                                                                                                                                                                                                                                                                                                                                                                                                                                                                                                                                                                                                                                                                                                                                                                                                                                                                                                                                                                                                     |\n",
      "|** OPEN TO PERMANENT CLERICAL ASSOCIATES ONLY.  YOU MUST CLEARLY STATE YOUR CIVIL SERVICE STATUS ON YOUR RESUME OR COVER LETTER.  ALL OTHER CANDIDATES WILL NOT BE CONSIDERED.     The Bureau of Communicable Diseases performs case investigations for over 73 infectious diseases or conditions and conducts outbreak investigations in New York City.    -\tPerform data entry of disease report, case investigation, and outbreak data forms into a computerized surveillance database.    -\tMaintain alpha-numeric filing system of disease reports and completed case investigations.    -\tCompile and prepare materials for mass mailings to medical providers and patients.    -\tTriage incoming phone inquiries from medical practitioners and/or the general public.    -\tProcess and deliver mail; review, triage and distribute disease reports in the Bureau.    -\tCreate templates for case investigation forms using InDesign (or other) software.    -\tParticipate in disease special projects.    -\tAssist BCD staff in administrative matters, as assigned.                                                                                                                                                                                                                                                                                                                                                                                                                                                                                                                                                                                                                                                                                                                                                                                                                                                                                                                                                                                                                                                                                                                                                                                                                                                                                                                                                                                                                                                                                                                                                                                                                                                                                                                                                                                                                                                                                                                                                                                                                                                                                                                                                                                                                                                                                                                                                                                                                                                                                                                                                                                                                                                                                                                                                                                                                                                                                                                                                                                                                                                                                                                                                                                                                                                                                                                                                                                                                                                                                                                                                                                                                                                                                                                                                                                                                                                                                                                                                                                                                                                                                                                                                                                        |\n",
      "|DoITT provides for the sustained, efficient and effective delivery of IT services, infrastructure and telecommunications to enhance service delivery to New York City's residents, businesses, employees and visitors. As the City's technology leader, DoITT is responsible for maintaining the foundational IT infrastructure and systems that touch every aspect of City life from public safety to human services, from education to economic development crossing the full spectrum of governmental operations.    The successful candidate will serve as a Deputy Director of Audits and Accounts reporting to Financial Services Division.  Responsibilities will include: Supervise and train the Audits and Accounts (A&A) staff; review and approve vouchers that are processed on a daily basis; review and voucher all Telecom p-card transactions; process A&A Unit productivity reports for executive management review utilizing FMS data as well as the A&A database; verify output of data and make suggestions for improvement; prepare tracking reports for project managers and upper management to monitor budgeted amounts for projects; Troubleshoot technical issues and report technical problems for the Audits and Accounts database systems; Maintain and update the Audits and Accounts database system; ensure compliance with all applicable City Charter Regulations, Procurement Policy Board (PPB) Rules and Comptrollerâ€™s Directives; interact with all divisions regarding payment policies and procedures; establish standards and timeframes for internal document review and sign-off required for reimbursement of payments; track spending against task order; generate reports for funds expended under task orders and contract for the project, ensure prompt payment for all goods and services other than payroll; perform all year-end closing and journal activities; act as liaison with the Comptrollerâ€™s Office and the Department of Finance; assist with both internal and external audits; and supervise special projects and initiativeâ€™s as assigned.                                                                                                                                                                                                                                                                                                                                                                                                                                                                                                                                                                                                                                                                                                                                                                                                                                                                                                                                                                                                                                                                                                                                                                                                                                                                                                                                                                                                                                                                                                                                                                                                                                                                                                                                                                                                                                                                                                                                                                                                                                                                                                                                                                                                                                                                                                                                                                                                                                                                                                                                                                                                                                                                                                                                                                                                                                                                                                                                                                                                                                                                                                                                                 |\n",
      "|DoITT provides for the sustained, efficient and effective delivery of IT services, infrastructure and telecommunications to enhance service delivery to New York City's residents, businesses, employees and visitors. As the City's technology leader, DoITT is responsible for maintaining the foundational IT infrastructure and systems that touch every aspect of City life from public safety to human services, from education to economic development crossing the full spectrum of governmental operations.    The successful candidate will serve as a 311 Call Center Manager reporting to the 311 Citizen Service Center. Responsibilities will include: Manage a team of supervisors, team leaders, and call center representatives; monitor Call Center operations by managing and elevating risks and resolving issues; identify training and coaching needs to ensure quality customer service; oversee preparation of statistical reports, administrative reports, and analysis utilizing advanced functions of Microsoft Office programs and call center technologies; recommend improved business processes and operational efficiencies; develop project plans and detailed documentation; establish and maintain cooperative relationships with executive management and support teams concerning implementation and coordination of Call Center services; conduct meetings and presentations; utilize automated systems, social media tools, and business intelligence applications to support data-driven strategies; serve as a liaison on behalf of 311 with internal and external entities; and oversee special projects as assigned.                                                                                                                                                                                                                                                                                                                                                                                                                                                                                                                                                                                                                                                                                                                                                                                                                                                                                                                                                                                                                                                                                                                                                                                                                                                                                                                                                                                                                                                                                                                                                                                                                                                                                                                                                                                                                                                                                                                                                                                                                                                                                                                                                                                                                                                                                                                                                                                                                                                                                                                                                                                                                                                                                                                                                                                                                                                                                                                                                                                                                                                                                                                                                                                                                                                                                                                                                                                                                                                                                                                                                                                                     |\n",
      "|**OPEN TO PERMANENT CLERICAL ASSOCIATES ONLY. YOU MUST CLEARLY STATE YOUR CIVIL SERVICE STATUS ON YOUR RESUME OR COVER LETTER.  ALL OTHER RESUMES WILL NOT BE CONSIDERED.    The NYC Department of Health is an agency recognized worldwide for being a leader in public health. The bureau is responsible for registering and certifying all birth, deaths, spontaneous and induced terminations of pregnancy in NYC. The bureau issues, analyzes and reports on 285,000 vital events each year. The bureau is a very large customer service operation, providing death certification services on a 24/7 basis, issuing more than 900,000 certified copies of birth and death records, and fulfilling hundreds of data requests annually. The Office of Vital Records is seeking a Clerical Associate III.     DUTIES WILL INCLUDE BUT NOT BE LIMITED TO:     --Assisting in walk-in customer and intra-government agency personnel in processing their work as it relates to issuance of vital records.    --Reviewing applications and documents from the public requesting copies of birth and death certificates.    -- Issuing birth and death certificates to the public using Vital Check credit card system, as well as other distribution methods.    -- Answering telephone calls from customer and other agencies seeking information on securing either birth or death certificates.    -- Performing data entry, photocopying and other related clerical support function as assigned.    -- Addressing and solving complex problems regarding the issuance of certificates.    -- Working in a production unit so that customer cases are processed according to procedure in a consistent and in a timely manner.    -- Perform other related clerical support functions as assigned.                                                                                                                                                                                                                                                                                                                                                                                                                                                                                                                                                                                                                                                                                                                                                                                                                                                                                                                                                                                                                                                                                                                                                                                                                                                                                                                                                                                                                                                                                                                                                                                                                                                                                                                                                                                                                                                                                                                                                                                                                                                                                                                                                                                                                                                                                                                                                                                                                                                                                                                                                                                                                                                                                                                                                                                                                                                                                                                                                                                                                                                                                                                                                                                                                                                                                                                                                                                                                                                               |\n",
      "|DoITT provides for the sustained, efficient and effective delivery of IT services, infrastructure and telecommunications to enhance service delivery to New York City's residents, businesses, employees and visitors. As the City's technology leader, DoITT is responsible for maintaining the foundational IT infrastructure and systems that touch every aspect of City life from public safety to human services, from education to economic development crossing the full spectrum of governmental operations.    The successful candidate will serve as an Application Support Reporting Specialist reporting to the Application Development Management Division. Responsibilities will include: Oversee the reporting of application development and support; oversee Business Objects Universe maintenance; understand the reports functionality of a business intelligence reporting tool and MS SQL reporting Services; oversee the development of queries via SQL within the application to support users; triage reporting issues being registered as a help desk ticket; ensure that daily application data is available to users; support the implementation of changes with the application created by project and development teams; support production and non-production environment; coordinate execution of break fixes in the production and non-production environments; oversee the deployment of releases in different environments (TST, STG and PRD); provision users within the application; work on production incidents (detect, analyze, resolve and document incidents); participate in cross-team coordination for resolving production incidents; work with development team to ensure application code matches server software stacks and specifications; work with development and QA teams in planning, documentation, coordination and execution of operational readiness testing; work with the compliance team and other key stakeholders to determine reporting and alerting needs; facilitate systems patches; and handle special technology projects and initiatives as assigned.                                                                                                                                                                                                                                                                                                                                                                                                                                                                                                                                                                                                                                                                                                                                                                                                                                                                                                                                                                                                                                                                                                                                                                                                                                                                                                                                                                                                                                                                                                                                                                                                                                                                                                                                                                                                                                                                                                                                                                                                                                                                                                                                                                                                                                                                                                                                                                                                                                                                                                                                                                                                                                                                                                                                                                                                                                                                                                                                                                                                                                                                                                                                        |\n",
      "+--------------------------------------------------------------------------------------------------------------------------------------------------------------------------------------------------------------------------------------------------------------------------------------------------------------------------------------------------------------------------------------------------------------------------------------------------------------------------------------------------------------------------------------------------------------------------------------------------------------------------------------------------------------------------------------------------------------------------------------------------------------------------------------------------------------------------------------------------------------------------------------------------------------------------------------------------------------------------------------------------------------------------------------------------------------------------------------------------------------------------------------------------------------------------------------------------------------------------------------------------------------------------------------------------------------------------------------------------------------------------------------------------------------------------------------------------------------------------------------------------------------------------------------------------------------------------------------------------------------------------------------------------------------------------------------------------------------------------------------------------------------------------------------------------------------------------------------------------------------------------------------------------------------------------------------------------------------------------------------------------------------------------------------------------------------------------------------------------------------------------------------------------------------------------------------------------------------------------------------------------------------------------------------------------------------------------------------------------------------------------------------------------------------------------------------------------------------------------------------------------------------------------------------------------------------------------------------------------------------------------------------------------------------------------------------------------------------------------------------------------------------------------------------------------------------------------------------------------------------------------------------------------------------------------------------------------------------------------------------------------------------------------------------------------------------------------------------------------------------------------------------------------------------------------------------------------------------------------------------------------------------------------------------------------------------------------------------------------------------------------------------------------------------------------------------------------------------------------------------------------------------------------------------------------------------------------------------------------------------------------------------------------------------------------------------------------------------------------------------------------------------------------------------------------------------------------------------------------------------------------------------------------------------------------------------------------------------------------------------------------------------------------------------------------------------------------------------------------------------------------------------------------------------------------------------------------------------------------------------------------------------------------------------------------------------------------------------------------------------------------------------------------------------------------------------------------------------------------------------------------------------------------------------------------------------------------------------------------------------------------------------------------------------------------------------------------------------------------------------------------------------------------------------------------------------------------------------------------------------------------------------------------------------------------------------------------------------------------------------------------------------------------------------------------------------------------------------------------------------------------------------------------------------------------------------------------------------------------------------------------------------------+\n",
      "only showing top 20 rows\n",
      "\n"
     ]
    }
   ],
   "source": [
    "df.select(\"Job Description\").show(20,truncate=False)"
   ]
  },
  {
   "cell_type": "code",
   "execution_count": null,
   "metadata": {},
   "outputs": [],
   "source": []
  },
  {
   "cell_type": "code",
   "execution_count": null,
   "metadata": {},
   "outputs": [],
   "source": []
  },
  {
   "cell_type": "markdown",
   "metadata": {},
   "source": [
    "#### Minimum Qual Requirements\n",
    "\n",
    "String\n",
    "\n",
    "* Required for data analysis:  YES\n",
    "\n",
    "> mutilple salary related questions to answer\n",
    "\n",
    "Data will need to be processed as this text field looks to be free txt as apposed to a selection from a drop-down combo list.  That means there could be typos, abbreviations etc etc.\n",
    "\n",
    "Due to the free-text nature of this column a query like:\n",
    "`df.groupBy(\"Minimum Qual Requirements\")....` would not be possible."
   ]
  },
  {
   "cell_type": "code",
   "execution_count": 60,
   "metadata": {},
   "outputs": [
    {
     "name": "stdout",
     "output_type": "stream",
     "text": [
      "+-------------------------+\n",
      "|Minimum Qual Requirements|\n",
      "+-------------------------+\n",
      "|     \"1.\tA baccalaurea...|\n",
      "|     \"1. A baccalaurea...|\n",
      "|     \"1. Three years o...|\n",
      "|     \"1. Three years o...|\n",
      "|     1. Five years of ...|\n",
      "|     1. Five years of ...|\n",
      "|     \"1. A baccalaurea...|\n",
      "|     Qualification Req...|\n",
      "|     \"1. A master's de...|\n",
      "|     Qualification Req...|\n",
      "|     \"1. A baccalaurea...|\n",
      "|     \"1. A baccalaurea...|\n",
      "|     \"1. A baccalaurea...|\n",
      "|     For Assignment Le...|\n",
      "|     For Assignment Le...|\n",
      "|     Qualification Req...|\n",
      "|     \"Qualification Re...|\n",
      "|     \"1. A baccalaurea...|\n",
      "|     Qualification Req...|\n",
      "|     \"(1) A baccalaure...|\n",
      "+-------------------------+\n",
      "\n"
     ]
    }
   ],
   "source": [
    "df.select(\"Minimum Qual Requirements\").limit(20).show()"
   ]
  },
  {
   "cell_type": "markdown",
   "metadata": {},
   "source": [
    "#### Preferred Skills\n",
    "\n",
    "* Required for data analysis:  No\n"
   ]
  },
  {
   "cell_type": "markdown",
   "metadata": {},
   "source": [
    "#### Additional Information\n",
    "\n",
    "* Required for data analysis:  No\n"
   ]
  },
  {
   "cell_type": "markdown",
   "metadata": {},
   "source": [
    "#### To Apply\n",
    "\n",
    "* Required for data analysis:  No\n"
   ]
  },
  {
   "cell_type": "markdown",
   "metadata": {},
   "source": [
    "#### Hours/Shift\n",
    "\n",
    "* Required for data analysis:  No.\n",
    "    \n",
    "Will need to calculate salary in the case of hourly or monthly paid emplyees and ignore this column"
   ]
  },
  {
   "cell_type": "code",
   "execution_count": 63,
   "metadata": {},
   "outputs": [
    {
     "name": "stdout",
     "output_type": "stream",
     "text": [
      "+--------------------+----------------+\n",
      "|         Hours/Shift|Salary Frequency|\n",
      "+--------------------+----------------+\n",
      "|                null|          Annual|\n",
      "|                null|          Annual|\n",
      "| all candidates m...|          Annual|\n",
      "| all candidates m...|          Annual|\n",
      "|                null|          Hourly|\n",
      "|                null|          Hourly|\n",
      "| at least one yea...|          Annual|\n",
      "|35 Hours per week...|          Annual|\n",
      "| as described in ...|          Annual|\n",
      "|Monday through Fr...|          Annual|\n",
      "| full-time progre...|          Annual|\n",
      "|\"To apply please ...|          Annual|\n",
      "|\"To apply please ...|          Annual|\n",
      "|Hours:  17 hours ...|          Hourly|\n",
      "|Hours:  17 hours ...|          Hourly|\n",
      "|                null|          Annual|\n",
      "| or \"\"3\"\" above. ...|          Annual|\n",
      "| full-time progre...|          Annual|\n",
      "|                null|          Annual|\n",
      "| you must explain...|          Annual|\n",
      "+--------------------+----------------+\n",
      "only showing top 20 rows\n",
      "\n"
     ]
    }
   ],
   "source": [
    "df.select([\"Hours/Shift\",\"Salary Frequency\"]).show()"
   ]
  },
  {
   "cell_type": "code",
   "execution_count": 64,
   "metadata": {},
   "outputs": [
    {
     "data": {
      "text/html": [
       "<div>\n",
       "<style scoped>\n",
       "    .dataframe tbody tr th:only-of-type {\n",
       "        vertical-align: middle;\n",
       "    }\n",
       "\n",
       "    .dataframe tbody tr th {\n",
       "        vertical-align: top;\n",
       "    }\n",
       "\n",
       "    .dataframe thead th {\n",
       "        text-align: right;\n",
       "    }\n",
       "</style>\n",
       "<table border=\"1\" class=\"dataframe\">\n",
       "  <thead>\n",
       "    <tr style=\"text-align: right;\">\n",
       "      <th></th>\n",
       "      <th>Hours/Shift</th>\n",
       "      <th>Salary Frequency</th>\n",
       "    </tr>\n",
       "  </thead>\n",
       "  <tbody>\n",
       "    <tr>\n",
       "      <th>0</th>\n",
       "      <td>None</td>\n",
       "      <td>Hourly</td>\n",
       "    </tr>\n",
       "    <tr>\n",
       "      <th>1</th>\n",
       "      <td>None</td>\n",
       "      <td>Hourly</td>\n",
       "    </tr>\n",
       "    <tr>\n",
       "      <th>2</th>\n",
       "      <td>Hours:  17 hours per week when school is in se...</td>\n",
       "      <td>Hourly</td>\n",
       "    </tr>\n",
       "    <tr>\n",
       "      <th>3</th>\n",
       "      <td>Hours:  17 hours per week when school is in se...</td>\n",
       "      <td>Hourly</td>\n",
       "    </tr>\n",
       "    <tr>\n",
       "      <th>4</th>\n",
       "      <td>None</td>\n",
       "      <td>Hourly</td>\n",
       "    </tr>\n",
       "    <tr>\n",
       "      <th>...</th>\n",
       "      <td>...</td>\n",
       "      <td>...</td>\n",
       "    </tr>\n",
       "    <tr>\n",
       "      <th>190</th>\n",
       "      <td>Up to 17 hours/week while school is in session...</td>\n",
       "      <td>Hourly</td>\n",
       "    </tr>\n",
       "    <tr>\n",
       "      <th>191</th>\n",
       "      <td>Up to 17 hours/week while school is in session...</td>\n",
       "      <td>Hourly</td>\n",
       "    </tr>\n",
       "    <tr>\n",
       "      <th>192</th>\n",
       "      <td>None</td>\n",
       "      <td>Hourly</td>\n",
       "    </tr>\n",
       "    <tr>\n",
       "      <th>193</th>\n",
       "      <td>None</td>\n",
       "      <td>Hourly</td>\n",
       "    </tr>\n",
       "    <tr>\n",
       "      <th>194</th>\n",
       "      <td>None</td>\n",
       "      <td>Hourly</td>\n",
       "    </tr>\n",
       "  </tbody>\n",
       "</table>\n",
       "<p>195 rows × 2 columns</p>\n",
       "</div>"
      ],
      "text/plain": [
       "                                           Hours/Shift Salary Frequency\n",
       "0                                                 None           Hourly\n",
       "1                                                 None           Hourly\n",
       "2    Hours:  17 hours per week when school is in se...           Hourly\n",
       "3    Hours:  17 hours per week when school is in se...           Hourly\n",
       "4                                                 None           Hourly\n",
       "..                                                 ...              ...\n",
       "190  Up to 17 hours/week while school is in session...           Hourly\n",
       "191  Up to 17 hours/week while school is in session...           Hourly\n",
       "192                                               None           Hourly\n",
       "193                                               None           Hourly\n",
       "194                                               None           Hourly\n",
       "\n",
       "[195 rows x 2 columns]"
      ]
     },
     "execution_count": 64,
     "metadata": {},
     "output_type": "execute_result"
    }
   ],
   "source": [
    "df.select([\"Hours/Shift\",\"Salary Frequency\"]).where(F.col('Salary Frequency') == 'Hourly').toPandas()"
   ]
  },
  {
   "cell_type": "code",
   "execution_count": 141,
   "metadata": {},
   "outputs": [
    {
     "data": {
      "text/html": [
       "<div>\n",
       "<style scoped>\n",
       "    .dataframe tbody tr th:only-of-type {\n",
       "        vertical-align: middle;\n",
       "    }\n",
       "\n",
       "    .dataframe tbody tr th {\n",
       "        vertical-align: top;\n",
       "    }\n",
       "\n",
       "    .dataframe thead th {\n",
       "        text-align: right;\n",
       "    }\n",
       "</style>\n",
       "<table border=\"1\" class=\"dataframe\">\n",
       "  <thead>\n",
       "    <tr style=\"text-align: right;\">\n",
       "      <th></th>\n",
       "      <th>Hours/Shift</th>\n",
       "      <th>Salary Frequency</th>\n",
       "    </tr>\n",
       "  </thead>\n",
       "  <tbody>\n",
       "    <tr>\n",
       "      <th>0</th>\n",
       "      <td>None</td>\n",
       "      <td>Daily</td>\n",
       "    </tr>\n",
       "    <tr>\n",
       "      <th>1</th>\n",
       "      <td>None</td>\n",
       "      <td>Daily</td>\n",
       "    </tr>\n",
       "    <tr>\n",
       "      <th>2</th>\n",
       "      <td>the U.S. Department of Labor or any apprentic...</td>\n",
       "      <td>Daily</td>\n",
       "    </tr>\n",
       "    <tr>\n",
       "      <th>3</th>\n",
       "      <td>35 Hours / Shift To Be Determined</td>\n",
       "      <td>Daily</td>\n",
       "    </tr>\n",
       "    <tr>\n",
       "      <th>4</th>\n",
       "      <td>35 Hours / Shift To Be Determined</td>\n",
       "      <td>Daily</td>\n",
       "    </tr>\n",
       "    <tr>\n",
       "      <th>5</th>\n",
       "      <td>None</td>\n",
       "      <td>Daily</td>\n",
       "    </tr>\n",
       "    <tr>\n",
       "      <th>6</th>\n",
       "      <td>with a major in Water Quality  Monitoring</td>\n",
       "      <td>Daily</td>\n",
       "    </tr>\n",
       "    <tr>\n",
       "      <th>7</th>\n",
       "      <td>with a major in Water Quality  Monitoring</td>\n",
       "      <td>Daily</td>\n",
       "    </tr>\n",
       "    <tr>\n",
       "      <th>8</th>\n",
       "      <td>40 hours per week / rotating shifts</td>\n",
       "      <td>Daily</td>\n",
       "    </tr>\n",
       "    <tr>\n",
       "      <th>9</th>\n",
       "      <td>40 hours per week / rotating shifts</td>\n",
       "      <td>Daily</td>\n",
       "    </tr>\n",
       "    <tr>\n",
       "      <th>10</th>\n",
       "      <td>with a major in Water Quality  Monitoring</td>\n",
       "      <td>Daily</td>\n",
       "    </tr>\n",
       "    <tr>\n",
       "      <th>11</th>\n",
       "      <td>with a major in Water Quality  Monitoring</td>\n",
       "      <td>Daily</td>\n",
       "    </tr>\n",
       "    <tr>\n",
       "      <th>12</th>\n",
       "      <td>with a major in Water Quality  Monitoring</td>\n",
       "      <td>Daily</td>\n",
       "    </tr>\n",
       "    <tr>\n",
       "      <th>13</th>\n",
       "      <td>None</td>\n",
       "      <td>Daily</td>\n",
       "    </tr>\n",
       "    <tr>\n",
       "      <th>14</th>\n",
       "      <td>40 Hours / Monday-Friday; plus overtime</td>\n",
       "      <td>Daily</td>\n",
       "    </tr>\n",
       "    <tr>\n",
       "      <th>15</th>\n",
       "      <td>40 Hours / Monday-Friday; plus overtime</td>\n",
       "      <td>Daily</td>\n",
       "    </tr>\n",
       "    <tr>\n",
       "      <th>16</th>\n",
       "      <td>NOTE: This position is open to qualified perso...</td>\n",
       "      <td>Daily</td>\n",
       "    </tr>\n",
       "    <tr>\n",
       "      <th>17</th>\n",
       "      <td>NOTE: This position is open to qualified perso...</td>\n",
       "      <td>Daily</td>\n",
       "    </tr>\n",
       "    <tr>\n",
       "      <th>18</th>\n",
       "      <td>TO APPLY, PLEASE SUBMIT RESUME WITH COVER LETT...</td>\n",
       "      <td>Daily</td>\n",
       "    </tr>\n",
       "    <tr>\n",
       "      <th>19</th>\n",
       "      <td>TO APPLY, PLEASE SUBMIT RESUME WITH COVER LETT...</td>\n",
       "      <td>Daily</td>\n",
       "    </tr>\n",
       "    <tr>\n",
       "      <th>20</th>\n",
       "      <td>To Be Determined / 40 hours per week</td>\n",
       "      <td>Daily</td>\n",
       "    </tr>\n",
       "    <tr>\n",
       "      <th>21</th>\n",
       "      <td>To Be Determined / 40 hours per week</td>\n",
       "      <td>Daily</td>\n",
       "    </tr>\n",
       "    <tr>\n",
       "      <th>22</th>\n",
       "      <td>To Be Determined</td>\n",
       "      <td>Daily</td>\n",
       "    </tr>\n",
       "    <tr>\n",
       "      <th>23</th>\n",
       "      <td>To Be Determined</td>\n",
       "      <td>Daily</td>\n",
       "    </tr>\n",
       "    <tr>\n",
       "      <th>24</th>\n",
       "      <td>None</td>\n",
       "      <td>Daily</td>\n",
       "    </tr>\n",
       "    <tr>\n",
       "      <th>25</th>\n",
       "      <td>None</td>\n",
       "      <td>Daily</td>\n",
       "    </tr>\n",
       "    <tr>\n",
       "      <th>26</th>\n",
       "      <td>None</td>\n",
       "      <td>Daily</td>\n",
       "    </tr>\n",
       "    <tr>\n",
       "      <th>27</th>\n",
       "      <td>None</td>\n",
       "      <td>Daily</td>\n",
       "    </tr>\n",
       "    <tr>\n",
       "      <th>28</th>\n",
       "      <td>None</td>\n",
       "      <td>Daily</td>\n",
       "    </tr>\n",
       "    <tr>\n",
       "      <th>29</th>\n",
       "      <td>None</td>\n",
       "      <td>Daily</td>\n",
       "    </tr>\n",
       "    <tr>\n",
       "      <th>30</th>\n",
       "      <td>None</td>\n",
       "      <td>Daily</td>\n",
       "    </tr>\n",
       "    <tr>\n",
       "      <th>31</th>\n",
       "      <td>This position is open to qualified persons wit...</td>\n",
       "      <td>Daily</td>\n",
       "    </tr>\n",
       "    <tr>\n",
       "      <th>32</th>\n",
       "      <td>This position is open to qualified persons wit...</td>\n",
       "      <td>Daily</td>\n",
       "    </tr>\n",
       "    <tr>\n",
       "      <th>33</th>\n",
       "      <td>To be determined / 40 Hour per week</td>\n",
       "      <td>Daily</td>\n",
       "    </tr>\n",
       "    <tr>\n",
       "      <th>34</th>\n",
       "      <td>To be determined / 40 Hour per week</td>\n",
       "      <td>Daily</td>\n",
       "    </tr>\n",
       "    <tr>\n",
       "      <th>35</th>\n",
       "      <td>None</td>\n",
       "      <td>Daily</td>\n",
       "    </tr>\n",
       "    <tr>\n",
       "      <th>36</th>\n",
       "      <td>None</td>\n",
       "      <td>Daily</td>\n",
       "    </tr>\n",
       "    <tr>\n",
       "      <th>37</th>\n",
       "      <td>None</td>\n",
       "      <td>Daily</td>\n",
       "    </tr>\n",
       "    <tr>\n",
       "      <th>38</th>\n",
       "      <td>None</td>\n",
       "      <td>Daily</td>\n",
       "    </tr>\n",
       "  </tbody>\n",
       "</table>\n",
       "</div>"
      ],
      "text/plain": [
       "                                          Hours/Shift Salary Frequency\n",
       "0                                                None            Daily\n",
       "1                                                None            Daily\n",
       "2    the U.S. Department of Labor or any apprentic...            Daily\n",
       "3                   35 Hours / Shift To Be Determined            Daily\n",
       "4                   35 Hours / Shift To Be Determined            Daily\n",
       "5                                                None            Daily\n",
       "6           with a major in Water Quality  Monitoring            Daily\n",
       "7           with a major in Water Quality  Monitoring            Daily\n",
       "8                 40 hours per week / rotating shifts            Daily\n",
       "9                 40 hours per week / rotating shifts            Daily\n",
       "10          with a major in Water Quality  Monitoring            Daily\n",
       "11          with a major in Water Quality  Monitoring            Daily\n",
       "12          with a major in Water Quality  Monitoring            Daily\n",
       "13                                               None            Daily\n",
       "14            40 Hours / Monday-Friday; plus overtime            Daily\n",
       "15            40 Hours / Monday-Friday; plus overtime            Daily\n",
       "16  NOTE: This position is open to qualified perso...            Daily\n",
       "17  NOTE: This position is open to qualified perso...            Daily\n",
       "18  TO APPLY, PLEASE SUBMIT RESUME WITH COVER LETT...            Daily\n",
       "19  TO APPLY, PLEASE SUBMIT RESUME WITH COVER LETT...            Daily\n",
       "20               To Be Determined / 40 hours per week            Daily\n",
       "21               To Be Determined / 40 hours per week            Daily\n",
       "22                                   To Be Determined            Daily\n",
       "23                                   To Be Determined            Daily\n",
       "24                                               None            Daily\n",
       "25                                               None            Daily\n",
       "26                                               None            Daily\n",
       "27                                               None            Daily\n",
       "28                                               None            Daily\n",
       "29                                               None            Daily\n",
       "30                                               None            Daily\n",
       "31  This position is open to qualified persons wit...            Daily\n",
       "32  This position is open to qualified persons wit...            Daily\n",
       "33                To be determined / 40 Hour per week            Daily\n",
       "34                To be determined / 40 Hour per week            Daily\n",
       "35                                               None            Daily\n",
       "36                                               None            Daily\n",
       "37                                               None            Daily\n",
       "38                                               None            Daily"
      ]
     },
     "execution_count": 141,
     "metadata": {},
     "output_type": "execute_result"
    }
   ],
   "source": [
    "df.select([\"Hours/Shift\",\"Salary Frequency\"]).where(F.col('Salary Frequency') == 'Daily').toPandas()"
   ]
  },
  {
   "cell_type": "markdown",
   "metadata": {},
   "source": [
    "* _tricky_ function required here.  Need to decide how to rationalise the salary based upon payment frequency.   Its not going to be correct to assume that hourly paid roles are going to do 40 hrs / week.  \n",
    "\n",
    "I will instead, use the statistics I've found in the following link and work out the salary as follows:\n",
    "\n",
    "[Average Working Hours \\(Statistical Data 2021\\)](https://clockify.me/working-hours)\n",
    "\n",
    "- for Annually paid roles, I'll calculate an hourly rate base upon USA avg hrs / year: 1757, e.g. $100k -> $56 per hour\n",
    "- for Daily paid roles, I'll calculate an hourly rate base upon 8 hrs / day\n",
    "- for Hourly paid roles, I'll use the raw data.\n",
    "\n",
    "This may be me skewed results, for example there _may_ be a role that demands only 5 hours a week but its very well paid.  The employee's real annual wage would be extremely low, but in my calculation this role would be relatively well paid.  I will have to look at the data after applying the proposed formula above.\n",
    "\n",
    "\n"
   ]
  },
  {
   "cell_type": "markdown",
   "metadata": {},
   "source": [
    "* Also, there are many hourly and daily paid jobs where the number of hours are not specified in \"Hours/Shift\"\n",
    "\n",
    "Maybe these columns have that info:\n",
    "\n",
    "- Job Description\n",
    "\n",
    "- Additional Information\n",
    "\n",
    "But we can see from the samples below that \n"
   ]
  },
  {
   "cell_type": "code",
   "execution_count": 65,
   "metadata": {},
   "outputs": [
    {
     "data": {
      "text/html": [
       "<div>\n",
       "<style scoped>\n",
       "    .dataframe tbody tr th:only-of-type {\n",
       "        vertical-align: middle;\n",
       "    }\n",
       "\n",
       "    .dataframe tbody tr th {\n",
       "        vertical-align: top;\n",
       "    }\n",
       "\n",
       "    .dataframe thead th {\n",
       "        text-align: right;\n",
       "    }\n",
       "</style>\n",
       "<table border=\"1\" class=\"dataframe\">\n",
       "  <thead>\n",
       "    <tr style=\"text-align: right;\">\n",
       "      <th></th>\n",
       "      <th>Hours/Shift</th>\n",
       "      <th>Salary Frequency</th>\n",
       "      <th>Job Description</th>\n",
       "      <th>Additional Information</th>\n",
       "    </tr>\n",
       "  </thead>\n",
       "  <tbody>\n",
       "    <tr>\n",
       "      <th>0</th>\n",
       "      <td>None</td>\n",
       "      <td>Hourly</td>\n",
       "      <td>Responsibilities of selected candidates will i...</td>\n",
       "      <td>SPECIAL NOTE:    1.  This is a temporary assig...</td>\n",
       "    </tr>\n",
       "    <tr>\n",
       "      <th>1</th>\n",
       "      <td>None</td>\n",
       "      <td>Hourly</td>\n",
       "      <td>Responsibilities of selected candidates will i...</td>\n",
       "      <td>SPECIAL NOTE:    1.  This is a temporary assig...</td>\n",
       "    </tr>\n",
       "    <tr>\n",
       "      <th>2</th>\n",
       "      <td>None</td>\n",
       "      <td>Hourly</td>\n",
       "      <td>** 30- 35 Hours Part-time      The Office of S...</td>\n",
       "      <td>Must follow all safety, security, Blood-borne ...</td>\n",
       "    </tr>\n",
       "    <tr>\n",
       "      <th>3</th>\n",
       "      <td>None</td>\n",
       "      <td>Hourly</td>\n",
       "      <td>** 30- 35 Hours Part-time      The Office of S...</td>\n",
       "      <td>Must follow all safety, security, Blood-borne ...</td>\n",
       "    </tr>\n",
       "    <tr>\n",
       "      <th>4</th>\n",
       "      <td>None</td>\n",
       "      <td>Hourly</td>\n",
       "      <td>**30-35 hours/week -Part-time  OPEN TO PERMANE...</td>\n",
       "      <td>Must follow all safety, security, Blood-borne ...</td>\n",
       "    </tr>\n",
       "    <tr>\n",
       "      <th>...</th>\n",
       "      <td>...</td>\n",
       "      <td>...</td>\n",
       "      <td>...</td>\n",
       "      <td>...</td>\n",
       "    </tr>\n",
       "    <tr>\n",
       "      <th>121</th>\n",
       "      <td>None</td>\n",
       "      <td>Hourly</td>\n",
       "      <td>The New York City Department of Correction (DO...</td>\n",
       "      <td>None</td>\n",
       "    </tr>\n",
       "    <tr>\n",
       "      <th>122</th>\n",
       "      <td>None</td>\n",
       "      <td>Hourly</td>\n",
       "      <td>The New York City Department of Correction (DO...</td>\n",
       "      <td>None</td>\n",
       "    </tr>\n",
       "    <tr>\n",
       "      <th>123</th>\n",
       "      <td>None</td>\n",
       "      <td>Hourly</td>\n",
       "      <td>NYC Parks is the steward of over 30,000 acres ...</td>\n",
       "      <td>Approximate start date: May 15, 2020.  Positio...</td>\n",
       "    </tr>\n",
       "    <tr>\n",
       "      <th>124</th>\n",
       "      <td>None</td>\n",
       "      <td>Hourly</td>\n",
       "      <td>NYC Parks is the steward of over 30,000 acres ...</td>\n",
       "      <td>Approximate start date: May 15, 2020.  Positio...</td>\n",
       "    </tr>\n",
       "    <tr>\n",
       "      <th>125</th>\n",
       "      <td>None</td>\n",
       "      <td>Hourly</td>\n",
       "      <td>NYC Parks is the steward of over 30,000 acres ...</td>\n",
       "      <td>Approximate start date: May 15, 2020.  Positio...</td>\n",
       "    </tr>\n",
       "  </tbody>\n",
       "</table>\n",
       "<p>126 rows × 4 columns</p>\n",
       "</div>"
      ],
      "text/plain": [
       "    Hours/Shift Salary Frequency  \\\n",
       "0          None           Hourly   \n",
       "1          None           Hourly   \n",
       "2          None           Hourly   \n",
       "3          None           Hourly   \n",
       "4          None           Hourly   \n",
       "..          ...              ...   \n",
       "121        None           Hourly   \n",
       "122        None           Hourly   \n",
       "123        None           Hourly   \n",
       "124        None           Hourly   \n",
       "125        None           Hourly   \n",
       "\n",
       "                                       Job Description  \\\n",
       "0    Responsibilities of selected candidates will i...   \n",
       "1    Responsibilities of selected candidates will i...   \n",
       "2    ** 30- 35 Hours Part-time      The Office of S...   \n",
       "3    ** 30- 35 Hours Part-time      The Office of S...   \n",
       "4    **30-35 hours/week -Part-time  OPEN TO PERMANE...   \n",
       "..                                                 ...   \n",
       "121  The New York City Department of Correction (DO...   \n",
       "122  The New York City Department of Correction (DO...   \n",
       "123  NYC Parks is the steward of over 30,000 acres ...   \n",
       "124  NYC Parks is the steward of over 30,000 acres ...   \n",
       "125  NYC Parks is the steward of over 30,000 acres ...   \n",
       "\n",
       "                                Additional Information  \n",
       "0    SPECIAL NOTE:    1.  This is a temporary assig...  \n",
       "1    SPECIAL NOTE:    1.  This is a temporary assig...  \n",
       "2    Must follow all safety, security, Blood-borne ...  \n",
       "3    Must follow all safety, security, Blood-borne ...  \n",
       "4    Must follow all safety, security, Blood-borne ...  \n",
       "..                                                 ...  \n",
       "121                                               None  \n",
       "122                                               None  \n",
       "123  Approximate start date: May 15, 2020.  Positio...  \n",
       "124  Approximate start date: May 15, 2020.  Positio...  \n",
       "125  Approximate start date: May 15, 2020.  Positio...  \n",
       "\n",
       "[126 rows x 4 columns]"
      ]
     },
     "execution_count": 65,
     "metadata": {},
     "output_type": "execute_result"
    }
   ],
   "source": [
    "df.select([\"Hours/Shift\",\"Salary Frequency\",\"Job Description\",\"Additional Information\"]).\\\n",
    "    where(F.col('Salary Frequency') == 'Hourly').\\\n",
    "    where(F.col('Hours/Shift').isNull()).toPandas()"
   ]
  },
  {
   "cell_type": "code",
   "execution_count": 66,
   "metadata": {
    "scrolled": true
   },
   "outputs": [
    {
     "data": {
      "text/html": [
       "<div>\n",
       "<style scoped>\n",
       "    .dataframe tbody tr th:only-of-type {\n",
       "        vertical-align: middle;\n",
       "    }\n",
       "\n",
       "    .dataframe tbody tr th {\n",
       "        vertical-align: top;\n",
       "    }\n",
       "\n",
       "    .dataframe thead th {\n",
       "        text-align: right;\n",
       "    }\n",
       "</style>\n",
       "<table border=\"1\" class=\"dataframe\">\n",
       "  <thead>\n",
       "    <tr style=\"text-align: right;\">\n",
       "      <th></th>\n",
       "      <th>Hours/Shift</th>\n",
       "      <th>Salary Frequency</th>\n",
       "      <th>Job Description</th>\n",
       "      <th>Additional Information</th>\n",
       "    </tr>\n",
       "  </thead>\n",
       "  <tbody>\n",
       "    <tr>\n",
       "      <th>0</th>\n",
       "      <td>None</td>\n",
       "      <td>Hourly</td>\n",
       "      <td>Responsibilities of selected candidates will i...</td>\n",
       "      <td>SPECIAL NOTE:    1.  This is a temporary assig...</td>\n",
       "    </tr>\n",
       "    <tr>\n",
       "      <th>1</th>\n",
       "      <td>None</td>\n",
       "      <td>Hourly</td>\n",
       "      <td>Responsibilities of selected candidates will i...</td>\n",
       "      <td>SPECIAL NOTE:    1.  This is a temporary assig...</td>\n",
       "    </tr>\n",
       "    <tr>\n",
       "      <th>2</th>\n",
       "      <td>None</td>\n",
       "      <td>Hourly</td>\n",
       "      <td>** 30- 35 Hours Part-time      The Office of S...</td>\n",
       "      <td>Must follow all safety, security, Blood-borne ...</td>\n",
       "    </tr>\n",
       "    <tr>\n",
       "      <th>3</th>\n",
       "      <td>None</td>\n",
       "      <td>Hourly</td>\n",
       "      <td>** 30- 35 Hours Part-time      The Office of S...</td>\n",
       "      <td>Must follow all safety, security, Blood-borne ...</td>\n",
       "    </tr>\n",
       "    <tr>\n",
       "      <th>4</th>\n",
       "      <td>None</td>\n",
       "      <td>Hourly</td>\n",
       "      <td>**30-35 hours/week -Part-time  OPEN TO PERMANE...</td>\n",
       "      <td>Must follow all safety, security, Blood-borne ...</td>\n",
       "    </tr>\n",
       "    <tr>\n",
       "      <th>...</th>\n",
       "      <td>...</td>\n",
       "      <td>...</td>\n",
       "      <td>...</td>\n",
       "      <td>...</td>\n",
       "    </tr>\n",
       "    <tr>\n",
       "      <th>121</th>\n",
       "      <td>None</td>\n",
       "      <td>Hourly</td>\n",
       "      <td>The New York City Department of Correction (DO...</td>\n",
       "      <td>None</td>\n",
       "    </tr>\n",
       "    <tr>\n",
       "      <th>122</th>\n",
       "      <td>None</td>\n",
       "      <td>Hourly</td>\n",
       "      <td>The New York City Department of Correction (DO...</td>\n",
       "      <td>None</td>\n",
       "    </tr>\n",
       "    <tr>\n",
       "      <th>123</th>\n",
       "      <td>None</td>\n",
       "      <td>Hourly</td>\n",
       "      <td>NYC Parks is the steward of over 30,000 acres ...</td>\n",
       "      <td>Approximate start date: May 15, 2020.  Positio...</td>\n",
       "    </tr>\n",
       "    <tr>\n",
       "      <th>124</th>\n",
       "      <td>None</td>\n",
       "      <td>Hourly</td>\n",
       "      <td>NYC Parks is the steward of over 30,000 acres ...</td>\n",
       "      <td>Approximate start date: May 15, 2020.  Positio...</td>\n",
       "    </tr>\n",
       "    <tr>\n",
       "      <th>125</th>\n",
       "      <td>None</td>\n",
       "      <td>Hourly</td>\n",
       "      <td>NYC Parks is the steward of over 30,000 acres ...</td>\n",
       "      <td>Approximate start date: May 15, 2020.  Positio...</td>\n",
       "    </tr>\n",
       "  </tbody>\n",
       "</table>\n",
       "<p>126 rows × 4 columns</p>\n",
       "</div>"
      ],
      "text/plain": [
       "    Hours/Shift Salary Frequency  \\\n",
       "0          None           Hourly   \n",
       "1          None           Hourly   \n",
       "2          None           Hourly   \n",
       "3          None           Hourly   \n",
       "4          None           Hourly   \n",
       "..          ...              ...   \n",
       "121        None           Hourly   \n",
       "122        None           Hourly   \n",
       "123        None           Hourly   \n",
       "124        None           Hourly   \n",
       "125        None           Hourly   \n",
       "\n",
       "                                       Job Description  \\\n",
       "0    Responsibilities of selected candidates will i...   \n",
       "1    Responsibilities of selected candidates will i...   \n",
       "2    ** 30- 35 Hours Part-time      The Office of S...   \n",
       "3    ** 30- 35 Hours Part-time      The Office of S...   \n",
       "4    **30-35 hours/week -Part-time  OPEN TO PERMANE...   \n",
       "..                                                 ...   \n",
       "121  The New York City Department of Correction (DO...   \n",
       "122  The New York City Department of Correction (DO...   \n",
       "123  NYC Parks is the steward of over 30,000 acres ...   \n",
       "124  NYC Parks is the steward of over 30,000 acres ...   \n",
       "125  NYC Parks is the steward of over 30,000 acres ...   \n",
       "\n",
       "                                Additional Information  \n",
       "0    SPECIAL NOTE:    1.  This is a temporary assig...  \n",
       "1    SPECIAL NOTE:    1.  This is a temporary assig...  \n",
       "2    Must follow all safety, security, Blood-borne ...  \n",
       "3    Must follow all safety, security, Blood-borne ...  \n",
       "4    Must follow all safety, security, Blood-borne ...  \n",
       "..                                                 ...  \n",
       "121                                               None  \n",
       "122                                               None  \n",
       "123  Approximate start date: May 15, 2020.  Positio...  \n",
       "124  Approximate start date: May 15, 2020.  Positio...  \n",
       "125  Approximate start date: May 15, 2020.  Positio...  \n",
       "\n",
       "[126 rows x 4 columns]"
      ]
     },
     "execution_count": 66,
     "metadata": {},
     "output_type": "execute_result"
    }
   ],
   "source": [
    "df.select([\"Hours/Shift\",\"Salary Frequency\",\"Job Description\",\"Additional Information\"]).\\\n",
    "    where(F.col('Salary Frequency') == 'Hourly').\\\n",
    "    where(F.col('Hours/Shift').isNull()).toPandas()"
   ]
  },
  {
   "cell_type": "code",
   "execution_count": 67,
   "metadata": {},
   "outputs": [
    {
     "data": {
      "text/plain": [
       "126"
      ]
     },
     "execution_count": 67,
     "metadata": {},
     "output_type": "execute_result"
    }
   ],
   "source": [
    "df.select([\"Hours/Shift\",\"Salary Frequency\",\"Job Description\",\"Additional Information\"]).\\\n",
    "    where(F.col('Salary Frequency') == 'Hourly').\\\n",
    "    where(F.col('Hours/Shift').isNull()).count()"
   ]
  },
  {
   "cell_type": "markdown",
   "metadata": {},
   "source": [
    "- look for Job Descriptions that contain specification of the number of hours to work:\n",
    "\n",
    "Below I have limited the rows to just one to see where I am getting the regex match:\n",
    "\n",
    ">\n",
    "\n",
    "The mission of the New York City Police Department is to enhance the quality of life in New York City by working in partnership with the community to enforce the law, preserve peace, protect the people, reduce fear, and maintain order. The NYPD strives to foster a safe and fair city by incorporating Neighborhood Policing into all facets of Department operations, and solve the problems that create crime and disorder through an interdependent relationship between the people and its police, and by pioneering strategic innovation.  The Facilities Management Division, Building Maintenance Section manages the physical operation maintenance and repair of department facilities. The Building Maintenance Section is seeking a Sheet Metal Worker who will responsible for the following:  - Fabricate, erect and repair sheet metal structures such as ducts, metal ceilings, dampers, louvers and roofs;  - Spot welds solder and sweat all forms of sheet metal;  - Develop patterns and templates in fabricating complex shapes and forms.|\n",
    "\n",
    "And found that my regex is poor at finding what I'm attemping to find, e.g.\n",
    "\n",
    "- 25 hours\n",
    "- 40 hrs\n",
    "\n",
    "etc\n",
    "\n",
    "Here I've matched the hr in `through` - but further on I have found that even with this false match, there are many records where we cant use these columns.\n"
   ]
  },
  {
   "cell_type": "code",
   "execution_count": 68,
   "metadata": {},
   "outputs": [
    {
     "name": "stdout",
     "output_type": "stream",
     "text": [
      "+--------------------------------------------------------------------------------------------------------------------------------------------------------------------------------------------------------------------------------------------------------------------------------------------------------------------------------------------------------------------------------------------------------------------------------------------------------------------------------------------------------------------------------------------------------------------------------------------------------------------------------------------------------------------------------------------------------------------------------------------------------------------------------------------------------------------------------------------------------------------------------------------------------------------------------------------------------------------------------------------------------------------------------------------------------------------+\n",
      "|Job Description                                                                                                                                                                                                                                                                                                                                                                                                                                                                                                                                                                                                                                                                                                                                                                                                                                                                                                                                                                                                                                                     |\n",
      "+--------------------------------------------------------------------------------------------------------------------------------------------------------------------------------------------------------------------------------------------------------------------------------------------------------------------------------------------------------------------------------------------------------------------------------------------------------------------------------------------------------------------------------------------------------------------------------------------------------------------------------------------------------------------------------------------------------------------------------------------------------------------------------------------------------------------------------------------------------------------------------------------------------------------------------------------------------------------------------------------------------------------------------------------------------------------+\n",
      "|The mission of the New York City Police Department is to enhance the quality of life in New York City by working in partnership with the community to enforce the law, preserve peace, protect the people, reduce fear, and maintain order. The NYPD strives to foster a safe and fair city by incorporating Neighborhood Policing into all facets of Department operations, and solve the problems that create crime and disorder through an interdependent relationship between the people and its police, and by pioneering strategic innovation.  The Facilities Management Division, Building Maintenance Section manages the physical operation maintenance and repair of department facilities. The Building Maintenance Section is seeking a Sheet Metal Worker who will responsible for the following:  - Fabricate, erect and repair sheet metal structures such as ducts, metal ceilings, dampers, louvers and roofs;  - Spot welds solder and sweat all forms of sheet metal;  - Develop patterns and templates in fabricating complex shapes and forms.|\n",
      "+--------------------------------------------------------------------------------------------------------------------------------------------------------------------------------------------------------------------------------------------------------------------------------------------------------------------------------------------------------------------------------------------------------------------------------------------------------------------------------------------------------------------------------------------------------------------------------------------------------------------------------------------------------------------------------------------------------------------------------------------------------------------------------------------------------------------------------------------------------------------------------------------------------------------------------------------------------------------------------------------------------------------------------------------------------------------+\n",
      "\n"
     ]
    }
   ],
   "source": [
    "df.select([\"Job Description\"]).\\\n",
    "    where(F.col('Salary Frequency') == 'Daily').\\\n",
    "    where(F.col('Hours/Shift').isNull()).\\\n",
    "    where(F.col(\"Job Description\").rlike(\"(?i)^.*?hour|hr.*?$\")).limit(1).show(truncate=False)"
   ]
  },
  {
   "cell_type": "markdown",
   "metadata": {},
   "source": [
    "- look for records where neither Job Descriptions nor Additional Information contain specification of the number of hours to work.  "
   ]
  },
  {
   "cell_type": "code",
   "execution_count": 69,
   "metadata": {
    "scrolled": false
   },
   "outputs": [
    {
     "data": {
      "text/plain": [
       "5"
      ]
     },
     "execution_count": 69,
     "metadata": {},
     "output_type": "execute_result"
    }
   ],
   "source": [
    "df.select([\"Job Description\",\"Additional Information\"]).\\\n",
    "    where(F.col('Salary Frequency') == 'Daily').\\\n",
    "    where(F.col('Hours/Shift').isNull()).\\\n",
    "    where(~F.col(\"Job Description\").rlike(\"(?i)^.*?hour|hr.*?$\")).limit(10).\\\n",
    "    where(~F.col(\"Additional Information\").rlike(\"(?i)^.*?hour|hr.*?$\")).count()"
   ]
  },
  {
   "cell_type": "markdown",
   "metadata": {},
   "source": [
    "- so only 5 rows:  It may be possible to get the total number of hours required for all of the others.   Lets take a look at the records more closely nd ssee its its going to be feasible to \"grep\" out the hours"
   ]
  },
  {
   "cell_type": "code",
   "execution_count": 70,
   "metadata": {},
   "outputs": [
    {
     "data": {
      "text/plain": [
       "7"
      ]
     },
     "execution_count": 70,
     "metadata": {},
     "output_type": "execute_result"
    }
   ],
   "source": [
    "df.select([\"Job Description\",\"Additional Information\"]).\\\n",
    "    where(F.col('Salary Frequency') == 'Daily').\\\n",
    "    where(F.col('Hours/Shift').isNull()).\\\n",
    "    where(F.col(\"Job Description\").rlike(\"(?i)^.*?hour|hr.*?$\") | F.col(\"Additional Information\").rlike(\"(?i)^.*?hour|hr.*?$\")).\\\n",
    "    count()"
   ]
  },
  {
   "cell_type": "markdown",
   "metadata": {},
   "source": [
    "##### Conclusion:  It does not seem possible to find the number of hours required for over 100 of the Hourly paid jobs.   Therefore I am to go with my origonal suggested solution of working out all jobs' salaries in Hours."
   ]
  },
  {
   "cell_type": "markdown",
   "metadata": {},
   "source": [
    "#### Work Location 1\n",
    "\n",
    "* Required for data analysis:  No\n",
    "    "
   ]
  },
  {
   "cell_type": "markdown",
   "metadata": {},
   "source": [
    "#### Recruitment Contact\n",
    "\n",
    "* Required for data analysis:  No\n"
   ]
  },
  {
   "cell_type": "markdown",
   "metadata": {},
   "source": [
    "#### Residency Requirement\n",
    "\n",
    "* Required for data analysis:  No\n"
   ]
  },
  {
   "cell_type": "markdown",
   "metadata": {},
   "source": [
    "#### Posting Date\n",
    "\n",
    "* Required for data analysis:  Yes\n",
    "    \n",
    ">  What's the job postings average salary per agency for the last 2 years? \n",
    "\n",
    "* Are all dates in the correct format to be cast to date?\n",
    "\n",
    "These Posting Date values are not null but they also cannot be cast to date:"
   ]
  },
  {
   "cell_type": "code",
   "execution_count": 71,
   "metadata": {},
   "outputs": [
    {
     "data": {
      "text/plain": [
       "1049"
      ]
     },
     "execution_count": 71,
     "metadata": {},
     "output_type": "execute_result"
    }
   ],
   "source": [
    "df.select([\"Posting Date\"]).\\\n",
    "    where(F.col(\"Posting Date\").cast('date').isNull() & ~F.col(\"Posting Date\").isNull()).count()"
   ]
  },
  {
   "cell_type": "code",
   "execution_count": 72,
   "metadata": {},
   "outputs": [
    {
     "name": "stdout",
     "output_type": "stream",
     "text": [
      "+--------------------+\n",
      "|        Posting Date|\n",
      "+--------------------+\n",
      "|New York City res...|\n",
      "|Apply online with...|\n",
      "| \"\"2\"\" or \"\"3\"\" a...|\n",
      "|New York City Res...|\n",
      "|New York City Res...|\n",
      "|  mid-range computer|\n",
      "| \"\"2\"\" or \"\"3\"\" a...|\n",
      "|           help desk|\n",
      "|The successful ca...|\n",
      "| all candidates m...|\n",
      "| \"\"2\"\" or \"\"3\"\" a...|\n",
      "|To Apply For Inte...|\n",
      "| or at least one ...|\n",
      "| or at least one ...|\n",
      "| \"\"2\"\" or \"\"3\"\" a...|\n",
      "|New York City Res...|\n",
      "|New York City Res...|\n",
      "| one year of whic...|\n",
      "| one year of whic...|\n",
      "|The successful ca...|\n",
      "|Ability to code ....|\n",
      "|Ability to code ....|\n",
      "|New York City res...|\n",
      "|New York City res...|\n",
      "|New York City res...|\n",
      "|New York City res...|\n",
      "| all candidates m...|\n",
      "| all candidates m...|\n",
      "|New York City res...|\n",
      "|New York City res...|\n",
      "+--------------------+\n",
      "only showing top 30 rows\n",
      "\n"
     ]
    }
   ],
   "source": [
    "df.select([\"Posting Date\"]).\\\n",
    "    where(F.col(\"Posting Date\").cast('date').isNull() & ~F.col(\"Posting Date\").isNull()).show(30)"
   ]
  },
  {
   "cell_type": "markdown",
   "metadata": {},
   "source": [
    "The following cant simple be cast to date:"
   ]
  },
  {
   "cell_type": "code",
   "execution_count": 73,
   "metadata": {},
   "outputs": [
    {
     "data": {
      "text/plain": [
       "1566"
      ]
     },
     "execution_count": 73,
     "metadata": {},
     "output_type": "execute_result"
    }
   ],
   "source": [
    "df.select([\"Posting Date\"]).where(F.col(\"Posting Date\").cast('date').isNull()).count()"
   ]
  },
  {
   "cell_type": "code",
   "execution_count": 74,
   "metadata": {},
   "outputs": [
    {
     "data": {
      "text/html": [
       "<div>\n",
       "<style scoped>\n",
       "    .dataframe tbody tr th:only-of-type {\n",
       "        vertical-align: middle;\n",
       "    }\n",
       "\n",
       "    .dataframe tbody tr th {\n",
       "        vertical-align: top;\n",
       "    }\n",
       "\n",
       "    .dataframe thead th {\n",
       "        text-align: right;\n",
       "    }\n",
       "</style>\n",
       "<table border=\"1\" class=\"dataframe\">\n",
       "  <thead>\n",
       "    <tr style=\"text-align: right;\">\n",
       "      <th></th>\n",
       "      <th>0</th>\n",
       "      <th>1</th>\n",
       "      <th>2</th>\n",
       "      <th>3</th>\n",
       "      <th>4</th>\n",
       "    </tr>\n",
       "  </thead>\n",
       "  <tbody>\n",
       "    <tr>\n",
       "      <th>Job ID</th>\n",
       "      <td>87990</td>\n",
       "      <td>132292</td>\n",
       "      <td>132292</td>\n",
       "      <td>137433</td>\n",
       "      <td>151131</td>\n",
       "    </tr>\n",
       "    <tr>\n",
       "      <th>Agency</th>\n",
       "      <td>DEPARTMENT OF BUSINESS SERV.</td>\n",
       "      <td>NYC HOUSING AUTHORITY</td>\n",
       "      <td>NYC HOUSING AUTHORITY</td>\n",
       "      <td>DEPT OF HEALTH/MENTAL HYGIENE</td>\n",
       "      <td>NYC HOUSING AUTHORITY</td>\n",
       "    </tr>\n",
       "    <tr>\n",
       "      <th>Posting Type</th>\n",
       "      <td>Internal</td>\n",
       "      <td>External</td>\n",
       "      <td>Internal</td>\n",
       "      <td>Internal</td>\n",
       "      <td>External</td>\n",
       "    </tr>\n",
       "    <tr>\n",
       "      <th># Of Positions</th>\n",
       "      <td>1</td>\n",
       "      <td>52</td>\n",
       "      <td>52</td>\n",
       "      <td>1</td>\n",
       "      <td>1</td>\n",
       "    </tr>\n",
       "    <tr>\n",
       "      <th>Business Title</th>\n",
       "      <td>Account Manager</td>\n",
       "      <td>Maintenance Worker - Technical Services-Heatin...</td>\n",
       "      <td>Maintenance Worker - Technical Services-Heatin...</td>\n",
       "      <td>Contract Analyst</td>\n",
       "      <td>Cost Estimating Manager</td>\n",
       "    </tr>\n",
       "    <tr>\n",
       "      <th>Civil Service Title</th>\n",
       "      <td>CONTRACT REVIEWER (OFFICE OF L</td>\n",
       "      <td>MAINTENANCE WORKER</td>\n",
       "      <td>MAINTENANCE WORKER</td>\n",
       "      <td>PROCUREMENT ANALYST</td>\n",
       "      <td>ADMINISTRATIVE STAFF ANALYST (</td>\n",
       "    </tr>\n",
       "    <tr>\n",
       "      <th>Title Code No</th>\n",
       "      <td>40563</td>\n",
       "      <td>90698</td>\n",
       "      <td>90698</td>\n",
       "      <td>12158</td>\n",
       "      <td>1002D</td>\n",
       "    </tr>\n",
       "    <tr>\n",
       "      <th>Level</th>\n",
       "      <td>1</td>\n",
       "      <td>0</td>\n",
       "      <td>0</td>\n",
       "      <td>3</td>\n",
       "      <td>0</td>\n",
       "    </tr>\n",
       "    <tr>\n",
       "      <th>Job Category</th>\n",
       "      <td>None</td>\n",
       "      <td>Maintenance &amp; Operations</td>\n",
       "      <td>Maintenance &amp; Operations</td>\n",
       "      <td>Finance, Accounting, &amp; Procurement</td>\n",
       "      <td>Engineering, Architecture, &amp; Planning</td>\n",
       "    </tr>\n",
       "    <tr>\n",
       "      <th>Full-Time/Part-Time indicator</th>\n",
       "      <td>None</td>\n",
       "      <td>F</td>\n",
       "      <td>F</td>\n",
       "      <td>F</td>\n",
       "      <td>F</td>\n",
       "    </tr>\n",
       "    <tr>\n",
       "      <th>Salary Range From</th>\n",
       "      <td>42405</td>\n",
       "      <td>51907.68</td>\n",
       "      <td>51907.68</td>\n",
       "      <td>50598</td>\n",
       "      <td>90000</td>\n",
       "    </tr>\n",
       "    <tr>\n",
       "      <th>Salary Range To</th>\n",
       "      <td>65485</td>\n",
       "      <td>54580.32</td>\n",
       "      <td>54580.32</td>\n",
       "      <td>85053</td>\n",
       "      <td>110000</td>\n",
       "    </tr>\n",
       "    <tr>\n",
       "      <th>Salary Frequency</th>\n",
       "      <td>Annual</td>\n",
       "      <td>Annual</td>\n",
       "      <td>Annual</td>\n",
       "      <td>Annual</td>\n",
       "      <td>Annual</td>\n",
       "    </tr>\n",
       "    <tr>\n",
       "      <th>Work Location</th>\n",
       "      <td>110 William St. N Y</td>\n",
       "      <td>Heating Mgt-Operations</td>\n",
       "      <td>Heating Mgt-Operations</td>\n",
       "      <td>42-09 28th Street</td>\n",
       "      <td>CP Cap Plan-Technical Planning</td>\n",
       "    </tr>\n",
       "    <tr>\n",
       "      <th>Division/Work Unit</th>\n",
       "      <td>Strategy &amp; Analytics</td>\n",
       "      <td>Management Services Department</td>\n",
       "      <td>Management Services Department</td>\n",
       "      <td>HIV Administration</td>\n",
       "      <td>Capital Planning Dept</td>\n",
       "    </tr>\n",
       "    <tr>\n",
       "      <th>Job Description</th>\n",
       "      <td>Division of Economic &amp; Financial Opportunity (...</td>\n",
       "      <td>Under direct supervision, assist in the routin...</td>\n",
       "      <td>Under direct supervision, assist in the routin...</td>\n",
       "      <td>** OPEN TO PERMANENT PROCUREMENT ANALYSTS ONLY...</td>\n",
       "      <td>Reporting to the Deputy Director of Technical ...</td>\n",
       "    </tr>\n",
       "    <tr>\n",
       "      <th>Minimum Qual Requirements</th>\n",
       "      <td>\"1.\\tA baccalaureate degree from an accredited...</td>\n",
       "      <td>\"1. Three years of full-time satisfactory expe...</td>\n",
       "      <td>\"1. Three years of full-time satisfactory expe...</td>\n",
       "      <td>\"1. A baccalaureate degree from an accredited ...</td>\n",
       "      <td>\"1. A master's degree from an accredited colle...</td>\n",
       "    </tr>\n",
       "    <tr>\n",
       "      <th>Preferred Skills</th>\n",
       "      <td>all candidates must have at least one year of...</td>\n",
       "      <td>mechanical</td>\n",
       "      <td>mechanical</td>\n",
       "      <td>individuals must have</td>\n",
       "      <td>including the 18 months of executive</td>\n",
       "    </tr>\n",
       "    <tr>\n",
       "      <th>Additional Information</th>\n",
       "      <td>â€¢\\tExcellent interpersonal and organizationa...</td>\n",
       "      <td>or construction trades in a trade school or v...</td>\n",
       "      <td>or construction trades in a trade school or v...</td>\n",
       "      <td>after meeting the minimum requirements</td>\n",
       "      <td>managerial</td>\n",
       "    </tr>\n",
       "    <tr>\n",
       "      <th>To Apply</th>\n",
       "      <td>Salary range for this position is: $42,405 - $...</td>\n",
       "      <td>may be substituted for six months of the expe...</td>\n",
       "      <td>may be substituted for six months of the expe...</td>\n",
       "      <td>either one year served at Assignment Level II...</td>\n",
       "      <td>administrative or supervisory experience</td>\n",
       "    </tr>\n",
       "    <tr>\n",
       "      <th>Hours/Shift</th>\n",
       "      <td>None</td>\n",
       "      <td>all candidates must have a minimum of two yea...</td>\n",
       "      <td>all candidates must have a minimum of two yea...</td>\n",
       "      <td>at least one year of which must have been sup...</td>\n",
       "      <td>as described in \"\"1\"\" above.\"</td>\n",
       "    </tr>\n",
       "    <tr>\n",
       "      <th>Work Location 1</th>\n",
       "      <td>None</td>\n",
       "      <td>1.  A High School Diploma or GED.  2.  CDL Dri...</td>\n",
       "      <td>1.  A High School Diploma or GED.  2.  CDL Dri...</td>\n",
       "      <td>or spent performing professional procurement ...</td>\n",
       "      <td>1.  Five years of managerial and supervisory e...</td>\n",
       "    </tr>\n",
       "    <tr>\n",
       "      <th>Recruitment Contact</th>\n",
       "      <td>None</td>\n",
       "      <td>1.  A Motor Vehicle Driverâ€™s License valid i...</td>\n",
       "      <td>1.  A Motor Vehicle Driverâ€™s License valid i...</td>\n",
       "      <td>Strong analytical background;  advanced profic...</td>\n",
       "      <td>SPECIAL INSTRUCTIONS FOR NYCHA EMPLOYEES:    N...</td>\n",
       "    </tr>\n",
       "    <tr>\n",
       "      <th>Residency Requirement</th>\n",
       "      <td>None</td>\n",
       "      <td>\"Click the \"\"Apply Now\"\" button.\"</td>\n",
       "      <td>\"Click the \"\"Apply Now\"\" button.\"</td>\n",
       "      <td>None</td>\n",
       "      <td>\"Click the \"\"Apply Now\"\" button.\"</td>\n",
       "    </tr>\n",
       "    <tr>\n",
       "      <th>Posting Date</th>\n",
       "      <td>New York City residency is generally required ...</td>\n",
       "      <td>None</td>\n",
       "      <td>None</td>\n",
       "      <td>Apply online with a cover letter to https://a1...</td>\n",
       "      <td>None</td>\n",
       "    </tr>\n",
       "    <tr>\n",
       "      <th>Post Until</th>\n",
       "      <td>2011-06-24T00:00:00.000</td>\n",
       "      <td>None</td>\n",
       "      <td>None</td>\n",
       "      <td>None</td>\n",
       "      <td>None</td>\n",
       "    </tr>\n",
       "    <tr>\n",
       "      <th>Posting Updated</th>\n",
       "      <td>None</td>\n",
       "      <td>None</td>\n",
       "      <td>None</td>\n",
       "      <td>42-09 28th Street, Long Island City, NY</td>\n",
       "      <td>None</td>\n",
       "    </tr>\n",
       "    <tr>\n",
       "      <th>Process Date</th>\n",
       "      <td>2011-06-24T00:00:00.000</td>\n",
       "      <td>NYCHA has no residency requirements.</td>\n",
       "      <td>NYCHA has no residency requirements.</td>\n",
       "      <td>None</td>\n",
       "      <td>NYCHA has no residency requirements.</td>\n",
       "    </tr>\n",
       "  </tbody>\n",
       "</table>\n",
       "</div>"
      ],
      "text/plain": [
       "                                                                               0  \\\n",
       "Job ID                                                                     87990   \n",
       "Agency                                              DEPARTMENT OF BUSINESS SERV.   \n",
       "Posting Type                                                            Internal   \n",
       "# Of Positions                                                                 1   \n",
       "Business Title                                                   Account Manager   \n",
       "Civil Service Title                               CONTRACT REVIEWER (OFFICE OF L   \n",
       "Title Code No                                                              40563   \n",
       "Level                                                                          1   \n",
       "Job Category                                                                None   \n",
       "Full-Time/Part-Time indicator                                               None   \n",
       "Salary Range From                                                          42405   \n",
       "Salary Range To                                                            65485   \n",
       "Salary Frequency                                                          Annual   \n",
       "Work Location                                                110 William St. N Y   \n",
       "Division/Work Unit                                          Strategy & Analytics   \n",
       "Job Description                Division of Economic & Financial Opportunity (...   \n",
       "Minimum Qual Requirements      \"1.\\tA baccalaureate degree from an accredited...   \n",
       "Preferred Skills                all candidates must have at least one year of...   \n",
       "Additional Information         â€¢\\tExcellent interpersonal and organizationa...   \n",
       "To Apply                       Salary range for this position is: $42,405 - $...   \n",
       "Hours/Shift                                                                 None   \n",
       "Work Location 1                                                             None   \n",
       "Recruitment Contact                                                         None   \n",
       "Residency Requirement                                                       None   \n",
       "Posting Date                   New York City residency is generally required ...   \n",
       "Post Until                                               2011-06-24T00:00:00.000   \n",
       "Posting Updated                                                             None   \n",
       "Process Date                                             2011-06-24T00:00:00.000   \n",
       "\n",
       "                                                                               1  \\\n",
       "Job ID                                                                    132292   \n",
       "Agency                                                     NYC HOUSING AUTHORITY   \n",
       "Posting Type                                                            External   \n",
       "# Of Positions                                                                52   \n",
       "Business Title                 Maintenance Worker - Technical Services-Heatin...   \n",
       "Civil Service Title                                           MAINTENANCE WORKER   \n",
       "Title Code No                                                              90698   \n",
       "Level                                                                          0   \n",
       "Job Category                                            Maintenance & Operations   \n",
       "Full-Time/Part-Time indicator                                                  F   \n",
       "Salary Range From                                                       51907.68   \n",
       "Salary Range To                                                         54580.32   \n",
       "Salary Frequency                                                          Annual   \n",
       "Work Location                                             Heating Mgt-Operations   \n",
       "Division/Work Unit                                Management Services Department   \n",
       "Job Description                Under direct supervision, assist in the routin...   \n",
       "Minimum Qual Requirements      \"1. Three years of full-time satisfactory expe...   \n",
       "Preferred Skills                                                      mechanical   \n",
       "Additional Information          or construction trades in a trade school or v...   \n",
       "To Apply                        may be substituted for six months of the expe...   \n",
       "Hours/Shift                     all candidates must have a minimum of two yea...   \n",
       "Work Location 1                1.  A High School Diploma or GED.  2.  CDL Dri...   \n",
       "Recruitment Contact            1.  A Motor Vehicle Driverâ€™s License valid i...   \n",
       "Residency Requirement                          \"Click the \"\"Apply Now\"\" button.\"   \n",
       "Posting Date                                                                None   \n",
       "Post Until                                                                  None   \n",
       "Posting Updated                                                             None   \n",
       "Process Date                                NYCHA has no residency requirements.   \n",
       "\n",
       "                                                                               2  \\\n",
       "Job ID                                                                    132292   \n",
       "Agency                                                     NYC HOUSING AUTHORITY   \n",
       "Posting Type                                                            Internal   \n",
       "# Of Positions                                                                52   \n",
       "Business Title                 Maintenance Worker - Technical Services-Heatin...   \n",
       "Civil Service Title                                           MAINTENANCE WORKER   \n",
       "Title Code No                                                              90698   \n",
       "Level                                                                          0   \n",
       "Job Category                                            Maintenance & Operations   \n",
       "Full-Time/Part-Time indicator                                                  F   \n",
       "Salary Range From                                                       51907.68   \n",
       "Salary Range To                                                         54580.32   \n",
       "Salary Frequency                                                          Annual   \n",
       "Work Location                                             Heating Mgt-Operations   \n",
       "Division/Work Unit                                Management Services Department   \n",
       "Job Description                Under direct supervision, assist in the routin...   \n",
       "Minimum Qual Requirements      \"1. Three years of full-time satisfactory expe...   \n",
       "Preferred Skills                                                      mechanical   \n",
       "Additional Information          or construction trades in a trade school or v...   \n",
       "To Apply                        may be substituted for six months of the expe...   \n",
       "Hours/Shift                     all candidates must have a minimum of two yea...   \n",
       "Work Location 1                1.  A High School Diploma or GED.  2.  CDL Dri...   \n",
       "Recruitment Contact            1.  A Motor Vehicle Driverâ€™s License valid i...   \n",
       "Residency Requirement                          \"Click the \"\"Apply Now\"\" button.\"   \n",
       "Posting Date                                                                None   \n",
       "Post Until                                                                  None   \n",
       "Posting Updated                                                             None   \n",
       "Process Date                                NYCHA has no residency requirements.   \n",
       "\n",
       "                                                                               3  \\\n",
       "Job ID                                                                    137433   \n",
       "Agency                                             DEPT OF HEALTH/MENTAL HYGIENE   \n",
       "Posting Type                                                            Internal   \n",
       "# Of Positions                                                                 1   \n",
       "Business Title                                                  Contract Analyst   \n",
       "Civil Service Title                                          PROCUREMENT ANALYST   \n",
       "Title Code No                                                              12158   \n",
       "Level                                                                          3   \n",
       "Job Category                                  Finance, Accounting, & Procurement   \n",
       "Full-Time/Part-Time indicator                                                  F   \n",
       "Salary Range From                                                          50598   \n",
       "Salary Range To                                                            85053   \n",
       "Salary Frequency                                                          Annual   \n",
       "Work Location                                                  42-09 28th Street   \n",
       "Division/Work Unit                                            HIV Administration   \n",
       "Job Description                ** OPEN TO PERMANENT PROCUREMENT ANALYSTS ONLY...   \n",
       "Minimum Qual Requirements      \"1. A baccalaureate degree from an accredited ...   \n",
       "Preferred Skills                                           individuals must have   \n",
       "Additional Information                    after meeting the minimum requirements   \n",
       "To Apply                        either one year served at Assignment Level II...   \n",
       "Hours/Shift                     at least one year of which must have been sup...   \n",
       "Work Location 1                 or spent performing professional procurement ...   \n",
       "Recruitment Contact            Strong analytical background;  advanced profic...   \n",
       "Residency Requirement                                                       None   \n",
       "Posting Date                   Apply online with a cover letter to https://a1...   \n",
       "Post Until                                                                  None   \n",
       "Posting Updated                          42-09 28th Street, Long Island City, NY   \n",
       "Process Date                                                                None   \n",
       "\n",
       "                                                                               4  \n",
       "Job ID                                                                    151131  \n",
       "Agency                                                     NYC HOUSING AUTHORITY  \n",
       "Posting Type                                                            External  \n",
       "# Of Positions                                                                 1  \n",
       "Business Title                                           Cost Estimating Manager  \n",
       "Civil Service Title                               ADMINISTRATIVE STAFF ANALYST (  \n",
       "Title Code No                                                              1002D  \n",
       "Level                                                                          0  \n",
       "Job Category                               Engineering, Architecture, & Planning  \n",
       "Full-Time/Part-Time indicator                                                  F  \n",
       "Salary Range From                                                          90000  \n",
       "Salary Range To                                                           110000  \n",
       "Salary Frequency                                                          Annual  \n",
       "Work Location                                     CP Cap Plan-Technical Planning  \n",
       "Division/Work Unit                                         Capital Planning Dept  \n",
       "Job Description                Reporting to the Deputy Director of Technical ...  \n",
       "Minimum Qual Requirements      \"1. A master's degree from an accredited colle...  \n",
       "Preferred Skills                            including the 18 months of executive  \n",
       "Additional Information                                                managerial  \n",
       "To Apply                                administrative or supervisory experience  \n",
       "Hours/Shift                                        as described in \"\"1\"\" above.\"  \n",
       "Work Location 1                1.  Five years of managerial and supervisory e...  \n",
       "Recruitment Contact            SPECIAL INSTRUCTIONS FOR NYCHA EMPLOYEES:    N...  \n",
       "Residency Requirement                          \"Click the \"\"Apply Now\"\" button.\"  \n",
       "Posting Date                                                                None  \n",
       "Post Until                                                                  None  \n",
       "Posting Updated                                                             None  \n",
       "Process Date                                NYCHA has no residency requirements.  "
      ]
     },
     "execution_count": 74,
     "metadata": {},
     "output_type": "execute_result"
    }
   ],
   "source": [
    "df.where(F.col(\"Posting Date\").cast('date').isNull()).limit(5).toPandas().transpose()"
   ]
  },
  {
   "cell_type": "code",
   "execution_count": 75,
   "metadata": {},
   "outputs": [
    {
     "name": "stdout",
     "output_type": "stream",
     "text": [
      "+--------------------+\n",
      "|        Posting Date|\n",
      "+--------------------+\n",
      "|New York City res...|\n",
      "|2012-01-26T00:00:...|\n",
      "|                null|\n",
      "|                null|\n",
      "|2014-01-09T00:00:...|\n",
      "|2014-01-09T00:00:...|\n",
      "|Apply online with...|\n",
      "|2013-12-20T00:00:...|\n",
      "|                null|\n",
      "|2014-06-26T00:00:...|\n",
      "| \"\"2\"\" or \"\"3\"\" a...|\n",
      "|New York City Res...|\n",
      "|New York City Res...|\n",
      "|2014-10-09T00:00:...|\n",
      "|2014-10-09T00:00:...|\n",
      "|2014-10-08T00:00:...|\n",
      "|  mid-range computer|\n",
      "| \"\"2\"\" or \"\"3\"\" a...|\n",
      "|2014-11-18T00:00:...|\n",
      "|           help desk|\n",
      "+--------------------+\n",
      "only showing top 20 rows\n",
      "\n"
     ]
    }
   ],
   "source": [
    "df.select([\"Posting Date\"]).show()"
   ]
  },
  {
   "cell_type": "markdown",
   "metadata": {},
   "source": [
    "<a id='posting_date_analysis_summary'></a>"
   ]
  },
  {
   "cell_type": "markdown",
   "metadata": {},
   "source": [
    "#### \"Posting Date\" conclusion\n",
    "\n",
    "There are 1566 records that are either null or cant be cast to a date. If I cast to date, all values for corresponding rows where data is not valid will all be null and I dont want that.   For the one query regarding Posting Date I will only include the rows that have valid dates, just for that query.  \n",
    "\n",
    "With so many records \"invalid\" it does not make sense to impute a date"
   ]
  },
  {
   "cell_type": "markdown",
   "metadata": {},
   "source": [
    "#### Post Until\n",
    "\n",
    "* Required for data analysis:  No\n"
   ]
  },
  {
   "cell_type": "markdown",
   "metadata": {},
   "source": [
    "#### Posting Updated\n",
    "\n",
    "* Required for data analysis:  No\n"
   ]
  },
  {
   "cell_type": "markdown",
   "metadata": {},
   "source": [
    "#### Process Date\n",
    "\n",
    "* Required for data analysis:  No\n"
   ]
  },
  {
   "cell_type": "code",
   "execution_count": 76,
   "metadata": {},
   "outputs": [
    {
     "name": "stdout",
     "output_type": "stream",
     "text": [
      "+--------------------+-----+\n",
      "|        Job Category|count|\n",
      "+--------------------+-----+\n",
      "|Engineering, Arch...|  504|\n",
      "|Technology, Data ...|  313|\n",
      "|       Legal Affairs|  226|\n",
      "|Public Safety, In...|  182|\n",
      "|Building Operatio...|  181|\n",
      "|Finance, Accounti...|  169|\n",
      "|Administration & ...|  134|\n",
      "|Constituent Servi...|  129|\n",
      "|              Health|  125|\n",
      "|Policy, Research ...|  124|\n",
      "+--------------------+-----+\n",
      "\n"
     ]
    }
   ],
   "source": [
    "df.groupBy('Job Category').count().orderBy('count', ascending=False).limit(10).show()"
   ]
  },
  {
   "cell_type": "code",
   "execution_count": null,
   "metadata": {},
   "outputs": [],
   "source": [
    "df.select('Job Category').distinct().count()"
   ]
  },
  {
   "cell_type": "code",
   "execution_count": 1,
   "metadata": {},
   "outputs": [
    {
     "ename": "NameError",
     "evalue": "name 'df' is not defined",
     "output_type": "error",
     "traceback": [
      "\u001b[0;31m---------------------------------------------------------------------------\u001b[0m",
      "\u001b[0;31mNameError\u001b[0m                                 Traceback (most recent call last)",
      "\u001b[0;32m<ipython-input-1-bf88133c4a7e>\u001b[0m in \u001b[0;36m<module>\u001b[0;34m\u001b[0m\n\u001b[0;32m----> 1\u001b[0;31m \u001b[0mdf\u001b[0m\u001b[0;34m.\u001b[0m\u001b[0mgroupBy\u001b[0m\u001b[0;34m(\u001b[0m\u001b[0;34m'Job Category'\u001b[0m\u001b[0;34m)\u001b[0m\u001b[0;34m.\u001b[0m\u001b[0mcount\u001b[0m\u001b[0;34m(\u001b[0m\u001b[0;34m)\u001b[0m\u001b[0;34m.\u001b[0m\u001b[0morderBy\u001b[0m\u001b[0;34m(\u001b[0m\u001b[0;34m'count'\u001b[0m\u001b[0;34m,\u001b[0m \u001b[0mascending\u001b[0m\u001b[0;34m=\u001b[0m\u001b[0;32mFalse\u001b[0m\u001b[0;34m)\u001b[0m\u001b[0;34m.\u001b[0m\u001b[0mshow\u001b[0m\u001b[0;34m(\u001b[0m\u001b[0;34m)\u001b[0m\u001b[0;34m\u001b[0m\u001b[0;34m\u001b[0m\u001b[0m\n\u001b[0m",
      "\u001b[0;31mNameError\u001b[0m: name 'df' is not defined"
     ]
    }
   ],
   "source": [
    "df.groupBy('Job Category').count().orderBy('count', ascending=False).show()"
   ]
  },
  {
   "cell_type": "code",
   "execution_count": null,
   "metadata": {},
   "outputs": [],
   "source": []
  }
 ],
 "metadata": {
  "kernelspec": {
   "display_name": "Python 3",
   "language": "python",
   "name": "python3"
  },
  "language_info": {
   "codemirror_mode": {
    "name": "ipython",
    "version": 3
   },
   "file_extension": ".py",
   "mimetype": "text/x-python",
   "name": "python",
   "nbconvert_exporter": "python",
   "pygments_lexer": "ipython3",
   "version": "3.7.3"
  }
 },
 "nbformat": 4,
 "nbformat_minor": 4
}
