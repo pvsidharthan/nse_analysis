{
 "cells": [
  {
   "cell_type": "code",
   "execution_count": 1,
   "metadata": {},
   "outputs": [],
   "source": [
    "import sys; \n",
    "sys.path.insert(0, '..')"
   ]
  },
  {
   "cell_type": "code",
   "execution_count": 2,
   "metadata": {},
   "outputs": [],
   "source": [
    "import findspark\n",
    "findspark.init()"
   ]
  },
  {
   "cell_type": "code",
   "execution_count": 3,
   "metadata": {},
   "outputs": [],
   "source": [
    "from pyspark.sql import SparkSession\n",
    "\n",
    "spark = SparkSession.builder. \\\n",
    "    appName(\"pyspark-1\"). \\\n",
    "    getOrCreate()"
   ]
  },
  {
   "cell_type": "code",
   "execution_count": 4,
   "metadata": {},
   "outputs": [
    {
     "data": {
      "text/html": [
       "\n",
       "            <div>\n",
       "                <p><b>SparkSession - in-memory</b></p>\n",
       "                \n",
       "        <div>\n",
       "            <p><b>SparkContext</b></p>\n",
       "\n",
       "            <p><a href=\"http://bc2f146a2d0b:4040\">Spark UI</a></p>\n",
       "\n",
       "            <dl>\n",
       "              <dt>Version</dt>\n",
       "                <dd><code>v2.4.5</code></dd>\n",
       "              <dt>Master</dt>\n",
       "                <dd><code>spark://master:7077</code></dd>\n",
       "              <dt>AppName</dt>\n",
       "                <dd><code>pyspark-1</code></dd>\n",
       "            </dl>\n",
       "        </div>\n",
       "        \n",
       "            </div>\n",
       "        "
      ],
      "text/plain": [
       "<pyspark.sql.session.SparkSession at 0x7f4f6c094c50>"
      ]
     },
     "execution_count": 4,
     "metadata": {},
     "output_type": "execute_result"
    }
   ],
   "source": [
    "spark"
   ]
  },
  {
   "cell_type": "code",
   "execution_count": 5,
   "metadata": {},
   "outputs": [
    {
     "name": "stdout",
     "output_type": "stream",
     "text": [
      "root\n",
      " |-- datetime: timestamp (nullable = true)\n",
      " |-- open: double (nullable = true)\n",
      " |-- high: double (nullable = true)\n",
      " |-- low: double (nullable = true)\n",
      " |-- close: double (nullable = true)\n",
      "\n"
     ]
    }
   ],
   "source": [
    "# FINNIFTY_5min.csv\n",
    "# bn_5min.csv\n",
    "df = spark.read.csv(\"/dataset/FINNIFTY_5min.csv\", header=True, inferSchema=True)\n",
    "df.printSchema()"
   ]
  },
  {
   "cell_type": "code",
   "execution_count": 6,
   "metadata": {},
   "outputs": [],
   "source": [
    "import pyspark.sql.functions as f"
   ]
  },
  {
   "cell_type": "code",
   "execution_count": 7,
   "metadata": {},
   "outputs": [
    {
     "name": "stdout",
     "output_type": "stream",
     "text": [
      "root\n",
      " |-- datetime: timestamp (nullable = true)\n",
      " |-- open: double (nullable = true)\n",
      " |-- high: double (nullable = true)\n",
      " |-- low: double (nullable = true)\n",
      " |-- close: double (nullable = true)\n",
      " |-- date: date (nullable = true)\n",
      " |-- IST: timestamp (nullable = true)\n",
      " |-- time: string (nullable = true)\n",
      " |-- day: string (nullable = true)\n",
      " |-- duration: integer (nullable = true)\n",
      "\n"
     ]
    }
   ],
   "source": [
    "from pyspark.sql import Window\n",
    "df_extended=df.withColumn(\"date\",f.to_date('datetime')) \\\n",
    "              .withColumn(\"IST\",f.from_utc_timestamp(f.col(\"datetime\"),\"IST\")) \\\n",
    "              .withColumn('time',f.date_format('IST', 'HH:mm:ss')) \\\n",
    "              .withColumn(\"day\",f.date_format('date','EEEE')) \\\n",
    "              .withColumn(\"duration_unit\",f.row_number().over(Window.partitionBy(\"date\").orderBy(\"datetime\") )) \\\n",
    "              .withColumn(\"duration\",f.col(\"duration_unit\")*5) \\\n",
    "              .drop(\"duration_unit\")\n",
    "df_extended.printSchema()"
   ]
  },
  {
   "cell_type": "code",
   "execution_count": 8,
   "metadata": {},
   "outputs": [
    {
     "name": "stdout",
     "output_type": "stream",
     "text": [
      "+-------------------+--------+--------+--------+--------+----------+-------------------+--------+---------+--------+\n",
      "|           datetime|    open|    high|     low|   close|      date|                IST|    time|      day|duration|\n",
      "+-------------------+--------+--------+--------+--------+----------+-------------------+--------+---------+--------+\n",
      "|2022-07-27 03:45:00| 16727.1|16755.95|16694.55| 16741.6|2022-07-27|2022-07-27 09:15:00|09:15:00|Wednesday|       5|\n",
      "|2022-07-27 03:50:00| 16743.3|16746.55| 16678.0| 16679.2|2022-07-27|2022-07-27 09:20:00|09:20:00|Wednesday|      10|\n",
      "|2022-07-27 03:55:00| 16678.3| 16688.5| 16666.7| 16667.9|2022-07-27|2022-07-27 09:25:00|09:25:00|Wednesday|      15|\n",
      "|2022-07-27 04:00:00|16666.25| 16675.7| 16661.7|16670.05|2022-07-27|2022-07-27 09:30:00|09:30:00|Wednesday|      20|\n",
      "|2022-07-27 04:05:00|16669.45| 16698.2| 16669.1|16685.05|2022-07-27|2022-07-27 09:35:00|09:35:00|Wednesday|      25|\n",
      "|2022-07-27 04:10:00| 16685.4|16686.65|16661.55| 16678.4|2022-07-27|2022-07-27 09:40:00|09:40:00|Wednesday|      30|\n",
      "|2022-07-27 04:15:00| 16678.1| 16695.5|16677.45|16692.65|2022-07-27|2022-07-27 09:45:00|09:45:00|Wednesday|      35|\n",
      "|2022-07-27 04:20:00|16692.15| 16729.6|16692.15|16719.95|2022-07-27|2022-07-27 09:50:00|09:50:00|Wednesday|      40|\n",
      "|2022-07-27 04:25:00|16719.75|16727.05|16711.15| 16712.4|2022-07-27|2022-07-27 09:55:00|09:55:00|Wednesday|      45|\n",
      "|2022-07-27 04:30:00|16713.05|16738.35| 16707.2|16736.95|2022-07-27|2022-07-27 10:00:00|10:00:00|Wednesday|      50|\n",
      "|2022-07-27 04:35:00|16735.95|16747.45| 16728.8|16737.85|2022-07-27|2022-07-27 10:05:00|10:05:00|Wednesday|      55|\n",
      "|2022-07-27 04:40:00|16737.95|16760.55|16737.65| 16760.0|2022-07-27|2022-07-27 10:10:00|10:10:00|Wednesday|      60|\n",
      "|2022-07-27 04:45:00|16759.15| 16773.3|16749.35| 16764.8|2022-07-27|2022-07-27 10:15:00|10:15:00|Wednesday|      65|\n",
      "|2022-07-27 04:50:00|16765.05| 16767.3| 16742.4| 16752.3|2022-07-27|2022-07-27 10:20:00|10:20:00|Wednesday|      70|\n",
      "|2022-07-27 04:55:00| 16752.4|16755.15|16740.35|16753.55|2022-07-27|2022-07-27 10:25:00|10:25:00|Wednesday|      75|\n",
      "|2022-07-27 05:00:00| 16753.0| 16757.1| 16743.1| 16744.8|2022-07-27|2022-07-27 10:30:00|10:30:00|Wednesday|      80|\n",
      "|2022-07-27 05:05:00|16743.65| 16758.2| 16740.4| 16751.3|2022-07-27|2022-07-27 10:35:00|10:35:00|Wednesday|      85|\n",
      "|2022-07-27 05:10:00|16752.05|16772.95|16752.05| 16768.1|2022-07-27|2022-07-27 10:40:00|10:40:00|Wednesday|      90|\n",
      "|2022-07-27 05:15:00| 16767.0|16789.95| 16767.0|16782.85|2022-07-27|2022-07-27 10:45:00|10:45:00|Wednesday|      95|\n",
      "|2022-07-27 05:20:00| 16784.8| 16787.4|16769.25| 16780.4|2022-07-27|2022-07-27 10:50:00|10:50:00|Wednesday|     100|\n",
      "+-------------------+--------+--------+--------+--------+----------+-------------------+--------+---------+--------+\n",
      "only showing top 20 rows\n",
      "\n"
     ]
    }
   ],
   "source": [
    "df_extended.show()"
   ]
  },
  {
   "cell_type": "code",
   "execution_count": 23,
   "metadata": {},
   "outputs": [],
   "source": [
    "# UTC Time\n",
    "start_time=\"12:30:00\"\n",
    "end_time=\"15:00:00\""
   ]
  },
  {
   "cell_type": "code",
   "execution_count": 24,
   "metadata": {},
   "outputs": [
    {
     "name": "stdout",
     "output_type": "stream",
     "text": [
      "+----------+---------+--------+\n",
      "|      date|dur_start|     avg|\n",
      "+----------+---------+--------+\n",
      "|2022-07-27|      200|16772.35|\n",
      "|2022-08-02|      200|17501.25|\n",
      "|2022-11-29|      200|19282.43|\n",
      "|2023-05-22|      200|19361.95|\n",
      "|2022-05-26|      200|15961.35|\n",
      "|2022-06-22|      200|15315.33|\n",
      "|2022-06-06|      200|16328.78|\n",
      "|2022-11-21|      200|18929.18|\n",
      "|2023-02-08|      200|18469.35|\n",
      "|2022-07-07|      200| 16097.7|\n",
      "|2022-12-09|      200| 19281.6|\n",
      "|2022-12-02|      200|19208.65|\n",
      "|2023-03-24|      200|17756.93|\n",
      "|2022-10-19|      200| 18080.8|\n",
      "|2022-12-20|      200|19130.03|\n",
      "|2023-05-03|      200|19122.55|\n",
      "|2022-08-11|      200|17974.78|\n",
      "|2022-09-29|      200|17207.35|\n",
      "|2023-05-16|      200|19502.58|\n",
      "|2023-06-01|      200|19456.63|\n",
      "+----------+---------+--------+\n",
      "only showing top 20 rows\n",
      "\n"
     ]
    }
   ],
   "source": [
    "avg_df=df_extended.filter(df_extended.time==start_time).selectExpr(\"date\",\"duration as dur_start\",\"round((high+low)/2,2) as avg\")\n",
    "avg_df.show()"
   ]
  },
  {
   "cell_type": "code",
   "execution_count": 25,
   "metadata": {},
   "outputs": [],
   "source": [
    "joined_df=df_extended.filter((df_extended.time>=start_time) & (df_extended.time<=end_time)) \\\n",
    "                     .join(avg_df,df_extended.date==avg_df.date).drop(avg_df.date)"
   ]
  },
  {
   "cell_type": "code",
   "execution_count": 26,
   "metadata": {},
   "outputs": [
    {
     "name": "stdout",
     "output_type": "stream",
     "text": [
      "+--------+--------+--------+--------+--------+-------+--------+----------+---------+--------+--------+---+\n",
      "|    open|    high|     low|   close|    time|    day|duration|      date|dur_start|     avg|max_diff| d1|\n",
      "+--------+--------+--------+--------+--------+-------+--------+----------+---------+--------+--------+---+\n",
      "| 17500.0|17507.65|17494.85|17498.65|12:30:00|Tuesday|     200|2022-08-02|      200|17501.25|     6.4|  0|\n",
      "| 17498.0| 17498.5|17441.75|17449.45|12:35:00|Tuesday|     205|2022-08-02|      200|17501.25|    59.5|  5|\n",
      "|17449.55| 17459.0|17430.65|17435.35|12:40:00|Tuesday|     210|2022-08-02|      200|17501.25|    70.6| 10|\n",
      "|17433.15|17459.65|17428.05| 17459.2|12:45:00|Tuesday|     215|2022-08-02|      200|17501.25|    73.2| 15|\n",
      "|17459.35|17481.25|17451.55|17481.25|12:50:00|Tuesday|     220|2022-08-02|      200|17501.25|    49.7| 20|\n",
      "| 17481.3|17487.35| 17462.0|17467.55|12:55:00|Tuesday|     225|2022-08-02|      200|17501.25|   39.25| 25|\n",
      "| 17469.0| 17471.0| 17449.3|17465.45|13:00:00|Tuesday|     230|2022-08-02|      200|17501.25|   51.95| 30|\n",
      "|17468.15|17480.05|17461.55|17477.35|13:05:00|Tuesday|     235|2022-08-02|      200|17501.25|    39.7| 35|\n",
      "| 17477.1| 17485.6|17465.95| 17468.1|13:10:00|Tuesday|     240|2022-08-02|      200|17501.25|    35.3| 40|\n",
      "|17469.35| 17486.2|17467.45|17485.25|13:15:00|Tuesday|     245|2022-08-02|      200|17501.25|    33.8| 45|\n",
      "| 17485.7| 17488.9|17479.05|17485.65|13:20:00|Tuesday|     250|2022-08-02|      200|17501.25|    22.2| 50|\n",
      "|17484.35|17489.15|17471.05| 17472.8|13:25:00|Tuesday|     255|2022-08-02|      200|17501.25|    30.2| 55|\n",
      "|17472.45|17502.25|17468.35|17482.65|13:30:00|Tuesday|     260|2022-08-02|      200|17501.25|    32.9| 60|\n",
      "| 17483.4|17490.65|17477.55| 17489.0|13:35:00|Tuesday|     265|2022-08-02|      200|17501.25|    23.7| 65|\n",
      "|17489.55| 17494.2| 17484.1|17488.25|13:40:00|Tuesday|     270|2022-08-02|      200|17501.25|   17.15| 70|\n",
      "| 17487.6| 17495.3|17479.55| 17494.5|13:45:00|Tuesday|     275|2022-08-02|      200|17501.25|    21.7| 75|\n",
      "|17494.95| 17516.3|17494.25| 17513.6|13:50:00|Tuesday|     280|2022-08-02|      200|17501.25|   15.05| 80|\n",
      "| 17514.2| 17517.4| 17501.7|17504.15|13:55:00|Tuesday|     285|2022-08-02|      200|17501.25|   16.15| 85|\n",
      "|17504.45|17530.85|17502.15| 17528.7|14:00:00|Tuesday|     290|2022-08-02|      200|17501.25|    29.6| 90|\n",
      "| 17528.4|17541.95|17524.45| 17536.6|14:05:00|Tuesday|     295|2022-08-02|      200|17501.25|    40.7| 95|\n",
      "+--------+--------+--------+--------+--------+-------+--------+----------+---------+--------+--------+---+\n",
      "only showing top 20 rows\n",
      "\n"
     ]
    }
   ],
   "source": [
    "updated_df=joined_df.withColumn(\"diff_high\",f.round(f.abs(f.col(\"avg\")-f.col(\"high\")),2)) \\\n",
    "         .withColumn(\"diff_low\",f.round(f.abs(f.col(\"avg\")-f.col(\"low\")),2)) \\\n",
    "         .withColumn(\"max_diff\",f.when(f.col(\"diff_high\")>f.col(\"diff_low\"),f.col(\"diff_high\")).otherwise(f.col(\"diff_low\"))) \\\n",
    "         .drop(*(\"diff_high\",\"diff_low\",\"datetime\",\"IST\")) \\\n",
    "         .withColumn(\"d1\",f.col(\"duration\")-f.col(\"dur_start\"))\n",
    "updated_df.filter(f.col(\"day\")==\"Tuesday\").show()"
   ]
  },
  {
   "cell_type": "code",
   "execution_count": 27,
   "metadata": {},
   "outputs": [
    {
     "name": "stdout",
     "output_type": "stream",
     "text": [
      "+-----+-------+----------+--------+--------+---+\n",
      "|Sl_No|    day|      date|    time|max_diff| d1|\n",
      "+-----+-------+----------+--------+--------+---+\n",
      "|   51|Tuesday|2023-06-06|15:00:00|   25.02|150|\n",
      "|   27|Tuesday|2022-12-06|14:00:00|   30.63| 90|\n",
      "|   49|Tuesday|2023-05-23|14:20:00|   30.67|110|\n",
      "|   28|Tuesday|2022-12-13|14:40:00|    33.7|130|\n",
      "|   21|Tuesday|2022-10-18|14:30:00|   34.55|120|\n",
      "|   16|Tuesday|2022-09-13|14:15:00|   36.65|105|\n",
      "|   45|Tuesday|2023-04-25|13:45:00|   38.27| 75|\n",
      "|   52|Tuesday|2023-06-13|14:25:00|   40.38|115|\n",
      "|   48|Tuesday|2023-05-16|15:00:00|   42.78|150|\n",
      "|    2|Tuesday|2022-05-31|13:10:00|   44.73| 40|\n",
      "|   25|Tuesday|2022-11-22|14:45:00|   45.18|135|\n",
      "|   34|Tuesday|2023-01-24|14:20:00|    49.1|110|\n",
      "|   19|Tuesday|2022-10-04|13:55:00|    50.1| 85|\n",
      "|   43|Tuesday|2023-04-11|14:50:00|   52.32|140|\n",
      "|   12|Tuesday|2022-08-16|13:20:00|   52.35| 50|\n",
      "|   22|Tuesday|2022-10-25|14:40:00|   56.65|130|\n",
      "|   46|Tuesday|2023-05-02|14:50:00|   57.45|140|\n",
      "|   42|Tuesday|2023-03-28|14:15:00|   58.25|105|\n",
      "|   38|Tuesday|2023-02-21|14:00:00|    63.5| 90|\n",
      "|   26|Tuesday|2022-11-29|14:35:00|   63.78|125|\n",
      "|    3|Tuesday|2022-06-07|13:55:00|   64.75| 85|\n",
      "|   10|Tuesday|2022-07-26|15:00:00|   67.37|150|\n",
      "|   35|Tuesday|2023-01-31|14:20:00|   67.43|110|\n",
      "|    6|Tuesday|2022-06-28|13:10:00|   69.28| 40|\n",
      "|   24|Tuesday|2022-11-15|15:00:00|   69.92|150|\n",
      "|   29|Tuesday|2022-12-20|15:00:00|   70.72|150|\n",
      "|   17|Tuesday|2022-09-20|14:50:00|   71.53|140|\n",
      "|    9|Tuesday|2022-07-19|13:15:00|   72.45| 45|\n",
      "|    8|Tuesday|2022-07-12|14:30:00|   74.25|120|\n",
      "|   50|Tuesday|2023-05-30|14:40:00|   81.72|130|\n",
      "|   23|Tuesday|2022-11-01|14:55:00|   82.48|145|\n",
      "|   33|Tuesday|2023-01-17|13:25:00|   88.18| 55|\n",
      "|   11|Tuesday|2022-08-02|14:45:00|    94.6|135|\n",
      "|    1|Tuesday|2022-05-24|14:35:00|  109.15|125|\n",
      "|   37|Tuesday|2023-02-14|14:40:00|  112.22|130|\n",
      "|   31|Tuesday|2023-01-03|14:45:00|  113.92|135|\n",
      "|   39|Tuesday|2023-02-28|14:15:00|   114.9|105|\n",
      "|    4|Tuesday|2022-06-14|14:20:00|  117.78|110|\n",
      "|   30|Tuesday|2022-12-27|14:50:00|   121.3|140|\n",
      "|   15|Tuesday|2022-09-06|14:45:00|   121.8|135|\n",
      "|   20|Tuesday|2022-10-11|15:00:00|  124.53|150|\n",
      "|    5|Tuesday|2022-06-21|13:25:00|   129.8| 55|\n",
      "|   47|Tuesday|2023-05-09|14:00:00|  130.53| 90|\n",
      "|   32|Tuesday|2023-01-10|14:45:00|  132.03|135|\n",
      "|   36|Tuesday|2023-02-07|14:55:00|   132.4|145|\n",
      "|   44|Tuesday|2023-04-18|13:45:00|  140.58| 75|\n",
      "|   53|Tuesday|2023-06-20|15:00:00|  142.47|150|\n",
      "|   13|Tuesday|2022-08-23|14:20:00|  153.62|110|\n",
      "|   41|Tuesday|2023-03-21|14:50:00|  165.75|140|\n",
      "|   40|Tuesday|2023-03-14|13:15:00|  166.58| 45|\n",
      "|   18|Tuesday|2022-09-27|15:00:00|  172.85|150|\n",
      "|    7|Tuesday|2022-07-05|15:00:00|  267.95|150|\n",
      "|   14|Tuesday|2022-08-30|15:00:00|  275.12|150|\n",
      "+-----+-------+----------+--------+--------+---+\n",
      "\n"
     ]
    }
   ],
   "source": [
    "final_df=updated_df.filter(f.col(\"day\")==\"Tuesday\") \\\n",
    "          .withColumn(\"r1\",f.row_number().over(Window.partitionBy(\"date\").orderBy(f.col(\"max_diff\").desc()) )) \\\n",
    "          .filter(f.col(\"r1\")==1) \\\n",
    "          .selectExpr(\"row_number() over(order by date) as Sl_No\",\"day\",\"date\",\"time\",\"max_diff\",\"d1\") \\\n",
    "          .orderBy(\"max_diff\")\n",
    "final_df.show(1000)"
   ]
  },
  {
   "cell_type": "code",
   "execution_count": null,
   "metadata": {},
   "outputs": [],
   "source": []
  },
  {
   "cell_type": "code",
   "execution_count": null,
   "metadata": {},
   "outputs": [],
   "source": []
  },
  {
   "cell_type": "code",
   "execution_count": null,
   "metadata": {},
   "outputs": [],
   "source": []
  },
  {
   "cell_type": "code",
   "execution_count": null,
   "metadata": {},
   "outputs": [],
   "source": []
  }
 ],
 "metadata": {
  "kernelspec": {
   "display_name": "Python 3",
   "language": "python",
   "name": "python3"
  },
  "language_info": {
   "codemirror_mode": {
    "name": "ipython",
    "version": 3
   },
   "file_extension": ".py",
   "mimetype": "text/x-python",
   "name": "python",
   "nbconvert_exporter": "python",
   "pygments_lexer": "ipython3",
   "version": "3.7.3"
  }
 },
 "nbformat": 4,
 "nbformat_minor": 4
}
