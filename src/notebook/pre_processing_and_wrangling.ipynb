{
 "cells": [
  {
   "cell_type": "markdown",
   "metadata": {},
   "source": [
    "#### FYI: Abandoned experiments, learnings etc can be found here:\n",
    "[pre_processing_and_wrangling - experiments and leaning](pre_processing_and_wrangling%20-%20experiments%20and%20leaning.ipynb)"
   ]
  },
  {
   "cell_type": "code",
   "execution_count": 1,
   "metadata": {},
   "outputs": [],
   "source": [
    "import findspark\n",
    "findspark.init()"
   ]
  },
  {
   "cell_type": "code",
   "execution_count": 2,
   "metadata": {},
   "outputs": [],
   "source": [
    "from pyspark.sql import SparkSession\n",
    "\n",
    "spark = SparkSession.builder. \\\n",
    "    appName(\"pyspark-1\"). \\\n",
    "    getOrCreate()"
   ]
  },
  {
   "cell_type": "code",
   "execution_count": 3,
   "metadata": {},
   "outputs": [],
   "source": [
    "df = spark.read.csv(\"/dataset/nyc-jobs.csv\", header=True, inferSchema=True)"
   ]
  },
  {
   "cell_type": "code",
   "execution_count": 4,
   "metadata": {},
   "outputs": [],
   "source": [
    "featues = [\"Job ID\",\n",
    "           \"Agency\", \n",
    "           \"Job Category\",\n",
    "           \"Salary Range From\",\n",
    "           \"Salary Range To\",\n",
    "           \"Salary Frequency\",\n",
    "           \"Minimum Qual Requirements\",\n",
    "           \"Posting Date\"]"
   ]
  },
  {
   "cell_type": "code",
   "execution_count": 5,
   "metadata": {},
   "outputs": [],
   "source": [
    "df_required_feaures = df.select(featues)\n",
    "df = None"
   ]
  },
  {
   "cell_type": "code",
   "execution_count": 6,
   "metadata": {},
   "outputs": [
    {
     "name": "stdout",
     "output_type": "stream",
     "text": [
      "root\n",
      " |-- Job ID: integer (nullable = true)\n",
      " |-- Agency: string (nullable = true)\n",
      " |-- Job Category: string (nullable = true)\n",
      " |-- Salary Range From: double (nullable = true)\n",
      " |-- Salary Range To: double (nullable = true)\n",
      " |-- Salary Frequency: string (nullable = true)\n",
      " |-- Minimum Qual Requirements: string (nullable = true)\n",
      " |-- Posting Date: string (nullable = true)\n",
      "\n"
     ]
    }
   ],
   "source": [
    "df_required_feaures.printSchema()"
   ]
  },
  {
   "cell_type": "code",
   "execution_count": 7,
   "metadata": {},
   "outputs": [
    {
     "data": {
      "text/html": [
       "<div>\n",
       "<style scoped>\n",
       "    .dataframe tbody tr th:only-of-type {\n",
       "        vertical-align: middle;\n",
       "    }\n",
       "\n",
       "    .dataframe tbody tr th {\n",
       "        vertical-align: top;\n",
       "    }\n",
       "\n",
       "    .dataframe thead th {\n",
       "        text-align: right;\n",
       "    }\n",
       "</style>\n",
       "<table border=\"1\" class=\"dataframe\">\n",
       "  <thead>\n",
       "    <tr style=\"text-align: right;\">\n",
       "      <th></th>\n",
       "      <th>0</th>\n",
       "      <th>1</th>\n",
       "      <th>2</th>\n",
       "      <th>3</th>\n",
       "      <th>4</th>\n",
       "    </tr>\n",
       "  </thead>\n",
       "  <tbody>\n",
       "    <tr>\n",
       "      <th>Job ID</th>\n",
       "      <td>87990</td>\n",
       "      <td>97899</td>\n",
       "      <td>132292</td>\n",
       "      <td>132292</td>\n",
       "      <td>133921</td>\n",
       "    </tr>\n",
       "    <tr>\n",
       "      <th>Agency</th>\n",
       "      <td>DEPARTMENT OF BUSINESS SERV.</td>\n",
       "      <td>DEPARTMENT OF BUSINESS SERV.</td>\n",
       "      <td>NYC HOUSING AUTHORITY</td>\n",
       "      <td>NYC HOUSING AUTHORITY</td>\n",
       "      <td>NYC HOUSING AUTHORITY</td>\n",
       "    </tr>\n",
       "    <tr>\n",
       "      <th>Job Category</th>\n",
       "      <td>None</td>\n",
       "      <td>None</td>\n",
       "      <td>Maintenance &amp; Operations</td>\n",
       "      <td>Maintenance &amp; Operations</td>\n",
       "      <td>Maintenance &amp; Operations</td>\n",
       "    </tr>\n",
       "    <tr>\n",
       "      <th>Salary Range From</th>\n",
       "      <td>42405</td>\n",
       "      <td>60740</td>\n",
       "      <td>51907.7</td>\n",
       "      <td>51907.7</td>\n",
       "      <td>35</td>\n",
       "    </tr>\n",
       "    <tr>\n",
       "      <th>Salary Range To</th>\n",
       "      <td>65485</td>\n",
       "      <td>162014</td>\n",
       "      <td>54580.3</td>\n",
       "      <td>54580.3</td>\n",
       "      <td>35</td>\n",
       "    </tr>\n",
       "    <tr>\n",
       "      <th>Salary Frequency</th>\n",
       "      <td>Annual</td>\n",
       "      <td>Annual</td>\n",
       "      <td>Annual</td>\n",
       "      <td>Annual</td>\n",
       "      <td>Hourly</td>\n",
       "    </tr>\n",
       "    <tr>\n",
       "      <th>Minimum Qual Requirements</th>\n",
       "      <td>\"1.\\tA baccalaureate degree from an accredited...</td>\n",
       "      <td>\"1. A baccalaureate degree from an accredited ...</td>\n",
       "      <td>\"1. Three years of full-time satisfactory expe...</td>\n",
       "      <td>\"1. Three years of full-time satisfactory expe...</td>\n",
       "      <td>1. Five years of full-time satisfactory experi...</td>\n",
       "    </tr>\n",
       "    <tr>\n",
       "      <th>Posting Date</th>\n",
       "      <td>New York City residency is generally required ...</td>\n",
       "      <td>2012-01-26T00:00:00.000</td>\n",
       "      <td>None</td>\n",
       "      <td>None</td>\n",
       "      <td>2014-01-09T00:00:00.000</td>\n",
       "    </tr>\n",
       "  </tbody>\n",
       "</table>\n",
       "</div>"
      ],
      "text/plain": [
       "                                                                           0  \\\n",
       "Job ID                                                                 87990   \n",
       "Agency                                          DEPARTMENT OF BUSINESS SERV.   \n",
       "Job Category                                                            None   \n",
       "Salary Range From                                                      42405   \n",
       "Salary Range To                                                        65485   \n",
       "Salary Frequency                                                      Annual   \n",
       "Minimum Qual Requirements  \"1.\\tA baccalaureate degree from an accredited...   \n",
       "Posting Date               New York City residency is generally required ...   \n",
       "\n",
       "                                                                           1  \\\n",
       "Job ID                                                                 97899   \n",
       "Agency                                          DEPARTMENT OF BUSINESS SERV.   \n",
       "Job Category                                                            None   \n",
       "Salary Range From                                                      60740   \n",
       "Salary Range To                                                       162014   \n",
       "Salary Frequency                                                      Annual   \n",
       "Minimum Qual Requirements  \"1. A baccalaureate degree from an accredited ...   \n",
       "Posting Date                                         2012-01-26T00:00:00.000   \n",
       "\n",
       "                                                                           2  \\\n",
       "Job ID                                                                132292   \n",
       "Agency                                                 NYC HOUSING AUTHORITY   \n",
       "Job Category                                        Maintenance & Operations   \n",
       "Salary Range From                                                    51907.7   \n",
       "Salary Range To                                                      54580.3   \n",
       "Salary Frequency                                                      Annual   \n",
       "Minimum Qual Requirements  \"1. Three years of full-time satisfactory expe...   \n",
       "Posting Date                                                            None   \n",
       "\n",
       "                                                                           3  \\\n",
       "Job ID                                                                132292   \n",
       "Agency                                                 NYC HOUSING AUTHORITY   \n",
       "Job Category                                        Maintenance & Operations   \n",
       "Salary Range From                                                    51907.7   \n",
       "Salary Range To                                                      54580.3   \n",
       "Salary Frequency                                                      Annual   \n",
       "Minimum Qual Requirements  \"1. Three years of full-time satisfactory expe...   \n",
       "Posting Date                                                            None   \n",
       "\n",
       "                                                                           4  \n",
       "Job ID                                                                133921  \n",
       "Agency                                                 NYC HOUSING AUTHORITY  \n",
       "Job Category                                        Maintenance & Operations  \n",
       "Salary Range From                                                         35  \n",
       "Salary Range To                                                           35  \n",
       "Salary Frequency                                                      Hourly  \n",
       "Minimum Qual Requirements  1. Five years of full-time satisfactory experi...  \n",
       "Posting Date                                         2014-01-09T00:00:00.000  "
      ]
     },
     "execution_count": 7,
     "metadata": {},
     "output_type": "execute_result"
    }
   ],
   "source": [
    "df_required_feaures.limit(5).toPandas().transpose()"
   ]
  },
  {
   "cell_type": "markdown",
   "metadata": {},
   "source": [
    "### Feature Engineering\n",
    "\n",
    "- Salary \n",
    "\n",
    "    - Required: a function to derive a salary based on \"Salary Range From\", \"Salary Range To\" and \"Salary Frequency\"\n",
    "        The resultant salary must be in the same units across each \"Salary Frequency\" so that a comparison can be made\n",
    "\n",
    "\n",
    "- Minimum Qual Requirements \n",
    "\n",
    "    - Required: a function to extrapolate any qualification specification.  I may end up having a simply flag:  required_degree: boolean\n",
    "   \n",
    "   \n",
    "- Posting Date - only about half of the records have a valid data in this field\n",
    "                "
   ]
  },
  {
   "cell_type": "markdown",
   "metadata": {},
   "source": [
    "## Salary"
   ]
  },
  {
   "cell_type": "markdown",
   "metadata": {},
   "source": [
    "Required: derive a salary based on \"Salary Range From\", \"Salary Range To\" and \"Salary Frequency\" The resultant salary must be in the same units across each \"Salary Frequency\" so that a comparison can be made"
   ]
  },
  {
   "cell_type": "code",
   "execution_count": 77,
   "metadata": {},
   "outputs": [],
   "source": [
    "from pyspark.sql.functions import col,regexp_extract"
   ]
  },
  {
   "cell_type": "markdown",
   "metadata": {},
   "source": [
    "when \"Salary Range From\" is not null and not 0, then calculate the midrange salary, i.e. sal = (min + (max - min)/2)\n",
    " otherwise use \"Salary Range To\""
   ]
  },
  {
   "cell_type": "code",
   "execution_count": 9,
   "metadata": {},
   "outputs": [],
   "source": [
    "import sys\n",
    "sys.path.insert(0,'../utils')"
   ]
  },
  {
   "cell_type": "code",
   "execution_count": 10,
   "metadata": {},
   "outputs": [],
   "source": [
    "import importlib"
   ]
  },
  {
   "cell_type": "markdown",
   "metadata": {},
   "source": [
    "#### PLEASE NOTE\n",
    "get_HourlySalaryUDF was tested here [get_HourlySalaryUDF](test%20UDF%20functions.ipynb#test_get_HourlySalaryUDF)"
   ]
  },
  {
   "cell_type": "code",
   "execution_count": 11,
   "metadata": {},
   "outputs": [],
   "source": [
    "import udf_functions as UDF"
   ]
  },
  {
   "cell_type": "code",
   "execution_count": 12,
   "metadata": {},
   "outputs": [
    {
     "name": "stdout",
     "output_type": "stream",
     "text": [
      "Help on function get_HourlySalaryUDF in module udf_functions:\n",
      "\n",
      "get_HourlySalaryUDF(SalaryRangeFrom, SalaryRangeTo, SalaryFrequency) -> float\n",
      "    Description:\n",
      "    \n",
      "    Santity checks of accidental From To swapping:\n",
      "        if SalaryRangeFrom > SalaryRangeTo\n",
      "            then swap the values.\n",
      "    \n",
      "    Calculate SalaryMixedFreq as follows:\n",
      "        if \"Salary Range From\" is not null and not 0, then calculate \n",
      "            midrange salary, i.e. sal = (min + (max - min)/2)\n",
      "        else \n",
      "            use \"Salary Range To\" as the salary\n",
      "        If SalaryRangeTo is not defined or 0 return None\n",
      "    \n",
      "    Calculate HourlySalary as follows:\n",
      "    \n",
      "       SalaryMixedFreq will be the yearly salary, Daily salary or \n",
      "       hourly salary depending on \"Salary Frequency\"\n",
      "       Calculate HourlySalary based on \"Salary Frequency\":\n",
      "       1 - \"Hourly\": set HourlySalary = SalaryMixedFreq\n",
      "       2 - \"Daily\":  set HourlySalary = SalaryMixedFreq / 8 rounded to 2 dec places\n",
      "       3 - \"Annual\": set HourlySalary = SalaryMixedFreq / 1757 rounded to 2 dec places\n",
      "    \n",
      "    :param SalaryRangeFrom: col value of \"Salary Range From\"\n",
      "    :param SalaryRangeTo\" col value of \"Salary Range To\"\n",
      "    :param SalaryFrequency\" col value of \"Salary Frequency\"\n",
      "    \n",
      "    :return: HourlySalary as float\n",
      "\n"
     ]
    }
   ],
   "source": [
    "help(UDF.get_HourlySalaryUDF)"
   ]
  },
  {
   "cell_type": "code",
   "execution_count": 13,
   "metadata": {},
   "outputs": [],
   "source": [
    "df_salary = df_required_feaures.withColumn(\"HourlySalary\",\n",
    "                                 UDF.get_HourlySalaryUDF(\n",
    "                                            col('Salary Range From'),\n",
    "                                            col('Salary Range To'),\n",
    "                                            col('Salary Frequency')\n",
    "                                        )\n",
    "                                     )\n"
   ]
  },
  {
   "cell_type": "code",
   "execution_count": 14,
   "metadata": {},
   "outputs": [
    {
     "data": {
      "text/html": [
       "<div>\n",
       "<style scoped>\n",
       "    .dataframe tbody tr th:only-of-type {\n",
       "        vertical-align: middle;\n",
       "    }\n",
       "\n",
       "    .dataframe tbody tr th {\n",
       "        vertical-align: top;\n",
       "    }\n",
       "\n",
       "    .dataframe thead th {\n",
       "        text-align: right;\n",
       "    }\n",
       "</style>\n",
       "<table border=\"1\" class=\"dataframe\">\n",
       "  <thead>\n",
       "    <tr style=\"text-align: right;\">\n",
       "      <th></th>\n",
       "      <th>Job ID</th>\n",
       "      <th>Agency</th>\n",
       "      <th>Job Category</th>\n",
       "      <th>Salary Range From</th>\n",
       "      <th>Salary Range To</th>\n",
       "      <th>Salary Frequency</th>\n",
       "      <th>Minimum Qual Requirements</th>\n",
       "      <th>Posting Date</th>\n",
       "      <th>HourlySalary</th>\n",
       "    </tr>\n",
       "  </thead>\n",
       "  <tbody>\n",
       "    <tr>\n",
       "      <th>0</th>\n",
       "      <td>87990</td>\n",
       "      <td>DEPARTMENT OF BUSINESS SERV.</td>\n",
       "      <td>None</td>\n",
       "      <td>42405.00</td>\n",
       "      <td>65485.00</td>\n",
       "      <td>Annual</td>\n",
       "      <td>\"1.\\tA baccalaureate degree from an accredited...</td>\n",
       "      <td>New York City residency is generally required ...</td>\n",
       "      <td>30.700001</td>\n",
       "    </tr>\n",
       "    <tr>\n",
       "      <th>1</th>\n",
       "      <td>97899</td>\n",
       "      <td>DEPARTMENT OF BUSINESS SERV.</td>\n",
       "      <td>None</td>\n",
       "      <td>60740.00</td>\n",
       "      <td>162014.00</td>\n",
       "      <td>Annual</td>\n",
       "      <td>\"1. A baccalaureate degree from an accredited ...</td>\n",
       "      <td>2012-01-26T00:00:00.000</td>\n",
       "      <td>63.389999</td>\n",
       "    </tr>\n",
       "    <tr>\n",
       "      <th>2</th>\n",
       "      <td>132292</td>\n",
       "      <td>NYC HOUSING AUTHORITY</td>\n",
       "      <td>Maintenance &amp; Operations</td>\n",
       "      <td>51907.68</td>\n",
       "      <td>54580.32</td>\n",
       "      <td>Annual</td>\n",
       "      <td>\"1. Three years of full-time satisfactory expe...</td>\n",
       "      <td>None</td>\n",
       "      <td>30.299999</td>\n",
       "    </tr>\n",
       "    <tr>\n",
       "      <th>3</th>\n",
       "      <td>132292</td>\n",
       "      <td>NYC HOUSING AUTHORITY</td>\n",
       "      <td>Maintenance &amp; Operations</td>\n",
       "      <td>51907.68</td>\n",
       "      <td>54580.32</td>\n",
       "      <td>Annual</td>\n",
       "      <td>\"1. Three years of full-time satisfactory expe...</td>\n",
       "      <td>None</td>\n",
       "      <td>30.299999</td>\n",
       "    </tr>\n",
       "    <tr>\n",
       "      <th>4</th>\n",
       "      <td>133921</td>\n",
       "      <td>NYC HOUSING AUTHORITY</td>\n",
       "      <td>Maintenance &amp; Operations</td>\n",
       "      <td>35.00</td>\n",
       "      <td>35.00</td>\n",
       "      <td>Hourly</td>\n",
       "      <td>1. Five years of full-time satisfactory experi...</td>\n",
       "      <td>2014-01-09T00:00:00.000</td>\n",
       "      <td>35.000000</td>\n",
       "    </tr>\n",
       "    <tr>\n",
       "      <th>5</th>\n",
       "      <td>133921</td>\n",
       "      <td>NYC HOUSING AUTHORITY</td>\n",
       "      <td>Maintenance &amp; Operations</td>\n",
       "      <td>35.00</td>\n",
       "      <td>35.00</td>\n",
       "      <td>Hourly</td>\n",
       "      <td>1. Five years of full-time satisfactory experi...</td>\n",
       "      <td>2014-01-09T00:00:00.000</td>\n",
       "      <td>35.000000</td>\n",
       "    </tr>\n",
       "    <tr>\n",
       "      <th>6</th>\n",
       "      <td>137433</td>\n",
       "      <td>DEPT OF HEALTH/MENTAL HYGIENE</td>\n",
       "      <td>Finance, Accounting, &amp; Procurement</td>\n",
       "      <td>50598.00</td>\n",
       "      <td>85053.00</td>\n",
       "      <td>Annual</td>\n",
       "      <td>\"1. A baccalaureate degree from an accredited ...</td>\n",
       "      <td>Apply online with a cover letter to https://a1...</td>\n",
       "      <td>38.599998</td>\n",
       "    </tr>\n",
       "    <tr>\n",
       "      <th>7</th>\n",
       "      <td>138531</td>\n",
       "      <td>DEPT OF ENVIRONMENT PROTECTION</td>\n",
       "      <td>Health Public Safety, Inspections, &amp; Enforcement</td>\n",
       "      <td>50623.00</td>\n",
       "      <td>75083.00</td>\n",
       "      <td>Annual</td>\n",
       "      <td>Qualification Requirements  A baccalaureate de...</td>\n",
       "      <td>2013-12-20T00:00:00.000</td>\n",
       "      <td>35.770000</td>\n",
       "    </tr>\n",
       "    <tr>\n",
       "      <th>8</th>\n",
       "      <td>151131</td>\n",
       "      <td>NYC HOUSING AUTHORITY</td>\n",
       "      <td>Engineering, Architecture, &amp; Planning</td>\n",
       "      <td>90000.00</td>\n",
       "      <td>110000.00</td>\n",
       "      <td>Annual</td>\n",
       "      <td>\"1. A master's degree from an accredited colle...</td>\n",
       "      <td>None</td>\n",
       "      <td>56.919998</td>\n",
       "    </tr>\n",
       "    <tr>\n",
       "      <th>9</th>\n",
       "      <td>152738</td>\n",
       "      <td>LAW DEPARTMENT</td>\n",
       "      <td>Clerical &amp; Administrative Support</td>\n",
       "      <td>30683.00</td>\n",
       "      <td>49707.00</td>\n",
       "      <td>Annual</td>\n",
       "      <td>Qualification Requirements  A four-year high s...</td>\n",
       "      <td>2014-06-26T00:00:00.000</td>\n",
       "      <td>22.879999</td>\n",
       "    </tr>\n",
       "  </tbody>\n",
       "</table>\n",
       "</div>"
      ],
      "text/plain": [
       "   Job ID                          Agency  \\\n",
       "0   87990    DEPARTMENT OF BUSINESS SERV.   \n",
       "1   97899    DEPARTMENT OF BUSINESS SERV.   \n",
       "2  132292           NYC HOUSING AUTHORITY   \n",
       "3  132292           NYC HOUSING AUTHORITY   \n",
       "4  133921           NYC HOUSING AUTHORITY   \n",
       "5  133921           NYC HOUSING AUTHORITY   \n",
       "6  137433   DEPT OF HEALTH/MENTAL HYGIENE   \n",
       "7  138531  DEPT OF ENVIRONMENT PROTECTION   \n",
       "8  151131           NYC HOUSING AUTHORITY   \n",
       "9  152738                  LAW DEPARTMENT   \n",
       "\n",
       "                                       Job Category  Salary Range From  \\\n",
       "0                                              None           42405.00   \n",
       "1                                              None           60740.00   \n",
       "2                          Maintenance & Operations           51907.68   \n",
       "3                          Maintenance & Operations           51907.68   \n",
       "4                          Maintenance & Operations              35.00   \n",
       "5                          Maintenance & Operations              35.00   \n",
       "6                Finance, Accounting, & Procurement           50598.00   \n",
       "7  Health Public Safety, Inspections, & Enforcement           50623.00   \n",
       "8             Engineering, Architecture, & Planning           90000.00   \n",
       "9                 Clerical & Administrative Support           30683.00   \n",
       "\n",
       "   Salary Range To Salary Frequency  \\\n",
       "0         65485.00           Annual   \n",
       "1        162014.00           Annual   \n",
       "2         54580.32           Annual   \n",
       "3         54580.32           Annual   \n",
       "4            35.00           Hourly   \n",
       "5            35.00           Hourly   \n",
       "6         85053.00           Annual   \n",
       "7         75083.00           Annual   \n",
       "8        110000.00           Annual   \n",
       "9         49707.00           Annual   \n",
       "\n",
       "                           Minimum Qual Requirements  \\\n",
       "0  \"1.\\tA baccalaureate degree from an accredited...   \n",
       "1  \"1. A baccalaureate degree from an accredited ...   \n",
       "2  \"1. Three years of full-time satisfactory expe...   \n",
       "3  \"1. Three years of full-time satisfactory expe...   \n",
       "4  1. Five years of full-time satisfactory experi...   \n",
       "5  1. Five years of full-time satisfactory experi...   \n",
       "6  \"1. A baccalaureate degree from an accredited ...   \n",
       "7  Qualification Requirements  A baccalaureate de...   \n",
       "8  \"1. A master's degree from an accredited colle...   \n",
       "9  Qualification Requirements  A four-year high s...   \n",
       "\n",
       "                                        Posting Date  HourlySalary  \n",
       "0  New York City residency is generally required ...     30.700001  \n",
       "1                            2012-01-26T00:00:00.000     63.389999  \n",
       "2                                               None     30.299999  \n",
       "3                                               None     30.299999  \n",
       "4                            2014-01-09T00:00:00.000     35.000000  \n",
       "5                            2014-01-09T00:00:00.000     35.000000  \n",
       "6  Apply online with a cover letter to https://a1...     38.599998  \n",
       "7                            2013-12-20T00:00:00.000     35.770000  \n",
       "8                                               None     56.919998  \n",
       "9                            2014-06-26T00:00:00.000     22.879999  "
      ]
     },
     "execution_count": 14,
     "metadata": {},
     "output_type": "execute_result"
    }
   ],
   "source": [
    "df_salary.limit(10).toPandas()"
   ]
  },
  {
   "cell_type": "markdown",
   "metadata": {},
   "source": [
    "# Minimum Qual Requirements\n",
    "\n",
    "Required: a function to extrapolate any qualification specification. I may end up having a simply flag: required_degree: boolean\n",
    "\n",
    "I have used [List of Degrees: Most Popular Degree Programs by Level](https://bestaccreditedcolleges.org/articles/list-of-degrees.html) as my reference\n",
    "\n",
    "**PLEASE NOTE**: get_degreeUDF was tested [here](test%20UDF%20functions.ipynb#test_get_degreeUDF)"
   ]
  },
  {
   "cell_type": "markdown",
   "metadata": {},
   "source": [
    "Call UDF get_degreeUDF(MinimumQualRequirements) to get the higher qualification requirements if found creating new column \n",
    "- \"Higher Degree\""
   ]
  },
  {
   "cell_type": "code",
   "execution_count": 37,
   "metadata": {},
   "outputs": [],
   "source": [
    "importlib.reload(UDF)\n",
    "df_salary_degree = df_salary.withColumn(\"Higher Degree\",\n",
    "                                 UDF.get_degreeUDF(\n",
    "                                            col('Minimum Qual Requirements')\n",
    "                                        )\n",
    "                                     )\n"
   ]
  },
  {
   "cell_type": "markdown",
   "metadata": {},
   "source": [
    "# Job Category"
   ]
  },
  {
   "cell_type": "markdown",
   "metadata": {},
   "source": [
    "- there are 2 missing Job Catergory's\n",
    "\n",
    "For these I will set to \"Not Specified\""
   ]
  },
  {
   "cell_type": "code",
   "execution_count": 78,
   "metadata": {},
   "outputs": [],
   "source": [
    "from pyspark.sql.functions import col,regexp_extract"
   ]
  },
  {
   "cell_type": "code",
   "execution_count": 59,
   "metadata": {},
   "outputs": [
    {
     "data": {
      "text/plain": [
       "131"
      ]
     },
     "execution_count": 59,
     "metadata": {},
     "output_type": "execute_result"
    }
   ],
   "source": [
    "df_salary_degree.select('Job Category').distinct().count()"
   ]
  },
  {
   "cell_type": "code",
   "execution_count": 41,
   "metadata": {},
   "outputs": [
    {
     "data": {
      "text/plain": [
       "2"
      ]
     },
     "execution_count": 41,
     "metadata": {},
     "output_type": "execute_result"
    }
   ],
   "source": [
    "df_salary_degree.where(col('Job Category').isNull()).count()"
   ]
  },
  {
   "cell_type": "code",
   "execution_count": 40,
   "metadata": {},
   "outputs": [
    {
     "name": "stdout",
     "output_type": "stream",
     "text": [
      "+------+--------------------+------------+-----------------+---------------+----------------+-------------------------+--------------------+------------+-------------+\n",
      "|Job ID|              Agency|Job Category|Salary Range From|Salary Range To|Salary Frequency|Minimum Qual Requirements|        Posting Date|HourlySalary|Higher Degree|\n",
      "+------+--------------------+------------+-----------------+---------------+----------------+-------------------------+--------------------+------------+-------------+\n",
      "| 87990|DEPARTMENT OF BUS...|        null|          42405.0|        65485.0|          Annual|     \"1.\tA baccalaurea...|New York City res...|        30.7|       Degree|\n",
      "| 97899|DEPARTMENT OF BUS...|        null|          60740.0|       162014.0|          Annual|     \"1. A baccalaurea...|2012-01-26T00:00:...|       63.39|       Degree|\n",
      "+------+--------------------+------------+-----------------+---------------+----------------+-------------------------+--------------------+------------+-------------+\n",
      "\n"
     ]
    }
   ],
   "source": [
    "df_salary_degree.where(col('Job Category').isNull()).show()"
   ]
  },
  {
   "cell_type": "code",
   "execution_count": 50,
   "metadata": {},
   "outputs": [],
   "source": [
    "from pyspark.sql.functions import when\n"
   ]
  },
  {
   "cell_type": "code",
   "execution_count": 64,
   "metadata": {},
   "outputs": [],
   "source": [
    "df_salary_degree_JC = df_salary_degree.\\\n",
    "                        withColumn('Job Category', \n",
    "                                   when(\n",
    "                                       col('Job Category').isNull(),\"Not Specified\").\\\n",
    "                                   otherwise(col('Job Category')))\n"
   ]
  },
  {
   "cell_type": "markdown",
   "metadata": {},
   "source": [
    "rows with Job ID in (87990,97899) had NULL 'Job Category' before the update\n",
    "check values now:"
   ]
  },
  {
   "cell_type": "code",
   "execution_count": 65,
   "metadata": {},
   "outputs": [
    {
     "data": {
      "text/plain": [
       "0"
      ]
     },
     "execution_count": 65,
     "metadata": {},
     "output_type": "execute_result"
    }
   ],
   "source": [
    "df_salary_degree_JC.where(col('Job Category').isNull()).count()"
   ]
  },
  {
   "cell_type": "code",
   "execution_count": 67,
   "metadata": {},
   "outputs": [
    {
     "name": "stdout",
     "output_type": "stream",
     "text": [
      "+-------------+\n",
      "| Job Category|\n",
      "+-------------+\n",
      "|Not Specified|\n",
      "+-------------+\n",
      "\n"
     ]
    }
   ],
   "source": [
    "df_salary_degree_JC.filter(col('Job ID') == 87990).select('Job Category').show()"
   ]
  },
  {
   "cell_type": "code",
   "execution_count": 68,
   "metadata": {},
   "outputs": [
    {
     "name": "stdout",
     "output_type": "stream",
     "text": [
      "+-------------+\n",
      "| Job Category|\n",
      "+-------------+\n",
      "|Not Specified|\n",
      "+-------------+\n",
      "\n"
     ]
    }
   ],
   "source": [
    "df_salary_degree_JC.filter(col('Job ID') == 97899).select('Job Category').show()"
   ]
  },
  {
   "cell_type": "code",
   "execution_count": 70,
   "metadata": {},
   "outputs": [
    {
     "data": {
      "text/plain": [
       "2"
      ]
     },
     "execution_count": 70,
     "metadata": {},
     "output_type": "execute_result"
    }
   ],
   "source": [
    "df_salary_degree_JC.filter(col('Job Category') == 'Not Specified').count()"
   ]
  },
  {
   "cell_type": "code",
   "execution_count": 62,
   "metadata": {},
   "outputs": [
    {
     "data": {
      "text/plain": [
       "131"
      ]
     },
     "execution_count": 62,
     "metadata": {},
     "output_type": "execute_result"
    }
   ],
   "source": [
    "df_salary_degree_JC.select('Job Category').distinct().count()"
   ]
  },
  {
   "cell_type": "markdown",
   "metadata": {},
   "source": [
    "# Posting Date\n",
    "\n",
    "See my analysis regarding [posting data](data_analysis.ipynb#posting_date_analysis_summary)"
   ]
  },
  {
   "cell_type": "code",
   "execution_count": 99,
   "metadata": {},
   "outputs": [],
   "source": [
    "from pyspark.sql.functions import col,regexp_extract,to_date"
   ]
  },
  {
   "cell_type": "code",
   "execution_count": null,
   "metadata": {},
   "outputs": [],
   "source": [
    "regexp_extract('str', r'(\\d+)-(\\d+)', 1)"
   ]
  },
  {
   "cell_type": "code",
   "execution_count": 75,
   "metadata": {
    "scrolled": true
   },
   "outputs": [
    {
     "name": "stdout",
     "output_type": "stream",
     "text": [
      "+--------------------------------------------------------------------------------------------------------------------------------------------------------------------------------------------------------------------------------------------------------------------------------------------------------------------------------------------------------------------------------------------------------------------------------------------------------------------------------------------------------------------------------------------------------------------------------+\n",
      "|Posting Date                                                                                                                                                                                                                                                                                                                                                                                                                                                                                                                                                                    |\n",
      "+--------------------------------------------------------------------------------------------------------------------------------------------------------------------------------------------------------------------------------------------------------------------------------------------------------------------------------------------------------------------------------------------------------------------------------------------------------------------------------------------------------------------------------------------------------------------------------+\n",
      "|New York City residency is generally required within 90 days of appointment. However, City Employees in certain titles who have worked for the City for 2 continuous years may also be eligible to reside in Nassau, Suffolk, Putnam, Westchester, Rockland, or Orange County. To determine if the residency requirement applies to you, please discuss with the agency representative at the time of interview.                                                                                                                                                                |\n",
      "|2012-01-26T00:00:00.000                                                                                                                                                                                                                                                                                                                                                                                                                                                                                                                                                         |\n",
      "|null                                                                                                                                                                                                                                                                                                                                                                                                                                                                                                                                                                            |\n",
      "|null                                                                                                                                                                                                                                                                                                                                                                                                                                                                                                                                                                            |\n",
      "|2014-01-09T00:00:00.000                                                                                                                                                                                                                                                                                                                                                                                                                                                                                                                                                         |\n",
      "|2014-01-09T00:00:00.000                                                                                                                                                                                                                                                                                                                                                                                                                                                                                                                                                         |\n",
      "|Apply online with a cover letter to https://a127-jobs.nyc.gov/.  In the Job ID search bar, enter: job ID number #137433      We appreciate the interest and thank all applicants who apply, but only those candidates under consideration will be contacted.                                                                                                                                                                                                                                                                                                                    |\n",
      "|2013-12-20T00:00:00.000                                                                                                                                                                                                                                                                                                                                                                                                                                                                                                                                                         |\n",
      "|null                                                                                                                                                                                                                                                                                                                                                                                                                                                                                                                                                                            |\n",
      "|2014-06-26T00:00:00.000                                                                                                                                                                                                                                                                                                                                                                                                                                                                                                                                                         |\n",
      "| \"\"2\"\" or \"\"3\"\" above. However                                                                                                                                                                                                                                                                                                                                                                                                                                                                                                                                                  |\n",
      "|New York City Residency is not required for this position  NYCERS is an Equal Opportunity Employer  M/F/H/V                                                                                                                                                                                                                                                                                                                                                                                                                                                                     |\n",
      "|New York City Residency is not required for this position  NYCERS is an Equal Opportunity Employer  M/F/H/V                                                                                                                                                                                                                                                                                                                                                                                                                                                                     |\n",
      "|2014-10-09T00:00:00.000                                                                                                                                                                                                                                                                                                                                                                                                                                                                                                                                                         |\n",
      "|2014-10-09T00:00:00.000                                                                                                                                                                                                                                                                                                                                                                                                                                                                                                                                                         |\n",
      "|2014-10-08T00:00:00.000                                                                                                                                                                                                                                                                                                                                                                                                                                                                                                                                                         |\n",
      "| mid-range computer                                                                                                                                                                                                                                                                                                                                                                                                                                                                                                                                                             |\n",
      "| \"\"2\"\" or \"\"3\"\" above. However                                                                                                                                                                                                                                                                                                                                                                                                                                                                                                                                                  |\n",
      "|2014-11-18T00:00:00.000                                                                                                                                                                                                                                                                                                                                                                                                                                                                                                                                                         |\n",
      "| help desk                                                                                                                                                                                                                                                                                                                                                                                                                                                                                                                                                                      |\n",
      "|2015-02-12T00:00:00.000                                                                                                                                                                                                                                                                                                                                                                                                                                                                                                                                                         |\n",
      "|2015-02-20T00:00:00.000                                                                                                                                                                                                                                                                                                                                                                                                                                                                                                                                                         |\n",
      "|The successful candidate should possess the following: Project management skills pertaining to large, enterprise environments; fundamental technical knowledge of Windows, Linux, and Unix operating systems; strong knowledge of DNS, Networking and Firewall; strong knowledge of Oracle and SQL databases; strong knowledge of storage, backup and monitoring systems; excellent written and verbal communication skills, customer services skills, trouble shooting and problem solving skills; and the ability to manage multiple tasks and projects under tight deadlines.|\n",
      "|2015-03-16T00:00:00.000                                                                                                                                                                                                                                                                                                                                                                                                                                                                                                                                                         |\n",
      "|2015-04-15T00:00:00.000                                                                                                                                                                                                                                                                                                                                                                                                                                                                                                                                                         |\n",
      "|2015-04-15T00:00:00.000                                                                                                                                                                                                                                                                                                                                                                                                                                                                                                                                                         |\n",
      "|null                                                                                                                                                                                                                                                                                                                                                                                                                                                                                                                                                                            |\n",
      "|null                                                                                                                                                                                                                                                                                                                                                                                                                                                                                                                                                                            |\n",
      "| all candidates must possess a four-year high school diploma or its educational equivalent and at least six months of required experience or the nine specialized credits.\"                                                                                                                                                                                                                                                                                                                                                                                                     |\n",
      "|null                                                                                                                                                                                                                                                                                                                                                                                                                                                                                                                                                                            |\n",
      "+--------------------------------------------------------------------------------------------------------------------------------------------------------------------------------------------------------------------------------------------------------------------------------------------------------------------------------------------------------------------------------------------------------------------------------------------------------------------------------------------------------------------------------------------------------------------------------+\n",
      "only showing top 30 rows\n",
      "\n"
     ]
    }
   ],
   "source": [
    "df_salary_degree_JC.select('Posting Date').show(30,truncate=False)"
   ]
  },
  {
   "cell_type": "code",
   "execution_count": 121,
   "metadata": {},
   "outputs": [],
   "source": [
    "df_pre_final = df_salary_degree_JC.\\\n",
    "            withColumn(\"PostingDateYYYYMMDD\",\n",
    "                      regexp_extract(\n",
    "                          'Posting Date',\n",
    "                          r'.*?(\\d{4}-\\d{2}-\\d{2})T.*?',\n",
    "                          1\n",
    "                      )).\\\n",
    "            withColumn(\"PostingDate\",\n",
    "                       to_date(col(\"PostingDateYYYYMMDD\"),\"yyyy-MM-dd\"))"
   ]
  },
  {
   "cell_type": "code",
   "execution_count": 122,
   "metadata": {},
   "outputs": [
    {
     "name": "stdout",
     "output_type": "stream",
     "text": [
      "+-------------------+-----------+\n",
      "|PostingDateYYYYMMDD|PostingDate|\n",
      "+-------------------+-----------+\n",
      "|                   |       null|\n",
      "|         2012-01-26| 2012-01-26|\n",
      "|               null|       null|\n",
      "|               null|       null|\n",
      "|         2014-01-09| 2014-01-09|\n",
      "|         2014-01-09| 2014-01-09|\n",
      "|                   |       null|\n",
      "|         2013-12-20| 2013-12-20|\n",
      "|               null|       null|\n",
      "|         2014-06-26| 2014-06-26|\n",
      "|                   |       null|\n",
      "|                   |       null|\n",
      "|                   |       null|\n",
      "|         2014-10-09| 2014-10-09|\n",
      "|         2014-10-09| 2014-10-09|\n",
      "|         2014-10-08| 2014-10-08|\n",
      "|                   |       null|\n",
      "|                   |       null|\n",
      "|         2014-11-18| 2014-11-18|\n",
      "|                   |       null|\n",
      "+-------------------+-----------+\n",
      "only showing top 20 rows\n",
      "\n"
     ]
    }
   ],
   "source": [
    "df_pre_final.select(\"PostingDateYYYYMMDD\",\"PostingDate\").show()"
   ]
  },
  {
   "cell_type": "code",
   "execution_count": 123,
   "metadata": {},
   "outputs": [
    {
     "name": "stdout",
     "output_type": "stream",
     "text": [
      "root\n",
      " |-- Job ID: integer (nullable = true)\n",
      " |-- Agency: string (nullable = true)\n",
      " |-- Job Category: string (nullable = true)\n",
      " |-- Salary Range From: double (nullable = true)\n",
      " |-- Salary Range To: double (nullable = true)\n",
      " |-- Salary Frequency: string (nullable = true)\n",
      " |-- Minimum Qual Requirements: string (nullable = true)\n",
      " |-- Posting Date: string (nullable = true)\n",
      " |-- HourlySalary: float (nullable = true)\n",
      " |-- Higher Degree: string (nullable = true)\n",
      " |-- PostingDateYYYYMMDD: string (nullable = true)\n",
      " |-- PostingDate: date (nullable = true)\n",
      "\n"
     ]
    }
   ],
   "source": [
    "df_pre_final.printSchema()"
   ]
  },
  {
   "cell_type": "code",
   "execution_count": 126,
   "metadata": {},
   "outputs": [],
   "source": [
    "df_final = df_pre_final.drop(col('Salary Range From')).\\\n",
    "                        drop(col('Salary Range To')).\\\n",
    "                        drop(col('Salary Frequency')).\\\n",
    "                        drop(col('Posting Date')).\\\n",
    "                        drop(col('Minimum Qual Requirements')).\\\n",
    "                        drop(col('PostingDateYYYYMMDD'))"
   ]
  },
  {
   "cell_type": "code",
   "execution_count": 127,
   "metadata": {},
   "outputs": [
    {
     "name": "stdout",
     "output_type": "stream",
     "text": [
      "root\n",
      " |-- Job ID: integer (nullable = true)\n",
      " |-- Agency: string (nullable = true)\n",
      " |-- Job Category: string (nullable = true)\n",
      " |-- HourlySalary: float (nullable = true)\n",
      " |-- Higher Degree: string (nullable = true)\n",
      " |-- PostingDate: date (nullable = true)\n",
      "\n"
     ]
    }
   ],
   "source": [
    "df_final.printSchema()"
   ]
  },
  {
   "cell_type": "code",
   "execution_count": null,
   "metadata": {},
   "outputs": [],
   "source": [
    "df_final.write.parquet('/processed/df_final',mode='overwrite')"
   ]
  }
 ],
 "metadata": {
  "kernelspec": {
   "display_name": "Python 3",
   "language": "python",
   "name": "python3"
  },
  "language_info": {
   "codemirror_mode": {
    "name": "ipython",
    "version": 3
   },
   "file_extension": ".py",
   "mimetype": "text/x-python",
   "name": "python",
   "nbconvert_exporter": "python",
   "pygments_lexer": "ipython3",
   "version": "3.7.3"
  }
 },
 "nbformat": 4,
 "nbformat_minor": 4
}
