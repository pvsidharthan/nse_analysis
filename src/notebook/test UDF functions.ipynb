{
 "cells": [
  {
   "cell_type": "code",
   "execution_count": 1,
   "metadata": {},
   "outputs": [],
   "source": [
    "import findspark\n",
    "findspark.init()"
   ]
  },
  {
   "cell_type": "code",
   "execution_count": 2,
   "metadata": {},
   "outputs": [],
   "source": [
    "from pyspark.sql import SparkSession\n",
    "\n",
    "spark = SparkSession.builder. \\\n",
    "    appName(\"pyspark-1\"). \\\n",
    "    getOrCreate()"
   ]
  },
  {
   "cell_type": "code",
   "execution_count": 3,
   "metadata": {},
   "outputs": [],
   "source": [
    "import importlib"
   ]
  },
  {
   "cell_type": "markdown",
   "metadata": {},
   "source": [
    "## Test get_HourlySalaryUDF"
   ]
  },
  {
   "cell_type": "code",
   "execution_count": 4,
   "metadata": {},
   "outputs": [],
   "source": [
    "import sys\n",
    "sys.path.insert(0,'../tests')"
   ]
  },
  {
   "cell_type": "code",
   "execution_count": 5,
   "metadata": {},
   "outputs": [
    {
     "name": "stdout",
     "output_type": "stream",
     "text": [
      "Loaded\n"
     ]
    }
   ],
   "source": [
    "import test_UDF_functions as T"
   ]
  },
  {
   "cell_type": "code",
   "execution_count": 6,
   "metadata": {},
   "outputs": [
    {
     "data": {
      "text/plain": [
       "True"
      ]
     },
     "execution_count": 6,
     "metadata": {},
     "output_type": "execute_result"
    }
   ],
   "source": [
    "T.loadTest()"
   ]
  },
  {
   "cell_type": "code",
   "execution_count": 7,
   "metadata": {},
   "outputs": [
    {
     "name": "stdout",
     "output_type": "stream",
     "text": [
      "Help on function test_get_HourlySalaryUDF in module test_UDF_functions:\n",
      "\n",
      "test_get_HourlySalaryUDF(debug: bool = False, inject_error: bool = False)\n",
      "    test utils.udf_functions.get_HourlySalaryUDF \n",
      "    \n",
      "    :param debug: prints DF test outputs and returns test data DF and results DF\n",
      "                  If Debug is NOT set, then this test will either PASS or FAIL (assertion error)\n",
      "    :param inject_error: to test the test.  Add a dileberate error!\n",
      "\n"
     ]
    }
   ],
   "source": [
    "help(T.test_get_HourlySalaryUDF)"
   ]
  },
  {
   "cell_type": "code",
   "execution_count": 8,
   "metadata": {},
   "outputs": [
    {
     "name": "stdout",
     "output_type": "stream",
     "text": [
      "Loaded\n",
      "+---------------+-------------+---------------+--------------------+\n",
      "|SalaryRangeFrom|SalaryRangeTo|SalaryFrequency|ExpectedHourlySalary|\n",
      "+---------------+-------------+---------------+--------------------+\n",
      "|            0.0|     100000.0|         Annual|               56.92|\n",
      "|           null|     100000.0|         Annual|               56.92|\n",
      "|       100000.0|         null|         Annual|               56.92|\n",
      "|        80000.0|     100000.0|         Annual|               51.22|\n",
      "|       100000.0|      80000.0|         Annual|               51.22|\n",
      "|           null|         null|         Annual|                null|\n",
      "|           null|         10.0|         Hourly|                10.0|\n",
      "|            0.0|         10.0|         Hourly|                10.0|\n",
      "|            5.0|         10.0|         Hourly|                 7.5|\n",
      "|           null|         80.0|          Daily|                10.0|\n",
      "|            0.0|         80.0|          Daily|                10.0|\n",
      "|           60.0|         80.0|          Daily|                8.75|\n",
      "+---------------+-------------+---------------+--------------------+\n",
      "\n",
      "salary_data_df\n",
      "None\n",
      "+---------------+-------------+---------------+--------------------+------------+--------------------+-----------+\n",
      "|SalaryRangeFrom|SalaryRangeTo|SalaryFrequency|ExpectedHourlySalary|HourlySalary|            TestDiff|Test Result|\n",
      "+---------------+-------------+---------------+--------------------+------------+--------------------+-----------+\n",
      "|            0.0|     100000.0|         Annual|               56.92|       56.92|-1.83105468920530...|       PASS|\n",
      "|           null|     100000.0|         Annual|               56.92|       56.92|-1.83105468920530...|       PASS|\n",
      "|       100000.0|         null|         Annual|               56.92|       56.92|-1.83105468920530...|       PASS|\n",
      "|        80000.0|     100000.0|         Annual|               51.22|       51.22|1.220703126136868...|       PASS|\n",
      "|       100000.0|      80000.0|         Annual|               51.22|       51.22|1.220703126136868...|       PASS|\n",
      "|           null|         null|         Annual|                null|        null|                null|       PASS|\n",
      "|           null|         10.0|         Hourly|                10.0|        10.0|                 0.0|       PASS|\n",
      "|            0.0|         10.0|         Hourly|                10.0|        10.0|                 0.0|       PASS|\n",
      "|            5.0|         10.0|         Hourly|                 7.5|         7.5|                 0.0|       PASS|\n",
      "|           null|         80.0|          Daily|                10.0|        10.0|                 0.0|       PASS|\n",
      "|            0.0|         80.0|          Daily|                10.0|        10.0|                 0.0|       PASS|\n",
      "|           60.0|         80.0|          Daily|                8.75|        8.75|                 0.0|       PASS|\n",
      "+---------------+-------------+---------------+--------------------+------------+--------------------+-----------+\n",
      "\n",
      "salary_data_df_results\n",
      "None\n"
     ]
    }
   ],
   "source": [
    "importlib.reload(T)\n",
    "df_test_data,salary_data_df_results = T.test_get_HourlySalaryUDF(debug=True)"
   ]
  },
  {
   "cell_type": "code",
   "execution_count": 9,
   "metadata": {},
   "outputs": [
    {
     "data": {
      "text/html": [
       "<div>\n",
       "<style scoped>\n",
       "    .dataframe tbody tr th:only-of-type {\n",
       "        vertical-align: middle;\n",
       "    }\n",
       "\n",
       "    .dataframe tbody tr th {\n",
       "        vertical-align: top;\n",
       "    }\n",
       "\n",
       "    .dataframe thead th {\n",
       "        text-align: right;\n",
       "    }\n",
       "</style>\n",
       "<table border=\"1\" class=\"dataframe\">\n",
       "  <thead>\n",
       "    <tr style=\"text-align: right;\">\n",
       "      <th></th>\n",
       "      <th>SalaryRangeFrom</th>\n",
       "      <th>SalaryRangeTo</th>\n",
       "      <th>SalaryFrequency</th>\n",
       "      <th>ExpectedHourlySalary</th>\n",
       "      <th>HourlySalary</th>\n",
       "      <th>TestDiff</th>\n",
       "      <th>Test Result</th>\n",
       "    </tr>\n",
       "  </thead>\n",
       "  <tbody>\n",
       "    <tr>\n",
       "      <th>0</th>\n",
       "      <td>0.0</td>\n",
       "      <td>100000.0</td>\n",
       "      <td>Annual</td>\n",
       "      <td>56.92</td>\n",
       "      <td>56.919998</td>\n",
       "      <td>-0.000002</td>\n",
       "      <td>PASS</td>\n",
       "    </tr>\n",
       "    <tr>\n",
       "      <th>1</th>\n",
       "      <td>NaN</td>\n",
       "      <td>100000.0</td>\n",
       "      <td>Annual</td>\n",
       "      <td>56.92</td>\n",
       "      <td>56.919998</td>\n",
       "      <td>-0.000002</td>\n",
       "      <td>PASS</td>\n",
       "    </tr>\n",
       "    <tr>\n",
       "      <th>2</th>\n",
       "      <td>100000.0</td>\n",
       "      <td>NaN</td>\n",
       "      <td>Annual</td>\n",
       "      <td>56.92</td>\n",
       "      <td>56.919998</td>\n",
       "      <td>-0.000002</td>\n",
       "      <td>PASS</td>\n",
       "    </tr>\n",
       "    <tr>\n",
       "      <th>3</th>\n",
       "      <td>80000.0</td>\n",
       "      <td>100000.0</td>\n",
       "      <td>Annual</td>\n",
       "      <td>51.22</td>\n",
       "      <td>51.220001</td>\n",
       "      <td>0.000001</td>\n",
       "      <td>PASS</td>\n",
       "    </tr>\n",
       "    <tr>\n",
       "      <th>4</th>\n",
       "      <td>100000.0</td>\n",
       "      <td>80000.0</td>\n",
       "      <td>Annual</td>\n",
       "      <td>51.22</td>\n",
       "      <td>51.220001</td>\n",
       "      <td>0.000001</td>\n",
       "      <td>PASS</td>\n",
       "    </tr>\n",
       "    <tr>\n",
       "      <th>5</th>\n",
       "      <td>NaN</td>\n",
       "      <td>NaN</td>\n",
       "      <td>Annual</td>\n",
       "      <td>NaN</td>\n",
       "      <td>NaN</td>\n",
       "      <td>NaN</td>\n",
       "      <td>PASS</td>\n",
       "    </tr>\n",
       "    <tr>\n",
       "      <th>6</th>\n",
       "      <td>NaN</td>\n",
       "      <td>10.0</td>\n",
       "      <td>Hourly</td>\n",
       "      <td>10.00</td>\n",
       "      <td>10.000000</td>\n",
       "      <td>0.000000</td>\n",
       "      <td>PASS</td>\n",
       "    </tr>\n",
       "    <tr>\n",
       "      <th>7</th>\n",
       "      <td>0.0</td>\n",
       "      <td>10.0</td>\n",
       "      <td>Hourly</td>\n",
       "      <td>10.00</td>\n",
       "      <td>10.000000</td>\n",
       "      <td>0.000000</td>\n",
       "      <td>PASS</td>\n",
       "    </tr>\n",
       "    <tr>\n",
       "      <th>8</th>\n",
       "      <td>5.0</td>\n",
       "      <td>10.0</td>\n",
       "      <td>Hourly</td>\n",
       "      <td>7.50</td>\n",
       "      <td>7.500000</td>\n",
       "      <td>0.000000</td>\n",
       "      <td>PASS</td>\n",
       "    </tr>\n",
       "    <tr>\n",
       "      <th>9</th>\n",
       "      <td>NaN</td>\n",
       "      <td>80.0</td>\n",
       "      <td>Daily</td>\n",
       "      <td>10.00</td>\n",
       "      <td>10.000000</td>\n",
       "      <td>0.000000</td>\n",
       "      <td>PASS</td>\n",
       "    </tr>\n",
       "    <tr>\n",
       "      <th>10</th>\n",
       "      <td>0.0</td>\n",
       "      <td>80.0</td>\n",
       "      <td>Daily</td>\n",
       "      <td>10.00</td>\n",
       "      <td>10.000000</td>\n",
       "      <td>0.000000</td>\n",
       "      <td>PASS</td>\n",
       "    </tr>\n",
       "    <tr>\n",
       "      <th>11</th>\n",
       "      <td>60.0</td>\n",
       "      <td>80.0</td>\n",
       "      <td>Daily</td>\n",
       "      <td>8.75</td>\n",
       "      <td>8.750000</td>\n",
       "      <td>0.000000</td>\n",
       "      <td>PASS</td>\n",
       "    </tr>\n",
       "  </tbody>\n",
       "</table>\n",
       "</div>"
      ],
      "text/plain": [
       "    SalaryRangeFrom  SalaryRangeTo SalaryFrequency  ExpectedHourlySalary  \\\n",
       "0               0.0       100000.0          Annual                 56.92   \n",
       "1               NaN       100000.0          Annual                 56.92   \n",
       "2          100000.0            NaN          Annual                 56.92   \n",
       "3           80000.0       100000.0          Annual                 51.22   \n",
       "4          100000.0        80000.0          Annual                 51.22   \n",
       "5               NaN            NaN          Annual                   NaN   \n",
       "6               NaN           10.0          Hourly                 10.00   \n",
       "7               0.0           10.0          Hourly                 10.00   \n",
       "8               5.0           10.0          Hourly                  7.50   \n",
       "9               NaN           80.0           Daily                 10.00   \n",
       "10              0.0           80.0           Daily                 10.00   \n",
       "11             60.0           80.0           Daily                  8.75   \n",
       "\n",
       "    HourlySalary  TestDiff Test Result  \n",
       "0      56.919998 -0.000002        PASS  \n",
       "1      56.919998 -0.000002        PASS  \n",
       "2      56.919998 -0.000002        PASS  \n",
       "3      51.220001  0.000001        PASS  \n",
       "4      51.220001  0.000001        PASS  \n",
       "5            NaN       NaN        PASS  \n",
       "6      10.000000  0.000000        PASS  \n",
       "7      10.000000  0.000000        PASS  \n",
       "8       7.500000  0.000000        PASS  \n",
       "9      10.000000  0.000000        PASS  \n",
       "10     10.000000  0.000000        PASS  \n",
       "11      8.750000  0.000000        PASS  "
      ]
     },
     "execution_count": 9,
     "metadata": {},
     "output_type": "execute_result"
    }
   ],
   "source": [
    "salary_data_df_results.toPandas()"
   ]
  },
  {
   "cell_type": "markdown",
   "metadata": {},
   "source": [
    "## Test the test case\n",
    "\n",
    "- inject_error -> True\n"
   ]
  },
  {
   "cell_type": "markdown",
   "metadata": {},
   "source": [
    "- with debug = True, df_test_data,salary_data_df_results dataframes should be returned so that the developer can investigate out what has gone wrong \n",
    "- with debug False, the test will simply throw an error (see next test)"
   ]
  },
  {
   "cell_type": "code",
   "execution_count": 10,
   "metadata": {},
   "outputs": [
    {
     "name": "stdout",
     "output_type": "stream",
     "text": [
      "Loaded\n",
      "+---------------+-------------+---------------+--------------------+\n",
      "|SalaryRangeFrom|SalaryRangeTo|SalaryFrequency|ExpectedHourlySalary|\n",
      "+---------------+-------------+---------------+--------------------+\n",
      "|            0.0|     100000.0|         Annual|               56.92|\n",
      "|           null|     100000.0|         Annual|               56.92|\n",
      "|       100000.0|         null|         Annual|               56.92|\n",
      "|        80000.0|     100000.0|         Annual|               51.22|\n",
      "|       100000.0|      80000.0|         Annual|               51.22|\n",
      "|           null|         null|         Annual|                null|\n",
      "|           null|         10.0|         Hourly|                10.0|\n",
      "|            0.0|         10.0|         Hourly|                10.0|\n",
      "|            5.0|         10.0|         Hourly|                 7.5|\n",
      "|           null|         80.0|          Daily|                10.0|\n",
      "|            0.0|         80.0|          Daily|                10.0|\n",
      "|           60.0|         80.0|          Daily|                8.75|\n",
      "|           60.0|         80.0|          Daily|                 8.0|\n",
      "+---------------+-------------+---------------+--------------------+\n",
      "\n",
      "salary_data_df\n",
      "None\n",
      "+---------------+-------------+---------------+--------------------+------------+--------------------+--------------------+\n",
      "|SalaryRangeFrom|SalaryRangeTo|SalaryFrequency|ExpectedHourlySalary|HourlySalary|            TestDiff|         Test Result|\n",
      "+---------------+-------------+---------------+--------------------+------------+--------------------+--------------------+\n",
      "|            0.0|     100000.0|         Annual|               56.92|       56.92|-1.83105468920530...|                PASS|\n",
      "|           null|     100000.0|         Annual|               56.92|       56.92|-1.83105468920530...|                PASS|\n",
      "|       100000.0|         null|         Annual|               56.92|       56.92|-1.83105468920530...|                PASS|\n",
      "|        80000.0|     100000.0|         Annual|               51.22|       51.22|1.220703126136868...|                PASS|\n",
      "|       100000.0|      80000.0|         Annual|               51.22|       51.22|1.220703126136868...|                PASS|\n",
      "|           null|         null|         Annual|                null|        null|                null|                PASS|\n",
      "|           null|         10.0|         Hourly|                10.0|        10.0|                 0.0|                PASS|\n",
      "|            0.0|         10.0|         Hourly|                10.0|        10.0|                 0.0|                PASS|\n",
      "|            5.0|         10.0|         Hourly|                 7.5|         7.5|                 0.0|                PASS|\n",
      "|           null|         80.0|          Daily|                10.0|        10.0|                 0.0|                PASS|\n",
      "|            0.0|         80.0|          Daily|                10.0|        10.0|                 0.0|                PASS|\n",
      "|           60.0|         80.0|          Daily|                8.75|        8.75|                 0.0|                PASS|\n",
      "|           60.0|         80.0|          Daily|                 8.0|        8.75|                0.75|FAIL HourlySalary...|\n",
      "+---------------+-------------+---------------+--------------------+------------+--------------------+--------------------+\n",
      "\n",
      "salary_data_df_results\n",
      "None\n"
     ]
    }
   ],
   "source": [
    "importlib.reload(T)\n",
    "df_test_data,salary_data_df_results = T.test_get_HourlySalaryUDF(debug=True, inject_error=True)"
   ]
  },
  {
   "cell_type": "code",
   "execution_count": 11,
   "metadata": {},
   "outputs": [
    {
     "name": "stdout",
     "output_type": "stream",
     "text": [
      "+---------------+-------------+---------------+--------------------+\n",
      "|SalaryRangeFrom|SalaryRangeTo|SalaryFrequency|ExpectedHourlySalary|\n",
      "+---------------+-------------+---------------+--------------------+\n",
      "|            0.0|     100000.0|         Annual|               56.92|\n",
      "|           null|     100000.0|         Annual|               56.92|\n",
      "|       100000.0|         null|         Annual|               56.92|\n",
      "|        80000.0|     100000.0|         Annual|               51.22|\n",
      "|       100000.0|      80000.0|         Annual|               51.22|\n",
      "|           null|         null|         Annual|                null|\n",
      "|           null|         10.0|         Hourly|                10.0|\n",
      "|            0.0|         10.0|         Hourly|                10.0|\n",
      "|            5.0|         10.0|         Hourly|                 7.5|\n",
      "|           null|         80.0|          Daily|                10.0|\n",
      "|            0.0|         80.0|          Daily|                10.0|\n",
      "|           60.0|         80.0|          Daily|                8.75|\n",
      "|           60.0|         80.0|          Daily|                 8.0|\n",
      "+---------------+-------------+---------------+--------------------+\n",
      "\n",
      "+---------------+-------------+---------------+--------------------+------------+--------------------+--------------------+\n",
      "|SalaryRangeFrom|SalaryRangeTo|SalaryFrequency|ExpectedHourlySalary|HourlySalary|            TestDiff|         Test Result|\n",
      "+---------------+-------------+---------------+--------------------+------------+--------------------+--------------------+\n",
      "|            0.0|     100000.0|         Annual|               56.92|       56.92|-1.83105468920530...|                PASS|\n",
      "|           null|     100000.0|         Annual|               56.92|       56.92|-1.83105468920530...|                PASS|\n",
      "|       100000.0|         null|         Annual|               56.92|       56.92|-1.83105468920530...|                PASS|\n",
      "|        80000.0|     100000.0|         Annual|               51.22|       51.22|1.220703126136868...|                PASS|\n",
      "|       100000.0|      80000.0|         Annual|               51.22|       51.22|1.220703126136868...|                PASS|\n",
      "|           null|         null|         Annual|                null|        null|                null|                PASS|\n",
      "|           null|         10.0|         Hourly|                10.0|        10.0|                 0.0|                PASS|\n",
      "|            0.0|         10.0|         Hourly|                10.0|        10.0|                 0.0|                PASS|\n",
      "|            5.0|         10.0|         Hourly|                 7.5|         7.5|                 0.0|                PASS|\n",
      "|           null|         80.0|          Daily|                10.0|        10.0|                 0.0|                PASS|\n",
      "|            0.0|         80.0|          Daily|                10.0|        10.0|                 0.0|                PASS|\n",
      "|           60.0|         80.0|          Daily|                8.75|        8.75|                 0.0|                PASS|\n",
      "|           60.0|         80.0|          Daily|                 8.0|        8.75|                0.75|FAIL HourlySalary...|\n",
      "+---------------+-------------+---------------+--------------------+------------+--------------------+--------------------+\n",
      "\n"
     ]
    }
   ],
   "source": [
    "df_test_data.show()\n",
    "salary_data_df_results.show()"
   ]
  },
  {
   "cell_type": "code",
   "execution_count": 14,
   "metadata": {},
   "outputs": [
    {
     "name": "stdout",
     "output_type": "stream",
     "text": [
      "Loaded\n"
     ]
    },
    {
     "ename": "Exception",
     "evalue": "One or more tests failed, i.e. ExpectedHourlySalary != HourlySalary, run again with debug for more details",
     "output_type": "error",
     "traceback": [
      "\u001b[0;31m---------------------------------------------------------------------------\u001b[0m",
      "\u001b[0;31mException\u001b[0m                                 Traceback (most recent call last)",
      "\u001b[0;32m<ipython-input-14-68c0ad637f15>\u001b[0m in \u001b[0;36m<module>\u001b[0;34m\u001b[0m\n\u001b[1;32m      1\u001b[0m \u001b[0mimportlib\u001b[0m\u001b[0;34m.\u001b[0m\u001b[0mreload\u001b[0m\u001b[0;34m(\u001b[0m\u001b[0mT\u001b[0m\u001b[0;34m)\u001b[0m\u001b[0;34m\u001b[0m\u001b[0;34m\u001b[0m\u001b[0m\n\u001b[1;32m      2\u001b[0m \u001b[0;31m# with no debug, test will not return the 2 DFs\u001b[0m\u001b[0;34m\u001b[0m\u001b[0;34m\u001b[0m\u001b[0;34m\u001b[0m\u001b[0m\n\u001b[0;32m----> 3\u001b[0;31m \u001b[0mT\u001b[0m\u001b[0;34m.\u001b[0m\u001b[0mtest_get_HourlySalaryUDF\u001b[0m\u001b[0;34m(\u001b[0m\u001b[0mdebug\u001b[0m\u001b[0;34m=\u001b[0m\u001b[0;32mFalse\u001b[0m\u001b[0;34m,\u001b[0m \u001b[0minject_error\u001b[0m\u001b[0;34m=\u001b[0m\u001b[0;32mTrue\u001b[0m\u001b[0;34m)\u001b[0m\u001b[0;34m\u001b[0m\u001b[0;34m\u001b[0m\u001b[0m\n\u001b[0m",
      "\u001b[0;32m/tests/test_UDF_functions.py\u001b[0m in \u001b[0;36mtest_get_HourlySalaryUDF\u001b[0;34m(debug, inject_error)\u001b[0m\n\u001b[1;32m    121\u001b[0m             \u001b[0;32mreturn\u001b[0m \u001b[0msalary_data_df\u001b[0m\u001b[0;34m,\u001b[0m\u001b[0msalary_data_df_results\u001b[0m\u001b[0;34m\u001b[0m\u001b[0;34m\u001b[0m\u001b[0m\n\u001b[1;32m    122\u001b[0m         \u001b[0;32melse\u001b[0m\u001b[0;34m:\u001b[0m\u001b[0;34m\u001b[0m\u001b[0;34m\u001b[0m\u001b[0m\n\u001b[0;32m--> 123\u001b[0;31m             \u001b[0;32mraise\u001b[0m \u001b[0mException\u001b[0m\u001b[0;34m(\u001b[0m\u001b[0;34m\"One or more tests failed, i.e. ExpectedHourlySalary != HourlySalary, run again with debug for more details\"\u001b[0m\u001b[0;34m)\u001b[0m\u001b[0;34m\u001b[0m\u001b[0;34m\u001b[0m\u001b[0m\n\u001b[0m\u001b[1;32m    124\u001b[0m \u001b[0;34m\u001b[0m\u001b[0m\n\u001b[1;32m    125\u001b[0m \u001b[0;34m\u001b[0m\u001b[0m\n",
      "\u001b[0;31mException\u001b[0m: One or more tests failed, i.e. ExpectedHourlySalary != HourlySalary, run again with debug for more details"
     ]
    }
   ],
   "source": [
    "importlib.reload(T)\n",
    "# with no debug, test will not return the 2 DFs\n",
    "T.test_get_HourlySalaryUDF(debug=False, inject_error=True)"
   ]
  },
  {
   "cell_type": "code",
   "execution_count": null,
   "metadata": {},
   "outputs": [],
   "source": []
  }
 ],
 "metadata": {
  "kernelspec": {
   "display_name": "Python 3",
   "language": "python",
   "name": "python3"
  },
  "language_info": {
   "codemirror_mode": {
    "name": "ipython",
    "version": 3
   },
   "file_extension": ".py",
   "mimetype": "text/x-python",
   "name": "python",
   "nbconvert_exporter": "python",
   "pygments_lexer": "ipython3",
   "version": "3.7.3"
  }
 },
 "nbformat": 4,
 "nbformat_minor": 4
}
